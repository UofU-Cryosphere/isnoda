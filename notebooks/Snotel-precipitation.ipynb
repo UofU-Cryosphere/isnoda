{
 "cells": [
  {
   "cell_type": "code",
   "execution_count": null,
   "metadata": {},
   "outputs": [],
   "source": [
    "from common import *\n",
    "from snobedo.snotel import CsvParser, SnotelLocations\n",
    "from snobedo.lib.isnobal_helpers import day_filter"
   ]
  },
  {
   "cell_type": "code",
   "execution_count": null,
   "metadata": {},
   "outputs": [],
   "source": [
    "client = start_cluster(4, 6)\n",
    "client"
   ]
  },
  {
   "cell_type": "code",
   "execution_count": null,
   "metadata": {},
   "outputs": [],
   "source": [
    "year = 2020\n",
    "water_year = f'wy{year}'\n",
    "\n",
    "melt_start = pd.to_datetime(f'{year}-04-01')"
   ]
  },
  {
   "cell_type": "code",
   "execution_count": null,
   "metadata": {},
   "outputs": [],
   "source": [
    "snotel_sites = SnotelLocations()\n",
    "snotel_sites.load_from_json(SNOTEL_DIR / 'site-locations/snotel_sites_2x2.json')"
   ]
  },
  {
   "cell_type": "markdown",
   "metadata": {},
   "source": [
    "## SNOTEL"
   ]
  },
  {
   "cell_type": "code",
   "execution_count": null,
   "metadata": {},
   "outputs": [],
   "source": [
    "schofield_snotel_csv = CsvParser.file(\n",
    "    SNOTEL_DIR / water_year / f'Schofield/usda-csv/{year}-Schofield-Pass.csv'\n",
    ")\n",
    "\n",
    "butte_snotel_csv = CsvParser.file(\n",
    "    SNOTEL_DIR / water_year / f'Butte/usda-csv/{year}-Butte.csv',\n",
    ")\n",
    "\n",
    "taylor_snotel_csv = CsvParser.file(\n",
    "    SNOTEL_DIR / water_year / f'Upper-Taylor/usda-csv/{year}-Upper-Taylor.csv',\n",
    ")"
   ]
  },
  {
   "cell_type": "markdown",
   "metadata": {},
   "source": [
    "## iSnobal "
   ]
  },
  {
   "cell_type": "code",
   "execution_count": null,
   "metadata": {},
   "outputs": [],
   "source": [
    "wy_precip = xr.open_mfdataset(\n",
    "    (SNOBAL_DIR / water_year / 'data/data20*/smrfOutputs/precip.nc').as_posix(),\n",
    "    preprocess=day_filter,\n",
    "    parallel=True,\n",
    ")"
   ]
  },
  {
   "cell_type": "code",
   "execution_count": null,
   "metadata": {},
   "outputs": [],
   "source": [
    "RESAMPLE_OPTS=dict(time='1D', base=23, keep_attrs=True)\n",
    "\n",
    "butte_snobal = wy_precip.sel(\n",
    "    x=snotel_sites.Butte.lon, y=snotel_sites.Butte.lat\n",
    ").resample(**RESAMPLE_OPTS).sum().compute()\n",
    "\n",
    "schofield_snobal = wy_precip.sel(\n",
    "    x=snotel_sites.Schofield.lon, y=snotel_sites.Schofield.lat\n",
    ").resample(**RESAMPLE_OPTS).sum().compute()\n",
    "taylor_snobal = wy_precip.sel(\n",
    "    x=snotel_sites.Taylor.lon, y=snotel_sites.Taylor.lat\n",
    ").resample(**RESAMPLE_OPTS).sum().compute()"
   ]
  },
  {
   "cell_type": "code",
   "execution_count": null,
   "metadata": {},
   "outputs": [],
   "source": [
    "plot_data = {\n",
    "    'Butte': {\n",
    "        'Snobal': butte_snobal,\n",
    "        'Snotel': butte_snotel_csv,\n",
    "    },\n",
    "    'Schofield Pass': {\n",
    "        'Snobal': schofield_snobal,\n",
    "        'Snotel': schofield_snotel_csv,\n",
    "    },\n",
    "    'Upper Taylor': {\n",
    "        'Snobal': taylor_snobal,\n",
    "        'Snotel': taylor_snotel_csv,\n",
    "    },\n",
    "}"
   ]
  },
  {
   "cell_type": "code",
   "execution_count": null,
   "metadata": {},
   "outputs": [],
   "source": [
    "figure_opts = dict(figsize=(8,4), dpi=200, tight_layout=True)\n",
    "plot_range = pd.date_range(start=f'{year - 1}-10-01', periods=11, freq='MS')\n",
    "text_props = dict(facecolor='whitesmoke', alpha=0.5, pad=.5, boxstyle='round')\n",
    "\n",
    "xTicks = mdates.DateFormatter('%d-%b')\n",
    "LABEL = 'Precipitation (mm)'\n",
    "\n",
    "def plot_variable(save_figure=False):\n",
    "    for site in plot_data.keys():\n",
    "        snobal = plot_data[site]['Snobal']\n",
    "        snotel = plot_data[site]['Snotel']\n",
    "        \n",
    "        figure, ax = plt.subplots(1, 1, **figure_opts)\n",
    "        figure.set_facecolor('lightgrey')\n",
    "\n",
    "        ax.bar(snobal.time, snotel[LABEL], color='steelblue', label='Snotel')\n",
    "        snobal.precip.mean(['x', 'y']).plot(ax=ax, color='orange', label='Snobal', lw=1, alpha=0.8)\n",
    "\n",
    "        ax.xaxis.set_major_formatter(xTicks)\n",
    "        ax.set_xlim([plot_range[0], plot_range[-1]])\n",
    "        ax.set_xlabel(f'Water Year {plot_range[-1].year}')\n",
    "        ax.set_ylabel(LABEL)\n",
    "        ax.set_title(f'Precipitation - {site}')\n",
    "        ax.legend();\n",
    "        \n",
    "        if save_figure:\n",
    "            filename = f'{year}_precipitation_{site}'.replace(' ', '-')\n",
    "            plt.savefig(f\"{FIGURES_DIR}/{filename}.png\")"
   ]
  },
  {
   "cell_type": "code",
   "execution_count": null,
   "metadata": {},
   "outputs": [],
   "source": [
    "plot_variable(True)"
   ]
  }
 ],
 "metadata": {
  "language_info": {
   "name": "python"
  }
 },
 "nbformat": 4,
 "nbformat_minor": 4
}
