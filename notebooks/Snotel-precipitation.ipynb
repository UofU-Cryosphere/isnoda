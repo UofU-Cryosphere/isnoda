{
 "cells": [
  {
   "cell_type": "code",
   "execution_count": null,
   "metadata": {},
   "outputs": [],
   "source": [
    "from common import *\n",
    "from snobedo.snotel import CsvParser\n",
    "from snobedo.lib.isnobal_helpers import day_filter\n",
    "\n",
    "use_hvplot()"
   ]
  },
  {
   "cell_type": "code",
   "execution_count": null,
   "metadata": {},
   "outputs": [],
   "source": [
    "client = start_cluster(5, 12)\n",
    "client"
   ]
  },
  {
   "cell_type": "markdown",
   "metadata": {},
   "source": [
    "# Precipitation comparison across Snotel, HRRR forecast hours 01 and 06, and SMRF"
   ]
  },
  {
   "cell_type": "code",
   "execution_count": null,
   "metadata": {},
   "outputs": [],
   "source": [
    "year = 2018\n",
    "water_year = f'wy{year}'\n",
    "\n",
    "melt_start = pd.to_datetime(f'{year}-04-01')"
   ]
  },
  {
   "cell_type": "code",
   "execution_count": null,
   "metadata": {},
   "outputs": [],
   "source": [
    "snotel_sites = SnotelLocations()\n",
    "snotel_sites.load_from_json(SNOTEL_DIR / 'site-locations/snotel_sites_2x2.json')"
   ]
  },
  {
   "cell_type": "markdown",
   "metadata": {
    "tags": []
   },
   "source": [
    "## HRRR Pixel"
   ]
  },
  {
   "cell_type": "code",
   "execution_count": null,
   "metadata": {},
   "outputs": [],
   "source": [
    "SAVE_DEST = \"wy{year}/{site.name}/{site.name}-HRRR-wy{year}.zarr\"\n",
    "\n",
    "schofield_hrrr = xr.open_zarr(\n",
    "    SNOTEL_DIR / SAVE_DEST.format(year=year, site=snotel_sites.Schofield)\n",
    ")\n",
    "\n",
    "butte_hrrr = xr.open_zarr(\n",
    "    SNOTEL_DIR / SAVE_DEST.format(year=year, site=snotel_sites.Butte)\n",
    ")\n",
    "\n",
    "taylor_hrrr = xr.open_zarr(\n",
    "    SNOTEL_DIR / SAVE_DEST.format(year=year, site=snotel_sites.Taylor)\n",
    ")"
   ]
  },
  {
   "cell_type": "markdown",
   "metadata": {
    "tags": []
   },
   "source": [
    "## HRRR f06 Pixel"
   ]
  },
  {
   "cell_type": "code",
   "execution_count": null,
   "metadata": {},
   "outputs": [],
   "source": [
    "SAVE_DEST = \"wy{year}/{site.name}/{site.name}-HRRR-wy{year}_sfc06.zarr\"\n",
    "\n",
    "schofield_hrrr_06 = xr.open_zarr(\n",
    "    SNOTEL_DIR / SAVE_DEST.format(year=year, site=snotel_sites.Schofield)\n",
    ")\n",
    "\n",
    "butte_hrrr_06 = xr.open_zarr(\n",
    "    SNOTEL_DIR / SAVE_DEST.format(year=year, site=snotel_sites.Butte)\n",
    ")\n",
    "\n",
    "taylor_hrrr_06 = xr.open_zarr(\n",
    "    SNOTEL_DIR / SAVE_DEST.format(year=year, site=snotel_sites.Taylor)\n",
    ")"
   ]
  },
  {
   "cell_type": "markdown",
   "metadata": {},
   "source": [
    "## SNOTEL"
   ]
  },
  {
   "cell_type": "code",
   "execution_count": null,
   "metadata": {},
   "outputs": [],
   "source": [
    "schofield_snotel_csv = CsvParser.file(\n",
    "    SNOTEL_DIR / water_year / f'Schofield/usda-csv/{year}-Schofield-Pass.csv'\n",
    ")\n",
    "\n",
    "butte_snotel_csv = CsvParser.file(\n",
    "    SNOTEL_DIR / water_year / f'Butte/usda-csv/{year}-Butte.csv',\n",
    ")\n",
    "\n",
    "taylor_snotel_csv = CsvParser.file(\n",
    "    SNOTEL_DIR / water_year / f'Taylor/usda-csv/{year}-Upper-Taylor.csv',\n",
    ")"
   ]
  },
  {
   "cell_type": "markdown",
   "metadata": {},
   "source": [
    "## iSnobal "
   ]
  },
  {
   "cell_type": "code",
   "execution_count": null,
   "metadata": {},
   "outputs": [],
   "source": [
    "wy_precip = xr.open_mfdataset(\n",
    "    (SNOBAL_DIR / water_year / 'erw/*/precip.nc').as_posix(),\n",
    "    preprocess=day_filter,\n",
    "    parallel=True,\n",
    ")"
   ]
  },
  {
   "cell_type": "code",
   "execution_count": null,
   "metadata": {},
   "outputs": [],
   "source": [
    "butte_snobal = wy_precip.sel(\n",
    "    x=snotel_sites.Butte.lon, y=snotel_sites.Butte.lat\n",
    ").resample(**RESAMPLE_1_DAY_OPTS).sum().compute()\n",
    "\n",
    "schofield_snobal = wy_precip.sel(\n",
    "    x=snotel_sites.Schofield.lon, y=snotel_sites.Schofield.lat\n",
    ").resample(**RESAMPLE_1_DAY_OPTS).sum().compute()\n",
    "\n",
    "taylor_snobal = wy_precip.sel(\n",
    "    x=snotel_sites.Taylor.lon, y=snotel_sites.Taylor.lat\n",
    ").resample(**RESAMPLE_1_DAY_OPTS).sum().compute()"
   ]
  },
  {
   "cell_type": "code",
   "execution_count": null,
   "metadata": {},
   "outputs": [],
   "source": [
    "plot_data = {\n",
    "    'Butte': {\n",
    "        'HRRR': butte_hrrr,\n",
    "        'HRRR FC06': butte_hrrr_06,\n",
    "        'Snobal': butte_snobal,\n",
    "        'Snotel': butte_snotel_csv,\n",
    "    },\n",
    "    'Schofield Pass': {\n",
    "        'HRRR': schofield_hrrr,\n",
    "        'HRRR FC06': schofield_hrrr_06,\n",
    "        'Snobal': schofield_snobal,\n",
    "        'Snotel': schofield_snotel_csv,\n",
    "    },\n",
    "    'Upper Taylor': {\n",
    "        'HRRR': taylor_hrrr,\n",
    "        'HRRR FC06': taylor_hrrr_06,\n",
    "        'Snobal': taylor_snobal,\n",
    "        'Snotel': taylor_snotel_csv,\n",
    "    },\n",
    "}"
   ]
  },
  {
   "cell_type": "code",
   "execution_count": null,
   "metadata": {},
   "outputs": [],
   "source": [
    "butte_hrrr_06.tp.mean(['x', 'y']).hvplot(label='FC 06', color='darkorchid', width=1280, height=640, title='Butte') * \\\n",
    "butte_snotel_csv['Precipitation (mm)'].plot(label='Snotel', color='darkgrey') * \\\n",
    "butte_hrrr.tp.mean(['x', 'y']).hvplot(label='FC 00', color='limegreen') * \\\n",
    "butte_snobal.precip.mean(['x', 'y']).hvplot(color='orange', label='Snobal', alpha=0.8)"
   ]
  },
  {
   "cell_type": "code",
   "execution_count": null,
   "metadata": {},
   "outputs": [],
   "source": [
    "schofield_hrrr_06.tp.mean(['x', 'y']).hvplot(label='FC 06', color='darkorchid', width=1280, height=640, title='Schofield Pass') * \\\n",
    "schofield_snotel_csv['Precipitation (mm)'].plot(label='Snotel', color='darkgrey') * \\\n",
    "schofield_hrrr.tp.mean(['x', 'y']).hvplot(label='FC 00', color='limegreen') * \\\n",
    "schofield_snobal.precip.mean(['x', 'y']).hvplot(color='orange', label='Snobal', alpha=0.8)"
   ]
  },
  {
   "cell_type": "code",
   "execution_count": null,
   "metadata": {},
   "outputs": [],
   "source": [
    "taylor_hrrr_06.tp.mean(['x', 'y']).hvplot(label='FC 06', color='darkorchid', width=1280, height=640, title='Upper Taylor') * \\\n",
    "taylor_snotel_csv['Precipitation (mm)'].plot(label='Snotel', color='darkgrey') * \\\n",
    "taylor_hrrr.tp.mean(['x', 'y']).hvplot(label='FC 00', color='limegreen') * \\\n",
    "taylor_snobal.precip.mean(['x', 'y']).hvplot(color='orange', label='Snobal', alpha=0.8)"
   ]
  },
  {
   "cell_type": "markdown",
   "metadata": {},
   "source": [
    "### Stats "
   ]
  },
  {
   "cell_type": "code",
   "execution_count": null,
   "metadata": {},
   "outputs": [],
   "source": [
    "for site in plot_data.keys():\n",
    "    snotel = plot_data[site]['Snotel']['Precipitation (mm)'].sum()\n",
    "    snobal = plot_data[site]['Snobal'].precip.mean(['x', 'y']).sum().values\n",
    "    hrrr = plot_data[site]['HRRR'].tp.sum().compute().values\n",
    "    hrrr_06 = plot_data[site]['HRRR FC06'].tp.sum().compute().values\n",
    "    \n",
    "    print(site)\n",
    "    print(\"  Snotel Total: {0} mm\".format(snotel))\n",
    "    print(\"  iSnobal: {:.2%}\".format(snobal/snotel))\n",
    "    print(\"  HRRR F00: {:.2%}\".format(hrrr/snotel))\n",
    "    print(\"  HRRR F06: {:.2%}\".format(hrrr_06/snotel))"
   ]
  }
 ],
 "metadata": {
  "language_info": {
   "name": "python"
  }
 },
 "nbformat": 4,
 "nbformat_minor": 4
}
