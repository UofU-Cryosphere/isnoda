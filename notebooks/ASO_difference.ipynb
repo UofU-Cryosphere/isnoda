{
 "cells": [
  {
   "cell_type": "code",
   "execution_count": null,
   "metadata": {},
   "outputs": [],
   "source": [
    "from palettable.colorbrewer.diverging import RdBu_5 as RedBlueCmap\n",
    "from mpl_toolkits.axes_grid1 import make_axes_locatable\n",
    "from raster_file import RasterFile\n",
    "\n",
    "RED_BLUE_CMAP = RedBlueCmap.mpl_colormap\n",
    "from common import *\n",
    "from reduce_grid import get_mask\n",
    "\n",
    "plt.rcParams.update(\n",
    "    {\n",
    "        'xtick.labelsize' : 10,\n",
    "        'ytick.labelsize' : 10,\n",
    "    }\n",
    ")"
   ]
  },
  {
   "cell_type": "markdown",
   "metadata": {},
   "source": [
    "## Snow Depth comparison "
   ]
  },
  {
   "cell_type": "code",
   "execution_count": null,
   "metadata": {},
   "outputs": [],
   "source": [
    "FILE_PREFIX = 'Depth_difference_'\n",
    "HOME = Path.home() / 'scratch/iSnobal/ASO-data/'\n",
    "DATA = HOME / 'Depth-Difference'\n",
    "\n",
    "# Values above 25m are considered outlier\n",
    "OUTLIER = 25"
   ]
  },
  {
   "cell_type": "code",
   "execution_count": null,
   "metadata": {},
   "outputs": [],
   "source": [
    "def violin_plot(ax, data, color):\n",
    "    vp = ax.violinplot(\n",
    "        data,\n",
    "        showmeans=False, showextrema=False, showmedians=True,\n",
    "    )\n",
    "    ax.set_xticks([])\n",
    "    ax.axhline(0, c='black', ls=':')\n",
    "    \n",
    "    for pc in vp['bodies']:\n",
    "        pc.set_facecolor(color)\n",
    "        pc.set_edgecolor('black')\n",
    "    \n",
    "    vp['cmedians'].set_color('black')\n"
   ]
  },
  {
   "cell_type": "code",
   "execution_count": null,
   "metadata": {},
   "outputs": [],
   "source": [
    "def area_plot(date, differences, save_figure=False):\n",
    "    data = differences.band_values()\n",
    "    \n",
    "    data[data > OUTLIER] = np.NaN\n",
    "    \n",
    "    fig, (ax1, ax2) = plt.subplots(\n",
    "        1, 2, figsize=(11.5, 9),\n",
    "        gridspec_kw={'width_ratios': [82, 18], 'wspace': 0.1},\n",
    "        dpi=500,\n",
    "    )\n",
    "    fig.set_facecolor('lightgrey')\n",
    "    ax1.set_facecolor('slategrey')\n",
    "\n",
    "    plt_data = ax1.imshow(\n",
    "        data,\n",
    "        vmin=-2,\n",
    "        vmax=2,\n",
    "        cmap=RED_BLUE_CMAP\n",
    "    )\n",
    "\n",
    "    ax1.tick_params(axis='both', direction='inout', length=7, labelsize=9, pad=0)\n",
    "    ax1.tick_params(axis='y', labelrotation=45)\n",
    "    ax1.ticklabel_format(axis='both', style='plain')\n",
    "    ax1.xaxis.set_ticks_position('both')\n",
    "    ax1.yaxis.set_ticks_position('both')\n",
    "    \n",
    "    cax = make_axes_locatable(ax1).append_axes('right', size='5%', pad=0.15)\n",
    "    fig.colorbar(plt_data, cax=cax, shrink=0.9, extend='both', label=r'$\\Delta$ Depth (m)')\n",
    "\n",
    "    mask = get_mask(differences.file.RasterYSize, differences.file.RasterXSize)\n",
    "    violin_data = data.filled(np.NaN)[mask]\n",
    "\n",
    "    violin_data = violin_data[~np.isnan(violin_data)]\n",
    "    violin_plot(ax2, violin_data, 'orange')\n",
    "    ax2.set_ylabel(None)\n",
    "    ax2.set_ylim([-3, 4])\n",
    "    ax2.tick_params(axis='y', labelsize=9)\n",
    "    \n",
    "    ax2.text(\n",
    "        0.05, 0.01, \n",
    "        f'Median: {np.median(violin_data):.2f}',\n",
    "        transform=ax2.transAxes, \n",
    "        verticalalignment='bottom', \n",
    "        bbox=dict(\n",
    "            facecolor='whitesmoke', \n",
    "            alpha=0.4, \n",
    "            pad=.3, \n",
    "            boxstyle='round'\n",
    "        ),\n",
    "    )\n",
    "    \n",
    "    if save_figure:\n",
    "        plt.savefig(f\"{HOME}/figures/ASO_depth_difference_{date}.png\")\n",
    "    \n",
    "    del data\n",
    "    del violin_data\n",
    "    plt.clf()\n"
   ]
  },
  {
   "cell_type": "code",
   "execution_count": null,
   "metadata": {},
   "outputs": [],
   "source": [
    "dates = [\n",
    "    '20180331',\n",
    "    '20180524',\n",
    "    '20190407',\n",
    "    '20190610',\n",
    "]\n",
    "\n",
    "for date in dates:\n",
    "    snow_nc = f'{FILE_PREFIX}{date}_1m.tif'\n",
    "    differences = RasterFile(DATA.joinpath(snow_nc).as_posix())    \n",
    "    area_plot(date, differences, True)"
   ]
  },
  {
   "cell_type": "code",
   "execution_count": null,
   "metadata": {},
   "outputs": [],
   "source": []
  }
 ],
 "metadata": {
  "language_info": {
   "name": "python"
  }
 },
 "nbformat": 4,
 "nbformat_minor": 4
}
