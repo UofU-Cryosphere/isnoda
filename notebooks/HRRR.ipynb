{
 "cells": [
  {
   "cell_type": "code",
   "execution_count": null,
   "id": "cardiovascular-intermediate",
   "metadata": {},
   "outputs": [],
   "source": [
    "from common import *\n",
    "from snobedo.snotel import SnotelLocations"
   ]
  },
  {
   "cell_type": "code",
   "execution_count": null,
   "id": "ambient-penny",
   "metadata": {},
   "outputs": [],
   "source": [
    "client = start_cluster(12, 16)\n",
    "client"
   ]
  },
  {
   "cell_type": "code",
   "execution_count": null,
   "id": "massive-parliament",
   "metadata": {},
   "outputs": [],
   "source": [
    "snotel_sites_lola = SnotelLocations()\n",
    "snotel_sites_lola.load_from_json(SNOTEL_DIR / 'site-locations/snotel_sites-lola.json')\n",
    "\n",
    "year = 2019\n",
    "water_year = f'wy{year}'"
   ]
  },
  {
   "cell_type": "code",
   "execution_count": null,
   "id": "accepting-estate",
   "metadata": {},
   "outputs": [],
   "source": [
    "# Use the first file of the water year to determine the HRRR pixel location for a site\n",
    "hrrr_ref = xr.open_dataset(\n",
    "    (HRRR_DIR / f'{year}/hrrr.{year-1}1001/hrrr.t00z.wrfsfcf01.grib2').as_posix(),\n",
    "    engine='cfgrib',\n",
    "    backend_kwargs={\n",
    "        'errors': 'ignore',\n",
    "        'indexpath': '',\n",
    "        'filter_by_keys': {\n",
    "            'level': 0,\n",
    "            'typeOfLevel': 'surface',\n",
    "        }\n",
    "    },\n",
    ")"
   ]
  },
  {
   "cell_type": "code",
   "execution_count": null,
   "id": "wicked-democracy",
   "metadata": {},
   "outputs": [],
   "source": [
    "hrrr_pixel_index(hrrr_ref, snotel_sites_lola.Irwin)"
   ]
  },
  {
   "cell_type": "code",
   "execution_count": null,
   "id": "champion-tomato",
   "metadata": {},
   "outputs": [],
   "source": [
    "SAVE_DEST = \"wy{year}/{site.name}/{site.name}-HRRR-wy{year}.zarr\"\n",
    "\n",
    "def snotel_hrrr_data(site, hrrr_ref, year):\n",
    "    hrrr_y, hrrr_x = hrrr_pixel_index(hrrr_ref, site)\n",
    "    hrrr_parts = []\n",
    "\n",
    "    for chunk in [f'{year - 1}*', f'{year}0[1-4]*', f'{year}0[5-9]*']:\n",
    "        hrrr_files = sorted((HRRR_DIR / f'{year}/').rglob(f'hrrr.{chunk}/hrrr.t*z.wrfsfcf01.grib2'))\n",
    "        hours = [\n",
    "            hrrr_snotel_pixel(file, hrrr_x, hrrr_y)\n",
    "            for file in hrrr_files\n",
    "        ]\n",
    "        part = dask.compute(hours)\n",
    "        hrrr_parts.append(xr.concat(part[0], dim='time'))\n",
    "\n",
    "    return xr.concat(hrrr_parts, dim='time').resample(**RESAMPLE_1_DAY_OPTS).sum()"
   ]
  },
  {
   "cell_type": "code",
   "execution_count": null,
   "id": "considerable-narrative",
   "metadata": {},
   "outputs": [],
   "source": [
    "# schofield_hrrr = snotel_hrrr_data(snotel_sites_lola.Schofield, hrrr_ref, year)\n",
    "# schofield_hrrr.to_zarr(\n",
    "#     SNOTEL_DIR / SAVE_DEST.format(year=year, site=snotel_sites_lola.Schofield)\n",
    "# )"
   ]
  },
  {
   "cell_type": "code",
   "execution_count": null,
   "id": "second-colors",
   "metadata": {},
   "outputs": [],
   "source": [
    "# butte_hrrr = snotel_hrrr_data(snotel_sites_lola.Butte, hrrr_ref, year)\n",
    "# butte_hrrr.to_zarr(\n",
    "#     SNOTEL_DIR / SAVE_DEST.format(year=year, site=snotel_sites_lola.Butte)\n",
    "# )"
   ]
  },
  {
   "cell_type": "code",
   "execution_count": null,
   "id": "responsible-watson",
   "metadata": {},
   "outputs": [],
   "source": [
    "# taylor_hrrr = snotel_hrrr_data(snotel_sites_lola.Taylor, hrrr_ref, year)\n",
    "# taylor_hrrr.to_zarr(\n",
    "#     SNOTEL_DIR / \"wy{year}/{site.name}/{site.name}-HRRR-wy{year}.zarr\".format(year=year, site=snotel_sites_lola.Taylor)\n",
    "# )"
   ]
  },
  {
   "cell_type": "code",
   "execution_count": null,
   "id": "falling-basket",
   "metadata": {},
   "outputs": [],
   "source": [
    "# irwin_hrrr = snotel_hrrr_data(snotel_sites_lola.Irwin, hrrr_ref, year)\n",
    "# irwin_hrrr.to_netcdf(\n",
    "#     SNOTEL_DIR / \"wy{year}/{site.name}/{site.name}-HRRR-wy{year}.nc\".format(year=year, site=snotel_sites_lola.Irwin)\n",
    "# )"
   ]
  },
  {
   "cell_type": "code",
   "execution_count": null,
   "id": "appreciated-charter",
   "metadata": {},
   "outputs": [],
   "source": [
    "schofield_hrrr = xr.open_zarr(\n",
    "    SNOTEL_DIR / water_year / f'Schofield/Schofield-HRRR-{water_year}.zarr'\n",
    ")\n",
    "\n",
    "butte_hrrr = xr.open_zarr(\n",
    "    SNOTEL_DIR / water_year / f'Butte/Butte-HRRR-{water_year}.zarr'\n",
    ")\n",
    "\n",
    "taylor_hrrr = xr.open_zarr(\n",
    "    SNOTEL_DIR / water_year / f'Upper-Taylor/Taylor-HRRR-{water_year}.zarr'\n",
    ")"
   ]
  },
  {
   "cell_type": "code",
   "execution_count": null,
   "id": "judicial-theorem",
   "metadata": {},
   "outputs": [],
   "source": [
    "plt.figure(figsize=(14,8), dpi=150)\n",
    "ax = plt.gca()\n",
    "schofield_hrrr.tp.plot(ax=ax, ls='--')\n",
    "butte_hrrr.tp.plot(ax=ax, ls='--')\n",
    "taylor_hrrr.tp.plot(ax=ax, ls='--')\n",
    "\n",
    "ax.legend()\n",
    "plt.title('tp')"
   ]
  }
 ],
 "metadata": {
  "language_info": {
   "name": "python"
  }
 },
 "nbformat": 4,
 "nbformat_minor": 5
}
