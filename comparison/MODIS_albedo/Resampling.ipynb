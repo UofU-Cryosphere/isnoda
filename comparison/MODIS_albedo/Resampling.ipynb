{
 "cells": [
  {
   "cell_type": "code",
   "execution_count": null,
   "id": "2b531919-240c-4ef7-8ab8-34385598b27a",
   "metadata": {},
   "outputs": [],
   "source": [
    "from common import MODIS_DIR\n",
    "from raster_file import RasterFile\n",
    "\n",
    "import holoviews as hv\n",
    "import pandas as pd\n",
    "\n",
    "from bokeh.models import HoverTool\n",
    "\n",
    "hv.extension('bokeh')"
   ]
  },
  {
   "cell_type": "code",
   "execution_count": null,
   "id": "8275e5cc-1c72-49be-a22e-2d8bb638c971",
   "metadata": {},
   "outputs": [],
   "source": [
    "hover = HoverTool(tooltips=[('Albedo', '@image{0.2f}')])\n",
    "WIDTH=600"
   ]
  },
  {
   "cell_type": "code",
   "execution_count": null,
   "id": "cfd2e13c-756a-434b-9965-7ed0a45776cf",
   "metadata": {},
   "outputs": [],
   "source": [
    "DAY_FILE = 'WesternUS_20210401_albedo_observed_muZ'\n",
    "DAY_PATH=  MODIS_DIR.joinpath('wy2021')"
   ]
  },
  {
   "cell_type": "code",
   "execution_count": null,
   "id": "f9a97c94-6cee-45d9-aa96-f3c7e9ea7611",
   "metadata": {},
   "outputs": [],
   "source": [
    "reference = RasterFile(DAY_PATH.joinpath(DAY_FILE + '_ERW.tif'))"
   ]
  },
  {
   "cell_type": "code",
   "execution_count": null,
   "id": "fa3c9945-432d-400d-a474-c5e8b19238f7",
   "metadata": {},
   "outputs": [],
   "source": [
    "cubic = RasterFile(DAY_PATH.joinpath(DAY_FILE + '_cubic.tif'))\n",
    "\n",
    "cubic_diff = RasterFile(DAY_PATH.joinpath(DAY_FILE + '_cubic_diff.tif'))\n",
    "cubic_diff_values = cubic_diff.band_values().compressed() / 10000"
   ]
  },
  {
   "cell_type": "code",
   "execution_count": null,
   "id": "2ab5ab97-ebab-4a7c-910d-4cf6221a0166",
   "metadata": {},
   "outputs": [],
   "source": [
    "bil = RasterFile(DAY_PATH.joinpath(DAY_FILE + '_bilinear.tif'))\n",
    "\n",
    "bil_diff = RasterFile(DAY_PATH.joinpath(DAY_FILE + '_bilinear_diff.tif'))\n",
    "bil_diff_values = bil_diff.band_values().compressed() / 10000"
   ]
  },
  {
   "cell_type": "code",
   "execution_count": null,
   "id": "e28f3787-6a5d-46c0-929b-5585cb1b1c33",
   "metadata": {},
   "outputs": [],
   "source": [
    "hv.Image(reference.band_values().data / 10000, label='Nearest Neighbor').opts(\n",
    "    height=WIDTH, width=WIDTH, cmap='Blues', xaxis=None, yaxis=None, tools=[hover]\n",
    ") + hv.Image(cubic.band_values().data / 10000, label='Cubic').opts(\n",
    "    height=WIDTH, width=WIDTH, cmap='Blues', xaxis=None, yaxis=None, tools=[hover]\n",
    ") + hv.Image(bil.band_values().data / 10000, label='Bilinear').opts(\n",
    "    height=WIDTH, width=WIDTH, cmap='Blues', xaxis=None, yaxis=None, tools=[hover]\n",
    ")"
   ]
  },
  {
   "cell_type": "code",
   "execution_count": null,
   "id": "cea328ac-605f-4212-b6c8-86372e9ef72b",
   "metadata": {},
   "outputs": [],
   "source": [
    "hv.Image(reference.band_values().data / 10000, label='Nearest Neighbor').opts(\n",
    "    height=WIDTH, width=WIDTH, cmap='Blues', xaxis=None, yaxis=None, tools=[hover]\n",
    ") + hv.Image(cubic_diff.band_values().data / 10000, label='Cubic Diff').opts(\n",
    "    height=WIDTH, width=WIDTH, cmap='cwr_r', xaxis=None, yaxis=None, tools=[hover]\n",
    ") + hv.Image(bil_diff.band_values().data / 10000, label='Bilinear Diff').opts(\n",
    "    height=WIDTH, width=WIDTH, cmap='cwr_r', xaxis=None, yaxis=None, tools=[hover]\n",
    ")"
   ]
  },
  {
   "cell_type": "code",
   "execution_count": null,
   "id": "261a86c0-de21-452b-807b-7eea376cbfc6",
   "metadata": {},
   "outputs": [],
   "source": [
    "hv.Violin(cubic_diff_values, label='Cubic', vdims='Albedo') * hv.Violin(bil_diff_values, label='Bilinear').opts(height=800, width=800)"
   ]
  },
  {
   "cell_type": "code",
   "execution_count": null,
   "id": "4b656996-ecb8-4409-9e79-4bc87682aa8f",
   "metadata": {},
   "outputs": [],
   "source": [
    "pd_cubic = pd.Series(cubic_diff_values, copy=False)\n",
    "pd_bil = pd.Series(bil_diff_values, copy=False)"
   ]
  },
  {
   "cell_type": "markdown",
   "id": "8eb5ed46-daac-4f5a-80d5-e84f72f48209",
   "metadata": {},
   "source": [
    "### Cubic"
   ]
  },
  {
   "cell_type": "code",
   "execution_count": null,
   "id": "e7b24d31-7d06-4df8-8781-636318734bc4",
   "metadata": {},
   "outputs": [],
   "source": [
    "pd_cubic.describe()"
   ]
  },
  {
   "cell_type": "markdown",
   "id": "c014413c-cbac-4fe1-999d-54dce0275634",
   "metadata": {},
   "source": [
    "### Bilinear "
   ]
  },
  {
   "cell_type": "code",
   "execution_count": null,
   "id": "aaca4a43-aba9-4613-a4fb-19ee3dd32b96",
   "metadata": {},
   "outputs": [],
   "source": [
    "pd_bil.describe()"
   ]
  },
  {
   "cell_type": "code",
   "execution_count": null,
   "id": "2a2acd9b-6633-4c83-9915-bf449437f8e9",
   "metadata": {},
   "outputs": [],
   "source": []
  }
 ],
 "metadata": {
  "language_info": {
   "name": "python"
  }
 },
 "nbformat": 4,
 "nbformat_minor": 5
}
