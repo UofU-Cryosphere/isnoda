{
 "cells": [
  {
   "cell_type": "code",
   "execution_count": null,
   "id": "dbbe2d76-bc0d-4118-aba7-dc6650691c56",
   "metadata": {},
   "outputs": [],
   "source": [
    "import xarray as xr\n",
    "import numpy as np\n",
    "import pandas as pd\n",
    "\n",
    "import datetime\n",
    "\n",
    "from snobedo.lib.dask_utils import start_cluster, client_ip_and_port\n",
    "from snobedo.snotel import SnotelLocations, CsvParser\n",
    "\n",
    "from common import SHARED_STORE, SNOBAL_DIR, SNOTEL_DIR, DATA_DIR, COARSEN_OPTS, HV_PLOT_OPTS"
   ]
  },
  {
   "cell_type": "code",
   "execution_count": null,
   "id": "6611973b-d39d-4a87-859a-6154439c5d76",
   "metadata": {},
   "outputs": [],
   "source": [
    "client = start_cluster(8, 24)\n",
    "client_ip_and_port(client)"
   ]
  },
  {
   "cell_type": "code",
   "execution_count": null,
   "id": "28b181dc-9c49-4426-840d-6d7eda9d4f44",
   "metadata": {},
   "outputs": [],
   "source": [
    "year = 2022\n",
    "water_year = f'wy{year}'"
   ]
  },
  {
   "cell_type": "markdown",
   "id": "cd9c9bf2-eca2-430a-a091-238091f5467d",
   "metadata": {},
   "source": [
    "## Model with SMRF clouds and solar "
   ]
  },
  {
   "cell_type": "code",
   "execution_count": null,
   "id": "7a5b7380-b47f-4f81-b459-606764e53277",
   "metadata": {},
   "outputs": [],
   "source": [
    "smrf_eb = xr.open_mfdataset(\n",
    "    f'{SHARED_STORE}/erw_isnobal/{water_year}/erw/run*/smrf_energy*.nc',\n",
    "    parallel=True, chunks={'time': 24},\n",
    ").sel(time=datetime.time(18))\n",
    "\n",
    "smrf_albedo = (smrf_eb.albedo_vis * 0.67 + smrf_eb.albedo_ir * 0.33).mean(['x', 'y']).compute()\n",
    "smrf_albedo_std = (smrf_eb.albedo_vis * 0.67 + smrf_eb.albedo_ir * 0.33).std(['x', 'y']).compute()"
   ]
  },
  {
   "cell_type": "markdown",
   "id": "968b7879-fb88-4719-8a10-11a16c96c5a1",
   "metadata": {},
   "source": [
    "## Model run with HRRR clouds and solar + MODIS albedo"
   ]
  },
  {
   "cell_type": "code",
   "execution_count": null,
   "id": "e5a09bdd-66a3-426a-a5d3-ebe6d8bbdc39",
   "metadata": {},
   "outputs": [],
   "source": [
    "HRRR_modis = xr.open_mfdataset(\n",
    "    f'{SHARED_STORE}/erw_isnobal/{water_year}/erw_hrrr_solar_modis_cubic/run*/net_solar.nc',\n",
    "    parallel=True, chunks={'time': 24},\n",
    "    drop_variables=['DSWRF', 'illumination_angle'],\n",
    ").sel(time=datetime.time(18))\n",
    "\n",
    "HRRR_modis = HRRR_modis.where(HRRR_modis.albedo > 0)"
   ]
  },
  {
   "cell_type": "code",
   "execution_count": null,
   "id": "3139d9e4-3929-434a-8e30-3ce2aef94b0e",
   "metadata": {},
   "outputs": [],
   "source": [
    "hm_albedo = HRRR_modis.albedo.mean(['x', 'y']).compute()"
   ]
  },
  {
   "cell_type": "code",
   "execution_count": null,
   "id": "770ad3c9-dfa5-482c-9b8d-b2b3fd9b96d7",
   "metadata": {},
   "outputs": [],
   "source": [
    "hm_albedo_std = HRRR_modis.albedo.std(['x', 'y']).compute()"
   ]
  },
  {
   "cell_type": "code",
   "execution_count": null,
   "id": "4211c103-7308-4274-9ebc-8494b07f94e5",
   "metadata": {},
   "outputs": [],
   "source": [
    "hm_albedo = hm_albedo / 10000\n",
    "hm_albedo_std = hm_albedo_std / 10000"
   ]
  },
  {
   "cell_type": "code",
   "execution_count": null,
   "id": "ffe18d8a-b9b1-4eac-966d-a74e6523a252",
   "metadata": {},
   "outputs": [],
   "source": [
    "# hm_albedo.plot() + hm_albedo_std.plot() + smrf_albedo.plot() + smrf_albedo_std.plot();"
   ]
  },
  {
   "cell_type": "markdown",
   "id": "b7fdbbfe-42db-4064-9786-234c2588b0b9",
   "metadata": {},
   "source": [
    "## Matplotlib "
   ]
  },
  {
   "cell_type": "code",
   "execution_count": null,
   "id": "fe4a688f-afe2-4262-af98-79003ff0d058",
   "metadata": {},
   "outputs": [],
   "source": [
    "import matplotlib.pyplot as plt\n",
    "import matplotlib.dates as mdates\n",
    "import matplotlib.patches as mpatches\n",
    "import matplotlib.ticker as mticker\n",
    "from matplotlib.offsetbox import AnchoredText"
   ]
  },
  {
   "cell_type": "code",
   "execution_count": null,
   "id": "81584646-3956-4045-82fb-f0bc767df5fb",
   "metadata": {},
   "outputs": [],
   "source": [
    "plot_range = pd.date_range(start=f'{year - 1}-10-01', periods=11, freq='MS')"
   ]
  },
  {
   "cell_type": "code",
   "execution_count": null,
   "id": "343af13a-2d6c-4b42-a3fd-f0dbce688328",
   "metadata": {},
   "outputs": [],
   "source": [
    "fig = plt.figure(dpi=300)\n",
    "ax = fig.gca()\n",
    "\n",
    "smrf_albedo.plot(ax=ax, lw=1, label='Time-Decay Mean')\n",
    "ax.fill_between(smrf_albedo.time.values, smrf_albedo + smrf_albedo_std, smrf_albedo - smrf_albedo_std, alpha=0.2)\n",
    "hm_albedo.plot(ax=ax, lw=1, label='MODIS Mean')\n",
    "ax.fill_between(hm_albedo.time.values, hm_albedo + hm_albedo_std, hm_albedo - hm_albedo_std, alpha=0.2)\n",
    "\n",
    "ax.set_xlim(plot_range[0], plot_range[-1])\n",
    "\n",
    "ax.xaxis.set_major_locator(mdates.MonthLocator())\n",
    "ax.xaxis.set_minor_locator(mdates.MonthLocator(bymonthday=16))\n",
    "ax.xaxis.set_major_formatter(mticker.NullFormatter())\n",
    "ax.xaxis.set_minor_formatter(mdates.DateFormatter('%b'))\n",
    "ax.tick_params(axis='x', which='minor', pad=-0.5)\n",
    "\n",
    "ax.set_ylim(bottom=0)\n",
    "ax.set_ylabel('Albedo')\n",
    "ax.set_xlabel(f'Water Year {year}')\n",
    "ax.legend(frameon=False);"
   ]
  },
  {
   "cell_type": "code",
   "execution_count": null,
   "id": "c28a8b80-9ed5-4576-bd91-33e7633d8081",
   "metadata": {},
   "outputs": [],
   "source": [
    "client.shutdown()"
   ]
  }
 ],
 "metadata": {
  "kernelspec": {
   "display_name": "python3 (snow_viz)",
   "language": "python",
   "name": "conda-env-snow_viz-py"
  },
  "language_info": {
   "codemirror_mode": {
    "name": "ipython",
    "version": 3
   },
   "file_extension": ".py",
   "mimetype": "text/x-python",
   "name": "python",
   "nbconvert_exporter": "python",
   "pygments_lexer": "ipython3",
   "version": "3.9.13"
  }
 },
 "nbformat": 4,
 "nbformat_minor": 5
}
