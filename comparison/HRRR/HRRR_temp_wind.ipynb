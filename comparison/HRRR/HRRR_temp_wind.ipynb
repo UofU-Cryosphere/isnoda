{
 "cells": [
  {
   "cell_type": "code",
   "execution_count": null,
   "id": "dbbe2d76-bc0d-4118-aba7-dc6650691c56",
   "metadata": {},
   "outputs": [],
   "source": [
    "import xarray as xr\n",
    "import numpy as np\n",
    "import pandas as pd\n",
    "\n",
    "import datetime\n",
    "\n",
    "from snobedo.lib.dask_utils import start_cluster, client_ip_and_port\n",
    "from snobedo.snotel import SnotelLocations, CsvParser\n",
    "\n",
    "from common import SHARED_STORE, SNOBAL_DIR, SNOTEL_DIR, DATA_DIR, COARSEN_OPTS, HV_PLOT_OPTS"
   ]
  },
  {
   "cell_type": "code",
   "execution_count": null,
   "id": "6611973b-d39d-4a87-859a-6154439c5d76",
   "metadata": {},
   "outputs": [],
   "source": [
    "client = start_cluster(8, 24)\n",
    "client_ip_and_port(client)"
   ]
  },
  {
   "cell_type": "code",
   "execution_count": null,
   "id": "28b181dc-9c49-4426-840d-6d7eda9d4f44",
   "metadata": {},
   "outputs": [],
   "source": [
    "water_year = f'wy2021'"
   ]
  },
  {
   "cell_type": "code",
   "execution_count": null,
   "id": "1763c907-15fe-478c-a4e8-e5a128ddbe06",
   "metadata": {},
   "outputs": [],
   "source": [
    "snotel_sites = SnotelLocations()\n",
    "snotel_sites.load_from_json(SNOTEL_DIR / 'site-locations/snotel_sites.json')"
   ]
  },
  {
   "cell_type": "code",
   "execution_count": null,
   "id": "08a13fb5-7945-4a6d-b9fb-6390f6e9704d",
   "metadata": {},
   "outputs": [],
   "source": [
    "# NOTE: MesoWest data is in delivered as UTC time\n",
    "PD_OPTS = dict(\n",
    "    parse_dates=True,\n",
    "    index_col=0,\n",
    "    names=['Depth', 'Air-T', '-', 'RH', 'Wind', '--'],\n",
    "    header=0,\n",
    ")\n",
    "\n",
    "irwin_guide = pd.concat([\n",
    "    pd.read_csv(DATA_DIR / 'Snotel/wy2021/Irwin/usda-csv/2021-Irwin.csv', **PD_OPTS),\n",
    "    pd.read_csv(DATA_DIR / 'Snotel/wy2022/Irwin/usda-csv/2022-Irwin.csv', **PD_OPTS),\n",
    "])\n"
   ]
  },
  {
   "cell_type": "markdown",
   "id": "968b7879-fb88-4719-8a10-11a16c96c5a1",
   "metadata": {},
   "source": [
    "## Model run with HRRR clouds and solar + MODIS albedo"
   ]
  },
  {
   "cell_type": "code",
   "execution_count": null,
   "id": "31f97656-ffa5-4a4d-8edf-51623e695444",
   "metadata": {},
   "outputs": [],
   "source": [
    "HRRR_modis_21 = xr.open_mfdataset(\n",
    "    f'{SHARED_STORE}/erw_isnobal/wy2021/erw_hrrr_solar_modis_cubic/run*/smrf_*.nc',\n",
    "    parallel=True, chunks={'time': 24},\n",
    "    drop_variables=['percent_snow', 'precip_temp', 'precip', 'snow_density', 'storm_days', 'thermal', 'vapor_pressure'],\n",
    ").sel(x=snotel_sites.Irwin.lon, y=snotel_sites.Irwin.lat, method='nearest').compute()"
   ]
  },
  {
   "cell_type": "code",
   "execution_count": null,
   "id": "05f41258-bbba-446a-80b0-6019898e693a",
   "metadata": {},
   "outputs": [],
   "source": [
    "HRRR_modis_22 = xr.open_mfdataset(\n",
    "    f'{SHARED_STORE}/erw_isnobal/wy2022/erw_hrrr_solar_modis_cubic/run*/smrf_*.nc',\n",
    "    parallel=True, chunks={'time': 24},\n",
    "    drop_variables=['percent_snow', 'precip_temp', 'precip', 'snow_density', 'storm_days', 'thermal', 'vapor_pressure'],\n",
    ").sel(x=snotel_sites.Irwin.lon, y=snotel_sites.Irwin.lat, method='nearest').compute()"
   ]
  },
  {
   "cell_type": "code",
   "execution_count": null,
   "id": "2df7242d-2fac-41ef-b1f9-2f55768674a6",
   "metadata": {},
   "outputs": [],
   "source": [
    "HRRR_modis = xr.merge([HRRR_modis_21, HRRR_modis_22])"
   ]
  },
  {
   "cell_type": "markdown",
   "id": "a4e9c89f-13a6-40fb-8c6e-fd769527ad7f",
   "metadata": {},
   "source": [
    "## Model Bias"
   ]
  },
  {
   "cell_type": "code",
   "execution_count": null,
   "id": "45199677-c859-4d98-ae1a-2802c11d5a65",
   "metadata": {},
   "outputs": [],
   "source": [
    "def in_date_range_xr(data, start, end):\n",
    "    return data.where(\n",
    "        data.time >= start\n",
    "    ).where(\n",
    "        data.time <= end\n",
    "    )\n",
    "\n",
    "def rolling_in_date_range_pd(df, start, end):\n",
    "    return df[\n",
    "        (df.index >= start) & (df.index < end)\n",
    "    ].rolling(24).mean()"
   ]
  },
  {
   "cell_type": "code",
   "execution_count": null,
   "id": "fd9300cd-d363-4fe1-9a89-a5e0d6a0546e",
   "metadata": {},
   "outputs": [],
   "source": [
    "HRRR_pd = HRRR_modis.squeeze(['x', 'y']).to_dataframe().drop(['x', 'y', 'projection'], axis=1)\n",
    "\n",
    "irwin_guide.index = irwin_guide.index.tz_localize(None)"
   ]
  },
  {
   "cell_type": "code",
   "execution_count": null,
   "id": "b6fec41c-9f35-40e5-85ef-388546ae3928",
   "metadata": {},
   "outputs": [],
   "source": [
    "model_bias_air_t = HRRR_pd['air_temp'] - irwin_guide['Air-T']\n",
    "model_bias_wind = HRRR_pd['wind_speed'] - irwin_guide['Wind']"
   ]
  },
  {
   "cell_type": "markdown",
   "id": "b7fdbbfe-42db-4064-9786-234c2588b0b9",
   "metadata": {},
   "source": [
    "## Matplotlib "
   ]
  },
  {
   "cell_type": "code",
   "execution_count": null,
   "id": "fe4a688f-afe2-4262-af98-79003ff0d058",
   "metadata": {},
   "outputs": [],
   "source": [
    "import matplotlib.pyplot as plt\n",
    "import matplotlib.dates as mdates\n",
    "import matplotlib.patches as mpatches\n",
    "import matplotlib.ticker as mticker\n",
    "from matplotlib.offsetbox import AnchoredText"
   ]
  },
  {
   "cell_type": "code",
   "execution_count": null,
   "id": "b80eaa71-5349-4cfc-8bd5-376905069992",
   "metadata": {},
   "outputs": [],
   "source": [
    "pd.options.plotting.backend = 'matplotlib'"
   ]
  },
  {
   "cell_type": "code",
   "execution_count": null,
   "id": "9400c5ca-bedb-4e50-b7e9-844d85006fea",
   "metadata": {},
   "outputs": [],
   "source": [
    "def model_axes(axes, x_pos=1.05):    \n",
    "    model_cax = axes.twinx()\n",
    "    model_cax.set_ylabel(r'Model bias', rotation=270, labelpad=4, ha='center', fontsize=10, fontstyle='italic')\n",
    "    model_cax.set_yticks([0,1])\n",
    "    model_cax.set_yticklabels([])\n",
    "    \n",
    "    label_style=dict(\n",
    "        xycoords='axes fraction',\n",
    "        va=\"center\", \n",
    "        ha=\"center\",\n",
    "        fontsize=10,\n",
    "        rotation=270,\n",
    "    )\n",
    "    \n",
    "    model_cax.annotate(\"Over\",\n",
    "        xy=(x_pos, 1),\n",
    "        xytext=(x_pos, .84),\n",
    "        arrowprops=dict(arrowstyle=\"simple\", fc='blue'),\n",
    "        **label_style\n",
    "    )\n",
    "    model_cax.annotate(\"Under\",\n",
    "        xy=(x_pos, 0.00),\n",
    "        xytext=(x_pos, .18),\n",
    "        arrowprops=dict(arrowstyle=\"simple\", fc='red'),\n",
    "        **label_style\n",
    "    )"
   ]
  },
  {
   "cell_type": "code",
   "execution_count": null,
   "id": "91899370-9136-46e7-af21-fbd55cfdd3da",
   "metadata": {},
   "outputs": [],
   "source": [
    "figure_opts = dict(figsize=(7,6), dpi=300,)\n",
    "fig, axes = plt.subplots(2, 1, sharex=True, **figure_opts)\n",
    "plt.subplots_adjust(hspace=0.05)\n",
    "\n",
    "for ax in axes:\n",
    "    ax.axhline(0, lw=0.8, ls=(1, (1, 2)), color='black', zorder=0, alpha=0.75)\n",
    "\n",
    "LINE_OPTS_2021 = dict(label='2021', color='steelblue', alpha=0.8, lw=1)\n",
    "LINE_OPTS_2022 = dict(label='2022', color='peru', alpha=0.8, lw=1.2, ls=(0, (5, 1)))\n",
    "\n",
    "# Air T\n",
    "## 2021\n",
    "data = rolling_in_date_range_pd(model_bias_air_t, '2020-10-01', '2021-06-30')\n",
    "print('Air-T 2021')\n",
    "print(data.describe())\n",
    "\n",
    "axes[0].plot(\n",
    "    data.index.shift(freq = pd.DateOffset(years = 1)), data.values, \n",
    "    **LINE_OPTS_2021,\n",
    ")\n",
    "\n",
    "## 2022\n",
    "data = rolling_in_date_range_pd(model_bias_air_t, '2021-10-01', '2022-06-30')\n",
    "\n",
    "print('Air-T 2022')\n",
    "print(data.describe())\n",
    "\n",
    "axes[0].plot(\n",
    "    data.index, data.values, \n",
    "    **LINE_OPTS_2022,\n",
    ")\n",
    "axes[0].set_ylabel('Δ Air Temperature (°C)')\n",
    "\n",
    "# Wind\n",
    "## 2021\n",
    "data = rolling_in_date_range_pd(model_bias_wind, '2020-10-01', '2021-06-30')\n",
    "\n",
    "print('Wind 2021')\n",
    "print(data.describe())\n",
    "\n",
    "axes[1].plot(\n",
    "    data.index.shift(freq = pd.DateOffset(years = 1)), data.values, \n",
    "    **LINE_OPTS_2021,\n",
    ")\n",
    "\n",
    "## 2022\n",
    "data = rolling_in_date_range_pd(model_bias_wind, '2021-10-01', '2022-06-30')\n",
    "\n",
    "print('Wind 2022')\n",
    "print(data.describe())\n",
    "\n",
    "axes[1].plot(\n",
    "    data.index, data.values, \n",
    "    **LINE_OPTS_2022,\n",
    ")\n",
    "axes[1].set_ylabel('Δ Wind (m/s)')\n",
    "\n",
    "# Date axis\n",
    "axes[1].xaxis.set_major_locator(mdates.MonthLocator(interval=1))\n",
    "axes[1].xaxis.set_major_formatter(mdates.DateFormatter('%b'))\n",
    "axes[1].xaxis.set_minor_locator(mticker.NullLocator())\n",
    "axes[1].set_xlim(np.datetime64('2021-10-01'), np.datetime64('2022-07-01'))\n",
    "\n",
    "for ax in axes:\n",
    "    model_axes(ax, 1.015)\n",
    "    ax.legend(loc='lower right', frameon=False, borderaxespad=0.15, fontsize=8);"
   ]
  },
  {
   "cell_type": "code",
   "execution_count": null,
   "id": "9021dbf5-a9da-4135-94da-79bf4367fa17",
   "metadata": {},
   "outputs": [],
   "source": [
    "import hvplot.xarray\n",
    "import hvplot.pandas\n",
    "import holoviews as hv\n",
    "\n",
    "pd.options.plotting.backend = 'holoviews'"
   ]
  },
  {
   "cell_type": "code",
   "execution_count": null,
   "id": "d04c2b00-569b-4ab8-8c33-1edd5f186f87",
   "metadata": {},
   "outputs": [],
   "source": [
    "rolling_in_date_range_pd(model_bias_air_t, '2020-10-01', '2021-06-30').plot(label='wy2021', **HV_PLOT_OPTS, title='Air Temperature') * \\\n",
    "rolling_in_date_range_pd(model_bias_air_t, '2021-10-01', '2022-06-30').shift(-365, freq='D').plot(label='wy2022', **HV_PLOT_OPTS) * \\\n",
    "hv.HLine(0).opts(color='grey', line_width=2, line_dash='dotted')"
   ]
  },
  {
   "cell_type": "code",
   "execution_count": null,
   "id": "60203e13-bc79-4a94-8cbc-2f282c5eafd1",
   "metadata": {},
   "outputs": [],
   "source": [
    "rolling_in_date_range_pd(model_bias_wind, '2020-10-01', '2021-06-30').plot(label='wy2021', **HV_PLOT_OPTS, title='Wind Speed') * \\\n",
    "rolling_in_date_range_pd(model_bias_wind, '2021-10-01', '2022-06-30').shift(-365, freq='D').plot(label='wy2022', **HV_PLOT_OPTS) * \\\n",
    "hv.HLine(0).opts(color='grey', line_width=2, line_dash='dotted')"
   ]
  },
  {
   "cell_type": "code",
   "execution_count": null,
   "id": "c28a8b80-9ed5-4576-bd91-33e7633d8081",
   "metadata": {},
   "outputs": [],
   "source": [
    "client.shutdown()"
   ]
  }
 ],
 "metadata": {
  "language_info": {
   "name": "python"
  }
 },
 "nbformat": 4,
 "nbformat_minor": 5
}
