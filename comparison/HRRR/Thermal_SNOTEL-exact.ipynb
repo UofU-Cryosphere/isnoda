{
 "cells": [
  {
   "cell_type": "code",
   "execution_count": null,
   "id": "dbbe2d76-bc0d-4118-aba7-dc6650691c56",
   "metadata": {},
   "outputs": [],
   "source": [
    "import xarray as xr\n",
    "import hvplot.xarray\n",
    "import holoviews as hv\n",
    "\n",
    "from snobedo.lib.dask_utils import start_cluster, client_ip_and_port\n",
    "from snobedo.snotel import SnotelLocations, CsvParser\n",
    "\n",
    "from common import SHARED_STORE, SNOBAL_DIR, SNOTEL_DIR, DATA_DIR, COARSEN_OPTS, HV_PLOT_OPTS"
   ]
  },
  {
   "cell_type": "code",
   "execution_count": null,
   "id": "6611973b-d39d-4a87-859a-6154439c5d76",
   "metadata": {},
   "outputs": [],
   "source": [
    "client = start_cluster(6, 24)\n",
    "client_ip_and_port(client)"
   ]
  },
  {
   "cell_type": "code",
   "execution_count": null,
   "id": "8415d61b-4222-49a5-8c45-ccb112e6d1a9",
   "metadata": {},
   "outputs": [],
   "source": [
    "water_year = 'wy2021'"
   ]
  },
  {
   "cell_type": "markdown",
   "id": "8bc0ecbb-b8d8-4985-8ef0-6698bd66a2de",
   "metadata": {},
   "source": [
    "## SNOTEL "
   ]
  },
  {
   "cell_type": "code",
   "execution_count": null,
   "id": "5b7636c0-e232-47e6-8094-4b45d695fbdb",
   "metadata": {},
   "outputs": [],
   "source": [
    "snotel_sites = SnotelLocations()\n",
    "snotel_sites.load_from_json(SNOTEL_DIR / 'site-locations/snotel_sites.json')"
   ]
  },
  {
   "cell_type": "code",
   "execution_count": null,
   "id": "a355a235-f484-4238-bd61-061b7eaccbdc",
   "metadata": {},
   "outputs": [],
   "source": [
    "HV_PLOT_OPTS['ylabel'] = 'Thermal W/m^2'"
   ]
  },
  {
   "cell_type": "markdown",
   "id": "1fc9b104-c824-4c5c-8769-62eb2ac8e3a6",
   "metadata": {},
   "source": [
    "# HRRR"
   ]
  },
  {
   "cell_type": "markdown",
   "id": "1e3b3839-5df8-482c-a625-c671facb3481",
   "metadata": {},
   "source": [
    "## Thermal "
   ]
  },
  {
   "cell_type": "code",
   "execution_count": null,
   "id": "d2226912-4c0d-4431-86ab-140a3414f10d",
   "metadata": {},
   "outputs": [],
   "source": [
    "HRRR_therm = xr.open_mfdataset(\n",
    "    f'{SHARED_STORE}/erw_isnobal/{water_year}/erw_hrrr_solar/run*/smrf_20*.nc',\n",
    "    parallel=True, chunks={'time': 744, 'y' :1000, 'x': 1000},\n",
    "    drop_variables=['precip_temp', 'percent_snow', 'precip', 'snow_density', 'storm_days', 'wind_speed', 'vapor_pressure']\n",
    ")\n",
    "\n",
    "butte_snobal_hrrr = HRRR_therm.thermal.sel(x=snotel_sites.Butte.lon, y=snotel_sites.Butte.lat, method='nearest').squeeze(['x', 'y']).compute()\n",
    "schofield_snobal_hrrr = HRRR_therm.thermal.sel(x=snotel_sites.Schofield.lon, y=snotel_sites.Schofield.lat, method='nearest').squeeze(['x', 'y']).compute()\n",
    "taylor_snobal_hrrr = HRRR_therm.thermal.sel(x=snotel_sites.Taylor.lon, y=snotel_sites.Taylor.lat, method='nearest').squeeze(['x', 'y']).compute()\n",
    "irwin_snobal_hrrr = HRRR_therm.thermal.sel(x=snotel_sites.Irwin.lon, y=snotel_sites.Irwin.lat, method='nearest').squeeze(['x', 'y']).compute()"
   ]
  },
  {
   "cell_type": "markdown",
   "id": "dc0a60c7-4fd0-4479-80f5-b3670126b006",
   "metadata": {},
   "source": [
    "## Clouds "
   ]
  },
  {
   "cell_type": "code",
   "execution_count": null,
   "id": "0c738a78-3b2d-4963-86b4-41d601866b7a",
   "metadata": {},
   "outputs": [],
   "source": [
    "HRRR_therm = xr.open_mfdataset(\n",
    "    f'{SHARED_STORE}/erw_isnobal/{water_year}/erw_hrrr_solar/run*/cloud_factor.nc',\n",
    "    parallel=True, chunks={'time': 744, 'y' :100, 'x': 100},\n",
    ")\n",
    "butte_snobal_hrrr_cloud = HRRR_therm.TCDC.sel(x=snotel_sites.Butte.lon, y=snotel_sites.Butte.lat, method='nearest').squeeze(['x', 'y']).compute()\n",
    "schofield_snobal_hrrr_cloud = HRRR_therm.TCDC.sel(x=snotel_sites.Schofield.lon, y=snotel_sites.Schofield.lat, method='nearest').squeeze(['x', 'y']).compute()\n",
    "taylor_snobal_hrrr_cloud = HRRR_therm.TCDC.sel(x=snotel_sites.Taylor.lon, y=snotel_sites.Taylor.lat, method='nearest').squeeze(['x', 'y']).compute()\n",
    "irwin_snobal_hrrr_cloud = HRRR_therm.TCDC.sel(x=snotel_sites.Irwin.lon, y=snotel_sites.Irwin.lat, method='nearest').squeeze(['x', 'y']).compute()\n",
    "\n",
    "del HRRR_therm"
   ]
  },
  {
   "cell_type": "markdown",
   "id": "aea59da2-5c8e-4947-8a3d-8e363ae9ffe1",
   "metadata": {},
   "source": [
    "# SMRF "
   ]
  },
  {
   "cell_type": "code",
   "execution_count": null,
   "id": "72d07b65-8086-494e-90b7-787144c1b750",
   "metadata": {},
   "outputs": [],
   "source": [
    "smrf_out = xr.open_mfdataset(\n",
    "    f'{SHARED_STORE}/erw_isnobal/{water_year}/erw/run*/smrf_20*.nc',\n",
    "    parallel=True, chunks={'time': 744, 'y' :100, 'x': 100},\n",
    "    drop_variables=['precip_temp', 'percent_snow', 'precip', 'snow_density', 'storm_days', 'wind_speed', 'vapor_pressure']\n",
    ")"
   ]
  },
  {
   "cell_type": "markdown",
   "id": "2e1f71a4-ef58-485d-aa4d-83efc3d6b6bf",
   "metadata": {},
   "source": [
    "## Thermal"
   ]
  },
  {
   "cell_type": "code",
   "execution_count": null,
   "id": "e008eea7-8331-4f53-85d3-ff301678523f",
   "metadata": {},
   "outputs": [],
   "source": [
    "butte_snobal = smrf_out.thermal.sel(x=snotel_sites.Butte.lon, y=snotel_sites.Butte.lat, method='nearest').squeeze(['x', 'y']).compute()\n",
    "schofield_snobal = smrf_out.thermal.sel(x=snotel_sites.Schofield.lon, y=snotel_sites.Schofield.lat, method='nearest').squeeze(['x', 'y']).compute()\n",
    "taylor_snobal = smrf_out.thermal.sel(x=snotel_sites.Taylor.lon, y=snotel_sites.Taylor.lat, method='nearest').squeeze(['x', 'y']).compute()\n",
    "irwin_snobal = smrf_out.thermal.sel(x=snotel_sites.Irwin.lon, y=snotel_sites.Irwin.lat, method='nearest').squeeze(['x', 'y']).compute()"
   ]
  },
  {
   "cell_type": "markdown",
   "id": "84551ef4-7b5e-428c-a090-6cc762ea8cc2",
   "metadata": {},
   "source": [
    "## Clouds "
   ]
  },
  {
   "cell_type": "code",
   "execution_count": null,
   "id": "acf0c667-c151-439b-9b84-816996e557a5",
   "metadata": {},
   "outputs": [],
   "source": [
    "butte_snobal_cloud = smrf_out.cloud_factor.sel(x=snotel_sites.Butte.lon, y=snotel_sites.Butte.lat, method='nearest').squeeze(['x', 'y']).compute()\n",
    "schofield_snobal_cloud = smrf_out.cloud_factor.sel(x=snotel_sites.Schofield.lon, y=snotel_sites.Schofield.lat, method='nearest').squeeze(['x', 'y']).compute()\n",
    "taylor_snobal_cloud = smrf_out.cloud_factor.sel(x=snotel_sites.Taylor.lon, y=snotel_sites.Taylor.lat, method='nearest').squeeze(['x', 'y']).compute()\n",
    "irwin_snobal_cloud = smrf_out.cloud_factor.sel(x=snotel_sites.Irwin.lon, y=snotel_sites.Irwin.lat, method='nearest').squeeze(['x', 'y']).compute()"
   ]
  },
  {
   "cell_type": "code",
   "execution_count": null,
   "id": "e213b03b-7397-4683-a136-8d12f0221b5d",
   "metadata": {},
   "outputs": [],
   "source": [
    "del smrf_out"
   ]
  },
  {
   "cell_type": "markdown",
   "id": "fe0042ac-aa04-48f5-a512-a8bba6fdd623",
   "metadata": {},
   "source": [
    "### Schofield "
   ]
  },
  {
   "cell_type": "code",
   "execution_count": null,
   "id": "ddd4705c-9b3b-4e12-9596-64699238a282",
   "metadata": {},
   "outputs": [],
   "source": [
    "schofield_snobal_hrrr.hvplot(label='HRRR thermal').opts(**HV_PLOT_OPTS, title='Schofield Pass') * \\\n",
    "schofield_snobal.hvplot(label='SMRF thermal') * \\\n",
    "(schofield_snobal_hrrr - schofield_snobal).hvplot(label='HRRR - SMRF')"
   ]
  },
  {
   "cell_type": "code",
   "execution_count": null,
   "id": "f560f6ec-ebcc-499b-86f6-0243aed408a5",
   "metadata": {},
   "outputs": [],
   "source": [
    "cloud_diff = (schofield_snobal_hrrr_cloud.rename('cloud_factor') - schofield_snobal_cloud).assign_attrs(units='%') * 100\n",
    "\n",
    "(schofield_snobal_hrrr - schofield_snobal).hvplot(label='HRRR - SMRF therm').opts(**HV_PLOT_OPTS, title='Schofield Pass') * \\\n",
    "cloud_diff.hvplot(label='HRRR - SMRF clouds')"
   ]
  },
  {
   "cell_type": "markdown",
   "id": "4dcdce18-ee58-4df3-9a40-aa4f447fa256",
   "metadata": {},
   "source": [
    "### Butte"
   ]
  },
  {
   "cell_type": "code",
   "execution_count": null,
   "id": "7bcd03e5-fc57-4c82-a0dc-fa5b259775bd",
   "metadata": {},
   "outputs": [],
   "source": [
    "butte_snobal_hrrr.hvplot(label='HRRR thermal').opts(**HV_PLOT_OPTS, title='Butte') * \\\n",
    "butte_snobal.hvplot(label='SMRF thermal') * \\\n",
    "(butte_snobal_hrrr - butte_snobal).hvplot(label='HRRR - SMRF')"
   ]
  },
  {
   "cell_type": "code",
   "execution_count": null,
   "id": "c6f67b70-5393-4a90-aa99-a1cd675034c2",
   "metadata": {},
   "outputs": [],
   "source": [
    "cloud_diff = (butte_snobal_hrrr_cloud.rename('cloud_factor') - butte_snobal_cloud).assign_attrs(units='%') * 100\n",
    "\n",
    "(butte_snobal_hrrr - butte_snobal).hvplot(label='HRRR - SMRF therm').opts(**HV_PLOT_OPTS, title='Butte') * \\\n",
    "cloud_diff.hvplot(label='HRRR - SMRF clouds')"
   ]
  },
  {
   "cell_type": "code",
   "execution_count": null,
   "id": "39ecf683-d0e1-4cb0-a6ad-a5baeddfadac",
   "metadata": {},
   "outputs": [],
   "source": [
    "taylor_snobal_hrrr.hvplot(label='HRRR thermal').opts(**HV_PLOT_OPTS) * taylor_snobal.hvplot(label='SMRF thermal') "
   ]
  },
  {
   "cell_type": "markdown",
   "id": "e979f5c6-8a8b-4e98-acf2-ddf9e8df1793",
   "metadata": {},
   "source": [
    "### Irwin"
   ]
  },
  {
   "cell_type": "code",
   "execution_count": null,
   "id": "26d48869-e379-4642-a2ad-917c7219d777",
   "metadata": {},
   "outputs": [],
   "source": [
    "irwin_snobal_hrrr.hvplot(label='HRRR thermal').opts(**HV_PLOT_OPTS, title='Irwin') * \\\n",
    "irwin_snobal.hvplot(label='SMRF thermal') * \\\n",
    "(irwin_snobal_hrrr - irwin_snobal).hvplot(label='HRRR - SMRF')"
   ]
  },
  {
   "cell_type": "code",
   "execution_count": null,
   "id": "7071b230-6f38-4ffd-9705-1969827c71a9",
   "metadata": {},
   "outputs": [],
   "source": [
    "cloud_diff = (irwin_snobal_hrrr_cloud.rename('cloud_factor') - irwin_snobal_cloud).assign_attrs(units='%') * 100\n",
    "\n",
    "(irwin_snobal_hrrr - irwin_snobal).hvplot(label='HRRR - SMRF therm').opts(**HV_PLOT_OPTS, title='Irwin') * \\\n",
    "cloud_diff.hvplot(label='HRRR - SMRF clouds')"
   ]
  },
  {
   "cell_type": "markdown",
   "id": "dee51df0-4933-4795-976e-a0822ad57dd3",
   "metadata": {},
   "source": [
    "### Rolling (daily) "
   ]
  },
  {
   "cell_type": "code",
   "execution_count": null,
   "id": "7a1c04ab-9619-4615-9900-cd292e167218",
   "metadata": {},
   "outputs": [],
   "source": [
    "(schofield_snobal_hrrr.rolling(time=24, center=True).mean().hvplot(label='HRRR Schofield').opts(**HV_PLOT_OPTS) * \\\n",
    "schofield_snobal.rolling(time=24, center=True).mean().hvplot(label='SMRF Schofield') + \\\n",
    "butte_snobal_hrrr.rolling(time=24, center=True).mean().hvplot(label='HRRR Butte').opts(**HV_PLOT_OPTS) * \\\n",
    "butte_snobal.rolling(time=24, center=True).mean().hvplot(label='SMRF Butte') + \\\n",
    "irwin_snobal_hrrr.rolling(time=24, center=True).mean().hvplot(label='HRRR Irwin').opts(**HV_PLOT_OPTS) * \\\n",
    "irwin_snobal.rolling(time=24, center=True).mean().hvplot(label='SMRF Irwin')).cols(1)"
   ]
  },
  {
   "cell_type": "code",
   "execution_count": null,
   "id": "f6b96278-ce8e-4bb0-9a70-21dff990ac65",
   "metadata": {},
   "outputs": [],
   "source": [
    "taylor_snobal_hrrr.rolling(time=24, center=True).mean().hvplot(label='HRRR Taylor').opts(**HV_PLOT_OPTS)* \\\n",
    "taylor_snobal.rolling(time=24, center=True).mean().hvplot(label='SMRF Taylor')"
   ]
  },
  {
   "cell_type": "code",
   "execution_count": null,
   "id": "c5d8fda7-365f-40d2-b452-020832faf909",
   "metadata": {},
   "outputs": [],
   "source": [
    "client.shutdown()"
   ]
  },
  {
   "cell_type": "code",
   "execution_count": null,
   "id": "1783786f-76bc-4716-86a4-ca3f6ac3592f",
   "metadata": {},
   "outputs": [],
   "source": []
  }
 ],
 "metadata": {
  "language_info": {
   "name": "python"
  }
 },
 "nbformat": 4,
 "nbformat_minor": 5
}
