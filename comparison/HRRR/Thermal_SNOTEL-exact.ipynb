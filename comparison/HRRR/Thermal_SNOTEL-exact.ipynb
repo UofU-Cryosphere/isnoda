{
 "cells": [
  {
   "cell_type": "code",
   "execution_count": null,
   "id": "dbbe2d76-bc0d-4118-aba7-dc6650691c56",
   "metadata": {},
   "outputs": [],
   "source": [
    "import xarray as xr\n",
    "import hvplot.xarray\n",
    "import holoviews as hv\n",
    "import numpy as np\n",
    "import pandas as pd\n",
    "\n",
    "from snobedo.lib.dask_utils import start_cluster, client_ip_and_port\n",
    "from snobedo.snotel import SnotelLocations, CsvParser\n",
    "\n",
    "from common import SHARED_STORE, SNOBAL_DIR, SNOTEL_DIR, DATA_DIR, COARSEN_OPTS, HV_PLOT_OPTS"
   ]
  },
  {
   "cell_type": "code",
   "execution_count": null,
   "id": "6611973b-d39d-4a87-859a-6154439c5d76",
   "metadata": {},
   "outputs": [],
   "source": [
    "client = start_cluster(6, 24)\n",
    "client_ip_and_port(client)"
   ]
  },
  {
   "cell_type": "code",
   "execution_count": null,
   "id": "8415d61b-4222-49a5-8c45-ccb112e6d1a9",
   "metadata": {},
   "outputs": [],
   "source": [
    "water_year = 'wy2021'"
   ]
  },
  {
   "cell_type": "markdown",
   "id": "8bc0ecbb-b8d8-4985-8ef0-6698bd66a2de",
   "metadata": {},
   "source": [
    "## SNOTEL "
   ]
  },
  {
   "cell_type": "code",
   "execution_count": null,
   "id": "5b7636c0-e232-47e6-8094-4b45d695fbdb",
   "metadata": {},
   "outputs": [],
   "source": [
    "snotel_sites = SnotelLocations()\n",
    "snotel_sites.load_from_json(SNOTEL_DIR / 'site-locations/snotel_sites.json')"
   ]
  },
  {
   "cell_type": "markdown",
   "id": "1e3b3839-5df8-482c-a625-c671facb3481",
   "metadata": {},
   "source": [
    "# Thermal "
   ]
  },
  {
   "cell_type": "code",
   "execution_count": null,
   "id": "a355a235-f484-4238-bd61-061b7eaccbdc",
   "metadata": {},
   "outputs": [],
   "source": [
    "HV_PLOT_OPTS['ylabel'] = 'Thermal W/m^2'"
   ]
  },
  {
   "cell_type": "code",
   "execution_count": null,
   "id": "2f4f328d-c58a-43e8-bd90-2cf73d97f725",
   "metadata": {},
   "outputs": [],
   "source": [
    "HRRR_therm = xr.open_mfdataset(\n",
    "    f'{SHARED_STORE}/erw_isnobal/{water_year}/erw_hrrr_solar/run*/smrf_20*.nc',\n",
    "    parallel=True, chunks={'time': 24, 'y' :10, 'x': 10},\n",
    "    drop_variables=['precip_temp', 'percent_snow', 'precip', 'snow_density', 'storm_days', 'wind_speed', 'vapor_pressure']\n",
    ")\n",
    "\n",
    "butte_snobal_hrrr = HRRR_therm.thermal.sel(x=snotel_sites.Butte.lon, y=snotel_sites.Butte.lat, method='nearest').squeeze(['x', 'y']).compute()\n",
    "schofield_snobal_hrrr = HRRR_therm.thermal.sel(x=snotel_sites.Schofield.lon, y=snotel_sites.Schofield.lat, method='nearest').squeeze(['x', 'y']).compute()\n",
    "taylor_snobal_hrrr = HRRR_therm.thermal.sel(x=snotel_sites.Taylor.lon, y=snotel_sites.Taylor.lat, method='nearest').squeeze(['x', 'y']).compute()\n",
    "irwin_snobal_hrrr = HRRR_therm.thermal.sel(x=snotel_sites.Irwin.lon, y=snotel_sites.Irwin.lat, method='nearest').squeeze(['x', 'y']).compute()\n",
    "\n",
    "del HRRR_therm"
   ]
  },
  {
   "cell_type": "code",
   "execution_count": null,
   "id": "72d07b65-8086-494e-90b7-787144c1b750",
   "metadata": {},
   "outputs": [],
   "source": [
    "smrf_out = xr.open_mfdataset(\n",
    "    f'{SHARED_STORE}/erw_isnobal/{water_year}/erw/run*/smrf_20*.nc',\n",
    "    parallel=True, chunks={'time': 24, 'y' :10, 'x': 10},\n",
    "    drop_variables=['precip_temp', 'percent_snow', 'precip', 'snow_density', 'storm_days', 'wind_speed', 'vapor_pressure']\n",
    ")"
   ]
  },
  {
   "cell_type": "code",
   "execution_count": null,
   "id": "e008eea7-8331-4f53-85d3-ff301678523f",
   "metadata": {},
   "outputs": [],
   "source": [
    "butte_snobal = smrf_out.thermal.sel(x=snotel_sites.Butte.lon, y=snotel_sites.Butte.lat, method='nearest').compute()\n",
    "butte_snobal = butte_snobal.squeeze(['x', 'y']).compute()\n",
    "schofield_snobal = smrf_out.thermal.sel(x=snotel_sites.Schofield.lon, y=snotel_sites.Schofield.lat, method='nearest').compute()\n",
    "schofield_snobal = schofield_snobal.squeeze(['x', 'y']).compute()\n",
    "taylor_snobal = smrf_out.thermal.sel(x=snotel_sites.Taylor.lon, y=snotel_sites.Taylor.lat, method='nearest').compute()\n",
    "taylor_snobal = taylor_snobal.squeeze(['x', 'y']).compute()\n",
    "irwin_snobal = smrf_out.thermal.sel(x=snotel_sites.Irwin.lon, y=snotel_sites.Irwin.lat, method='nearest').compute()\n",
    "irwin_snobal = irwin_snobal.squeeze(['x', 'y']).compute()"
   ]
  },
  {
   "cell_type": "markdown",
   "id": "fe0042ac-aa04-48f5-a512-a8bba6fdd623",
   "metadata": {},
   "source": [
    "### Schofield "
   ]
  },
  {
   "cell_type": "code",
   "execution_count": null,
   "id": "ddd4705c-9b3b-4e12-9596-64699238a282",
   "metadata": {},
   "outputs": [],
   "source": [
    "schofield_snobal_hrrr.hvplot(label='HRRR thermal').opts(**HV_PLOT_OPTS) * schofield_snobal.hvplot(label='SMRF thermal') "
   ]
  },
  {
   "cell_type": "markdown",
   "id": "4dcdce18-ee58-4df3-9a40-aa4f447fa256",
   "metadata": {},
   "source": [
    "### Butte"
   ]
  },
  {
   "cell_type": "code",
   "execution_count": null,
   "id": "2aeef0ea-a2a6-4562-aaa8-d104478a3170",
   "metadata": {},
   "outputs": [],
   "source": [
    "butte_snobal_hrrr.hvplot(label='HRRR thermal').opts(**HV_PLOT_OPTS) * butte_snobal.hvplot(label='SMRF thermal') "
   ]
  },
  {
   "cell_type": "markdown",
   "id": "b9f8a688-8205-4ac5-82c2-a5d195e31860",
   "metadata": {},
   "source": [
    "### Taylor "
   ]
  },
  {
   "cell_type": "code",
   "execution_count": null,
   "id": "39ecf683-d0e1-4cb0-a6ad-a5baeddfadac",
   "metadata": {},
   "outputs": [],
   "source": [
    "taylor_snobal_hrrr.hvplot(label='HRRR thermal').opts(**HV_PLOT_OPTS) * taylor_snobal.hvplot(label='SMRF thermal') "
   ]
  },
  {
   "cell_type": "markdown",
   "id": "e979f5c6-8a8b-4e98-acf2-ddf9e8df1793",
   "metadata": {},
   "source": [
    "### Irwin"
   ]
  },
  {
   "cell_type": "code",
   "execution_count": null,
   "id": "26d48869-e379-4642-a2ad-917c7219d777",
   "metadata": {},
   "outputs": [],
   "source": [
    "irwin_snobal_hrrr.hvplot(label='HRRR thermal').opts(**HV_PLOT_OPTS) * irwin_snobal.hvplot(label='SMRF thermal') "
   ]
  },
  {
   "cell_type": "markdown",
   "id": "dee51df0-4933-4795-976e-a0822ad57dd3",
   "metadata": {},
   "source": [
    "### Rolling (daily) "
   ]
  },
  {
   "cell_type": "code",
   "execution_count": null,
   "id": "7a1c04ab-9619-4615-9900-cd292e167218",
   "metadata": {},
   "outputs": [],
   "source": [
    "(schofield_snobal_hrrr.rolling(time=24, center=True).mean().hvplot(label='HRRR Schofield').opts(**HV_PLOT_OPTS) * \\\n",
    "butte_snobal_hrrr.rolling(time=24, center=True).mean().hvplot(label='HRRR Butte') * \\\n",
    "taylor_snobal_hrrr.rolling(time=24, center=True).mean().hvplot(label='HRRR Taylor')* \\\n",
    "irwin_snobal_hrrr.rolling(time=24, center=True).mean().hvplot(label='HRRR Irwin') + \\\n",
    "schofield_snobal.rolling(time=24, center=True).mean().hvplot(label='SMRF Schofield').opts(**HV_PLOT_OPTS) * \\\n",
    "butte_snobal.rolling(time=24, center=True).mean().hvplot(label='SMRF Butte') * \\\n",
    "taylor_snobal.rolling(time=24, center=True).mean().hvplot(label='SMRF Taylor') * \\\n",
    "irwin_snobal.rolling(time=24, center=True).mean().hvplot(label='SMRF Irwin')).cols(1)"
   ]
  },
  {
   "cell_type": "code",
   "execution_count": null,
   "id": "c5d8fda7-365f-40d2-b452-020832faf909",
   "metadata": {},
   "outputs": [],
   "source": []
  }
 ],
 "metadata": {
  "language_info": {
   "name": "python"
  }
 },
 "nbformat": 4,
 "nbformat_minor": 5
}
