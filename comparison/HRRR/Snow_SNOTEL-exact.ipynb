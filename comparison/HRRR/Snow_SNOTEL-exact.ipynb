{
 "cells": [
  {
   "cell_type": "code",
   "execution_count": null,
   "id": "b5ec6710-7d9c-4f9d-96c5-04127e8d494b",
   "metadata": {},
   "outputs": [],
   "source": [
    "import xarray as xr\n",
    "import hvplot.xarray\n",
    "import holoviews as hv\n",
    "import numpy as np\n",
    "import pandas as pd\n",
    "\n",
    "import matplotlib.pyplot as plt\n",
    "import matplotlib.dates as mdates\n",
    "import matplotlib.patches as mpatches\n",
    "import matplotlib.ticker as mticker\n",
    "from matplotlib.offsetbox import AnchoredText\n",
    "\n",
    "from snobedo.lib.dask_utils import start_cluster, client_ip_and_port\n",
    "from snobedo.snotel import SnotelLocations, CsvParser\n",
    "\n",
    "from common import SNOBAL_DIR, DATA_DIR, SNOTEL_DIR, COARSEN_OPTS, \\\n",
    "    use_hvplot, HV_PLOT_OPTS, BOKEH_FONT, LEGEND_OPTS, LINE_STYLE"
   ]
  },
  {
   "cell_type": "code",
   "execution_count": null,
   "id": "6611973b-d39d-4a87-859a-6154439c5d76",
   "metadata": {},
   "outputs": [],
   "source": [
    "client = start_cluster(8, 24)\n",
    "client_ip_and_port(client)"
   ]
  },
  {
   "cell_type": "markdown",
   "id": "c1263950-dc32-4bc2-be48-4e98d6775469",
   "metadata": {},
   "source": [
    "## SNOTEL "
   ]
  },
  {
   "cell_type": "code",
   "execution_count": null,
   "id": "b8b60116-8df6-49ba-af52-64d0df0adda8",
   "metadata": {},
   "outputs": [],
   "source": [
    "year = 2022\n",
    "water_year = f'wy{year}'\n",
    "date_range = np.datetime64(f'{year - 1}-10-20'), np.datetime64(f'{year}-06-29')"
   ]
  },
  {
   "cell_type": "code",
   "execution_count": null,
   "id": "0fbd72e9-7eb3-40f9-8399-bd98931ab84d",
   "metadata": {},
   "outputs": [],
   "source": [
    "snotel_sites = SnotelLocations()\n",
    "snotel_sites.load_from_json(SNOTEL_DIR / 'site-locations/snotel_sites.json')"
   ]
  },
  {
   "cell_type": "code",
   "execution_count": null,
   "id": "b7d5ea30-f08b-46fb-ac9b-4a808fac0e93",
   "metadata": {},
   "outputs": [],
   "source": [
    "schofield_snotel_csv = pd.concat([\n",
    "    CsvParser.file(\n",
    "        SNOTEL_DIR / water_year / f'Schofield/usda-csv/{year}-Schofield-Pass.csv',\n",
    "    )\n",
    "])\n",
    "\n",
    "butte_snotel_csv = pd.concat([\n",
    "    CsvParser.file(\n",
    "        SNOTEL_DIR /water_year  / f'Butte/usda-csv/{year}-Butte.csv',\n",
    "    ),\n",
    "])\n",
    "\n",
    "taylor_snotel_csv = pd.concat([\n",
    "    CsvParser.file(\n",
    "        SNOTEL_DIR / water_year / f'Taylor/usda-csv/{year}-Upper-Taylor.csv',\n",
    "    )\n",
    "])"
   ]
  },
  {
   "cell_type": "code",
   "execution_count": null,
   "id": "d6321243-bcf2-4b04-8709-18e24beaa968",
   "metadata": {},
   "outputs": [],
   "source": [
    "irwin_csv = pd.concat([\n",
    "    CsvParser.file(\n",
    "        SNOTEL_DIR / water_year / f'Irwin/usda-csv/{year}-Irwin.csv',\n",
    "    )\n",
    "])\n",
    "\n",
    "irwin_csv['Depth(m)'] = irwin_csv['Depth(m)'] / 10"
   ]
  },
  {
   "cell_type": "markdown",
   "id": "806375bd-36c1-4361-aa08-6ad9ed724691",
   "metadata": {},
   "source": [
    "## Model"
   ]
  },
  {
   "cell_type": "code",
   "execution_count": null,
   "id": "4cb581c7-8930-4b17-b34b-6e27619dfaff",
   "metadata": {},
   "outputs": [],
   "source": [
    "solar_HRRR = xr.open_mfdataset(\n",
    "    f'{SNOBAL_DIR}/{water_year}/erw_hrrr_solar/run*/snow.nc',\n",
    "    parallel=True, chunks={'time': -1},\n",
    "    preprocess=lambda ds: ds['thickness']\n",
    ")\n",
    "\n",
    "butte_snobal_hrrr = solar_HRRR.sel(x=snotel_sites.Butte.lon, y=snotel_sites.Butte.lat, method='nearest').compute()\n",
    "schofield_snobal_hrrr = solar_HRRR.sel(x=snotel_sites.Schofield.lon, y=snotel_sites.Schofield.lat, method='nearest').compute()\n",
    "taylor_snobal_hrrr = solar_HRRR.sel(x=snotel_sites.Taylor.lon, y=snotel_sites.Taylor.lat, method='nearest').compute()\n",
    "irwin_snobal_hrrr = solar_HRRR.sel(x=snotel_sites.Irwin.lon, y=snotel_sites.Irwin.lat, method='nearest').compute()\n",
    "\n",
    "del solar_HRRR"
   ]
  },
  {
   "cell_type": "code",
   "execution_count": null,
   "id": "8e2a2101-943a-438e-b7fc-b75afcae0736",
   "metadata": {},
   "outputs": [],
   "source": [
    "solar_HRRR = xr.open_mfdataset(\n",
    "    f'{SNOBAL_DIR}/{water_year}/erw_hrrr_solar_modis/run*/snow.nc',\n",
    "    parallel=True, chunks={'time': -1},\n",
    "    preprocess=lambda ds: ds['thickness']\n",
    ")\n",
    "\n",
    "butte_snobal_hrrr_modis = solar_HRRR.sel(x=snotel_sites.Butte.lon, y=snotel_sites.Butte.lat, method='nearest').compute()\n",
    "schofield_snobal_hrrr_modis = solar_HRRR.sel(x=snotel_sites.Schofield.lon, y=snotel_sites.Schofield.lat, method='nearest').compute()\n",
    "taylor_snobal_hrrr_modis = solar_HRRR.sel(x=snotel_sites.Taylor.lon, y=snotel_sites.Taylor.lat, method='nearest').compute()\n",
    "irwin_snobal_hrrr_modis = solar_HRRR.sel(x=snotel_sites.Irwin.lon, y=snotel_sites.Irwin.lat, method='nearest').compute()\n",
    "\n",
    "del solar_HRRR"
   ]
  },
  {
   "cell_type": "code",
   "execution_count": null,
   "id": "910aaeb8-327e-414b-96ee-29f9a745c62a",
   "metadata": {},
   "outputs": [],
   "source": [
    "solar_SMRF = xr.open_mfdataset(\n",
    "    f'{SNOBAL_DIR}/{water_year}/erw/run*/snow.nc',\n",
    "    preprocess=lambda ds: ds['thickness'],\n",
    "    parallel=True, chunks={'time': -1},\n",
    ")\n",
    "\n",
    "butte_snobal = solar_SMRF.sel(x=snotel_sites.Butte.lon, y=snotel_sites.Butte.lat, method='nearest').compute()\n",
    "schofield_snobal = solar_SMRF.sel(x=snotel_sites.Schofield.lon, y=snotel_sites.Schofield.lat, method='nearest').compute()\n",
    "taylor_snobal = solar_SMRF.sel(x=snotel_sites.Taylor.lon, y=snotel_sites.Taylor.lat, method='nearest').compute()\n",
    "irwin_snobal = solar_SMRF.sel(x=snotel_sites.Irwin.lon, y=snotel_sites.Irwin.lat, method='nearest').compute()\n",
    "\n",
    "del solar_SMRF"
   ]
  },
  {
   "cell_type": "code",
   "execution_count": null,
   "id": "2757c805-7c1c-4a0a-a031-e59eb8ef9547",
   "metadata": {},
   "outputs": [],
   "source": [
    "client.shutdown()"
   ]
  },
  {
   "cell_type": "markdown",
   "id": "ff7d2d69-29ed-4e27-b554-ea4ed73ed789",
   "metadata": {},
   "source": [
    "# Matplotlib "
   ]
  },
  {
   "cell_type": "code",
   "execution_count": null,
   "id": "c8d1f447-8468-4161-a800-3d4fc4a16ed1",
   "metadata": {},
   "outputs": [],
   "source": [
    "STATION_LABEL = 'Station'\n",
    "COLORS = {\n",
    "        'HRRR-MODIS': 'cornflowerblue',\n",
    "        'HRRR': 'lightcoral',\n",
    "        'Time-Decay': 'sandybrown',\n",
    "        STATION_LABEL: 'seagreen',    \n",
    "}\n",
    "\n",
    "def plot_site(data, ax, site_name):\n",
    "    for key in data:\n",
    "        if key == STATION_LABEL:\n",
    "            continue\n",
    "        \n",
    "        ax.plot(\n",
    "            data[key].time,\n",
    "            data[key].data.flatten(),\n",
    "            label=key, \n",
    "            color=COLORS[key], \n",
    "            alpha=0.9, lw=1.25\n",
    "        )\n",
    "    ax.plot(\n",
    "        data[STATION_LABEL].index,\n",
    "        data[STATION_LABEL].values,\n",
    "        label=key, \n",
    "        color=COLORS[STATION_LABEL], \n",
    "        alpha=0.9, lw=1.25\n",
    "    ) \n",
    "    \n",
    "    ax.set_ylabel(r'$\\Delta$ Snow Depth (m)')\n",
    "\n",
    "    ax.tick_params(axis='x', which='minor', tick1On=False, tick2On=False)\n",
    "\n",
    "    ax.set_xlim([plot_range[0], plot_range[-1]])\n",
    "    ax.set_yticks(np.arange(0, 4))\n",
    "    ax.set_ylim(bottom=-0.1, top=3.3)\n",
    "            \n",
    "    at = AnchoredText(\n",
    "        site_name, \n",
    "        prop=dict(size=10), \n",
    "        frameon=True, \n",
    "        loc='upper right', \n",
    "        pad=0.3, \n",
    "        borderpad=0.25,\n",
    "    )\n",
    "    at.patch.set_boxstyle(\"round\", pad=0., rounding_size=0.2)\n",
    "    at.patch.set(edgecolor='lightgrey')\n",
    "    ax.add_artist(at)"
   ]
  },
  {
   "cell_type": "code",
   "execution_count": null,
   "id": "af3f7e0c-33dc-4aec-bc0a-5aee68f08cf1",
   "metadata": {},
   "outputs": [],
   "source": [
    "figure_opts = dict(figsize=(7,6), dpi=300,)\n",
    "plot_range = pd.date_range(start=f'{year - 1}-10-01', periods=11, freq='MS')\n",
    "xTicks = mdates.DateFormatter('%b')"
   ]
  },
  {
   "cell_type": "code",
   "execution_count": null,
   "id": "067a0d4b-1a43-4a01-9d0a-809d3ad51a44",
   "metadata": {},
   "outputs": [],
   "source": [
    "fig, axes = plt.subplots(2, 1, sharex=True, **figure_opts)\n",
    "fig.set_facecolor('whitesmoke')\n",
    "plt.subplots_adjust(hspace=0.05)\n",
    "\n",
    "plot_site(\n",
    "    {\n",
    "        'HRRR-MODIS': butte_snobal_hrrr_modis['thickness'],\n",
    "        'HRRR': butte_snobal_hrrr['thickness'],\n",
    "        'Time-Decay': butte_snobal['thickness'],\n",
    "        STATION_LABEL: butte_snotel_csv['Depth(m)'],\n",
    "    },\n",
    "    axes[0],\n",
    "    'Butte'\n",
    ")\n",
    "aso_marker=dict(label='ASO', marker='o', c='black', s=10)\n",
    "axes[0].scatter(\n",
    "    [np.datetime64('2022-04-21'), np.datetime64('2022-05-18')],\n",
    "    [0.53, 0.03],\n",
    "    **aso_marker\n",
    ")\n",
    "\n",
    "plot_site(\n",
    "    {\n",
    "        'HRRR-MODIS': schofield_snobal_hrrr_modis['thickness'],\n",
    "        'HRRR': schofield_snobal_hrrr['thickness'],\n",
    "        'Time-Decay': schofield_snobal['thickness'],\n",
    "        STATION_LABEL: schofield_snotel_csv['Depth(m)'],\n",
    "    },\n",
    "    axes[1],\n",
    "    'Schofield Pass'\n",
    ")\n",
    "axes[1].scatter( [], [], **aso_marker)\n",
    "\n",
    "axes[1].xaxis.set_major_locator(mdates.MonthLocator())\n",
    "axes[1].xaxis.set_minor_locator(mdates.MonthLocator(bymonthday=16))\n",
    "axes[1].xaxis.set_major_formatter(mticker.NullFormatter())\n",
    "axes[1].xaxis.set_minor_formatter(xTicks)\n",
    "axes[1].tick_params(axis='x', which='minor', pad=-0.5)\n",
    "\n",
    "at = AnchoredText(\n",
    "    f'Water Year {year}', \n",
    "    prop=dict(size=10), \n",
    "    frameon=False, \n",
    "    loc='upper left', \n",
    "    pad=0.3, \n",
    "    borderpad=0.25,\n",
    ")\n",
    "axes[0].add_artist(at)\n",
    "axes[1].legend(\n",
    "    frameon=False,\n",
    "    bbox_to_anchor=(0.95, -0.125),\n",
    "    ncol=5,\n",
    "    borderaxespad=0.15, \n",
    "    fontsize=8\n",
    ");"
   ]
  },
  {
   "cell_type": "markdown",
   "id": "38467822-68ee-4c55-98bc-424ecfa8e53a",
   "metadata": {},
   "source": [
    "# HV plot"
   ]
  },
  {
   "cell_type": "markdown",
   "id": "32aca517-5923-47a4-acb1-748c3dab0f8a",
   "metadata": {},
   "source": [
    "## SNOTEL "
   ]
  },
  {
   "cell_type": "code",
   "execution_count": null,
   "id": "d363a818-2602-4833-b14f-6d4d877786fb",
   "metadata": {},
   "outputs": [],
   "source": [
    "use_hvplot()"
   ]
  },
  {
   "cell_type": "code",
   "execution_count": null,
   "id": "3575754c-1434-42c0-9b7c-cc5a1e75158b",
   "metadata": {},
   "outputs": [],
   "source": [
    "hv.output(fig='auto', dpi=300)\n",
    "\n",
    "HV_PLOT_OPTS['ylabel'] = 'Snow Depth (m)'\n",
    "HV_PLOT_OPTS['xlabel'] = f'Water Year {year}'\n",
    "\n",
    "y_lim = (-0.1, 3.5)\n",
    "SNOTEL_LINE=dict(line_width=3)"
   ]
  },
  {
   "cell_type": "code",
   "execution_count": null,
   "id": "1ebf67da-a080-410a-b5c2-72be4fe3ca25",
   "metadata": {},
   "outputs": [],
   "source": [
    "butte_snobal_hrrr_modis.thickness.squeeze(['x', 'y']).hvplot(label='HRRR + MODIS').opts(\n",
    "    title='Butte', xlim=date_range, ylim=y_lim, **LINE_STYLE, **HV_PLOT_OPTS, **BOKEH_FONT,\n",
    ") * \\\n",
    "butte_snobal_hrrr.thickness.squeeze(['x', 'y']).hvplot(label='HRRR DSWRF', **LINE_STYLE) * \\\n",
    "butte_snobal.thickness.squeeze(['x', 'y']).hvplot(label='Time-Decay', **LINE_STYLE) *\\\n",
    "butte_snotel_csv['Depth(m)'].plot(label='Station', **SNOTEL_LINE) * \\\n",
    "hv.Scatter([(np.datetime64('2022-04-21'), 0.53)], label='ASO Depth').opts(color='k', size=10) * \\\n",
    "hv.Scatter([(np.datetime64('2022-05-18'), 0.03)], label='ASO Depth').opts(color='k', size=10)"
   ]
  },
  {
   "cell_type": "code",
   "execution_count": null,
   "id": "36e1d964-cf82-4b58-8807-94660771f468",
   "metadata": {},
   "outputs": [],
   "source": [
    "(schofield_snobal_hrrr_modis.thickness.squeeze(['x', 'y']).hvplot(label='HRRR + MODIS').opts(\n",
    "    title='Schofield Pass', ylim=y_lim, **LINE_STYLE, **HV_PLOT_OPTS, **BOKEH_FONT\n",
    ") * \\\n",
    "schofield_snobal_hrrr.thickness.squeeze(['x', 'y']).hvplot(label='HRRR DSWRF', **LINE_STYLE) * \\\n",
    "schofield_snobal.thickness.squeeze(['x', 'y']).hvplot(label='SMRF Time-Decay Albedo', **LINE_STYLE) * \\\n",
    "schofield_snotel_csv['Depth(m)'].plot(label='Station', **SNOTEL_LINE)).opts(show_legend=False,)"
   ]
  },
  {
   "cell_type": "markdown",
   "id": "ebc0d0c8-73d3-43e3-a483-74765f11724b",
   "metadata": {},
   "source": [
    "### Upper Taylor "
   ]
  },
  {
   "cell_type": "code",
   "execution_count": null,
   "id": "5bf4aa3c-6834-4d32-97e1-d66de0a6bd9a",
   "metadata": {},
   "outputs": [],
   "source": [
    "taylor_snobal_hrrr_modis.thickness.squeeze(['x', 'y']).hvplot(label='HRRR + MODIS (v03)').opts(\n",
    "    title='Upper Taylor', xlim=date_range, ylim=y_lim, **LINE_STYLE, **HV_PLOT_OPTS\n",
    ") * \\\n",
    "taylor_snobal_hrrr.thickness.squeeze(['x', 'y']).hvplot(label='HRRR DSWF', **LINE_STYLE) * \\\n",
    "taylor_snobal.thickness.squeeze(['x', 'y']).hvplot(label='SMRF Time-Decay Albedo', **LINE_STYLE) * \\\n",
    "taylor_snotel_csv['Depth(m)'].plot(label='Station', **SNOTEL_LINE)"
   ]
  },
  {
   "cell_type": "markdown",
   "id": "5488888e-fe87-458e-bb93-d83440b22903",
   "metadata": {},
   "source": [
    "### Irwin "
   ]
  },
  {
   "cell_type": "markdown",
   "id": "3b4fcc5c-5cb6-4280-81df-de1f9d88edc0",
   "metadata": {},
   "source": [
    "***NOTE***: Irwin guide is not a SNOTEL station and does not have a QA/QC end of day value. Using a 'rolling daily' window to plot"
   ]
  },
  {
   "cell_type": "code",
   "execution_count": null,
   "id": "e021862c-1d41-43bc-b03a-899a6cf43c96",
   "metadata": {},
   "outputs": [],
   "source": [
    "irwin_snobal_hrrr_modis.thickness.squeeze(['x', 'y']).hvplot(label='HRRR + MODIS (v03)').opts(\n",
    "    title='Irwin Guide', xlim=date_range, ylim=y_lim, **LINE_STYLE, **HV_PLOT_OPTS\n",
    ") * \\\n",
    "irwin_snobal_hrrr.thickness.squeeze(['x', 'y']).hvplot(label='HRRR DSWRF', **LINE_STYLE) * \\\n",
    "irwin_snobal.thickness.squeeze(['x', 'y']).hvplot(label='SMRF Time-Decay Albedo', **LINE_STYLE) * \\\n",
    "irwin_csv['Depth(m)'].rolling('1D').mean().hvplot(label='Station', **SNOTEL_LINE)"
   ]
  }
 ],
 "metadata": {
  "language_info": {
   "name": "python"
  }
 },
 "nbformat": 4,
 "nbformat_minor": 5
}
