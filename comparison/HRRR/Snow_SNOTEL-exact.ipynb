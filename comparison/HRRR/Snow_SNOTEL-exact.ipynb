{
 "cells": [
  {
   "cell_type": "code",
   "execution_count": null,
   "id": "b5ec6710-7d9c-4f9d-96c5-04127e8d494b",
   "metadata": {},
   "outputs": [],
   "source": [
    "import xarray as xr\n",
    "import hvplot.xarray\n",
    "import holoviews as hv\n",
    "import numpy as np\n",
    "import pandas as pd\n",
    "\n",
    "from snobedo.lib.dask_utils import start_cluster, client_ip_and_port\n",
    "from snobedo.snotel import SnotelLocations, CsvParser\n",
    "\n",
    "from common import SNOBAL_DIR, DATA_DIR, SNOTEL_DIR, COARSEN_OPTS, \\\n",
    "    use_hvplot, HV_PLOT_OPTS, BOKEH_FONT, LEGEND_OPTS, LINE_STYLE"
   ]
  },
  {
   "cell_type": "code",
   "execution_count": null,
   "id": "d363a818-2602-4833-b14f-6d4d877786fb",
   "metadata": {},
   "outputs": [],
   "source": [
    "use_hvplot()"
   ]
  },
  {
   "cell_type": "code",
   "execution_count": null,
   "id": "6611973b-d39d-4a87-859a-6154439c5d76",
   "metadata": {},
   "outputs": [],
   "source": [
    "client = start_cluster(8, 24)\n",
    "client_ip_and_port(client)"
   ]
  },
  {
   "cell_type": "markdown",
   "id": "c1263950-dc32-4bc2-be48-4e98d6775469",
   "metadata": {},
   "source": [
    "## SNOTEL "
   ]
  },
  {
   "cell_type": "code",
   "execution_count": null,
   "id": "0fbd72e9-7eb3-40f9-8399-bd98931ab84d",
   "metadata": {},
   "outputs": [],
   "source": [
    "snotel_sites = SnotelLocations()\n",
    "snotel_sites.load_from_json(SNOTEL_DIR / 'site-locations/snotel_sites.json')"
   ]
  },
  {
   "cell_type": "code",
   "execution_count": null,
   "id": "b7d5ea30-f08b-46fb-ac9b-4a808fac0e93",
   "metadata": {},
   "outputs": [],
   "source": [
    "schofield_snotel_csv = pd.concat([\n",
    "    CsvParser.file(\n",
    "        SNOTEL_DIR / 'wy2021' / f'Schofield/usda-csv/2021-Schofield-Pass.csv',\n",
    "    ),\n",
    "    # CsvParser.file(\n",
    "    #     SNOTEL_DIR / 'wy2022' / f'Schofield/usda-csv/2022-Schofield-Pass.csv',\n",
    "    # )\n",
    "])\n",
    "\n",
    "butte_snotel_csv = pd.concat([\n",
    "    CsvParser.file(\n",
    "        SNOTEL_DIR / 'wy2021'  / f'Butte/usda-csv/2021-Butte.csv',\n",
    "    ),\n",
    "    # CsvParser.file(\n",
    "    #     SNOTEL_DIR / 'wy2022'  / f'Butte/usda-csv/2022-Butte.csv',\n",
    "    # ),\n",
    "])\n",
    "\n",
    "taylor_snotel_csv = pd.concat([\n",
    "    CsvParser.file(\n",
    "        SNOTEL_DIR / 'wy2021' / f'Taylor/usda-csv/2021-Upper-Taylor.csv',\n",
    "    ),\n",
    "    # CsvParser.file(\n",
    "    #     SNOTEL_DIR / 'wy2022' / f'Taylor/usda-csv/2022-Upper-Taylor.csv',\n",
    "    # )\n",
    "])"
   ]
  },
  {
   "cell_type": "code",
   "execution_count": null,
   "id": "d6321243-bcf2-4b04-8709-18e24beaa968",
   "metadata": {},
   "outputs": [],
   "source": [
    "irwin_csv = pd.concat([\n",
    "    CsvParser.file(\n",
    "        SNOTEL_DIR / 'wy2021' / f'Irwin/usda-csv/2021-Irwin.csv',\n",
    "    ),\n",
    "    #     CsvParser.file(\n",
    "    #     SNOTEL_DIR / 'wy2022' / f'Irwin/usda-csv/2022-Irwin.csv',\n",
    "    # )\n",
    "])\n",
    "\n",
    "irwin_csv['Depth(m)'] = irwin_csv['Depth(m)'] / 10"
   ]
  },
  {
   "cell_type": "markdown",
   "id": "806375bd-36c1-4361-aa08-6ad9ed724691",
   "metadata": {},
   "source": [
    "## Model"
   ]
  },
  {
   "cell_type": "code",
   "execution_count": null,
   "id": "b8b60116-8df6-49ba-af52-64d0df0adda8",
   "metadata": {},
   "outputs": [],
   "source": [
    "water_year = 'wy2021'"
   ]
  },
  {
   "cell_type": "code",
   "execution_count": null,
   "id": "ba3aeb0a-27cf-4cc0-91db-2c9bcd2366ed",
   "metadata": {},
   "outputs": [],
   "source": [
    "solar_HRRR = xr.open_mfdataset(\n",
    "    f'{SNOBAL_DIR}/{water_year}/erw_hrrr_solar/run*/snow.nc',\n",
    "    parallel=True, chunks={'time': -1},\n",
    "    preprocess=lambda ds: ds['thickness']\n",
    ")\n",
    "\n",
    "butte_snobal_hrrr = solar_HRRR.sel(x=snotel_sites.Butte.lon, y=snotel_sites.Butte.lat, method='nearest').compute()\n",
    "schofield_snobal_hrrr = solar_HRRR.sel(x=snotel_sites.Schofield.lon, y=snotel_sites.Schofield.lat, method='nearest').compute()\n",
    "taylor_snobal_hrrr = solar_HRRR.sel(x=snotel_sites.Taylor.lon, y=snotel_sites.Taylor.lat, method='nearest').compute()\n",
    "irwin_snobal_hrrr = solar_HRRR.sel(x=snotel_sites.Irwin.lon, y=snotel_sites.Irwin.lat, method='nearest').compute()\n",
    "\n",
    "del solar_HRRR"
   ]
  },
  {
   "cell_type": "code",
   "execution_count": null,
   "id": "39b57b56-ff37-43bb-b4dd-bf18aafbcd44",
   "metadata": {},
   "outputs": [],
   "source": [
    "solar_HRRR = xr.open_mfdataset(\n",
    "    f'{SNOBAL_DIR}/{water_year}/erw_hrrr_solar_modis/run*/snow.nc',\n",
    "    parallel=True, chunks={'time': -1},\n",
    "    preprocess=lambda ds: ds['thickness']\n",
    ")\n",
    "\n",
    "butte_snobal_hrrr_modis = solar_HRRR.sel(x=snotel_sites.Butte.lon, y=snotel_sites.Butte.lat, method='nearest').compute()\n",
    "schofield_snobal_hrrr_modis = solar_HRRR.sel(x=snotel_sites.Schofield.lon, y=snotel_sites.Schofield.lat, method='nearest').compute()\n",
    "taylor_snobal_hrrr_modis = solar_HRRR.sel(x=snotel_sites.Taylor.lon, y=snotel_sites.Taylor.lat, method='nearest').compute()\n",
    "irwin_snobal_hrrr_modis = solar_HRRR.sel(x=snotel_sites.Irwin.lon, y=snotel_sites.Irwin.lat, method='nearest').compute()\n",
    "\n",
    "del solar_HRRR"
   ]
  },
  {
   "cell_type": "code",
   "execution_count": null,
   "id": "1503f496-d177-42f4-83f5-310405c9f3cc",
   "metadata": {},
   "outputs": [],
   "source": [
    "solar_SMRF = xr.open_mfdataset(\n",
    "    f'{SNOBAL_DIR}/{water_year}/erw/run*/snow.nc',\n",
    "    preprocess=lambda ds: ds['thickness'],\n",
    "    parallel=True, chunks={'time': -1},\n",
    ")\n",
    "\n",
    "butte_snobal = solar_SMRF.sel(x=snotel_sites.Butte.lon, y=snotel_sites.Butte.lat, method='nearest').compute()\n",
    "schofield_snobal = solar_SMRF.sel(x=snotel_sites.Schofield.lon, y=snotel_sites.Schofield.lat, method='nearest').compute()\n",
    "taylor_snobal = solar_SMRF.sel(x=snotel_sites.Taylor.lon, y=snotel_sites.Taylor.lat, method='nearest').compute()\n",
    "irwin_snobal = solar_SMRF.sel(x=snotel_sites.Irwin.lon, y=snotel_sites.Irwin.lat, method='nearest').compute()\n",
    "\n",
    "del solar_SMRF"
   ]
  },
  {
   "cell_type": "markdown",
   "id": "32aca517-5923-47a4-acb1-748c3dab0f8a",
   "metadata": {},
   "source": [
    "# SNOTEL "
   ]
  },
  {
   "cell_type": "code",
   "execution_count": null,
   "id": "3575754c-1434-42c0-9b7c-cc5a1e75158b",
   "metadata": {},
   "outputs": [],
   "source": [
    "hv.output(fig='auto', dpi=300)\n",
    "\n",
    "HV_PLOT_OPTS['ylabel'] = 'Snow Depth (m)'\n",
    "HV_PLOT_OPTS['xlabel'] = 'Water Year 2021'\n",
    "\n",
    "x_lim = (np.datetime64('2020-10-20'), np.datetime64('2021-06-25'))\n",
    "y_lim = (-0.25, 2.5)"
   ]
  },
  {
   "cell_type": "markdown",
   "id": "cc5b150a-1821-40b3-8b24-23be6c80fb32",
   "metadata": {},
   "source": [
    "## Butte "
   ]
  },
  {
   "cell_type": "markdown",
   "id": "449f1b68-0db8-46cd-a587-1ed360978ad1",
   "metadata": {},
   "source": [
    "## Schofield Pass "
   ]
  },
  {
   "cell_type": "code",
   "execution_count": null,
   "id": "95560919-fc72-4b47-a89a-9e6849a0c5cf",
   "metadata": {},
   "outputs": [],
   "source": [
    "butte_plot = butte_snobal_hrrr_modis.thickness.squeeze(['x', 'y']).hvplot(label='HRRR Shortwave + MODIS Albedo').opts(\n",
    "    title='Butte', **LINE_STYLE, **BOKEH_FONT, **HV_PLOT_OPTS\n",
    ") * \\\n",
    "butte_snobal_hrrr.thickness.squeeze(['x', 'y']).hvplot(label='HRRR Shortwave', **LINE_STYLE) * \\\n",
    "butte_snobal.thickness.squeeze(['x', 'y']).hvplot(label='Time-Decay Albedo', **LINE_STYLE) * \\\n",
    "butte_snotel_csv['Depth(m)'].plot(label='Station Measurements', **LINE_STYLE)\n",
    "\n",
    "schofield_plot = schofield_snobal_hrrr_modis.thickness.squeeze(['x', 'y']).hvplot(label='HRRR Shortwave + MODIS Albedo').opts(\n",
    "    title='Schofield Pass', **LINE_STYLE, **BOKEH_FONT, **HV_PLOT_OPTS\n",
    ") * \\\n",
    "schofield_snobal_hrrr.thickness.squeeze(['x', 'y']).hvplot(label='HRRR Shortwave', **LINE_STYLE) * \\\n",
    "schofield_snobal.thickness.squeeze(['x', 'y']).hvplot(label='Time-Decay Albedo', **LINE_STYLE) * \\\n",
    "schofield_snotel_csv['Depth(m)'].plot(label='Station Measurements', **LINE_STYLE)\n",
    "\n",
    "(\n",
    "    butte_plot.opts(xlim=x_lim, ylim=y_lim, **LEGEND_OPTS) + schofield_plot.opts(xlim=x_lim, ylim=y_lim, **LEGEND_OPTS)\n",
    ").cols(1)"
   ]
  },
  {
   "cell_type": "markdown",
   "id": "ebc0d0c8-73d3-43e3-a483-74765f11724b",
   "metadata": {},
   "source": [
    "## Upper Taylor "
   ]
  },
  {
   "cell_type": "code",
   "execution_count": null,
   "id": "5bf4aa3c-6834-4d32-97e1-d66de0a6bd9a",
   "metadata": {},
   "outputs": [],
   "source": [
    "taylor_snobal_hrrr_modis.thickness.squeeze(['x', 'y']).hvplot(label='HRRR + MODIS').opts(\n",
    "    title='Upper Taylor', **LINE_STYLE, **BOKEH_FONT, **HV_PLOT_OPTS\n",
    ") * \\\n",
    "taylor_snobal_hrrr.thickness.squeeze(['x', 'y']).hvplot(label='HRRR') * \\\n",
    "taylor_snobal.thickness.squeeze(['x', 'y']).hvplot(label='SMRF') * \\\n",
    "taylor_snotel_csv['Depth(m)'].plot(label='Station')"
   ]
  },
  {
   "cell_type": "markdown",
   "id": "5488888e-fe87-458e-bb93-d83440b22903",
   "metadata": {},
   "source": [
    "## Irwin "
   ]
  },
  {
   "cell_type": "markdown",
   "id": "3b4fcc5c-5cb6-4280-81df-de1f9d88edc0",
   "metadata": {},
   "source": [
    "***NOTE***: Irwin guide is not a SNOTEL station and does not have a QA/QC end of day value. Using a 'rolling daily' window to plot"
   ]
  },
  {
   "cell_type": "code",
   "execution_count": null,
   "id": "e021862c-1d41-43bc-b03a-899a6cf43c96",
   "metadata": {},
   "outputs": [],
   "source": [
    "irwin_snobal_hrrr_modis.thickness.squeeze(['x', 'y']).hvplot(label='HRRR + MODIS').opts(\n",
    "    title='Irwin Guide', **LINE_STYLE, **BOKEH_FONT, **HV_PLOT_OPTS\n",
    ") * \\\n",
    "irwin_snobal_hrrr.thickness.squeeze(['x', 'y']).hvplot(label='HRRR') * \\\n",
    "irwin_snobal.thickness.squeeze(['x', 'y']).hvplot(label='SMRF') * \\\n",
    "irwin_csv['Depth(m)'].rolling('1D').mean().hvplot(label='Station')"
   ]
  },
  {
   "cell_type": "code",
   "execution_count": null,
   "id": "2757c805-7c1c-4a0a-a031-e59eb8ef9547",
   "metadata": {},
   "outputs": [],
   "source": [
    "client.shutdown()"
   ]
  }
 ],
 "metadata": {
  "language_info": {
   "name": "python"
  }
 },
 "nbformat": 4,
 "nbformat_minor": 5
}
