{
 "cells": [
  {
   "cell_type": "code",
   "execution_count": null,
   "id": "dbbe2d76-bc0d-4118-aba7-dc6650691c56",
   "metadata": {},
   "outputs": [],
   "source": [
    "import xarray as xr\n",
    "import hvplot.xarray\n",
    "import holoviews as hv\n",
    "import numpy as np\n",
    "import pandas as pd\n",
    "\n",
    "from snobedo.lib.dask_utils import start_cluster, client_ip_and_port\n",
    "from snobedo.snotel import SnotelLocations, CsvParser\n",
    "\n",
    "from common import SHARED_STORE, SNOBAL_DIR, SNOTEL_DIR, DATA_DIR, COARSEN_OPTS, HV_PLOT_OPTS"
   ]
  },
  {
   "cell_type": "code",
   "execution_count": null,
   "id": "6611973b-d39d-4a87-859a-6154439c5d76",
   "metadata": {},
   "outputs": [],
   "source": [
    "client = start_cluster(6, 24)\n",
    "client_ip_and_port(client)"
   ]
  },
  {
   "cell_type": "code",
   "execution_count": null,
   "id": "8415d61b-4222-49a5-8c45-ccb112e6d1a9",
   "metadata": {},
   "outputs": [],
   "source": [
    "water_year = 'wy2021'"
   ]
  },
  {
   "cell_type": "markdown",
   "id": "8bc0ecbb-b8d8-4985-8ef0-6698bd66a2de",
   "metadata": {},
   "source": [
    "## SNOTEL "
   ]
  },
  {
   "cell_type": "code",
   "execution_count": null,
   "id": "5b7636c0-e232-47e6-8094-4b45d695fbdb",
   "metadata": {},
   "outputs": [],
   "source": [
    "snotel_sites = SnotelLocations()\n",
    "snotel_sites.load_from_json(SNOTEL_DIR / 'site-locations/snotel_sites.json')"
   ]
  },
  {
   "cell_type": "markdown",
   "id": "6170a7a2-c556-4349-8add-b9b85d1e41b5",
   "metadata": {},
   "source": [
    "# Clouds"
   ]
  },
  {
   "cell_type": "code",
   "execution_count": null,
   "id": "31ea8040-62ab-4326-99ca-405fc74327be",
   "metadata": {},
   "outputs": [],
   "source": [
    "HV_PLOT_OPTS['ylabel'] = 'Cover: 0 -> Full; 1 -> Clear'"
   ]
  },
  {
   "cell_type": "code",
   "execution_count": null,
   "id": "a652ef3c-cda2-41c4-b6e9-80fd592b4889",
   "metadata": {},
   "outputs": [],
   "source": [
    "HRRR_cloud = xr.open_mfdataset(\n",
    "    f'{SHARED_STORE}/erw_isnobal/{water_year}/erw_hrrr_solar/run*/cloud_factor.nc',\n",
    "    parallel=True, chunks={'time': 24, 'y' :10, 'x': 10}\n",
    ")\n",
    "\n",
    "butte_snobal_hrrr = HRRR_cloud.TCDC.sel(x=snotel_sites.Butte.lon, y=snotel_sites.Butte.lat, method='nearest').squeeze(['x', 'y']).compute()\n",
    "schofield_snobal_hrrr = HRRR_cloud.TCDC.sel(x=snotel_sites.Schofield.lon, y=snotel_sites.Schofield.lat, method='nearest').squeeze(['x', 'y']).compute()\n",
    "taylor_snobal_hrrr = HRRR_cloud.TCDC.sel(x=snotel_sites.Taylor.lon, y=snotel_sites.Taylor.lat, method='nearest').squeeze(['x', 'y']).compute()\n",
    "\n",
    "del HRRR_cloud"
   ]
  },
  {
   "cell_type": "code",
   "execution_count": null,
   "id": "c472a38a-dca5-48cf-ae80-b91f6e7e012d",
   "metadata": {},
   "outputs": [],
   "source": [
    "smrf_out = xr.open_mfdataset(\n",
    "    f'{SHARED_STORE}/erw_isnobal/{water_year}/erw/run*/smrf_20*.nc',\n",
    "    parallel=True, chunks={'time': 24, 'y' :10, 'x': 10},\n",
    "    drop_variables=['precip_temp', 'percent_snow', 'precip', 'snow_density', 'storm_days', 'wind_speed', 'vapor_pressure']\n",
    ")"
   ]
  },
  {
   "cell_type": "code",
   "execution_count": null,
   "id": "e7847ff3-f7a7-4471-ab5c-f9d3dc9204b4",
   "metadata": {},
   "outputs": [],
   "source": [
    "butte_snobal = smrf_out.cloud_factor.sel(x=snotel_sites.Butte.lon, y=snotel_sites.Butte.lat, method='nearest').compute()\n",
    "butte_snobal = butte_snobal.squeeze(['x', 'y']).compute()\n",
    "schofield_snobal = smrf_out.cloud_factor.sel(x=snotel_sites.Schofield.lon, y=snotel_sites.Schofield.lat, method='nearest').compute()\n",
    "schofield_snobal = schofield_snobal.squeeze(['x', 'y']).compute()\n",
    "taylor_snobal = smrf_out.cloud_factor.sel(x=snotel_sites.Taylor.lon, y=snotel_sites.Taylor.lat, method='nearest').compute()\n",
    "taylor_snobal = taylor_snobal.squeeze(['x', 'y']).compute()"
   ]
  },
  {
   "cell_type": "markdown",
   "id": "f018533a-d767-41af-8b5d-25d4031d82c1",
   "metadata": {},
   "source": [
    "### Schofield "
   ]
  },
  {
   "cell_type": "code",
   "execution_count": null,
   "id": "d954039e-5f60-4ace-9a4c-44db1373950b",
   "metadata": {},
   "outputs": [],
   "source": [
    "schofield_snobal_hrrr.hvplot(label='HRRR clouds').opts(**HV_PLOT_OPTS) * schofield_snobal.hvplot(label='SMRF clouds') "
   ]
  },
  {
   "cell_type": "markdown",
   "id": "301822a5-2ee4-4006-9298-ca979f86c2c4",
   "metadata": {},
   "source": [
    "### Butte"
   ]
  },
  {
   "cell_type": "code",
   "execution_count": null,
   "id": "6f4d77b7-7189-4543-978f-bb56292676e2",
   "metadata": {},
   "outputs": [],
   "source": [
    "butte_snobal_hrrr.hvplot(label='HRRR clouds').opts(**HV_PLOT_OPTS) * butte_snobal.hvplot(label='SMRF clouds') "
   ]
  },
  {
   "cell_type": "markdown",
   "id": "737652a1-5821-400b-9dab-a7ff9098c185",
   "metadata": {},
   "source": [
    "### Taylor "
   ]
  },
  {
   "cell_type": "code",
   "execution_count": null,
   "id": "5345edd7-b010-4e35-bdd6-4f180e4bea11",
   "metadata": {},
   "outputs": [],
   "source": [
    "taylor_snobal_hrrr.hvplot(label='HRRR clouds').opts(**HV_PLOT_OPTS) * taylor_snobal.hvplot(label='SMRF clouds') "
   ]
  },
  {
   "cell_type": "markdown",
   "id": "c79bb713-6da1-4382-9cf0-5cfb493bc526",
   "metadata": {},
   "source": [
    "### Rolling (daily) "
   ]
  },
  {
   "cell_type": "code",
   "execution_count": null,
   "id": "1b22ee70-56c6-42a1-b9f7-b9cf0cea26ca",
   "metadata": {},
   "outputs": [],
   "source": [
    "(schofield_snobal_hrrr.rolling(time=24, center=True).mean().hvplot(label='HRRR Schofield').opts(**HV_PLOT_OPTS) * \\\n",
    "butte_snobal_hrrr.rolling(time=24, center=True).mean().hvplot(label='HRRR Butte') * \\\n",
    "taylor_snobal_hrrr.rolling(time=24, center=True).mean().hvplot(label='HRRR Taylor') + \\\n",
    "schofield_snobal.rolling(time=24, center=True).mean().hvplot(label='SMRF Schofield').opts(**HV_PLOT_OPTS) * \\\n",
    "butte_snobal.rolling(time=24, center=True).mean().hvplot(label='SMRF Butte')  * \\\n",
    "taylor_snobal.rolling(time=24, center=True).mean().hvplot(label='SMRF Taylor')).cols(1)"
   ]
  }
 ],
 "metadata": {
  "language_info": {
   "name": "python"
  }
 },
 "nbformat": 4,
 "nbformat_minor": 5
}
