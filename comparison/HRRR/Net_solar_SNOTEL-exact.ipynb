{
 "cells": [
  {
   "cell_type": "code",
   "execution_count": null,
   "id": "dbbe2d76-bc0d-4118-aba7-dc6650691c56",
   "metadata": {},
   "outputs": [],
   "source": [
    "import xarray as xr\n",
    "import hvplot.xarray\n",
    "import holoviews as hv\n",
    "import numpy as np\n",
    "import pandas as pd\n",
    "\n",
    "from snobedo.lib.dask_utils import start_cluster, client_ip_and_port\n",
    "from snobedo.snotel import SnotelLocations, CsvParser\n",
    "\n",
    "from common import SHARED_STORE, SNOBAL_DIR, SNOTEL_DIR, DATA_DIR, COARSEN_OPTS, HV_PLOT_OPTS"
   ]
  },
  {
   "cell_type": "code",
   "execution_count": null,
   "id": "6611973b-d39d-4a87-859a-6154439c5d76",
   "metadata": {},
   "outputs": [],
   "source": [
    "client = start_cluster(6, 24)\n",
    "client_ip_and_port(client)"
   ]
  },
  {
   "cell_type": "markdown",
   "id": "8bc0ecbb-b8d8-4985-8ef0-6698bd66a2de",
   "metadata": {},
   "source": [
    "## SNOTEL "
   ]
  },
  {
   "cell_type": "code",
   "execution_count": null,
   "id": "5b7636c0-e232-47e6-8094-4b45d695fbdb",
   "metadata": {},
   "outputs": [],
   "source": [
    "snotel_sites = SnotelLocations()\n",
    "snotel_sites.load_from_json(SNOTEL_DIR / 'site-locations/snotel_sites.json')"
   ]
  },
  {
   "cell_type": "markdown",
   "id": "55026ab9-f889-4938-a344-a81d241c391b",
   "metadata": {},
   "source": [
    "## Model run with HRRR clouds and solar"
   ]
  },
  {
   "cell_type": "code",
   "execution_count": null,
   "id": "d43ee010-c382-4fe7-a335-c57f1fbf1a15",
   "metadata": {},
   "outputs": [],
   "source": [
    "water_year = 'wy2021'\n",
    "\n",
    "HRRR_solar = xr.open_mfdataset(\n",
    "    f'{SHARED_STORE}/erw_isnobal/{water_year}/erw_hrrr_solar/run*/net_solar.nc',\n",
    "    parallel=True, chunks={'time': 24, 'y' :10, 'x': 10},\n",
    "    drop_variables=['DSWRF', 'illumination_angle', 'zenith', 'azimuth', 'albedo', 'albedo_vis', 'albedo_ir'],\n",
    ")\n",
    "\n",
    "butte_snobal_hrrr = HRRR_solar.sel(x=snotel_sites.Butte.lon, y=snotel_sites.Butte.lat, method='nearest').squeeze(['x', 'y']).compute()\n",
    "schofield_snobal_hrrr = HRRR_solar.sel(x=snotel_sites.Schofield.lon, y=snotel_sites.Schofield.lat, method='nearest').squeeze(['x', 'y']).compute()\n",
    "taylor_snobal_hrrr = HRRR_solar.sel(x=snotel_sites.Taylor.lon, y=snotel_sites.Taylor.lat, method='nearest').squeeze(['x', 'y']).compute()\n",
    "irwin_snobal_hrrr = HRRR_solar.sel(x=snotel_sites.Irwin.lon, y=snotel_sites.Irwin.lat, method='nearest').squeeze(['x', 'y']).compute()\n",
    "\n",
    "# water_year = 'wy2022'\n",
    "# HRRR_solar = xr.open_mfdataset(\n",
    "#     f'{SHARED_STORE}/erw_isnobal/{water_year}/erw_hrrr_solar/run*/net_solar.nc',\n",
    "#     parallel=True, chunks={'time': 24, 'y' :10, 'x': 10},\n",
    "#     drop_variables=['DSWRF', 'illumination_angle', 'zenith', 'azimuth', 'albedo', 'albedo_vis', 'albedo_ir'],\n",
    "# )\n",
    "\n",
    "# butte_snobal_hrrr = xr.merge([\n",
    "#     butte_snobal_hrrr,\n",
    "#     HRRR_solar.sel(x=snotel_sites.Butte.lon, y=snotel_sites.Butte.lat, method='nearest').squeeze(['x', 'y']).compute()\n",
    "# ])\n",
    "# schofield_snobal_hrrr = xr.merge([\n",
    "#     schofield_snobal_hrrr,\n",
    "#     HRRR_solar.sel(x=snotel_sites.Schofield.lon, y=snotel_sites.Schofield.lat, method='nearest').squeeze(['x', 'y']).compute()\n",
    "# ])\n",
    "# taylor_snobal_hrrr = xr.merge([\n",
    "#     taylor_snobal_hrrr,    \n",
    "#     HRRR_solar.sel(x=snotel_sites.Taylor.lon, y=snotel_sites.Taylor.lat, method='nearest').squeeze(['x', 'y']).compute()\n",
    "# ])\n",
    "# irwin_snobal_hrrr = xr.merge([\n",
    "#     irwin_snobal_hrrr,\n",
    "#     HRRR_solar.sel(x=snotel_sites.Irwin.lon, y=snotel_sites.Irwin.lat, method='nearest').squeeze(['x', 'y']).compute()\n",
    "# ])\n",
    "\n",
    "del HRRR_solar"
   ]
  },
  {
   "cell_type": "markdown",
   "id": "968b7879-fb88-4719-8a10-11a16c96c5a1",
   "metadata": {},
   "source": [
    "## Model run with HRRR clouds and solar + MODIS albedo"
   ]
  },
  {
   "cell_type": "code",
   "execution_count": null,
   "id": "25fde574-037b-408d-ad5b-b23afa17ab33",
   "metadata": {},
   "outputs": [],
   "source": [
    "water_year = 'wy2021'\n",
    "\n",
    "HRRR_solar = xr.open_mfdataset(\n",
    "    f'{SHARED_STORE}/erw_isnobal/{water_year}/erw_hrrr_solar_modis/run*/net_solar.nc',\n",
    "    parallel=True, chunks={'time': 24, 'y' :10, 'x': 10},\n",
    "    drop_variables=['DSWRF', 'illumination_angle', 'albedo'],\n",
    ")\n",
    "\n",
    "butte_snobal_hrrr_modis = HRRR_solar.sel(x=snotel_sites.Butte.lon, y=snotel_sites.Butte.lat, method='nearest').squeeze(['x', 'y']).compute()\n",
    "schofield_snobal_hrrr_modis = HRRR_solar.sel(x=snotel_sites.Schofield.lon, y=snotel_sites.Schofield.lat, method='nearest').squeeze(['x', 'y']).compute()\n",
    "taylor_snobal_hrrr_modis = HRRR_solar.sel(x=snotel_sites.Taylor.lon, y=snotel_sites.Taylor.lat, method='nearest').squeeze(['x', 'y']).compute()\n",
    "irwin_snobal_hrrr_modis = HRRR_solar.sel(x=snotel_sites.Irwin.lon, y=snotel_sites.Irwin.lat, method='nearest').squeeze(['x', 'y']).compute()\n",
    "\n",
    "# water_year = 'wy2022'\n",
    "# HRRR_solar = xr.open_mfdataset(\n",
    "#     f'{SHARED_STORE}/erw_isnobal/{water_year}/erw_hrrr_solar/run*/net_solar.nc',\n",
    "#     parallel=True, chunks={'time': 24, 'y' :10, 'x': 10},\n",
    "#     drop_variables=['DSWRF', 'illumination_angle', 'zenith', 'azimuth', 'albedo', 'albedo_vis', 'albedo_ir'],\n",
    "# )\n",
    "\n",
    "# butte_snobal_hrrr = xr.merge([\n",
    "#     butte_snobal_hrrr,\n",
    "#     HRRR_solar.sel(x=snotel_sites.Butte.lon, y=snotel_sites.Butte.lat, method='nearest').squeeze(['x', 'y']).compute()\n",
    "# ])\n",
    "# schofield_snobal_hrrr = xr.merge([\n",
    "#     schofield_snobal_hrrr,\n",
    "#     HRRR_solar.sel(x=snotel_sites.Schofield.lon, y=snotel_sites.Schofield.lat, method='nearest').squeeze(['x', 'y']).compute()\n",
    "# ])\n",
    "# taylor_snobal_hrrr = xr.merge([\n",
    "#     taylor_snobal_hrrr,    \n",
    "#     HRRR_solar.sel(x=snotel_sites.Taylor.lon, y=snotel_sites.Taylor.lat, method='nearest').squeeze(['x', 'y']).compute()\n",
    "# ])\n",
    "# irwin_snobal_hrrr = xr.merge([\n",
    "#     irwin_snobal_hrrr,\n",
    "#     HRRR_solar.sel(x=snotel_sites.Irwin.lon, y=snotel_sites.Irwin.lat, method='nearest').squeeze(['x', 'y']).compute()\n",
    "# ])\n",
    "\n",
    "del HRRR_solar"
   ]
  },
  {
   "cell_type": "code",
   "execution_count": null,
   "id": "00255959-9224-4cc8-89eb-66e4d8d64726",
   "metadata": {},
   "outputs": [],
   "source": [
    "water_year = 'wy2021'"
   ]
  },
  {
   "cell_type": "markdown",
   "id": "cd9c9bf2-eca2-430a-a091-238091f5467d",
   "metadata": {},
   "source": [
    "## Model with SMRF clouds and solar "
   ]
  },
  {
   "cell_type": "code",
   "execution_count": null,
   "id": "8743e27a-57e3-47ca-95f0-c8347a6924da",
   "metadata": {},
   "outputs": [],
   "source": [
    "smrf_eb = xr.open_mfdataset(\n",
    "    f'{SHARED_STORE}/erw_isnobal/{water_year}/erw/run*/smrf_energy*.nc',\n",
    "    parallel=True, chunks={'time': 24, 'y' :10, 'x': 10},\n",
    "    drop_variables=['albedo_ir', 'albedo_vis'],\n",
    ")"
   ]
  },
  {
   "cell_type": "markdown",
   "id": "7676cd46-623d-429b-9a2c-f1f73b512047",
   "metadata": {},
   "source": [
    "# Net Solar"
   ]
  },
  {
   "cell_type": "code",
   "execution_count": null,
   "id": "dfed0d56-c564-45e4-82b4-e026087980b9",
   "metadata": {},
   "outputs": [],
   "source": [
    "HV_PLOT_OPTS['ylabel'] = 'Net Solar W/m^2'"
   ]
  },
  {
   "cell_type": "code",
   "execution_count": null,
   "id": "3447bea1-8ad7-46db-8f04-7e0746d312e5",
   "metadata": {},
   "outputs": [],
   "source": [
    "butte_snobal_hrrr = butte_snobal_hrrr.net_solar\n",
    "schofield_snobal_hrrr = schofield_snobal_hrrr.net_solar\n",
    "taylor_snobal_hrrr = taylor_snobal_hrrr.net_solar\n",
    "irwin_snobal_hrrr = irwin_snobal_hrrr.net_solar"
   ]
  },
  {
   "cell_type": "code",
   "execution_count": null,
   "id": "afbdf664-7c02-451d-b41b-fa4247efc293",
   "metadata": {},
   "outputs": [],
   "source": [
    "butte_snobal_hrrr_modis = butte_snobal_hrrr_modis.net_solar\n",
    "schofield_snobal_hrrr_modis = schofield_snobal_hrrr_modis.net_solar\n",
    "taylor_snobal_hrrr_modis = taylor_snobal_hrrr_modis.net_solar\n",
    "irwin_snobal_hrrr_modis = irwin_snobal_hrrr_modis.net_solar"
   ]
  },
  {
   "cell_type": "code",
   "execution_count": null,
   "id": "92bb5434-e29d-4e15-842e-5246b93dd782",
   "metadata": {},
   "outputs": [],
   "source": [
    "butte_snobal = smrf_eb.net_solar.sel(x=snotel_sites.Butte.lon, y=snotel_sites.Butte.lat, method='nearest').squeeze(['x', 'y']).compute()\n",
    "schofield_snobal = smrf_eb.net_solar.sel(x=snotel_sites.Schofield.lon, y=snotel_sites.Schofield.lat, method='nearest').squeeze(['x', 'y']).compute()\n",
    "taylor_snobal = smrf_eb.net_solar.sel(x=snotel_sites.Taylor.lon, y=snotel_sites.Taylor.lat, method='nearest').squeeze(['x', 'y']).compute()\n",
    "irwin_snobal = smrf_eb.net_solar.sel(x=snotel_sites.Irwin.lon, y=snotel_sites.Irwin.lat, method='nearest').squeeze(['x', 'y']).compute()"
   ]
  },
  {
   "cell_type": "markdown",
   "id": "2401b55a-76a4-4035-b595-e55636d3633c",
   "metadata": {},
   "source": [
    "### Schofield "
   ]
  },
  {
   "cell_type": "code",
   "execution_count": null,
   "id": "70fe5558-6852-411b-8b79-4519c68ba0de",
   "metadata": {},
   "outputs": [],
   "source": [
    "schofield_snobal_hrrr.hvplot(label='HRRR solar').opts(**HV_PLOT_OPTS) * \\\n",
    "schofield_snobal_hrrr_modis.hvplot(label='HRRR + MODIS') * \\\n",
    "schofield_snobal.hvplot(label='SMRF solar') "
   ]
  },
  {
   "cell_type": "markdown",
   "id": "14eb89d5-f680-4b74-b939-5566d1ca3b7a",
   "metadata": {},
   "source": [
    "### Butte"
   ]
  },
  {
   "cell_type": "code",
   "execution_count": null,
   "id": "a2575cee-f583-43cc-b532-b2787cb522d6",
   "metadata": {},
   "outputs": [],
   "source": [
    "butte_snobal_hrrr.hvplot(label='HRRR solar').opts(**HV_PLOT_OPTS) * \\\n",
    "butte_snobal_hrrr.hvplot(label='HRRR + MODIS') * \\\n",
    "butte_snobal.hvplot(label='SMRF solar') "
   ]
  },
  {
   "cell_type": "markdown",
   "id": "a8bd8f64-99c7-4080-b424-b11b3b81be21",
   "metadata": {},
   "source": [
    "### Taylor "
   ]
  },
  {
   "cell_type": "code",
   "execution_count": null,
   "id": "936efae2-7e43-4132-8b23-df9611b29bcc",
   "metadata": {},
   "outputs": [],
   "source": [
    "taylor_snobal_hrrr.hvplot(label='HRRR solar').opts(**HV_PLOT_OPTS) * \\\n",
    "taylor_snobal_hrrr_modis.hvplot(label='HRRR + MODIS') * \\\n",
    "taylor_snobal.hvplot(label='SMRF solar') "
   ]
  },
  {
   "cell_type": "markdown",
   "id": "e32c74a3-4cc3-4c81-adb7-cefda67183ad",
   "metadata": {},
   "source": [
    "### Irwin "
   ]
  },
  {
   "cell_type": "code",
   "execution_count": null,
   "id": "9debab0a-4c79-4f18-ab50-783174a69109",
   "metadata": {},
   "outputs": [],
   "source": [
    "import hvplot.pandas\n",
    "pd.options.plotting.backend = 'holoviews'"
   ]
  },
  {
   "cell_type": "code",
   "execution_count": null,
   "id": "ab3af64e-1c77-442c-8b79-4bae8d4dd5bb",
   "metadata": {},
   "outputs": [],
   "source": [
    "PD_OPTS = dict(\n",
    "    parse_dates=True,\n",
    "    index_col=0,\n",
    "    names=['Temp', 'VIS_IN', 'NIR_IN', 'VIS_OUT', 'NIR_OUT'],\n",
    "    header=0,\n",
    ")\n",
    "\n",
    "irwin_pyra = pd.concat([\n",
    "    pd.read_csv(DATA_DIR / 'Snotel/wy2021/Irwin/2021-Irwin.csv', **PD_OPTS),\n",
    "    # pd.read_csv(DATA_DIR / 'Snotel/wy2022/Irwin/2022-Irwin.csv', **PD_OPTS),\n",
    "])\n",
    "\n",
    "irwin_pyra = irwin_pyra.fillna({'VIS_IN': 0}).astype(np.float64)\n",
    "\n",
    "# Filter unrealistic values\n",
    "irwin_pyra[irwin_pyra < 0] = 0\n",
    "irwin_pyra[irwin_pyra > 1300] = 1300\n",
    "## no OUTCOMING when there is no INCOMING\n",
    "irwin_pyra.loc[irwin_pyra['VIS_IN'] <= 0, 'VIS_OUT'] = 0\n",
    "irwin_pyra.loc[irwin_pyra['NIR_IN'] <= 0, 'NIR_OUT'] = 0\n",
    "## no OUTCOMING larger than INCOMING\n",
    "irwin_pyra['VIS_OUT'] = irwin_pyra.apply(lambda r: r['VIS_OUT'] if r['VIS_OUT'] < r['VIS_IN'] else r['VIS_IN'], axis=1)\n",
    "irwin_pyra['NIR_OUT'] = irwin_pyra.apply(lambda r: r['NIR_OUT'] if r['NIR_OUT'] < r['NIR_IN'] else r['NIR_IN'], axis=1)"
   ]
  },
  {
   "cell_type": "code",
   "execution_count": null,
   "id": "73cb4732-f9e4-48af-b659-1f47776a45b7",
   "metadata": {},
   "outputs": [],
   "source": [
    "ROLL_WINDOW=96 # Data is measured every 15 mins"
   ]
  },
  {
   "cell_type": "code",
   "execution_count": null,
   "id": "96ad492f-3fb0-45d6-9be2-af6e2d491675",
   "metadata": {},
   "outputs": [],
   "source": [
    "irwin_pyra['net_solar'] = (\n",
    "    irwin_pyra['VIS_IN'].rolling(ROLL_WINDOW).mean().interpolate('time') + \n",
    "    irwin_pyra['NIR_IN'].rolling(ROLL_WINDOW).mean().interpolate('time') - \n",
    "    irwin_pyra['VIS_OUT'].rolling(ROLL_WINDOW).mean().interpolate('time') - \n",
    "    irwin_pyra['NIR_OUT'].rolling(ROLL_WINDOW).mean().interpolate('time')\n",
    ")"
   ]
  },
  {
   "cell_type": "markdown",
   "id": "17372ae1-c62e-40d2-a6d9-3b2d6ce65b70",
   "metadata": {},
   "source": [
    "#### Station data "
   ]
  },
  {
   "cell_type": "markdown",
   "id": "cb30125a-a6f9-4e41-aa4a-f26783dcb036",
   "metadata": {},
   "source": [
    "(\n",
    "    irwin_pyra['VIS_IN'].rolling(ROLL_WINDOW).mean().interpolate('time') - \n",
    "    irwin_pyra['VIS_OUT'].rolling(ROLL_WINDOW).mean().interpolate('time')\n",
    ").hvplot(label='VIS 1', **HV_PLOT_OPTS) * \\\n",
    "(\n",
    "    irwin_pyra['NIR_IN'].rolling(ROLL_WINDOW).mean().interpolate('time') - \n",
    "    irwin_pyra['NIR_OUT'].rolling(ROLL_WINDOW).mean().interpolate('time')\n",
    ").hvplot(label='NIR', **HV_PLOT_OPTS)"
   ]
  },
  {
   "cell_type": "markdown",
   "id": "892fb14c-dbca-4c04-82e7-c50798dea1c4",
   "metadata": {},
   "source": [
    "#### HRRR vs SMRF "
   ]
  },
  {
   "cell_type": "code",
   "execution_count": null,
   "id": "fb16d816-e3c9-409f-93f9-b681d11a70a3",
   "metadata": {},
   "outputs": [],
   "source": [
    "irwin_snobal_hrrr.hvplot(label='HRRR solar').opts(**HV_PLOT_OPTS) * \\\n",
    "irwin_snobal_hrrr_modis.hvplot(label='HRRR + MODIS') * \\\n",
    "irwin_snobal.hvplot(label='SMRF solar') "
   ]
  },
  {
   "cell_type": "markdown",
   "id": "6f345edb-3aac-41db-9efd-9fe151860b60",
   "metadata": {},
   "source": [
    "### HRRR vs SMRF vs Irwin station "
   ]
  },
  {
   "cell_type": "markdown",
   "id": "c8e08807-1936-43fb-a2fc-79de1217542a",
   "metadata": {},
   "source": [
    "Station data is a daily rolling window and interpolated over the time axis"
   ]
  },
  {
   "cell_type": "code",
   "execution_count": null,
   "id": "12ea281e-b2ce-4a7a-9e97-45fe17898c88",
   "metadata": {},
   "outputs": [],
   "source": [
    "irwin_snobal_hrrr.rolling(time=24, center=True).mean().hvplot(label='HRRR', **HV_PLOT_OPTS) * \\\n",
    "irwin_snobal_hrrr_modis.rolling(time=24, center=True).mean().hvplot(label='HRRR + MODIS') * \\\n",
    "irwin_snobal.rolling(time=24, center=True).mean().hvplot(label='SMRF') * \\\n",
    "irwin_pyra['net_solar'].hvplot(label='Irwin Guides')"
   ]
  },
  {
   "cell_type": "markdown",
   "id": "0cae2bb9-ef45-4d1d-b18b-018cd780e6f2",
   "metadata": {},
   "source": [
    "### Rolling (daily "
   ]
  },
  {
   "cell_type": "code",
   "execution_count": null,
   "id": "2cc4ce0d-a659-4f30-b6ed-319c62037cef",
   "metadata": {},
   "outputs": [],
   "source": [
    "(schofield_snobal_hrrr.rolling(time=24, center=True).mean().hvplot(label='HRRR Schofield').opts(**HV_PLOT_OPTS) * \\\n",
    "butte_snobal_hrrr.rolling(time=24, center=True).mean().hvplot(label='HRRR Butte') * \\\n",
    "taylor_snobal_hrrr.rolling(time=24, center=True).mean().hvplot(label='HRRR Taylor') * \\\n",
    "irwin_snobal_hrrr.rolling(time=24, center=True).mean().hvplot(label='HRRR Irwin') + \\\n",
    "schofield_snobal_hrrr_modis.rolling(time=24, center=True).mean().hvplot(label='HRRR + MODIS Schofield').opts(**HV_PLOT_OPTS) * \\\n",
    "butte_snobal_hrrr_modis.rolling(time=24, center=True).mean().hvplot(label='HRRR + MODIS Butte') * \\\n",
    "taylor_snobal_hrrr_modis.rolling(time=24, center=True).mean().hvplot(label='HRRR + MODIS Taylor') * \\\n",
    "irwin_snobal_hrrr_modis.rolling(time=24, center=True).mean().hvplot(label='HRRR + MODIS Irwin') + \\\n",
    "schofield_snobal.rolling(time=24, center=True).mean().hvplot(label='SMRF Schofield').opts(**HV_PLOT_OPTS) * \\\n",
    "butte_snobal.rolling(time=24, center=True).mean().hvplot(label='SMRF Butte')  * \\\n",
    "taylor_snobal.rolling(time=24, center=True).mean().hvplot(label='SMRF Taylor') * \\\n",
    "irwin_snobal.rolling(time=24, center=True).mean().hvplot(label='SMRF Irwin')).cols(1)"
   ]
  }
 ],
 "metadata": {
  "language_info": {
   "name": "python"
  }
 },
 "nbformat": 4,
 "nbformat_minor": 5
}
