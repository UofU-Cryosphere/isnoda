{
 "cells": [
  {
   "cell_type": "code",
   "execution_count": null,
   "id": "dbbe2d76-bc0d-4118-aba7-dc6650691c56",
   "metadata": {},
   "outputs": [],
   "source": [
    "import xarray as xr\n",
    "import numpy as np\n",
    "import pandas as pd\n",
    "\n",
    "from snobedo.lib.dask_utils import start_cluster, client_ip_and_port\n",
    "from snobedo.snotel import SnotelLocations, CsvParser\n",
    "\n",
    "from common import SHARED_STORE, SNOBAL_DIR, SNOTEL_DIR, DATA_DIR, COARSEN_OPTS, HV_PLOT_OPTS"
   ]
  },
  {
   "cell_type": "code",
   "execution_count": null,
   "id": "6611973b-d39d-4a87-859a-6154439c5d76",
   "metadata": {},
   "outputs": [],
   "source": [
    "client = start_cluster(8, 24)\n",
    "client_ip_and_port(client)"
   ]
  },
  {
   "cell_type": "code",
   "execution_count": null,
   "id": "28b181dc-9c49-4426-840d-6d7eda9d4f44",
   "metadata": {},
   "outputs": [],
   "source": [
    "year = 2021\n",
    "water_year = f'wy{year}'"
   ]
  },
  {
   "cell_type": "markdown",
   "id": "8bc0ecbb-b8d8-4985-8ef0-6698bd66a2de",
   "metadata": {},
   "source": [
    "## SNOTEL "
   ]
  },
  {
   "cell_type": "code",
   "execution_count": null,
   "id": "5b7636c0-e232-47e6-8094-4b45d695fbdb",
   "metadata": {},
   "outputs": [],
   "source": [
    "snotel_sites = SnotelLocations()\n",
    "snotel_sites.load_from_json(SNOTEL_DIR / 'site-locations/snotel_sites.json')"
   ]
  },
  {
   "cell_type": "markdown",
   "id": "cd9c9bf2-eca2-430a-a091-238091f5467d",
   "metadata": {},
   "source": [
    "## Model with SMRF clouds and solar "
   ]
  },
  {
   "cell_type": "code",
   "execution_count": null,
   "id": "15a2e023-b3ca-4a66-87ad-98dea1f0259c",
   "metadata": {},
   "outputs": [],
   "source": [
    "smrf_eb = xr.open_mfdataset(\n",
    "    f'{SHARED_STORE}/erw_isnobal/{water_year}/erw/run*/smrf_energy*.nc',\n",
    "    parallel=True, chunks={'time': 24}, #, 'y' :10, 'x': 10},\n",
    ")\n",
    "\n",
    "butte_snobal = smrf_eb.net_solar.sel(x=snotel_sites.Butte.lon, y=snotel_sites.Butte.lat, method='nearest').squeeze(['x', 'y']).compute()\n",
    "schofield_snobal = smrf_eb.net_solar.sel(x=snotel_sites.Schofield.lon, y=snotel_sites.Schofield.lat, method='nearest').squeeze(['x', 'y']).compute()\n",
    "taylor_snobal = smrf_eb.net_solar.sel(x=snotel_sites.Taylor.lon, y=snotel_sites.Taylor.lat, method='nearest').squeeze(['x', 'y']).compute()\n",
    "irwin_snobal = smrf_eb.net_solar.sel(x=snotel_sites.Irwin.lon, y=snotel_sites.Irwin.lat, method='nearest').squeeze(['x', 'y']).compute()\n",
    "\n",
    "irwin_snobal_a_ir = smrf_eb.albedo_ir.sel(x=snotel_sites.Irwin.lon, y=snotel_sites.Irwin.lat, method='nearest').squeeze(['x', 'y']).compute()\n",
    "irwin_snobal_a_vis = smrf_eb.albedo_vis.sel(x=snotel_sites.Irwin.lon, y=snotel_sites.Irwin.lat, method='nearest').squeeze(['x', 'y']).compute()\n",
    "irwin_snobal_albedo = (0.67*irwin_snobal_a_vis)+(0.33*irwin_snobal_a_ir)\n",
    "\n",
    "del smrf_eb"
   ]
  },
  {
   "cell_type": "markdown",
   "id": "55026ab9-f889-4938-a344-a81d241c391b",
   "metadata": {},
   "source": [
    "## Model run with HRRR clouds and solar"
   ]
  },
  {
   "cell_type": "code",
   "execution_count": null,
   "id": "ca830cd2-76c3-442c-8d3a-c0b468061cbe",
   "metadata": {},
   "outputs": [],
   "source": [
    "HRRR_solar = xr.open_mfdataset(\n",
    "    f'{SHARED_STORE}/erw_isnobal/{water_year}/erw_hrrr_solar/run*/net_solar.nc',\n",
    "    parallel=True, chunks={'time': 24}, # 'y' :10, 'x': 10},\n",
    "    drop_variables=['DSWRF', 'illumination_angle', 'zenith', 'azimuth', 'albedo_vis', 'albedo_ir'],\n",
    ")\n",
    "\n",
    "butte_snobal_hrrr = HRRR_solar.net_solar.sel(x=snotel_sites.Butte.lon, y=snotel_sites.Butte.lat, method='nearest').squeeze(['x', 'y']).compute()\n",
    "schofield_snobal_hrrr = HRRR_solar.net_solar.sel(x=snotel_sites.Schofield.lon, y=snotel_sites.Schofield.lat, method='nearest').squeeze(['x', 'y']).compute()\n",
    "taylor_snobal_hrrr = HRRR_solar.net_solar.sel(x=snotel_sites.Taylor.lon, y=snotel_sites.Taylor.lat, method='nearest').squeeze(['x', 'y']).compute()\n",
    "irwin_snobal_hrrr = HRRR_solar.net_solar.sel(x=snotel_sites.Irwin.lon, y=snotel_sites.Irwin.lat, method='nearest').squeeze(['x', 'y']).compute()"
   ]
  },
  {
   "cell_type": "markdown",
   "id": "968b7879-fb88-4719-8a10-11a16c96c5a1",
   "metadata": {},
   "source": [
    "## Model run with HRRR clouds and solar + MODIS albedo"
   ]
  },
  {
   "cell_type": "code",
   "execution_count": null,
   "id": "25fde574-037b-408d-ad5b-b23afa17ab33",
   "metadata": {},
   "outputs": [],
   "source": [
    "HRRR_solar = xr.open_mfdataset(\n",
    "    f'{SHARED_STORE}/erw_isnobal/{water_year}/erw_hrrr_solar_modis_cubic/run*/net_solar.nc',\n",
    "    parallel=True, chunks={'time': 24}, # 'y' :10, 'x': 10},\n",
    "    drop_variables=['DSWRF', 'illumination_angle'],\n",
    ")\n",
    "\n",
    "butte_snobal_hrrr_modis = HRRR_solar.net_solar.sel(x=snotel_sites.Butte.lon, y=snotel_sites.Butte.lat, method='nearest').squeeze(['x', 'y']).compute()\n",
    "schofield_snobal_hrrr_modis = HRRR_solar.net_solar.sel(x=snotel_sites.Schofield.lon, y=snotel_sites.Schofield.lat, method='nearest').squeeze(['x', 'y']).compute()\n",
    "taylor_snobal_hrrr_modis = HRRR_solar.net_solar.sel(x=snotel_sites.Taylor.lon, y=snotel_sites.Taylor.lat, method='nearest').squeeze(['x', 'y']).compute()\n",
    "irwin_snobal_hrrr_modis = HRRR_solar.net_solar.sel(x=snotel_sites.Irwin.lon, y=snotel_sites.Irwin.lat, method='nearest').squeeze(['x', 'y']).compute()\n",
    "irwin_snobal_hrrr_modis_albedo = HRRR_solar.albedo.sel(x=snotel_sites.Irwin.lon, y=snotel_sites.Irwin.lat, method='nearest').squeeze(['x', 'y']).compute()/10000\n",
    "\n",
    "del HRRR_solar"
   ]
  },
  {
   "cell_type": "markdown",
   "id": "b8bc3445-2806-4378-9626-58636d25d0b8",
   "metadata": {},
   "source": [
    "## Irwin (Recorded in UTC)"
   ]
  },
  {
   "cell_type": "code",
   "execution_count": null,
   "id": "9e4541a2-e297-4b00-a717-05fdde7cbc07",
   "metadata": {},
   "outputs": [],
   "source": [
    "PD_OPTS = dict(\n",
    "    parse_dates=True,\n",
    "    index_col=0,\n",
    "    names=['Temp', 'VIS_IN', 'NIR_IN', 'VIS_OUT', 'NIR_OUT'],\n",
    "    header=0,\n",
    ")\n",
    "\n",
    "irwin_pyra = pd.concat([\n",
    "    pd.read_csv(DATA_DIR / 'Snotel/wy2021/Irwin/2021-Irwin.csv', **PD_OPTS),\n",
    "    pd.read_csv(DATA_DIR / 'Snotel/wy2022/Irwin/2022-Irwin.csv', **PD_OPTS),\n",
    "])\n",
    "\n",
    "irwin_pyra = irwin_pyra.fillna({'VIS_IN': 0}).astype(np.float64)"
   ]
  },
  {
   "cell_type": "markdown",
   "id": "c4bf226a-a827-41eb-837c-a8000b433286",
   "metadata": {},
   "source": [
    "### Filter unrealistic values"
   ]
  },
  {
   "cell_type": "code",
   "execution_count": null,
   "id": "26afa811-0b05-4bd2-bc5a-e1492b02f929",
   "metadata": {},
   "outputs": [],
   "source": [
    "irwin_pyra[irwin_pyra < 0] = 0\n",
    "## Max possible incoming from the sun\n",
    "irwin_pyra[irwin_pyra > 1300] = 1300\n",
    "## no OUTCOMING when there is no INCOMING\n",
    "irwin_pyra.loc[irwin_pyra['VIS_IN'] <= 0, 'VIS_OUT'] = 0\n",
    "irwin_pyra.loc[irwin_pyra['NIR_IN'] <= 0, 'NIR_OUT'] = 0\n",
    "## no OUTCOMING larger than INCOMING\n",
    "irwin_pyra['VIS_OUT'] = irwin_pyra.apply(lambda r: r['VIS_OUT'] if r['VIS_OUT'] < r['VIS_IN'] else r['VIS_IN'], axis=1)\n",
    "irwin_pyra['NIR_OUT'] = irwin_pyra.apply(lambda r: r['NIR_OUT'] if r['NIR_OUT'] < r['NIR_IN'] else r['NIR_IN'], axis=1)"
   ]
  },
  {
   "cell_type": "markdown",
   "id": "17654e1d-7e66-4022-a7ec-7e35d2b3cfaf",
   "metadata": {},
   "source": [
    "### Reduce measurement spikes\n",
    "Data is measured every 15 mins, averages 8 hours at a time to reduce spikes in data"
   ]
  },
  {
   "cell_type": "code",
   "execution_count": null,
   "id": "3dfbd271-badd-4cbf-a2e5-a1d65645333e",
   "metadata": {},
   "outputs": [],
   "source": [
    "ROLL_WINDOW=32 "
   ]
  },
  {
   "cell_type": "markdown",
   "id": "fb8410ef-0ed0-4279-bcc5-c7b311246826",
   "metadata": {},
   "source": [
    "### Calculate variables of interest "
   ]
  },
  {
   "cell_type": "code",
   "execution_count": null,
   "id": "d1113e91-04b0-476f-af4c-4a2273f635b8",
   "metadata": {},
   "outputs": [],
   "source": [
    "irwin_pyra['net_solar'] = (\n",
    "    irwin_pyra['VIS_IN'] + irwin_pyra['NIR_IN'] - irwin_pyra['VIS_OUT'] - irwin_pyra['NIR_OUT']\n",
    ").rolling(ROLL_WINDOW).mean().interpolate('time')\n",
    "\n",
    "irwin_pyra['albedo'] = (\n",
    "    (0.67 * (irwin_pyra['VIS_OUT'] / irwin_pyra['VIS_IN'])) + (0.33 * (irwin_pyra['NIR_OUT'] / irwin_pyra['NIR_IN']))\n",
    ").rolling(ROLL_WINDOW).mean().interpolate('time')"
   ]
  },
  {
   "cell_type": "markdown",
   "id": "ce31a360-f37e-42d7-b133-45d2b90b4a1f",
   "metadata": {},
   "source": [
    "#### No albedo value higher than 0.94 should be present"
   ]
  },
  {
   "cell_type": "code",
   "execution_count": null,
   "id": "807bda66-05ea-4907-b556-395ff36e7bdc",
   "metadata": {},
   "outputs": [],
   "source": [
    "irwin_pyra.loc[irwin_pyra['albedo'] >= 0.94, 'albedo'] = 0.94"
   ]
  },
  {
   "cell_type": "code",
   "execution_count": null,
   "id": "05bf10fd-3f52-421a-b705-cf6d5a3a4e29",
   "metadata": {},
   "outputs": [],
   "source": [
    "irwin_pyra['solar'] = (irwin_pyra['net_solar'] / (1 - irwin_pyra['albedo']))"
   ]
  },
  {
   "cell_type": "markdown",
   "id": "d5c63b26-d8eb-4ab2-b2c7-c66c55def571",
   "metadata": {},
   "source": [
    "### Filter to 11 AM MST - MODIS overpass"
   ]
  },
  {
   "cell_type": "code",
   "execution_count": null,
   "id": "31bab3aa-93d9-41ea-9507-dcfafdb9b401",
   "metadata": {},
   "outputs": [],
   "source": [
    "irwin_MODIS = irwin_pyra.at_time('18:00')"
   ]
  },
  {
   "cell_type": "markdown",
   "id": "7676cd46-623d-429b-9a2c-f1f73b512047",
   "metadata": {},
   "source": [
    "# Net Solar"
   ]
  },
  {
   "cell_type": "code",
   "execution_count": null,
   "id": "c54019d7-1c1f-41d7-8236-f8437c10aca9",
   "metadata": {},
   "outputs": [],
   "source": [
    "STATION_LABEL = 'Station'\n",
    "\n",
    "COLORS = {\n",
    "        'HRRR-MODIS': 'cornflowerblue',\n",
    "        'HRRR-SC': 'lightcoral',\n",
    "        'Time-Decay': 'sandybrown',\n",
    "        STATION_LABEL: 'seagreen',    \n",
    "}"
   ]
  },
  {
   "cell_type": "code",
   "execution_count": null,
   "id": "1ea6a9b0-389c-4c3e-a817-a2e1f46ec6c5",
   "metadata": {},
   "outputs": [],
   "source": [
    "SNOW_GONE = {\n",
    "    '2021': {\n",
    "        'Butte': {\n",
    "            STATION_LABEL:np.datetime64('2021-05-12'),\n",
    "            'HRRR-MODIS': np.datetime64('2021-05-13'),\n",
    "            'HRRR-SC': np.datetime64('2021-05-15'),\n",
    "            'Time-Decay': np.datetime64('2021-05-30'),\n",
    "        },\n",
    "        'Schofield Pass': {\n",
    "            STATION_LABEL: np.datetime64('2021-06-02'),\n",
    "            'HRRR-MODIS': np.datetime64('2021-06-07'),\n",
    "            'HRRR-SC': np.datetime64('2021-06-04'),\n",
    "            'Time-Decay': np.datetime64('2021-06-17'),\n",
    "        },\n",
    "        'Irwin Study Plot': {\n",
    "            STATION_LABEL: np.datetime64('2021-06-01'),\n",
    "        }\n",
    "    },\n",
    "    '2022': {\n",
    "        'Butte': {\n",
    "            STATION_LABEL:np.datetime64('2022-05-08'),\n",
    "            'HRRR-MODIS': np.datetime64('2022-05-14'),\n",
    "            'HRRR-SC': np.datetime64('2022-05-16'),\n",
    "            'Time-Decay': np.datetime64('2022-06-02'),\n",
    "        },\n",
    "        'Schofield Pass': {\n",
    "            STATION_LABEL: np.datetime64('2022-06-04'),\n",
    "            'HRRR-MODIS': np.datetime64('2022-06-09'),\n",
    "            'HRRR-SC': np.datetime64('2022-06-16'),\n",
    "            'Time-Decay': np.datetime64('2022-07-07'),\n",
    "        },\n",
    "        'Irwin Study Plot': {\n",
    "            STATION_LABEL: np.datetime64('2022-06-01'),\n",
    "            'HRRR-MODIS': np.datetime64('2022-07-08'),\n",
    "            'HRRR-SC': np.datetime64('2022-06-05'),\n",
    "            'Time-Decay': np.datetime64('2022-06-05'),        \n",
    "        }\n",
    "    }\n",
    "}\n",
    "\n",
    "SNOW_ONSET = {\n",
    "    '2021': { \n",
    "        'Butte': np.datetime64('2020-10-25'),\n",
    "        'Schofield Pass': np.datetime64('2020-10-25'),\n",
    "        'Irwin Study Plot': np.datetime64('2020-10-25'),\n",
    "    },\n",
    "    '2022': {\n",
    "        'Butte': np.datetime64('2021-11-01'),\n",
    "        'Schofield Pass': np.datetime64('2021-10-08'),\n",
    "        'Irwin Study Plot': np.datetime64('2021-10-11'),\n",
    "    }\n",
    "}\n",
    "    "
   ]
  },
  {
   "cell_type": "code",
   "execution_count": null,
   "id": "a3d4a819-4591-4e8d-883e-1f3e5985d4f3",
   "metadata": {},
   "outputs": [],
   "source": [
    "def with_snow_at_site(site_name, data):\n",
    "    return data[data.time.dt.hour == 18].where(\n",
    "        data.time >= SNOW_ONSET[str(year)][site_name]\n",
    "    ).where(\n",
    "        data.time <= SNOW_GONE[str(year)][site_name][STATION_LABEL]\n",
    "    )"
   ]
  },
  {
   "cell_type": "code",
   "execution_count": null,
   "id": "8ce2b901-fc47-4e27-825d-df32ac16cf33",
   "metadata": {},
   "outputs": [],
   "source": [
    "def df_with_snow_at_site(site_name, df):\n",
    "    return df[\n",
    "        (df.index >= SNOW_ONSET[str(year)][site_name]) & \\\n",
    "        (df.index <= SNOW_GONE[str(year)][site_name][STATION_LABEL])\n",
    "    ]"
   ]
  },
  {
   "cell_type": "markdown",
   "id": "b7fdbbfe-42db-4064-9786-234c2588b0b9",
   "metadata": {},
   "source": [
    "## Matplotlib "
   ]
  },
  {
   "cell_type": "code",
   "execution_count": null,
   "id": "fe4a688f-afe2-4262-af98-79003ff0d058",
   "metadata": {},
   "outputs": [],
   "source": [
    "import matplotlib.pyplot as plt\n",
    "import matplotlib.dates as mdates\n",
    "import matplotlib.patches as mpatches\n",
    "import matplotlib.ticker as mticker\n",
    "from matplotlib.offsetbox import AnchoredText"
   ]
  },
  {
   "cell_type": "code",
   "execution_count": null,
   "id": "30ef452f-be47-4802-971d-07daac4e6659",
   "metadata": {},
   "outputs": [],
   "source": [
    "def plot_site(data, ax, site_name, y_limit, add_label=False):\n",
    "    print(site_name)\n",
    "    \n",
    "    for key in data: \n",
    "        values = np.nan_to_num(data[key].data.flatten(), copy=False)\n",
    "        \n",
    "        print(f'  {key} Mean: {np.nanmean(values):.2f}')\n",
    "            \n",
    "        ax.plot(\n",
    "            data[key].time,\n",
    "            values,\n",
    "            label=key, \n",
    "            color=COLORS[key], \n",
    "            alpha=0.9, lw=1\n",
    "        )\n",
    "    \n",
    "    ax.set_ylabel(r'Net Solar ($W/m^2$)')\n",
    "\n",
    "    ax.tick_params(axis='x', which='minor', tick1On=False, tick2On=False)\n",
    "\n",
    "    ax.set_xlim([plot_range[0], SNOW_GONE[str(year)][site_name][STATION_LABEL]])\n",
    "    ax.set_yticks(np.arange(0, y_limit +1, 50))\n",
    "    ax.set_ylim(bottom=-0.1, top=y_limit)\n",
    "    ax.yaxis.set_minor_locator(mticker.MultipleLocator(10))\n",
    "    \n",
    "    if add_label:\n",
    "        site_label(site_name, ax)\n",
    "\n",
    "def site_label(site_name, ax):\n",
    "    at = AnchoredText(\n",
    "        site_name, \n",
    "        prop=dict(size=10), \n",
    "        frameon=True, \n",
    "        loc='upper left', \n",
    "        pad=0.3, \n",
    "        borderpad=0.25,\n",
    "    )\n",
    "    at.patch.set_boxstyle(\"round\", pad=0., rounding_size=0.2)\n",
    "    at.patch.set(edgecolor='lightgrey')\n",
    "    ax.add_artist(at)\n",
    "\n",
    "def subplot_letter(letter, axes):\n",
    "    at = AnchoredText(\n",
    "        f\"{letter})\", \n",
    "        prop=dict(size=12), \n",
    "        frameon=False, \n",
    "        loc='upper left', \n",
    "        pad=-0.1, \n",
    "    )\n",
    "    axes.add_artist(at)    \n",
    "    \n",
    "def style_axes(axes):\n",
    "    axes.xaxis.set_major_locator(mdates.MonthLocator())\n",
    "    axes.xaxis.set_minor_locator(mdates.MonthLocator(bymonthday=16))\n",
    "    axes.xaxis.set_major_formatter(mticker.NullFormatter())\n",
    "    axes.xaxis.set_minor_formatter(xTicks)\n",
    "    axes.tick_params(axis='x', which='minor', pad=-0.5)\n",
    "    \n",
    "    axes.legend(\n",
    "        frameon=False,\n",
    "        bbox_to_anchor=(0.75, -0.125),\n",
    "        ncol=4,\n",
    "        borderaxespad=0.15, \n",
    "        fontsize=8\n",
    "    )\n",
    "\n",
    "def set_title(axes):\n",
    "    axes.add_artist(\n",
    "        AnchoredText(\n",
    "            f'Water Year {year}', \n",
    "            prop=dict(size=10), \n",
    "            frameon=False, \n",
    "            loc='upper center', \n",
    "            pad=0.3, \n",
    "            borderpad=0.25,\n",
    "        )\n",
    "    )"
   ]
  },
  {
   "cell_type": "markdown",
   "id": "36c08a21-91a5-4ebd-b351-20b1bfd2b0be",
   "metadata": {},
   "source": [
    "## Net Solar "
   ]
  },
  {
   "cell_type": "code",
   "execution_count": null,
   "id": "cdbb19ea-9619-4671-8559-584fde590d27",
   "metadata": {},
   "outputs": [],
   "source": [
    "figure_opts = dict(figsize=(7,6), dpi=300,)\n",
    "plot_range = pd.date_range(start=SNOW_ONSET[str(year)]['Schofield Pass'], periods=10, freq='MS')\n",
    "xTicks = mdates.DateFormatter('%b')\n",
    "\n",
    "fig, axes = plt.subplots(2, 1, sharex=True, **figure_opts)\n",
    "plt.subplots_adjust(hspace=0.1)\n",
    "\n",
    "MAX_NS = 400 if year == 2021 else 450\n",
    "\n",
    "plot_site(\n",
    "    {\n",
    "        'HRRR-MODIS': with_snow_at_site('Butte', butte_snobal_hrrr_modis),\n",
    "        'HRRR-SC': with_snow_at_site('Butte', butte_snobal_hrrr),\n",
    "        'Time-Decay': with_snow_at_site('Butte', butte_snobal),\n",
    "    },\n",
    "    axes[0],\n",
    "    'Butte',\n",
    "    MAX_NS,\n",
    "    True\n",
    ")\n",
    "\n",
    "plot_site(\n",
    "    {\n",
    "        'HRRR-MODIS': with_snow_at_site('Schofield Pass', schofield_snobal_hrrr_modis),\n",
    "        'HRRR-SC': with_snow_at_site('Schofield Pass', schofield_snobal_hrrr),\n",
    "        'Time-Decay': with_snow_at_site('Schofield Pass', schofield_snobal),\n",
    "    },\n",
    "    axes[1],\n",
    "    'Schofield Pass',\n",
    "    MAX_NS,\n",
    "    True\n",
    ")\n",
    "\n",
    "style_axes(axes[1])\n",
    "set_title(axes[0])"
   ]
  },
  {
   "cell_type": "code",
   "execution_count": null,
   "id": "3d8a53d6-0564-4884-a277-70462f23a3cd",
   "metadata": {},
   "outputs": [],
   "source": [
    "figure_opts = dict(figsize=(7,3.5), dpi=300,)\n",
    "fig, axes = plt.subplots(1, 1, sharex=True, **figure_opts)\n",
    "\n",
    "MAX_NS = 640 if year == 2021 else 620\n",
    "\n",
    "plot_site(\n",
    "    {\n",
    "        'HRRR-MODIS': with_snow_at_site('Irwin Study Plot', irwin_snobal_hrrr_modis),\n",
    "        'HRRR-SC': with_snow_at_site('Irwin Study Plot', irwin_snobal_hrrr),\n",
    "        'Time-Decay': with_snow_at_site('Irwin Study Plot', irwin_snobal),\n",
    "    },\n",
    "    axes,\n",
    "    'Irwin Study Plot',\n",
    "    MAX_NS,\n",
    ")\n",
    "\n",
    "irwin_snow = df_with_snow_at_site('Irwin Study Plot', irwin_MODIS)\n",
    "\n",
    "axes.plot(\n",
    "    irwin_snow.index,\n",
    "    irwin_snow['net_solar'],\n",
    "    label=STATION_LABEL, \n",
    "    color=COLORS[STATION_LABEL], \n",
    "    alpha=0.9, lw=1\n",
    ")\n",
    "\n",
    "print(f\"  Station Mean: {irwin_snow['net_solar'].mean():.2f}\")\n",
    "\n",
    "style_axes(axes)\n",
    "subplot_letter(('e' if year == 2021 else 'f'), axes)"
   ]
  },
  {
   "cell_type": "markdown",
   "id": "703745bb-b7ac-4b98-9e9a-97c00d1a7916",
   "metadata": {},
   "source": [
    "## Incoming Solar "
   ]
  },
  {
   "cell_type": "code",
   "execution_count": null,
   "id": "fea9018a-ea28-457e-816b-b6adb6abc4b2",
   "metadata": {},
   "outputs": [],
   "source": [
    "irwin_snobal_hrrr_modis_solar = irwin_snobal_hrrr_modis / (1 - irwin_snobal_hrrr_modis_albedo)\n",
    "irwin_snobal_hrrr_solar = irwin_snobal_hrrr / (1 - irwin_snobal_albedo)\n",
    "irwin_snobal_solar = irwin_snobal / (1 - irwin_snobal_albedo)"
   ]
  },
  {
   "cell_type": "code",
   "execution_count": null,
   "id": "695559cd-6580-48c1-aa22-a3968ca8f48b",
   "metadata": {},
   "outputs": [],
   "source": [
    "figure_opts = dict(figsize=(7,3.5), dpi=300,)\n",
    "fig, axes = plt.subplots(1, 1, sharex=True, **figure_opts)\n",
    "\n",
    "MAX_SUN = 1600\n",
    "\n",
    "plot_site(\n",
    "    {\n",
    "        'HRRR-SC': with_snow_at_site('Irwin Study Plot', irwin_snobal_hrrr_solar),\n",
    "        'Time-Decay': with_snow_at_site('Irwin Study Plot', irwin_snobal_solar),\n",
    "    },\n",
    "    axes,\n",
    "    'Irwin Study Plot',\n",
    "    MAX_SUN,\n",
    ")\n",
    "\n",
    "irwin_snow = df_with_snow_at_site('Irwin Study Plot', irwin_MODIS)\n",
    "\n",
    "axes.plot(\n",
    "    irwin_snow.index,\n",
    "    irwin_snow['solar'],\n",
    "    label=STATION_LABEL, \n",
    "    color=COLORS[STATION_LABEL], \n",
    "    alpha=0.9, lw=1\n",
    ")\n",
    "\n",
    "print(f\"  Station Mean: {irwin_snow['solar'].mean():.2f}\")\n",
    "\n",
    "axes.set_ylabel(r'Incoming Solar ($W/m^2$)')\n",
    "\n",
    "axes.set_yticks(np.arange(0, MAX_SUN + 1, 200))\n",
    "axes.yaxis.set_minor_locator(mticker.MultipleLocator(50))\n",
    "\n",
    "style_axes(axes)\n",
    "set_title(axes)\n",
    "subplot_letter(('a' if year == 2021 else 'b'), axes)"
   ]
  },
  {
   "cell_type": "markdown",
   "id": "a981fd7a-049f-4cbd-8eab-2787ca79a3d6",
   "metadata": {},
   "source": [
    "## Albedo "
   ]
  },
  {
   "cell_type": "code",
   "execution_count": null,
   "id": "14c6ba64-3d6a-4afa-86d7-ffa1a2c43f14",
   "metadata": {},
   "outputs": [],
   "source": [
    "figure_opts = dict(figsize=(7,3.5), dpi=300,)\n",
    "fig, ax = plt.subplots(1, 1, sharex=True, **figure_opts)\n",
    "\n",
    "MAX_NS = 1\n",
    "\n",
    "site_name = 'Irwin Study Plot'\n",
    "sites = {\n",
    "    'HRRR-MODIS': with_snow_at_site('Irwin Study Plot', irwin_snobal_hrrr_modis_albedo),\n",
    "    'Time-Decay': with_snow_at_site('Irwin Study Plot', irwin_snobal_albedo),\n",
    "}\n",
    "\n",
    "for key in sites:\n",
    "    values = np.nan_to_num(sites[key].data.flatten(), copy=False)\n",
    "    ax.plot(\n",
    "        sites[key].time,\n",
    "        values,\n",
    "        label=key, \n",
    "        color=COLORS[key], \n",
    "        alpha=0.9, lw=1\n",
    "    )\n",
    "    print(f'  {key} Mean: {np.nanmean(values):.2f}')\n",
    "\n",
    "\n",
    "irwin_snow = df_with_snow_at_site('Irwin Study Plot', irwin_MODIS)\n",
    "ax.plot(\n",
    "    irwin_snow.index,\n",
    "    irwin_snow['albedo'],\n",
    "    label=STATION_LABEL, \n",
    "    color=COLORS[STATION_LABEL], \n",
    "    alpha=0.9, lw=1\n",
    ")\n",
    "print(f\"  Station Mean: {irwin_snow['albedo'].mean():.2f}\")\n",
    "\n",
    "ax.set_ylabel(r'Albedo')\n",
    "\n",
    "ax.tick_params(axis='x', which='minor', tick1On=False, tick2On=False)\n",
    "\n",
    "ax.set_xlim([plot_range[0], SNOW_GONE[str(year)][site_name][STATION_LABEL]])\n",
    "\n",
    "ax.set_yticks(np.arange(0, 1.05, .2))\n",
    "ax.yaxis.set_minor_locator(mticker.MultipleLocator(0.05))\n",
    "ax.set_ylim(bottom=-0.01, top=1)\n",
    "\n",
    "style_axes(ax)\n",
    "subplot_letter(('c' if year == 2021 else 'd'), ax)"
   ]
  },
  {
   "cell_type": "markdown",
   "id": "43c5fdb7-60ba-4bcc-9b56-1dd1dc6acb2b",
   "metadata": {},
   "source": [
    "## Differences "
   ]
  },
  {
   "cell_type": "code",
   "execution_count": null,
   "id": "5c150b8a-3ac3-4f62-80e6-8041de59de9e",
   "metadata": {},
   "outputs": [],
   "source": [
    "hrrr_modis_diff = irwin_snobal_hrrr_modis[irwin_snobal_hrrr_modis.time.dt.hour == 18].to_pandas() - irwin_MODIS['net_solar']\n",
    "hrrr_sc_diff = irwin_snobal_hrrr[irwin_snobal_hrrr.time.dt.hour == 18].to_pandas() - irwin_MODIS['net_solar']\n",
    "time_decay_diff = irwin_snobal[irwin_snobal_hrrr.time.dt.hour == 18].to_pandas() - irwin_MODIS['net_solar']\n",
    "\n",
    "data = {\n",
    "    'HRRR-MODIS': df_with_snow_at_site('Irwin Study Plot', hrrr_modis_diff),\n",
    "    'HRRR-SC': df_with_snow_at_site('Irwin Study Plot', hrrr_sc_diff),\n",
    "    'Time-Decay': df_with_snow_at_site('Irwin Study Plot', time_decay_diff),\n",
    "}"
   ]
  },
  {
   "cell_type": "code",
   "execution_count": null,
   "id": "c9e3761e-70be-4ff9-8f22-b58e5f7699dc",
   "metadata": {},
   "outputs": [],
   "source": [
    "figure_opts = dict(figsize=(7,3.5), dpi=300,)\n",
    "fig, axes = plt.subplots(1, 1, sharex=True, **figure_opts)\n",
    "\n",
    "print('Median diff with measured snow')\n",
    "\n",
    "for key in data:\n",
    "\n",
    "    print(f\"  {key}: {data[key].abs().median():.2f}\")\n",
    "    axes.plot(\n",
    "        data[key].index,\n",
    "        data[key],\n",
    "        label=key, \n",
    "        color=COLORS[key], \n",
    "        alpha=0.9, lw=1\n",
    "    )\n",
    "\n",
    "plot_site(\n",
    "    {},\n",
    "    axes,\n",
    "    'Irwin Study Plot',\n",
    "    600\n",
    ")\n",
    "\n",
    "style_axes(axes)\n",
    "axes.set_ylabel(r'Δ Net Solar ($W/m^2$)')\n",
    "axes.set_ylim(bottom=-200, top=500)\n",
    "axes.set_yticks(np.arange(-200, 500+1, 50))\n",
    "axes.axhline(0, lw=0.8, ls=(1, (1, 2)), color='black', zorder=0, alpha=1)\n",
    "\n",
    "subplot_letter(('g' if year == 2021 else 'h'), axes)"
   ]
  },
  {
   "cell_type": "markdown",
   "id": "76c0a44c-35bb-4ed2-8e65-60f221e09862",
   "metadata": {},
   "source": [
    "## Holoviews"
   ]
  },
  {
   "cell_type": "code",
   "execution_count": null,
   "id": "dfed0d56-c564-45e4-82b4-e026087980b9",
   "metadata": {},
   "outputs": [],
   "source": [
    "import hvplot.xarray\n",
    "import hvplot.pandas\n",
    "import holoviews as hv\n",
    "\n",
    "pd.options.plotting.backend = 'holoviews'"
   ]
  },
  {
   "cell_type": "code",
   "execution_count": null,
   "id": "654840d5-d770-4c46-8c6e-ca3a93c20b72",
   "metadata": {},
   "outputs": [],
   "source": [
    "HV_PLOT_OPTS = dict(\n",
    "    width=1200, \n",
    "    height=800,\n",
    "    ylabel='Net Solar (W/m^2)',\n",
    "    xlabel='Water Year 2022',\n",
    ")\n",
    "\n",
    "LINE_WIDTH = 2\n",
    "\n",
    "x_lim = (np.datetime64(f'{year-1}-10-01'), np.datetime64(f'{year}-06-01'))"
   ]
  },
  {
   "cell_type": "code",
   "execution_count": null,
   "id": "0bc2a36c-f47c-4f4b-b6c7-896cd80b4c09",
   "metadata": {},
   "outputs": [],
   "source": [
    "hrrr_modis_diff.hvplot(label='HRRR-MODIS', line_width=LINE_WIDTH, xlim=x_lim,**HV_PLOT_OPTS) * \\\n",
    "hrrr_sc_diff.hvplot(line_width=LINE_WIDTH, label='HRRR-SC') *\\\n",
    "time_decay_diff.hvplot(label='Time-Decay', line_width=LINE_WIDTH).opts(title='Difference to Station') *\\\n",
    "hv.HLine(0).opts(color='grey', line_width=2, line_dash='dotted')"
   ]
  },
  {
   "cell_type": "markdown",
   "id": "2401b55a-76a4-4035-b595-e55636d3633c",
   "metadata": {},
   "source": [
    "### Schofield "
   ]
  },
  {
   "cell_type": "code",
   "execution_count": null,
   "id": "70fe5558-6852-411b-8b79-4519c68ba0de",
   "metadata": {},
   "outputs": [],
   "source": [
    "schofield_snobal_hrrr_modis.rolling(time=24, center=True).mean().hvplot(label='HRRR + MODIS').opts(\n",
    "    title='Schofield Pass', **HV_PLOT_OPTS\n",
    ") * \\\n",
    "schofield_snobal_hrrr.rolling(time=24, center=True).mean().hvplot(label='HRRR solar') * \\\n",
    "schofield_snobal.rolling(time=24, center=True).mean().hvplot(label='SMRF solar') "
   ]
  },
  {
   "cell_type": "markdown",
   "id": "14eb89d5-f680-4b74-b939-5566d1ca3b7a",
   "metadata": {},
   "source": [
    "### Butte"
   ]
  },
  {
   "cell_type": "code",
   "execution_count": null,
   "id": "a2575cee-f583-43cc-b532-b2787cb522d6",
   "metadata": {},
   "outputs": [],
   "source": [
    "butte_snobal_hrrr_modis.rolling(time=24, center=True).mean().hvplot(label='HRRR + MODIS').opts(\n",
    "    title='Butte', **HV_PLOT_OPTS\n",
    ") * \\\n",
    "butte_snobal_hrrr.rolling(time=24, center=True).mean().hvplot(label='HRRR solar') * \\\n",
    "butte_snobal.rolling(time=24, center=True).mean().hvplot(label='SMRF solar') "
   ]
  },
  {
   "cell_type": "markdown",
   "id": "a8bd8f64-99c7-4080-b424-b11b3b81be21",
   "metadata": {},
   "source": [
    "### Taylor "
   ]
  },
  {
   "cell_type": "code",
   "execution_count": null,
   "id": "936efae2-7e43-4132-8b23-df9611b29bcc",
   "metadata": {},
   "outputs": [],
   "source": [
    "taylor_snobal_hrrr_modis.rolling(time=24, center=True).mean().hvplot(label='HRRR + MODIS').opts(\n",
    "    title='Upper Taylor', **HV_PLOT_OPTS\n",
    ") * \\\n",
    "taylor_snobal_hrrr.rolling(time=24, center=True).mean().hvplot(label='HRRR solar') * \\\n",
    "taylor_snobal.rolling(time=24, center=True).mean().hvplot(label='SMRF solar') "
   ]
  },
  {
   "cell_type": "markdown",
   "id": "fd4e1be2-ef36-4d15-a299-acac24cdd775",
   "metadata": {},
   "source": [
    "### Raw vs filtered by MODIS overpass"
   ]
  },
  {
   "cell_type": "code",
   "execution_count": null,
   "id": "41f181bc-e0b4-448b-8dd4-683e8e7e100d",
   "metadata": {},
   "outputs": [],
   "source": [
    "irwin_pyra['net_solar'].hvplot(label='RAW', title='Irwin Study Plot', **HV_PLOT_OPTS) *\\\n",
    "irwin_MODIS['net_solar'].hvplot(label='MODIS')"
   ]
  },
  {
   "cell_type": "markdown",
   "id": "17372ae1-c62e-40d2-a6d9-3b2d6ce65b70",
   "metadata": {},
   "source": [
    "### Station data  VIS vs NIR (in- and outgoing)"
   ]
  },
  {
   "cell_type": "code",
   "execution_count": null,
   "id": "0635f8c4-cf2c-4846-a423-37f382564d31",
   "metadata": {},
   "outputs": [],
   "source": [
    "(\n",
    "    irwin_pyra['VIS_IN'].rolling(ROLL_WINDOW).mean().interpolate('time') - \n",
    "    irwin_pyra['VIS_OUT'].rolling(ROLL_WINDOW).mean().interpolate('time')\n",
    ").hvplot(label='VIS', **HV_PLOT_OPTS) * \\\n",
    "(\n",
    "    irwin_pyra['NIR_IN'].rolling(ROLL_WINDOW).mean().interpolate('time') - \n",
    "    irwin_pyra['NIR_OUT'].rolling(ROLL_WINDOW).mean().interpolate('time')\n",
    ").hvplot(title='Irwin Study Plot', label='NIR', **HV_PLOT_OPTS)"
   ]
  },
  {
   "cell_type": "markdown",
   "id": "6f345edb-3aac-41db-9efd-9fe151860b60",
   "metadata": {},
   "source": [
    "### HRRR vs SMRF vs Irwin station "
   ]
  },
  {
   "cell_type": "code",
   "execution_count": null,
   "id": "12ea281e-b2ce-4a7a-9e97-45fe17898c88",
   "metadata": {},
   "outputs": [],
   "source": [
    "(irwin_snobal_hrrr_modis[irwin_snobal_hrrr_modis.time.dt.hour == 18].hvplot(\n",
    "    label='HRRR-MODIS', line_width=LINE_WIDTH, \n",
    "    xlim=x_lim, **HV_PLOT_OPTS, title=''\n",
    ") * \\\n",
    "irwin_snobal_hrrr[irwin_snobal_hrrr.time.dt.hour == 18].hvplot(line_width=LINE_WIDTH, label='HRRR-SC') * \\\n",
    "irwin_snobal[irwin_snobal.time.dt.hour == 18].hvplot(label='Time-Decay', line_width=LINE_WIDTH) * \\\n",
    "irwin_MODIS['net_solar'].hvplot(label='Station', line_width=LINE_WIDTH)).opts(\n",
    "    legend_position='top_left', legend_opts={'glyph_width':35}\n",
    ")"
   ]
  },
  {
   "cell_type": "markdown",
   "id": "0cae2bb9-ef45-4d1d-b18b-018cd780e6f2",
   "metadata": {},
   "source": [
    "### Rolling (daily "
   ]
  },
  {
   "cell_type": "code",
   "execution_count": null,
   "id": "2cc4ce0d-a659-4f30-b6ed-319c62037cef",
   "metadata": {},
   "outputs": [],
   "source": [
    "(schofield_snobal_hrrr.rolling(time=24, center=True).mean().hvplot(label='Schofield').opts(**HV_PLOT_OPTS, title='HRRR-SC') * \\\n",
    "butte_snobal_hrrr.rolling(time=24, center=True).mean().hvplot(label='Butte') * \\\n",
    "taylor_snobal_hrrr.rolling(time=24, center=True).mean().hvplot(label='Taylor') * \\\n",
    "irwin_snobal_hrrr.rolling(time=96, center=True).mean().hvplot(label='Irwin') + \\\n",
    "schofield_snobal_hrrr_modis.rolling(time=24, center=True).mean().hvplot(label='Schofield').opts(**HV_PLOT_OPTS, title='HRRR-MODIS') * \\\n",
    "butte_snobal_hrrr_modis.rolling(time=24, center=True).mean().hvplot(label='Butte') * \\\n",
    "taylor_snobal_hrrr_modis.rolling(time=24, center=True).mean().hvplot(label='Taylor') * \\\n",
    "irwin_snobal_hrrr_modis.rolling(time=96, center=True).mean().hvplot(label='Irwin') + \\\n",
    "schofield_snobal.rolling(time=24, center=True).mean().hvplot(label='Schofield').opts(**HV_PLOT_OPTS, title='Time-Decay') * \\\n",
    "butte_snobal.rolling(time=24, center=True).mean().hvplot(label='Butte')  * \\\n",
    "taylor_snobal.rolling(time=24, center=True).mean().hvplot(label='Taylor') * \\\n",
    "irwin_snobal.rolling(time=96, center=True).mean().hvplot(label='Irwin')).cols(1)"
   ]
  },
  {
   "cell_type": "code",
   "execution_count": null,
   "id": "c28a8b80-9ed5-4576-bd91-33e7633d8081",
   "metadata": {},
   "outputs": [],
   "source": [
    "client.shutdown()"
   ]
  }
 ],
 "metadata": {
  "language_info": {
   "name": "python"
  }
 },
 "nbformat": 4,
 "nbformat_minor": 5
}
