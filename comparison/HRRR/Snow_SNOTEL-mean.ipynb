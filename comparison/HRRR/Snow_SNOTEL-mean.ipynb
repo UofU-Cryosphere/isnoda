{
 "cells": [
  {
   "cell_type": "code",
   "execution_count": null,
   "id": "dbbe2d76-bc0d-4118-aba7-dc6650691c56",
   "metadata": {},
   "outputs": [],
   "source": [
    "import xarray as xr\n",
    "import hvplot.xarray\n",
    "import holoviews as hv\n",
    "import numpy as np\n",
    "import pandas as pd\n",
    "\n",
    "from snobedo.lib.dask_utils import start_cluster, client_ip_and_port\n",
    "from snobedo.snotel import SnotelLocations, CsvParser\n",
    "\n",
    "from common import SNOBAL_DIR, DATA_DIR, SNOTEL_DIR, COARSEN_OPTS, use_hvplot, HV_PLOT_OPTS\n",
    "\n",
    "use_hvplot()"
   ]
  },
  {
   "cell_type": "code",
   "execution_count": null,
   "id": "6611973b-d39d-4a87-859a-6154439c5d76",
   "metadata": {},
   "outputs": [],
   "source": [
    "client = start_cluster(6, 24)\n",
    "client_ip_and_port(client)"
   ]
  },
  {
   "cell_type": "code",
   "execution_count": null,
   "id": "3096437b-fa37-461c-aa88-19d472c622c4",
   "metadata": {},
   "outputs": [],
   "source": [
    "HV_PLOT_OPTS['ylabel'] = 'Snow Depth (m)'\n",
    "\n",
    "year = 2021\n",
    "water_year = f'wy{year}'"
   ]
  },
  {
   "cell_type": "markdown",
   "id": "c1263950-dc32-4bc2-be48-4e98d6775469",
   "metadata": {},
   "source": [
    "## SNOTEL "
   ]
  },
  {
   "cell_type": "code",
   "execution_count": null,
   "id": "4f8ce909-600f-4056-9785-ab822aef1d0b",
   "metadata": {},
   "outputs": [],
   "source": [
    "snotel_sites = SnotelLocations()\n",
    "snotel_sites.load_from_json(SNOTEL_DIR / 'site-locations/snotel_sites_2x2.json')\n",
    "\n",
    "schofield_snotel_csv = CsvParser.file(\n",
    "    SNOTEL_DIR / water_year / f'Schofield/usda-csv/{year}-Schofield-Pass.csv',\n",
    ")\n",
    "\n",
    "butte_snotel_csv = CsvParser.file(\n",
    "    SNOTEL_DIR / water_year / f'Butte/usda-csv/{year}-Butte.csv',\n",
    ")\n",
    "\n",
    "taylor_snotel_csv = CsvParser.file(\n",
    "    SNOTEL_DIR / water_year / f'Taylor/usda-csv/{year}-Upper-Taylor.csv',\n",
    ")"
   ]
  },
  {
   "cell_type": "markdown",
   "id": "806375bd-36c1-4361-aa08-6ad9ed724691",
   "metadata": {},
   "source": [
    "## Model"
   ]
  },
  {
   "cell_type": "code",
   "execution_count": null,
   "id": "f9cf03f5-a96a-420f-97ab-098cd1934e85",
   "metadata": {},
   "outputs": [],
   "source": [
    "solar_HRRR = xr.open_mfdataset(\n",
    "    f'{SNOBAL_DIR}/{water_year}/erw_hrrr_solar/run*/snow.nc',\n",
    "    parallel=True,\n",
    ")\n",
    "\n",
    "butte_snobal_hrrr = solar_HRRR.sel(x=snotel_sites.Butte.lon, y=snotel_sites.Butte.lat).compute()\n",
    "schofield_snobal_hrrr = solar_HRRR.sel(x=snotel_sites.Schofield.lon, y=snotel_sites.Schofield.lat).compute()\n",
    "taylor_snobal_hrrr = solar_HRRR.sel(x=snotel_sites.Taylor.lon, y=snotel_sites.Taylor.lat).compute()"
   ]
  },
  {
   "cell_type": "code",
   "execution_count": null,
   "id": "1503f496-d177-42f4-83f5-310405c9f3cc",
   "metadata": {},
   "outputs": [],
   "source": [
    "solar_SMRF = xr.open_mfdataset(\n",
    "    f'{SNOBAL_DIR}/GMD/{water_year}/erw/run*/snow.nc',\n",
    "    parallel=True,\n",
    ")\n",
    "\n",
    "butte_snobal = solar_SMRF.sel(x=snotel_sites.Butte.lon, y=snotel_sites.Butte.lat).compute()\n",
    "schofield_snobal = solar_SMRF.sel(x=snotel_sites.Schofield.lon, y=snotel_sites.Schofield.lat).compute()\n",
    "taylor_snobal = solar_SMRF.sel(x=snotel_sites.Taylor.lon, y=snotel_sites.Taylor.lat).compute()"
   ]
  },
  {
   "cell_type": "markdown",
   "id": "32aca517-5923-47a4-acb1-748c3dab0f8a",
   "metadata": {},
   "source": [
    "# SNOTEL "
   ]
  },
  {
   "cell_type": "markdown",
   "id": "cc5b150a-1821-40b3-8b24-23be6c80fb32",
   "metadata": {},
   "source": [
    "## Butte "
   ]
  },
  {
   "cell_type": "code",
   "execution_count": null,
   "id": "e44ee84d-96ad-4a9d-999d-c22925cad5f7",
   "metadata": {},
   "outputs": [],
   "source": [
    "butte_snobal_hrrr.thickness.coarsen(**COARSEN_OPTS).mean().squeeze(['x', 'y']).hvplot(label='HRRR').opts(**HV_PLOT_OPTS) * \\\n",
    "butte_snobal.thickness.coarsen(**COARSEN_OPTS).mean().squeeze(['x', 'y']).hvplot(label='SMRF') * \\\n",
    "butte_snotel_csv['Depth(m)'].plot(label='SNOTEL')"
   ]
  },
  {
   "cell_type": "markdown",
   "id": "449f1b68-0db8-46cd-a587-1ed360978ad1",
   "metadata": {},
   "source": [
    "## Schofield Pass "
   ]
  },
  {
   "cell_type": "code",
   "execution_count": null,
   "id": "fe4f6ebe-6434-44ba-b420-1d586d173a2e",
   "metadata": {},
   "outputs": [],
   "source": [
    "schofield_snobal_hrrr.thickness.coarsen(**COARSEN_OPTS).mean().squeeze(['x', 'y']).hvplot(label='HRRR solar').opts(**HV_PLOT_OPTS) * \\\n",
    "schofield_snobal.thickness.coarsen(**COARSEN_OPTS).mean().squeeze(['x', 'y']).hvplot(label='SMRF solar') * \\\n",
    "schofield_snotel_csv['Depth(m)'].plot(label='SNOTEL')"
   ]
  },
  {
   "cell_type": "markdown",
   "id": "ebc0d0c8-73d3-43e3-a483-74765f11724b",
   "metadata": {},
   "source": [
    "## Upper Taylor "
   ]
  },
  {
   "cell_type": "code",
   "execution_count": null,
   "id": "5bf4aa3c-6834-4d32-97e1-d66de0a6bd9a",
   "metadata": {},
   "outputs": [],
   "source": [
    "taylor_snobal_hrrr.thickness.coarsen(**COARSEN_OPTS).mean().squeeze(['x', 'y']).hvplot(label='HRRR').opts(**HV_PLOT_OPTS) * \\\n",
    "taylor_snobal.thickness.coarsen(**COARSEN_OPTS).mean().squeeze(['x', 'y']).hvplot(label='SMRF') * \\\n",
    "taylor_snotel_csv['Depth(m)'].plot(label='SNOTEL')"
   ]
  }
 ],
 "metadata": {
  "language_info": {
   "name": "python"
  }
 },
 "nbformat": 4,
 "nbformat_minor": 5
}
