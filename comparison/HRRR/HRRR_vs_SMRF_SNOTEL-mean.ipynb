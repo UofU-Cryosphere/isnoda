{
 "cells": [
  {
   "cell_type": "code",
   "execution_count": null,
   "id": "dbbe2d76-bc0d-4118-aba7-dc6650691c56",
   "metadata": {},
   "outputs": [],
   "source": [
    "import xarray as xr\n",
    "import hvplot.xarray\n",
    "import holoviews as hv\n",
    "import numpy as np\n",
    "import pandas as pd\n",
    "\n",
    "from snobedo.lib.dask_utils import start_cluster, client_ip_and_port\n",
    "from snobedo.snotel import SnotelLocations, CsvParser\n",
    "\n",
    "from common import SHARED_STORE, SNOBAL_DIR, SNOTEL_DIR, DATA_DIR, COARSEN_OPTS, HV_PLOT_OPTS"
   ]
  },
  {
   "cell_type": "code",
   "execution_count": null,
   "id": "6611973b-d39d-4a87-859a-6154439c5d76",
   "metadata": {},
   "outputs": [],
   "source": [
    "client = start_cluster(6, 24)\n",
    "client_ip_and_port(client)"
   ]
  },
  {
   "cell_type": "code",
   "execution_count": null,
   "id": "74dd2761-a07f-4d8a-8a5e-b5e17317ce61",
   "metadata": {},
   "outputs": [],
   "source": [
    "year = 2021\n",
    "water_year = f'wy{year}'"
   ]
  },
  {
   "cell_type": "markdown",
   "id": "8bc0ecbb-b8d8-4985-8ef0-6698bd66a2de",
   "metadata": {},
   "source": [
    "## SNOTEL "
   ]
  },
  {
   "cell_type": "code",
   "execution_count": null,
   "id": "5b7636c0-e232-47e6-8094-4b45d695fbdb",
   "metadata": {},
   "outputs": [],
   "source": [
    "snotel_sites = SnotelLocations()\n",
    "snotel_sites.load_from_json(SNOTEL_DIR / 'site-locations/snotel_sites_2x2.json')"
   ]
  },
  {
   "cell_type": "markdown",
   "id": "55026ab9-f889-4938-a344-a81d241c391b",
   "metadata": {},
   "source": [
    "## Model run with HRRR clouds and solar"
   ]
  },
  {
   "cell_type": "code",
   "execution_count": null,
   "id": "db6a5772-d4f8-4e28-a331-a14b0ea968fb",
   "metadata": {},
   "outputs": [],
   "source": [
    "HRRR_solar = xr.open_mfdataset(\n",
    "    f'{SHARED_STORE}/erw_isnobal/{water_year}/erw_hrrr_solar/run*/net_solar.nc',\n",
    "    parallel=True,\n",
    ")\n",
    "HRRR_cloud = xr.open_mfdataset(\n",
    "    f'{SHARED_STORE}/erw_isnobal/{water_year}/erw_hrrr_solar/run*/cloud_factor.nc',\n",
    "    parallel=True,\n",
    ")\n",
    "HRRR_therm = xr.open_mfdataset(\n",
    "    f'{SHARED_STORE}/erw_isnobal/{water_year}/erw_hrrr_solar/run*/smrf_20*.nc',\n",
    "    parallel=True,\n",
    ")"
   ]
  },
  {
   "cell_type": "markdown",
   "id": "cd9c9bf2-eca2-430a-a091-238091f5467d",
   "metadata": {},
   "source": [
    "## Model with SMRF clouds and solar "
   ]
  },
  {
   "cell_type": "code",
   "execution_count": null,
   "id": "4df2791b-323b-4aac-95ac-7a90550a18d1",
   "metadata": {},
   "outputs": [],
   "source": [
    "smrf_eb = xr.open_mfdataset(\n",
    "    f'{SHARED_STORE}/erw_isnobal/GMD/{water_year}/erw/run*/smrf_energy*.nc',\n",
    "    parallel=True,\n",
    ")\n",
    "smrf_out = xr.open_mfdataset(\n",
    "    f'{SHARED_STORE}/erw_isnobal/GMD/{water_year}/erw/run*/smrf_20*.nc',\n",
    "    parallel=True,\n",
    ")"
   ]
  },
  {
   "cell_type": "markdown",
   "id": "7676cd46-623d-429b-9a2c-f1f73b512047",
   "metadata": {},
   "source": [
    "# Net Solar"
   ]
  },
  {
   "cell_type": "code",
   "execution_count": null,
   "id": "dfed0d56-c564-45e4-82b4-e026087980b9",
   "metadata": {},
   "outputs": [],
   "source": [
    "HV_PLOT_OPTS['ylabel'] = 'Net Solar W/m^2'"
   ]
  },
  {
   "cell_type": "code",
   "execution_count": null,
   "id": "b0f1455c-cad7-499d-9672-bf1749180232",
   "metadata": {},
   "outputs": [],
   "source": [
    "butte_snobal_hrrr = HRRR_solar.net_solar.sel(x=snotel_sites.Butte.lon, y=snotel_sites.Butte.lat).coarsen(**COARSEN_OPTS).mean().squeeze(['x', 'y']).compute()\n",
    "schofield_snobal_hrrr = HRRR_solar.net_solar.sel(x=snotel_sites.Schofield.lon, y=snotel_sites.Schofield.lat).coarsen(**COARSEN_OPTS).mean().squeeze(['x', 'y']).compute()\n",
    "taylor_snobal_hrrr = HRRR_solar.net_solar.sel(x=snotel_sites.Taylor.lon, y=snotel_sites.Taylor.lat).coarsen(**COARSEN_OPTS).mean().squeeze(['x', 'y']).compute()"
   ]
  },
  {
   "cell_type": "code",
   "execution_count": null,
   "id": "6f6c2bc6-d215-4c89-a618-d2045b5c8e06",
   "metadata": {},
   "outputs": [],
   "source": [
    "butte_snobal = smrf_eb.net_solar.sel(x=snotel_sites.Butte.lon, y=snotel_sites.Butte.lat).coarsen(**COARSEN_OPTS).mean().squeeze(['x', 'y']).compute()\n",
    "schofield_snobal = smrf_eb.net_solar.sel(x=snotel_sites.Schofield.lon, y=snotel_sites.Schofield.lat).coarsen(**COARSEN_OPTS).mean().squeeze(['x', 'y']).compute()\n",
    "taylor_snobal = smrf_eb.net_solar.sel(x=snotel_sites.Taylor.lon, y=snotel_sites.Taylor.lat).coarsen(**COARSEN_OPTS).mean().squeeze(['x', 'y']).compute()"
   ]
  },
  {
   "cell_type": "markdown",
   "id": "2401b55a-76a4-4035-b595-e55636d3633c",
   "metadata": {},
   "source": [
    "### Schofield "
   ]
  },
  {
   "cell_type": "code",
   "execution_count": null,
   "id": "70fe5558-6852-411b-8b79-4519c68ba0de",
   "metadata": {},
   "outputs": [],
   "source": [
    "schofield_snobal_hrrr.hvplot(label='HRRR solar').opts(**HV_PLOT_OPTS) * schofield_snobal.hvplot(label='SMRF solar') "
   ]
  },
  {
   "cell_type": "markdown",
   "id": "14eb89d5-f680-4b74-b939-5566d1ca3b7a",
   "metadata": {},
   "source": [
    "### Butte"
   ]
  },
  {
   "cell_type": "code",
   "execution_count": null,
   "id": "a2575cee-f583-43cc-b532-b2787cb522d6",
   "metadata": {},
   "outputs": [],
   "source": [
    "butte_snobal_hrrr.hvplot(label='HRRR solar').opts(**HV_PLOT_OPTS) * butte_snobal.hvplot(label='SMRF solar') "
   ]
  },
  {
   "cell_type": "markdown",
   "id": "a8bd8f64-99c7-4080-b424-b11b3b81be21",
   "metadata": {},
   "source": [
    "### Taylor "
   ]
  },
  {
   "cell_type": "code",
   "execution_count": null,
   "id": "936efae2-7e43-4132-8b23-df9611b29bcc",
   "metadata": {},
   "outputs": [],
   "source": [
    "taylor_snobal_hrrr.hvplot(label='HRRR solar').opts(**HV_PLOT_OPTS) * taylor_snobal.hvplot(label='SMRF solar') "
   ]
  },
  {
   "cell_type": "markdown",
   "id": "0cae2bb9-ef45-4d1d-b18b-018cd780e6f2",
   "metadata": {},
   "source": [
    "### Rolling (daily "
   ]
  },
  {
   "cell_type": "code",
   "execution_count": null,
   "id": "2cc4ce0d-a659-4f30-b6ed-319c62037cef",
   "metadata": {},
   "outputs": [],
   "source": [
    "(schofield_snobal_hrrr.rolling(time=24, center=True).mean().hvplot(label='HRRR Schofield').opts(**HV_PLOT_OPTS) * \\\n",
    "butte_snobal_hrrr.rolling(time=24, center=True).mean().hvplot(label='HRRR Butte') * \\\n",
    "taylor_snobal_hrrr.rolling(time=24, center=True).mean().hvplot(label='HRRR Taylor') + \\\n",
    "schofield_snobal.rolling(time=24, center=True).mean().hvplot(label='SMRF Schofield').opts(**HV_PLOT_OPTS) * \\\n",
    "butte_snobal.rolling(time=24, center=True).mean().hvplot(label='SMRF Butte')  * \\\n",
    "taylor_snobal.rolling(time=24, center=True).mean().hvplot(label='SMRF Taylor')).cols(1)"
   ]
  },
  {
   "cell_type": "markdown",
   "id": "6170a7a2-c556-4349-8add-b9b85d1e41b5",
   "metadata": {},
   "source": [
    "# Clouds"
   ]
  },
  {
   "cell_type": "code",
   "execution_count": null,
   "id": "31ea8040-62ab-4326-99ca-405fc74327be",
   "metadata": {},
   "outputs": [],
   "source": [
    "HV_PLOT_OPTS['ylabel'] = 'Cover: 0 -> Full; 1 -> Clear'"
   ]
  },
  {
   "cell_type": "code",
   "execution_count": null,
   "id": "040724a0-17c5-4f0f-b803-76b8c74675fc",
   "metadata": {},
   "outputs": [],
   "source": [
    "butte_snobal_hrrr = HRRR_cloud.TCDC.sel(x=snotel_sites.Butte.lon, y=snotel_sites.Butte.lat).coarsen(**COARSEN_OPTS).mean().squeeze(['x', 'y']).compute()\n",
    "schofield_snobal_hrrr = HRRR_cloud.TCDC.sel(x=snotel_sites.Schofield.lon, y=snotel_sites.Schofield.lat).coarsen(**COARSEN_OPTS).mean().squeeze(['x', 'y']).compute()\n",
    "taylor_snobal_hrrr = HRRR_cloud.TCDC.sel(x=snotel_sites.Taylor.lon, y=snotel_sites.Taylor.lat).coarsen(**COARSEN_OPTS).mean().squeeze(['x', 'y']).compute()"
   ]
  },
  {
   "cell_type": "code",
   "execution_count": null,
   "id": "e7847ff3-f7a7-4471-ab5c-f9d3dc9204b4",
   "metadata": {},
   "outputs": [],
   "source": [
    "butte_snobal = smrf_out.cloud_factor.sel(x=snotel_sites.Butte.lon, y=snotel_sites.Butte.lat).compute()\n",
    "butte_snobal = butte_snobal.coarsen(**COARSEN_OPTS).mean().squeeze(['x', 'y']).compute()\n",
    "schofield_snobal = smrf_out.cloud_factor.sel(x=snotel_sites.Schofield.lon, y=snotel_sites.Schofield.lat).compute()\n",
    "schofield_snobal = schofield_snobal.coarsen(**COARSEN_OPTS).mean().squeeze(['x', 'y']).compute()\n",
    "taylor_snobal = smrf_out.cloud_factor.sel(x=snotel_sites.Taylor.lon, y=snotel_sites.Taylor.lat).compute()\n",
    "taylor_snobal = taylor_snobal.coarsen(**COARSEN_OPTS).mean().squeeze(['x', 'y']).compute()"
   ]
  },
  {
   "cell_type": "markdown",
   "id": "f018533a-d767-41af-8b5d-25d4031d82c1",
   "metadata": {},
   "source": [
    "### Schofield "
   ]
  },
  {
   "cell_type": "code",
   "execution_count": null,
   "id": "d954039e-5f60-4ace-9a4c-44db1373950b",
   "metadata": {},
   "outputs": [],
   "source": [
    "schofield_snobal_hrrr.hvplot(label='HRRR clouds').opts(**HV_PLOT_OPTS) * schofield_snobal.hvplot(label='SMRF clouds') "
   ]
  },
  {
   "cell_type": "markdown",
   "id": "301822a5-2ee4-4006-9298-ca979f86c2c4",
   "metadata": {},
   "source": [
    "### Butte"
   ]
  },
  {
   "cell_type": "code",
   "execution_count": null,
   "id": "6f4d77b7-7189-4543-978f-bb56292676e2",
   "metadata": {},
   "outputs": [],
   "source": [
    "butte_snobal_hrrr.hvplot(label='HRRR clouds').opts(**HV_PLOT_OPTS) * butte_snobal.hvplot(label='SMRF clouds') "
   ]
  },
  {
   "cell_type": "markdown",
   "id": "737652a1-5821-400b-9dab-a7ff9098c185",
   "metadata": {},
   "source": [
    "### Taylor "
   ]
  },
  {
   "cell_type": "code",
   "execution_count": null,
   "id": "5345edd7-b010-4e35-bdd6-4f180e4bea11",
   "metadata": {},
   "outputs": [],
   "source": [
    "taylor_snobal_hrrr.hvplot(label='HRRR clouds').opts(**HV_PLOT_OPTS) * taylor_snobal.hvplot(label='SMRF clouds') "
   ]
  },
  {
   "cell_type": "markdown",
   "id": "c79bb713-6da1-4382-9cf0-5cfb493bc526",
   "metadata": {},
   "source": [
    "### Rolling (daily) "
   ]
  },
  {
   "cell_type": "code",
   "execution_count": null,
   "id": "1b22ee70-56c6-42a1-b9f7-b9cf0cea26ca",
   "metadata": {},
   "outputs": [],
   "source": [
    "(schofield_snobal_hrrr.rolling(time=24, center=True).mean().hvplot(label='HRRR Schofield').opts(**HV_PLOT_OPTS) * \\\n",
    "butte_snobal_hrrr.rolling(time=24, center=True).mean().hvplot(label='HRRR Butte') * \\\n",
    "taylor_snobal_hrrr.rolling(time=24, center=True).mean().hvplot(label='HRRR Taylor') + \\\n",
    "schofield_snobal.rolling(time=24, center=True).mean().hvplot(label='SMRF Schofield').opts(**HV_PLOT_OPTS) * \\\n",
    "butte_snobal.rolling(time=24, center=True).mean().hvplot(label='SMRF Butte')  * \\\n",
    "taylor_snobal.rolling(time=24, center=True).mean().hvplot(label='SMRF Taylor')).cols(1)"
   ]
  },
  {
   "cell_type": "markdown",
   "id": "1e3b3839-5df8-482c-a625-c671facb3481",
   "metadata": {},
   "source": [
    "# Thermal "
   ]
  },
  {
   "cell_type": "code",
   "execution_count": null,
   "id": "a355a235-f484-4238-bd61-061b7eaccbdc",
   "metadata": {},
   "outputs": [],
   "source": [
    "HV_PLOT_OPTS['ylabel'] = 'Thermal W/m^2'"
   ]
  },
  {
   "cell_type": "code",
   "execution_count": null,
   "id": "53fd4547-8876-4200-aca0-db05ed61f546",
   "metadata": {},
   "outputs": [],
   "source": [
    "butte_snobal_hrrr = HRRR_therm.thermal.sel(x=snotel_sites.Butte.lon, y=snotel_sites.Butte.lat).coarsen(**COARSEN_OPTS).mean().squeeze(['x', 'y']).compute()\n",
    "schofield_snobal_hrrr = HRRR_therm.thermal.sel(x=snotel_sites.Schofield.lon, y=snotel_sites.Schofield.lat).coarsen(**COARSEN_OPTS).mean().squeeze(['x', 'y']).compute()\n",
    "taylor_snobal_hrrr = HRRR_therm.thermal.sel(x=snotel_sites.Taylor.lon, y=snotel_sites.Taylor.lat).coarsen(**COARSEN_OPTS).mean().squeeze(['x', 'y']).compute()"
   ]
  },
  {
   "cell_type": "code",
   "execution_count": null,
   "id": "fcccc50b-00d7-42e9-bb72-93b4e177018d",
   "metadata": {},
   "outputs": [],
   "source": [
    "butte_snobal = smrf_out.thermal.sel(x=snotel_sites.Butte.lon, y=snotel_sites.Butte.lat).compute()\n",
    "butte_snobal = butte_snobal.coarsen(**COARSEN_OPTS).mean().squeeze(['x', 'y']).compute()\n",
    "schofield_snobal = smrf_out.thermal.sel(x=snotel_sites.Schofield.lon, y=snotel_sites.Schofield.lat).compute()\n",
    "schofield_snobal = schofield_snobal.coarsen(**COARSEN_OPTS).mean().squeeze(['x', 'y']).compute()\n",
    "taylor_snobal = smrf_out.thermal.sel(x=snotel_sites.Taylor.lon, y=snotel_sites.Taylor.lat).compute()\n",
    "taylor_snobal = taylor_snobal.coarsen(**COARSEN_OPTS).mean().squeeze(['x', 'y']).compute()"
   ]
  },
  {
   "cell_type": "markdown",
   "id": "fe0042ac-aa04-48f5-a512-a8bba6fdd623",
   "metadata": {},
   "source": [
    "### Schofield "
   ]
  },
  {
   "cell_type": "code",
   "execution_count": null,
   "id": "ddd4705c-9b3b-4e12-9596-64699238a282",
   "metadata": {},
   "outputs": [],
   "source": [
    "schofield_snobal_hrrr.hvplot(label='HRRR thermal').opts(**HV_PLOT_OPTS) * schofield_snobal.hvplot(label='SMRF thermal') "
   ]
  },
  {
   "cell_type": "markdown",
   "id": "4dcdce18-ee58-4df3-9a40-aa4f447fa256",
   "metadata": {},
   "source": [
    "### Butte"
   ]
  },
  {
   "cell_type": "code",
   "execution_count": null,
   "id": "2aeef0ea-a2a6-4562-aaa8-d104478a3170",
   "metadata": {},
   "outputs": [],
   "source": [
    "butte_snobal_hrrr.hvplot(label='HRRR thermal').opts(**HV_PLOT_OPTS) * butte_snobal.hvplot(label='SMRF thermal') "
   ]
  },
  {
   "cell_type": "markdown",
   "id": "b9f8a688-8205-4ac5-82c2-a5d195e31860",
   "metadata": {},
   "source": [
    "### Taylor "
   ]
  },
  {
   "cell_type": "code",
   "execution_count": null,
   "id": "39ecf683-d0e1-4cb0-a6ad-a5baeddfadac",
   "metadata": {},
   "outputs": [],
   "source": [
    "taylor_snobal_hrrr.hvplot(label='HRRR thermal').opts(**HV_PLOT_OPTS) * taylor_snobal.hvplot(label='SMRF thermal') "
   ]
  },
  {
   "cell_type": "markdown",
   "id": "dee51df0-4933-4795-976e-a0822ad57dd3",
   "metadata": {},
   "source": [
    "### Rolling (daily) "
   ]
  },
  {
   "cell_type": "code",
   "execution_count": null,
   "id": "7a1c04ab-9619-4615-9900-cd292e167218",
   "metadata": {},
   "outputs": [],
   "source": [
    "(schofield_snobal_hrrr.rolling(time=24, center=True).mean().hvplot(label='HRRR Schofield').opts(**HV_PLOT_OPTS) * \\\n",
    "butte_snobal_hrrr.rolling(time=24, center=True).mean().hvplot(label='HRRR Butte') * \\\n",
    "taylor_snobal_hrrr.rolling(time=24, center=True).mean().hvplot(label='HRRR Taylor') + \\\n",
    "schofield_snobal.rolling(time=24, center=True).mean().hvplot(label='SMRF Schofield').opts(**HV_PLOT_OPTS) * \\\n",
    "butte_snobal.rolling(time=24, center=True).mean().hvplot(label='SMRF Butte') * \\\n",
    "taylor_snobal.rolling(time=24, center=True).mean().hvplot(label='SMRF Taylor')).cols(1)"
   ]
  },
  {
   "cell_type": "code",
   "execution_count": null,
   "id": "b7e79de4-eb9d-433c-8768-80603d30d7f1",
   "metadata": {},
   "outputs": [],
   "source": []
  }
 ],
 "metadata": {
  "language_info": {
   "name": "python"
  }
 },
 "nbformat": 4,
 "nbformat_minor": 5
}
