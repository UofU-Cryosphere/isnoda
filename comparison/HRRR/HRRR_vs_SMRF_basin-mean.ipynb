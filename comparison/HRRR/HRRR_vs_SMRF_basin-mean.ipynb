{
 "cells": [
  {
   "cell_type": "code",
   "execution_count": null,
   "id": "dbbe2d76-bc0d-4118-aba7-dc6650691c56",
   "metadata": {},
   "outputs": [],
   "source": [
    "import holoviews as hv\n",
    "import hvplot\n",
    "import hvplot.xarray\n",
    "import xarray as xr\n",
    "import numpy as np\n",
    "\n",
    "from snobedo.lib.dask_utils import start_cluster, client_ip_and_port\n",
    "from common import SHARED_STORE, HV_PLOT_OPTS\n",
    "\n",
    "hv.extension('bokeh')"
   ]
  },
  {
   "cell_type": "code",
   "execution_count": null,
   "id": "6611973b-d39d-4a87-859a-6154439c5d76",
   "metadata": {},
   "outputs": [],
   "source": [
    "client = start_cluster(6, 24)\n",
    "client_ip_and_port(client)"
   ]
  },
  {
   "cell_type": "code",
   "execution_count": null,
   "id": "6ca36a67-265d-4325-9db8-6d1e66948b4e",
   "metadata": {},
   "outputs": [],
   "source": [
    "HV_PLOT_OPTS['ylabel'] = 'Net Solar W/m^2'\n",
    "\n",
    "year = 2021\n",
    "water_year = f'wy{year}'"
   ]
  },
  {
   "cell_type": "code",
   "execution_count": null,
   "id": "9afe08ca-3ed2-413b-929e-6847cda8e5d3",
   "metadata": {},
   "outputs": [],
   "source": [
    "smrf_eb = xr.open_mfdataset(\n",
    "    f'{SHARED_STORE}/erw_isnobal/GMD/{water_year}/erw/run*/smrf_energy*.nc',\n",
    "    parallel=True,\n",
    ")"
   ]
  },
  {
   "cell_type": "markdown",
   "id": "5a7e5418-dcb0-42db-b3f2-54da0f82959d",
   "metadata": {},
   "source": [
    "# Net Solar"
   ]
  },
  {
   "cell_type": "code",
   "execution_count": null,
   "id": "9320cc9b-60ff-4443-abfe-5461030888ee",
   "metadata": {},
   "outputs": [],
   "source": [
    "HRRR_solar = xr.open_mfdataset(\n",
    "    f'{SHARED_STORE}/erw_isnobal/{water_year}/erw_hrrr_solar_modis/run*/net_solar.nc',\n",
    "    parallel=True,\n",
    ")"
   ]
  },
  {
   "cell_type": "code",
   "execution_count": null,
   "id": "b2571a52-eaae-4fb6-b0c1-cfb51735ce4a",
   "metadata": {},
   "outputs": [],
   "source": [
    "HRRR_solar_cubic = xr.open_mfdataset(\n",
    "    f'{SHARED_STORE}/erw_isnobal/{water_year}/erw_hrrr_solar_modis_cubic/run*/net_solar.nc',\n",
    "    parallel=True,\n",
    ")"
   ]
  },
  {
   "cell_type": "markdown",
   "id": "33f5e526-1679-47bd-a6d6-3aa9aa5aac6f",
   "metadata": {},
   "source": [
    "## Daily mean area "
   ]
  },
  {
   "cell_type": "code",
   "execution_count": null,
   "id": "abe8aebb-0818-4273-9daf-7e9935a35671",
   "metadata": {},
   "outputs": [],
   "source": [
    "SMRF_mean_area_solar = smrf_eb.net_solar.mean(['x', 'y']).compute()\n",
    "\n",
    "HRRR_mean_area_solar = HRRR_solar.net_solar.mean(['x', 'y']).compute()\n",
    "\n",
    "HRRR_mean_area_solar_cubic = HRRR_solar_cubic.net_solar.mean(['x', 'y']).compute()"
   ]
  },
  {
   "cell_type": "markdown",
   "id": "23b79f30-4a49-4bfc-a088-27148236b336",
   "metadata": {},
   "source": [
    "### SMRF vs. HRRR "
   ]
  },
  {
   "cell_type": "code",
   "execution_count": null,
   "id": "70fe5558-6852-411b-8b79-4519c68ba0de",
   "metadata": {},
   "outputs": [],
   "source": [
    "HRRR_mean_area_solar.hvplot(label='Net Solar HRRRR MODIS', color='goldenrod').opts(**HV_PLOT_OPTS) * \\\n",
    "    HRRR_mean_area_solar_cubic.hvplot(label='Net Solar HRRRR MODIS CUBIC', color='orangered') * \\\n",
    "    SMRF_mean_area_solar.hvplot(label='Net Solar SMRF', color='dodgerblue')"
   ]
  },
  {
   "cell_type": "markdown",
   "id": "5ac40a74-c556-4135-a44e-8e3a82f493be",
   "metadata": {},
   "source": [
    "### Rolling window (daily) "
   ]
  },
  {
   "cell_type": "code",
   "execution_count": null,
   "id": "49b13e6d-0ea6-401e-9876-10469ab746b0",
   "metadata": {},
   "outputs": [],
   "source": [
    "HRRR_mean_area_solar.rolling(time=24, center=True).mean().hvplot(label='HRRR', color='goldenrod').opts(**HV_PLOT_OPTS) * \\\n",
    "    SMRF_mean_area_solar.rolling(time=24, center=True).mean().hvplot(label='SMRF', color='dodgerblue')"
   ]
  },
  {
   "cell_type": "code",
   "execution_count": null,
   "id": "532bda79-8d6c-423e-8f7f-76d89c1a1fcd",
   "metadata": {},
   "outputs": [],
   "source": [
    "# HRRR_solar.resample(time='1D').mean().net_solar.hvplot.quadmesh(x='x', y='y', widget_location='bottom', cmap='viridis', **HV_PLOT_OPTS)"
   ]
  },
  {
   "cell_type": "markdown",
   "id": "03242b45-d0ed-45a3-bb16-f53e89ca4f46",
   "metadata": {
    "tags": []
   },
   "source": [
    "# Cloud factor"
   ]
  },
  {
   "cell_type": "code",
   "execution_count": null,
   "id": "4cc64175-099f-4925-a2ab-c52687aea24c",
   "metadata": {},
   "outputs": [],
   "source": [
    "HRRR_cloud = xr.open_mfdataset(\n",
    "    f'{SHARED_STORE}/erw_isnobal/{water_year}/erw_hrrr_solar/run*/cloud_factor.nc',\n",
    "    parallel=True,\n",
    ")"
   ]
  },
  {
   "cell_type": "code",
   "execution_count": null,
   "id": "e1826bf5-fe09-44b0-ad15-abf5bfdff100",
   "metadata": {},
   "outputs": [],
   "source": [
    "smrf_out = xr.open_mfdataset(\n",
    "    f'{SHARED_STORE}/erw_isnobal/GMD/{water_year}/erw/run*/smrf_20*.nc',\n",
    "    parallel=True,\n",
    ")"
   ]
  },
  {
   "cell_type": "code",
   "execution_count": null,
   "id": "a9c22c34-cc2c-4d52-862c-7ec6f1aeb167",
   "metadata": {},
   "outputs": [],
   "source": [
    "HV_PLOT_OPTS = dict(\n",
    "    width=1200, \n",
    "    height=600,\n",
    "    ylabel='1 -> Clear sky; 0 -> Full cloud cover',\n",
    ")"
   ]
  },
  {
   "cell_type": "markdown",
   "id": "4b786932-5a78-454f-af39-ed8a41ba5e65",
   "metadata": {},
   "source": [
    "## Daily mean area"
   ]
  },
  {
   "cell_type": "code",
   "execution_count": null,
   "id": "f8ad2aca-2bfc-49a0-aae8-600ab904f52b",
   "metadata": {},
   "outputs": [],
   "source": [
    "SMRF_mean_area_solar = smrf_out.cloud_factor.mean(['x', 'y']).compute()"
   ]
  },
  {
   "cell_type": "code",
   "execution_count": null,
   "id": "c7e5357f-5298-4bd0-bd36-a30e695b2ecf",
   "metadata": {},
   "outputs": [],
   "source": [
    "HRRR_mean_area_solar = HRRR_cloud.TCDC.mean(['x', 'y']).compute()"
   ]
  },
  {
   "cell_type": "markdown",
   "id": "8132bff1-a978-4791-aa76-49b53099955f",
   "metadata": {},
   "source": [
    "### SMRF vs. HRRR "
   ]
  },
  {
   "cell_type": "code",
   "execution_count": null,
   "id": "fa4cd92d-427b-41b3-a5d8-fd4fab8947f2",
   "metadata": {},
   "outputs": [],
   "source": [
    "HRRR_mean_area_solar.hvplot(label='Cloud Factor HRRRR', color='goldenrod').opts(**HV_PLOT_OPTS) * \\\n",
    "    SMRF_mean_area_solar.hvplot(label='Cloud Factor SMRF', color='dodgerblue')"
   ]
  },
  {
   "cell_type": "markdown",
   "id": "f37c9805-d9a6-472f-b9af-c802ba99d901",
   "metadata": {},
   "source": [
    "### Rolling window (daily) "
   ]
  },
  {
   "cell_type": "code",
   "execution_count": null,
   "id": "2ae02135-296a-495a-ac75-bf41693f549a",
   "metadata": {},
   "outputs": [],
   "source": [
    "HRRR_mean_area_solar.rolling(time=24, center=True).mean().hvplot(label='HRRR', color='goldenrod').opts(**HV_PLOT_OPTS) * \\\n",
    "    SMRF_mean_area_solar.rolling(time=24, center=True).mean().hvplot(label='SMRF', color='dodgerblue')"
   ]
  },
  {
   "cell_type": "markdown",
   "id": "77840011-16d1-46b3-8010-97faceae9062",
   "metadata": {},
   "source": [
    "# Thermal"
   ]
  },
  {
   "cell_type": "code",
   "execution_count": null,
   "id": "74ca230c-ba7e-4e14-bd71-e9dbde8c0f94",
   "metadata": {},
   "outputs": [],
   "source": [
    "HRRR_therm = xr.open_mfdataset(\n",
    "    f'{SHARED_STORE}/erw_isnobal/{water_year}/erw_hrrr_solar/run*/smrf_20*.nc',\n",
    "    parallel=True,\n",
    ")"
   ]
  },
  {
   "cell_type": "markdown",
   "id": "7f468150-cddb-4102-887d-f84a41acaf46",
   "metadata": {},
   "source": [
    "## Daily mean area"
   ]
  },
  {
   "cell_type": "code",
   "execution_count": null,
   "id": "fe8bf4d7-afb5-4d97-9659-6823eabf4698",
   "metadata": {},
   "outputs": [],
   "source": [
    "SMRF_mean_area_solar = smrf_out.thermal.mean(['x', 'y']).compute()"
   ]
  },
  {
   "cell_type": "code",
   "execution_count": null,
   "id": "37cd8a74-dda5-427d-9ebc-b74b41ace718",
   "metadata": {},
   "outputs": [],
   "source": [
    "HRRR_mean_area_solar = HRRR_therm.thermal.mean(['x', 'y']).compute()"
   ]
  },
  {
   "cell_type": "markdown",
   "id": "e8ff6904-2a86-4bd0-8e54-191b20d59ee9",
   "metadata": {},
   "source": [
    "### SMRF vs. HRRR "
   ]
  },
  {
   "cell_type": "code",
   "execution_count": null,
   "id": "11644b9f-7e04-4550-bad5-ccc1c1e5a948",
   "metadata": {},
   "outputs": [],
   "source": [
    "HRRR_mean_area_solar.hvplot(label='Thermal HRRRR', color='goldenrod').opts(**HV_PLOT_OPTS) * \\\n",
    "    SMRF_mean_area_solar.hvplot(label='Thermal SMRF', color='dodgerblue')"
   ]
  },
  {
   "cell_type": "markdown",
   "id": "818a6284-9728-438c-9e8a-ac4f7aeaf258",
   "metadata": {},
   "source": [
    "### Rolling window (daily) "
   ]
  },
  {
   "cell_type": "code",
   "execution_count": null,
   "id": "ae24fc6a-fbcf-47f0-bcaa-7a402b730542",
   "metadata": {},
   "outputs": [],
   "source": [
    "HRRR_mean_area_solar.rolling(time=24, center=True).mean().hvplot(label='HRRR', color='goldenrod').opts(**HV_PLOT_OPTS) * \\\n",
    "    SMRF_mean_area_solar.rolling(time=24, center=True).mean().hvplot(label='SMRF', color='dodgerblue')"
   ]
  },
  {
   "cell_type": "markdown",
   "id": "389400a6-533a-4123-8cdd-2d6b0401456e",
   "metadata": {},
   "source": [
    "### SMRF net solar components (IR/VIS)"
   ]
  },
  {
   "cell_type": "code",
   "execution_count": null,
   "id": "e493786a-8458-453f-8b9e-b38ec1c7c5e7",
   "metadata": {},
   "outputs": [],
   "source": [
    "SMRF_mean_area_ir = smrf_solar.ir_in.mean(['x', 'y']).compute()\n",
    "SMRF_mean_area_vis = smrf_solar.vis_in.mean(['x', 'y']).compute() "
   ]
  },
  {
   "cell_type": "code",
   "execution_count": null,
   "id": "1bdb9c85-2acc-4e6e-a2e7-9c36e368b568",
   "metadata": {},
   "outputs": [],
   "source": [
    "SMRF has a max of 800, configured in the .ini file"
   ]
  },
  {
   "cell_type": "code",
   "execution_count": null,
   "id": "8bfe7d54-411d-44a8-a8c8-8650826915e9",
   "metadata": {},
   "outputs": [],
   "source": [
    "SMRF_mean_area = (SMRF_mean_area_ir + SMRF_mean_area_vis).compute()\n",
    "SMRF_mean_area[SMRF_mean_area > 800] = 800"
   ]
  },
  {
   "cell_type": "code",
   "execution_count": null,
   "id": "c804c5af-d867-4140-8412-617fa3d314f9",
   "metadata": {},
   "outputs": [],
   "source": [
    "(hv.Curve(SMRF_mean_area, label='SUM SMRF').opts(**HV_PLOT_OPTS) * \\\n",
    "    SMRF_mean_area_ir.hvplot(label='IR') * \\\n",
    "    SMRF_mean_area_vis.hvplot(label='VIS') * \\\n",
    "    hv.HLine(800).opts(color='purple')).opts(legend_position='bottom_right')"
   ]
  }
 ],
 "metadata": {
  "language_info": {
   "name": "python"
  }
 },
 "nbformat": 4,
 "nbformat_minor": 5
}
