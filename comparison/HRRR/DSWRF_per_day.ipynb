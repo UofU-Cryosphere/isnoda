{
 "cells": [
  {
   "cell_type": "code",
   "execution_count": null,
   "id": "dbbe2d76-bc0d-4118-aba7-dc6650691c56",
   "metadata": {},
   "outputs": [],
   "source": [
    "import xarray as xr\n",
    "import matplotlib as mpl\n",
    "from common import SHARED_STORE"
   ]
  },
  {
   "cell_type": "code",
   "execution_count": null,
   "id": "3096437b-fa37-461c-aa88-19d472c622c4",
   "metadata": {},
   "outputs": [],
   "source": [
    "PLOT_OPTS = dict(\n",
    "    width=1200, \n",
    "    height=1200,\n",
    "    dpi=300\n",
    ")\n",
    "year = 2021\n",
    "water_year = f'wy{year}'\n",
    "day = 20210331"
   ]
  },
  {
   "cell_type": "code",
   "execution_count": null,
   "id": "68176ca3-68f9-461a-94c5-ccfbb4adb0a1",
   "metadata": {},
   "outputs": [],
   "source": [
    "smeshr_path = f'{SHARED_STORE}/SMESHR/net_HRRR_MODIS_cubic/{water_year}'\n",
    "smrf_path = f'{SHARED_STORE}/erw_isnobal/GMD/wy2021/erw'"
   ]
  },
  {
   "cell_type": "code",
   "execution_count": null,
   "id": "be20d5a0-7087-4d3a-a235-b5df8824b421",
   "metadata": {},
   "outputs": [],
   "source": [
    "smeshr = xr.open_mfdataset(\n",
    "    smeshr_path + f'/*{day}*',\n",
    ")"
   ]
  },
  {
   "cell_type": "code",
   "execution_count": null,
   "id": "0073803f-1a7c-4da2-87d2-7527ac2118a1",
   "metadata": {},
   "outputs": [],
   "source": [
    "smrf = xr.open_mfdataset(\n",
    "    smrf_path + f'/run{day}/smrf_20*.nc',\n",
    ")"
   ]
  },
  {
   "cell_type": "markdown",
   "id": "6b374b19-71b6-48b9-98d8-c7f1c5881dce",
   "metadata": {},
   "source": [
    "## HRRR DSWRF 20201031"
   ]
  },
  {
   "cell_type": "code",
   "execution_count": null,
   "id": "98774f71-2dde-4588-ac10-24478c295f5d",
   "metadata": {},
   "outputs": [],
   "source": [
    "smeshr.net_solar.groupby('time.hour').mean().plot(col='hour', col_wrap=4, cmap=mpl.cm.cividis);"
   ]
  },
  {
   "cell_type": "markdown",
   "id": "3c877bf0-c303-406a-9ee0-8d8c7c1bb054",
   "metadata": {},
   "source": [
    "## TopoLib Shade "
   ]
  },
  {
   "cell_type": "code",
   "execution_count": null,
   "id": "550cf0c0-28b8-47d0-9d5f-c2ee4a6d5a14",
   "metadata": {},
   "outputs": [],
   "source": [
    "smrf.cloud_factor.groupby('time.hour').mean().plot(col='hour', col_wrap=4, cmap=mpl.cm.cividis)"
   ]
  }
 ],
 "metadata": {
  "language_info": {
   "name": "python"
  }
 },
 "nbformat": 4,
 "nbformat_minor": 5
}
