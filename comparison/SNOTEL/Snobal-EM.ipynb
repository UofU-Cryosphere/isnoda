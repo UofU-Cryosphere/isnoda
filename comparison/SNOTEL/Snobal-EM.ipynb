{
 "cells": [
  {
   "cell_type": "code",
   "execution_count": null,
   "id": "d0dcb061-b6b7-4e29-ad60-f4458187655c",
   "metadata": {},
   "outputs": [],
   "source": [
    "from common import *\n",
    "from matplotlib.offsetbox import AnchoredText\n",
    "\n",
    "use_hvplot()"
   ]
  },
  {
   "cell_type": "code",
   "execution_count": null,
   "id": "a9039ec9-e757-42fa-a4db-98482fe6d46c",
   "metadata": {},
   "outputs": [],
   "source": [
    "client = start_cluster(16, 24)\n",
    "client_ip_and_port(client)"
   ]
  },
  {
   "cell_type": "markdown",
   "id": "d66877f4-4261-4790-8dea-61880db95e66",
   "metadata": {},
   "source": [
    "## Year"
   ]
  },
  {
   "cell_type": "code",
   "execution_count": null,
   "id": "af7e1e9f-1fec-415c-b1cc-908c6cb333eb",
   "metadata": {},
   "outputs": [],
   "source": [
    "year = 2021\n",
    "water_year = f'wy{year}'\n",
    "# A frist rough filter to reduce number of files read\n",
    "# Will be refined with below helper `with_snow`\n",
    "time=slice(f\"{year -1}-10-01\", f\"{year}-07-10\")"
   ]
  },
  {
   "cell_type": "markdown",
   "id": "2b513555-890b-456f-8132-a2a53ace818f",
   "metadata": {},
   "source": [
    "## Helpers"
   ]
  },
  {
   "cell_type": "code",
   "execution_count": null,
   "id": "6ab1918c-1406-4a2a-8da2-310f2fb2fd0f",
   "metadata": {},
   "outputs": [],
   "source": [
    "def net_lw(sw, lw, em):\n",
    "    # From pysnobal:\n",
    "    # https://github.com/USDA-ARS-NWRC/pysnobal/blob/bf8b41c71e3e54ae654ae04005ddf72566c47ee6/pysnobal/c_snobal/libsnobal/_net_rad.c#L36\n",
    "    lw_out = ((sw.net_solar + 0.98 * lw.thermal - em.net_rad) / 0.98).rename('lw_out')\n",
    "    return (lw.thermal - lw_out).rename('net_lw')\n",
    "\n",
    "\n",
    "def snow_dates(em):\n",
    "    return slice(em.time.min(), em.time.max())"
   ]
  },
  {
   "cell_type": "markdown",
   "id": "823f4443-781a-4f84-8936-ca53bd5a0d9e",
   "metadata": {},
   "source": [
    "## SNOTEL "
   ]
  },
  {
   "cell_type": "code",
   "execution_count": null,
   "id": "48a2be99-dadf-46f2-846a-f33f4134f64a",
   "metadata": {},
   "outputs": [],
   "source": [
    "snotel_sites = SnotelLocations()\n",
    "snotel_sites.load_from_json(SNOTEL_DIR / 'site-locations/snotel_sites.json')\n",
    "\n",
    "butte_args = dict(x=snotel_sites.Butte.lon, y=snotel_sites.Butte.lat, method='nearest')\n",
    "schofield_args = dict(x=snotel_sites.Schofield.lon, y=snotel_sites.Schofield.lat, method='nearest')"
   ]
  },
  {
   "cell_type": "markdown",
   "id": "bb52d74d-463a-4813-be1d-5ead2cfb66f4",
   "metadata": {},
   "source": [
    "# iSnobal"
   ]
  },
  {
   "cell_type": "markdown",
   "id": "d599b620-b2f1-4901-b618-d2e03d7b16cd",
   "metadata": {},
   "source": [
    "Each energy term is aggregated by stattion:\n",
    "* Time is filtered to only days with non-zero net radiation term\n",
    "* Forcing data for solar and thermal resampled to daily mean"
   ]
  },
  {
   "cell_type": "markdown",
   "id": "61940596-6139-4b12-bbdc-ba9733c6ec02",
   "metadata": {
    "tags": []
   },
   "source": [
    "## Base "
   ]
  },
  {
   "cell_type": "code",
   "execution_count": null,
   "id": "0ebc23ab-1a29-44b0-92b2-7f395c66fa66",
   "metadata": {},
   "outputs": [],
   "source": [
    "snobal_em_base = xr.open_mfdataset(\n",
    "    (SNOBAL_DIR / water_year / 'erw/*/em.nc').as_posix(),\n",
    "    chunks={'time': 744, 'y' :1000, 'x': 1000},\n",
    "    drop_variables=['cold_content', 'evaporation', 'precip_advected', 'snow_soil', 'snowmelt', 'SWI'],\n",
    "    parallel=True,\n",
    ").sel(time=time)\n",
    "\n",
    "snobal_sw_base = xr.open_mfdataset(\n",
    "    (SNOBAL_DIR / water_year / 'erw/*/smrf_energy_*.nc').as_posix(),\n",
    "    chunks={'time': 744, 'y' :1000, 'x': 1000},\n",
    "    drop_variables=['albedo_ir', 'albedo_vis', ],\n",
    "    parallel=True,\n",
    ")\n",
    "\n",
    "snobal_lw_base = xr.open_mfdataset(\n",
    "    (SNOBAL_DIR / water_year / 'erw/*/smrf_20*.nc').as_posix(),\n",
    "    chunks={'time': 744, 'y' :1000, 'x': 1000},\n",
    "    drop_variables=['precip_temp', 'percent_snow', 'precip', 'snow_density', 'storm_days', 'wind_speed', 'vapor_pressure', 'air_temp'],\n",
    "    parallel=True,\n",
    ")"
   ]
  },
  {
   "cell_type": "code",
   "execution_count": null,
   "id": "24011ff1-c51b-47d8-a093-965ecdadc4f3",
   "metadata": {},
   "outputs": [],
   "source": [
    "butte_em_smrf = snobal_em_base.sel(**butte_args).squeeze(['x', 'y']).compute()\n",
    "butte_em_smrf = butte_em_smrf.where(butte_em_smrf.net_rad != 0, drop=True).resample(time=\"1D\").mean()\n",
    "butte_snow_dates = snow_dates(butte_em_smrf)\n",
    "butte_sw_smrf = snobal_sw_base.sel(time=butte_snow_dates).sel(**butte_args).squeeze(['x', 'y']).compute()\n",
    "butte_sw_smrf = butte_sw_smrf.where(butte_sw_smrf.net_solar > 0).resample(time=\"1D\").mean()\n",
    "butte_lw_smrf = snobal_lw_base.sel(time=butte_snow_dates).sel(**butte_args).squeeze(['x', 'y']).compute()\n",
    "butte_lw_smrf = butte_lw_smrf.resample(time=\"1D\").mean()\n",
    "\n",
    "schofield_em_smrf = snobal_em_base.sel(**schofield_args).squeeze(['x', 'y']).compute()\n",
    "schofield_em_smrf = schofield_em_smrf.where(schofield_em_smrf.net_rad != 0, drop=True).resample(time=\"1D\").mean()\n",
    "schofield_snow_dates = snow_dates(schofield_em_smrf)\n",
    "schofield_sw_smrf = snobal_sw_base.sel(time=schofield_snow_dates).sel(**schofield_args).squeeze(['x', 'y']).compute()\n",
    "schofield_sw_smrf = schofield_sw_smrf.where(schofield_sw_smrf.net_solar > 0).resample(time=\"1D\").mean()\n",
    "schofield_lw_smrf = snobal_lw_base.sel(time=schofield_snow_dates).sel(**schofield_args).squeeze(['x', 'y']).compute()\n",
    "schofield_lw_smrf = schofield_lw_smrf.resample(time=\"1D\").mean()"
   ]
  },
  {
   "cell_type": "code",
   "execution_count": null,
   "id": "039f3c64-b958-4bd7-93fd-94b41971aaaa",
   "metadata": {},
   "outputs": [],
   "source": [
    "del snobal_em_base\n",
    "del snobal_sw_base\n",
    "del snobal_lw_base"
   ]
  },
  {
   "cell_type": "markdown",
   "id": "ca44d394-6b6c-41cd-88c1-11ceaca7c542",
   "metadata": {
    "tags": []
   },
   "source": [
    "## HRRR"
   ]
  },
  {
   "cell_type": "code",
   "execution_count": null,
   "id": "7310126a-b2ce-40bc-b885-d2edceead47d",
   "metadata": {},
   "outputs": [],
   "source": [
    "snobal_em_hrrr = xr.open_mfdataset(\n",
    "    (SNOBAL_DIR / water_year / 'erw_hrrr_solar/*/em.nc').as_posix(),\n",
    "    chunks={'time': 744, 'y' :1000, 'x': 1000},\n",
    "    drop_variables=['cold_content', 'evaporation', 'precip_advected', 'snow_soil', 'snowmelt', 'SWI'],\n",
    "    parallel=True,\n",
    ").sel(time=time)\n",
    "\n",
    "snobal_sw_hrrr = xr.open_mfdataset(\n",
    "    (SNOBAL_DIR / water_year / 'erw_hrrr_solar/*/net_solar.nc').as_posix(),\n",
    "    chunks={'time': 744, 'y' :1000, 'x': 1000},\n",
    "    drop_variables=['DSWRF', 'illumination_angle', 'zenith', 'azimuth', 'albedo_vis', 'albedo_ir'],\n",
    "    parallel=True,\n",
    ")\n",
    "\n",
    "snobal_lw_hrrr = xr.open_mfdataset(\n",
    "    (SNOBAL_DIR / water_year / 'erw_hrrr_solar/*/smrf_20*.nc').as_posix(),\n",
    "    chunks={'time': 744, 'y' :1000, 'x': 1000},\n",
    "    drop_variables=['precip_temp', 'percent_snow', 'precip', 'snow_density', 'storm_days', 'wind_speed', 'vapor_pressure', 'air_temp'],\n",
    "    parallel=True,\n",
    ")"
   ]
  },
  {
   "cell_type": "code",
   "execution_count": null,
   "id": "345b0620-c89d-443a-8be7-7a17cf0699f6",
   "metadata": {},
   "outputs": [],
   "source": [
    "butte_em_hrrr = snobal_em_hrrr.sel(**butte_args).squeeze(['x', 'y']).compute()\n",
    "butte_em_hrrr = butte_em_hrrr.where(butte_em_hrrr.net_rad != 0, drop=True).resample(time=\"1D\").mean()\n",
    "butte_snow_dates = snow_dates(butte_em_hrrr)\n",
    "butte_sw_hrrr = snobal_sw_hrrr.sel(time=butte_snow_dates).sel(**butte_args).squeeze(['x', 'y']).compute()\n",
    "butte_sw_hrrr = butte_sw_hrrr.where(butte_sw_hrrr.net_solar > 0).resample(time=\"1D\").mean()\n",
    "butte_lw_hrrr = snobal_lw_hrrr.sel(time=butte_snow_dates).sel(**butte_args).squeeze(['x', 'y']).compute()\n",
    "butte_lw_hrrr = butte_lw_hrrr.resample(time=\"1D\").mean()\n",
    "\n",
    "schofield_em_hrrr = snobal_em_hrrr.sel(**schofield_args).squeeze(['x', 'y']).compute()\n",
    "schofield_em_hrrr = schofield_em_hrrr.where(schofield_em_hrrr.net_rad != 0, drop=True).resample(time=\"1D\").mean()\n",
    "schofield_snow_dates = snow_dates(schofield_em_hrrr)\n",
    "schofield_sw_hrrr = snobal_sw_hrrr.sel(time=schofield_snow_dates).sel(**schofield_args).squeeze(['x', 'y']).compute()\n",
    "schofield_sw_hrrr = schofield_sw_hrrr.where(schofield_sw_hrrr.net_solar > 0).resample(time=\"1D\").mean()\n",
    "schofield_lw_hrrr = snobal_lw_hrrr.sel(time=schofield_snow_dates).sel(**schofield_args).squeeze(['x', 'y']).compute()\n",
    "schofield_lw_hrrr = schofield_lw_hrrr.resample(time=\"1D\").mean()"
   ]
  },
  {
   "cell_type": "code",
   "execution_count": null,
   "id": "4050a62c-4d71-4bc4-9aa9-194b808c2045",
   "metadata": {},
   "outputs": [],
   "source": [
    "del snobal_em_hrrr\n",
    "del snobal_sw_hrrr\n",
    "del snobal_lw_hrrr"
   ]
  },
  {
   "cell_type": "markdown",
   "id": "df9731a2-635b-4aae-9651-b2574b7da0bd",
   "metadata": {
    "tags": []
   },
   "source": [
    "## HRRR-MODIS"
   ]
  },
  {
   "cell_type": "code",
   "execution_count": null,
   "id": "6e287096-50a1-4e0b-a10b-038c6ce46fa4",
   "metadata": {},
   "outputs": [],
   "source": [
    "snobal_em_hrrr_modis = xr.open_mfdataset(\n",
    "    (SNOBAL_DIR / water_year / 'erw_hrrr_solar_modis_cubic/*/em.nc').as_posix(),\n",
    "    chunks={'time': 744, 'y' :1000, 'x': 1000},\n",
    "    drop_variables=['cold_content', 'evaporation', 'precip_advected', 'snow_soil', 'snowmelt', 'SWI'],\n",
    "    parallel=True,\n",
    ").sel(time=time)\n",
    "\n",
    "snobal_sw_hrrr_modis = xr.open_mfdataset(\n",
    "    (SNOBAL_DIR / water_year / 'erw_hrrr_solar_modis_cubic/*/net_solar.nc').as_posix(),\n",
    "    chunks={'time': 744, 'y' :1000, 'x': 1000 },\n",
    "    drop_variables=['DSWRF', 'illumination_angle', 'zenith', 'azimuth', 'albedo_vis', 'albedo_ir'],\n",
    "    parallel=True,\n",
    ")\n",
    "\n",
    "snobal_lw_hrrr_modis = xr.open_mfdataset(\n",
    "    (SNOBAL_DIR / water_year / 'erw_hrrr_solar_modis_cubic/*/smrf_20*.nc').as_posix(),\n",
    "    chunks={'time': 744, 'y' :1000, 'x': 1000 },\n",
    "    drop_variables=['precip_temp', 'percent_snow', 'precip', 'snow_density', 'storm_days', 'wind_speed', 'vapor_pressure', 'air_temp'],\n",
    "    parallel=True,\n",
    ")"
   ]
  },
  {
   "cell_type": "code",
   "execution_count": null,
   "id": "100adf31-11e2-4d46-8db4-9f54a046b536",
   "metadata": {},
   "outputs": [],
   "source": [
    "butte_em_hrrr_modis = snobal_em_hrrr_modis.sel(**butte_args).squeeze(['x', 'y']).compute()\n",
    "butte_em_hrrr_modis = butte_em_hrrr_modis.where(butte_em_hrrr_modis.net_rad != 0, drop=True).resample(time=\"1D\").mean()\n",
    "butte_snow_dates = snow_dates(butte_em_hrrr_modis)\n",
    "butte_sw_hrrr_modis = snobal_sw_hrrr_modis.sel(time=butte_snow_dates).sel(**butte_args).squeeze(['x', 'y']).compute()\n",
    "butte_sw_hrrr_modis = butte_sw_hrrr_modis.where(butte_sw_hrrr_modis.net_solar > 0).resample(time=\"1D\").mean()\n",
    "butte_lw_hrrr_modis = snobal_lw_hrrr_modis.sel(time=butte_snow_dates).sel(**butte_args).squeeze(['x', 'y']).compute()\n",
    "butte_lw_hrrr_modis = butte_lw_hrrr_modis.resample(time=\"1D\").mean()\n",
    "\n",
    "schofield_em_hrrr_modis = snobal_em_hrrr_modis.sel(**schofield_args).squeeze(['x', 'y']).compute()\n",
    "schofield_em_hrrr_modis = schofield_em_hrrr_modis.where(schofield_em_hrrr_modis.net_rad != 0, drop=True).resample(time=\"1D\").mean()\n",
    "schofield_snow_dates = snow_dates(schofield_em_hrrr_modis)\n",
    "schofield_sw_hrrr_modis = snobal_sw_hrrr_modis.sel(time=schofield_snow_dates).sel(**schofield_args).squeeze(['x', 'y']).compute()\n",
    "schofield_sw_hrrr_modis = schofield_sw_hrrr_modis.where(schofield_sw_hrrr_modis.net_solar > 0).resample(time=\"1D\").mean()\n",
    "schofield_lw_hrrr_modis = snobal_lw_hrrr_modis.sel(time=schofield_snow_dates).sel(**schofield_args).squeeze(['x', 'y']).compute()\n",
    "schofield_lw_hrrr_modis = schofield_lw_hrrr_modis.resample(time=\"1D\").mean()"
   ]
  },
  {
   "cell_type": "code",
   "execution_count": null,
   "id": "06820cb5-8ee2-476b-bd17-1c6ac8c5b511",
   "metadata": {},
   "outputs": [],
   "source": [
    "del snobal_em_hrrr_modis\n",
    "del snobal_sw_hrrr_modis\n",
    "del snobal_lw_hrrr_modis"
   ]
  },
  {
   "cell_type": "markdown",
   "id": "7084d9c0-4f7d-49a7-9402-32e384b1d2d8",
   "metadata": {},
   "source": [
    "# EM In- and Out-Energy"
   ]
  },
  {
   "cell_type": "markdown",
   "id": "3da332c1-99fb-4ba7-a137-9ce29b88a9e2",
   "metadata": {},
   "source": [
    "### Helpers "
   ]
  },
  {
   "cell_type": "code",
   "execution_count": null,
   "id": "98502852-c13a-429f-9ab2-d408f8ad9662",
   "metadata": {},
   "outputs": [],
   "source": [
    "def with_eb(data, em):\n",
    "    return data.where(~em.sum_EB.isnull())\n",
    "\n",
    "def no_snow(em):\n",
    "    return em.sum_EB.where(em.sum_EB.isnull(), 0, True).fillna(0)"
   ]
  },
  {
   "cell_type": "code",
   "execution_count": null,
   "id": "abcf6ae9-f763-47d9-a540-151bead688b7",
   "metadata": {},
   "outputs": [],
   "source": [
    "def em_plots(em, lw, sw, label):\n",
    "    lw_net = net_lw(sw, lw, em)\n",
    "    \n",
    "    return with_eb(sw.net_solar, em).hvplot(label='Net Solar').opts(color=hv.Palette('Colorblind'), **HV_PLOT_OPTS, title=label) * \\\n",
    "           with_eb(em.net_rad, em).hvplot(label='Net Radiation') * \\\n",
    "           with_eb(lw_net, em).hvplot(label='Net LW') * \\\n",
    "           with_eb(em.sensible_heat, em).hvplot(label='Sensible Heat') * \\\n",
    "           with_eb(em.latent_heat, em).hvplot(label='Latent Heat') * \\\n",
    "           with_eb(em.sum_EB, em).hvplot(label='Sum EB')\n",
    "\n",
    "def em_plot_mpl_stacked(top, bottom, title):\n",
    "    figure_opts = dict(figsize=(7,6), dpi=300,)\n",
    "    fig, axes = plt.subplots(2, 1, sharex=True, **figure_opts)\n",
    "    plt.subplots_adjust(hspace=0.075)\n",
    "    \n",
    "    em_plots_mpl(top[0], top[1], top[2], 'Butte', axes[0])\n",
    "    em_plots_mpl(bottom[0], bottom[1], bottom[2], 'Schofield Pass', axes[1])\n",
    "    \n",
    "    axes[1].legend(\n",
    "        frameon=False,\n",
    "        loc='lower center',\n",
    "        bbox_to_anchor=(0.5, -0.3),\n",
    "        ncol=4,\n",
    "        borderaxespad=0.15, \n",
    "        fontsize=8\n",
    "    )\n",
    "    at = AnchoredText(\n",
    "        title, \n",
    "        prop=dict(size=9, weight='bold'), \n",
    "        frameon=False, \n",
    "        loc='upper center', \n",
    "        pad=0.3, \n",
    "        borderpad=0.25,\n",
    "    )\n",
    "    axes[0].add_artist(at)\n",
    "\n",
    "def em_plots_mpl(em, lw, sw, label, ax, single=False):\n",
    "    if single:\n",
    "        figure = plt.figure(layout='constrained', figsize=(10, 4), dpi=300)\n",
    "        ax = figure.gca()\n",
    "    \n",
    "    lw_net = net_lw(sw, lw, em)\n",
    "    \n",
    "    plot_opts = dict(\n",
    "        ax=ax,\n",
    "        lw=0.95,\n",
    "        alpha=0.85\n",
    "    )\n",
    "    \n",
    "    with_eb(sw.net_solar, em).plot(label='Net Solar', **plot_opts, color='royalblue')\n",
    "    with_eb(em.net_rad, em).plot(label='Net Radiation', **plot_opts, color='firebrick')\n",
    "    with_eb(lw_net, em).plot(label='Net Longwave', **plot_opts, color='tan')\n",
    "    with_eb(em.sum_EB, em).plot(label='Sum of Energy', **plot_opts, color='blueviolet')\n",
    "    with_eb(em.sensible_heat, em).plot(label='Sensible Heat', **plot_opts, color='orange')\n",
    "    with_eb(em.latent_heat, em).plot(label='Latent Heat', **plot_opts, color='seagreen')\n",
    "    \n",
    "    ns = no_snow(em)\n",
    "    ax.scatter(ns.time.values, ns.values, label='No Snow', color='grey', marker='.', alpha=0.75, s=35, edgecolors='none')\n",
    "    \n",
    "    ax.axvspan(np.datetime64(f'{year - 1}-10-01'), em.time.min().values, color='grey', alpha=0.2)\n",
    "    ax.axvspan(em.time.max().values, np.datetime64(f'{year}-07-10'), color='grey', alpha=0.2)\n",
    "    \n",
    "    ax.set_title('')\n",
    "    ax.set_ylabel(r'$W/m^2$')\n",
    "    ax.set_xlabel('')\n",
    "    ax.set_xlim(np.datetime64(f'{year - 1}-10-01'), np.datetime64(f'{year}-07-10'))\n",
    "    ax.set_xticks(\n",
    "        ax.get_xticks(),\n",
    "        [f'{year-1}-10', '11', '12', f'{year}-01', '02', '03', '04', '05', '06', '07'],\n",
    "        rotation=0, ha='center', va='top', fontsize='small'\n",
    "    )\n",
    "    ax.set_ylim(-100, 200)\n",
    "    ax.set_yticks(\n",
    "        ax.get_yticks(),\n",
    "        ['', -50, 0, 50, 100, 150, ''],\n",
    "        fontsize='small',\n",
    "    )\n",
    "                 \n",
    "    if label:\n",
    "        at = AnchoredText(\n",
    "            label, \n",
    "            prop=dict(size='small', style='italic'), \n",
    "            frameon=True, \n",
    "            loc='upper left', \n",
    "            pad=0.3, \n",
    "            borderpad=0.25,\n",
    "        )\n",
    "        at.patch.set_boxstyle(\"round\", pad=0., rounding_size=0.2)\n",
    "        at.patch.set(edgecolor='none', alpha=0.7)\n",
    "        ax.add_artist(at)\n"
   ]
  },
  {
   "cell_type": "markdown",
   "id": "c5c3aa69-59b7-4f64-96e0-3ca75c96dba9",
   "metadata": {
    "tags": []
   },
   "source": [
    "## Base"
   ]
  },
  {
   "cell_type": "code",
   "execution_count": null,
   "id": "59becb34-340e-4fc1-9b4d-9c7587f92cf0",
   "metadata": {},
   "outputs": [],
   "source": [
    "em_plot_mpl_stacked(\n",
    "    [butte_em_smrf, butte_lw_smrf, butte_sw_smrf],\n",
    "    [schofield_em_smrf, schofield_lw_smrf, schofield_sw_smrf],\n",
    "    'SMRF'\n",
    ")"
   ]
  },
  {
   "cell_type": "markdown",
   "id": "f56bd930-6241-49df-886b-3d3d82119483",
   "metadata": {
    "tags": []
   },
   "source": [
    "### Butte"
   ]
  },
  {
   "cell_type": "code",
   "execution_count": null,
   "id": "f37aa011-509a-438a-b5b7-a74c5536e2de",
   "metadata": {},
   "outputs": [],
   "source": [
    "em_plots(butte_em_smrf, butte_lw_smrf, butte_sw_smrf, 'Butte')"
   ]
  },
  {
   "cell_type": "code",
   "execution_count": null,
   "id": "82babd18-ca06-4dcd-973d-53c23f5d6716",
   "metadata": {},
   "outputs": [],
   "source": [
    "# em_plots_mpl(butte_em_smrf, butte_lw_smrf, butte_sw_smrf, 'Butte', None, True)"
   ]
  },
  {
   "cell_type": "markdown",
   "id": "e9dbce3f-7fa2-4fe3-88c3-c8e693b16a5d",
   "metadata": {},
   "source": [
    "### Schofield Pass "
   ]
  },
  {
   "cell_type": "code",
   "execution_count": null,
   "id": "564ea985-f7e5-43e1-89d1-b9a8961ad469",
   "metadata": {},
   "outputs": [],
   "source": [
    "em_plots(schofield_em_smrf, schofield_lw_smrf, schofield_sw_smrf, 'Schofield Pass')"
   ]
  },
  {
   "cell_type": "code",
   "execution_count": null,
   "id": "2911dcaf-c625-4d30-b280-7f978e4d79fd",
   "metadata": {},
   "outputs": [],
   "source": [
    "# em_plots_mpl(schofield_em_smrf, schofield_lw_smrf, schofield_sw_smrf, 'Schofield Pass', None, True)"
   ]
  },
  {
   "cell_type": "markdown",
   "id": "f6520e09-7ef0-4fb1-a9a4-268d165c4791",
   "metadata": {},
   "source": [
    "## HRRR"
   ]
  },
  {
   "cell_type": "code",
   "execution_count": null,
   "id": "88376a9b-0520-4803-a7cc-138e3d5e4296",
   "metadata": {},
   "outputs": [],
   "source": [
    "em_plot_mpl_stacked(\n",
    "    [butte_em_hrrr, butte_lw_hrrr, butte_sw_hrrr],\n",
    "    [schofield_em_hrrr, schofield_lw_hrrr, schofield_sw_hrrr],\n",
    "    'HRRR-SC'\n",
    ")"
   ]
  },
  {
   "cell_type": "markdown",
   "id": "f84efa3e-0de4-4248-b587-85def01a75be",
   "metadata": {},
   "source": [
    "### Butte"
   ]
  },
  {
   "cell_type": "code",
   "execution_count": null,
   "id": "1ca96a33-6b42-447e-9c53-384f4ce0f4ce",
   "metadata": {},
   "outputs": [],
   "source": [
    "em_plots(butte_em_hrrr, butte_lw_hrrr, butte_sw_hrrr, 'Butte')"
   ]
  },
  {
   "cell_type": "code",
   "execution_count": null,
   "id": "412ef905-2e88-4bdd-8674-8124c2736c47",
   "metadata": {},
   "outputs": [],
   "source": [
    "# em_plots_mpl(butte_em_hrrr, butte_lw_hrrr, butte_sw_hrrr, 'Butte', None, True)"
   ]
  },
  {
   "cell_type": "markdown",
   "id": "ab0a966e-1124-4198-9dcd-4a5491c58375",
   "metadata": {},
   "source": [
    "### Schofield "
   ]
  },
  {
   "cell_type": "code",
   "execution_count": null,
   "id": "636e0e11-b468-438d-8a24-d53f0b115292",
   "metadata": {},
   "outputs": [],
   "source": [
    "em_plots(schofield_em_hrrr, schofield_lw_hrrr, schofield_sw_hrrr, 'Schofield Pass')"
   ]
  },
  {
   "cell_type": "code",
   "execution_count": null,
   "id": "ec6c6b19-a191-40d7-8075-df904b9d86d3",
   "metadata": {},
   "outputs": [],
   "source": [
    "# em_plots_mpl(schofield_em_hrrr, schofield_lw_hrrr, schofield_sw_hrrr, 'Schofield Pass', None, True)"
   ]
  },
  {
   "cell_type": "markdown",
   "id": "40d2f85e-968d-42a5-9a9c-26f5d6571695",
   "metadata": {},
   "source": [
    "### HRRR-MODIS"
   ]
  },
  {
   "cell_type": "code",
   "execution_count": null,
   "id": "0355e707-6483-47a3-b95a-43b7bbe4fe51",
   "metadata": {},
   "outputs": [],
   "source": [
    "em_plot_mpl_stacked(\n",
    "    [butte_em_hrrr_modis, butte_lw_hrrr_modis, butte_sw_hrrr_modis],\n",
    "    [schofield_em_hrrr_modis, schofield_lw_hrrr_modis, schofield_sw_hrrr_modis],\n",
    "    'HRRR-MODIS'\n",
    ")"
   ]
  },
  {
   "cell_type": "markdown",
   "id": "c6945c07-787f-4ac5-baad-319c827e2ef3",
   "metadata": {},
   "source": [
    "### Butte"
   ]
  },
  {
   "cell_type": "code",
   "execution_count": null,
   "id": "2e11b5a2-9532-48b6-8051-28375d8bfaff",
   "metadata": {},
   "outputs": [],
   "source": [
    "em_plots(butte_em_hrrr_modis, butte_lw_hrrr_modis, butte_sw_hrrr_modis, 'Butte')"
   ]
  },
  {
   "cell_type": "code",
   "execution_count": null,
   "id": "3a5455d9-fd20-4e32-8fb4-2eb2f8dfdf89",
   "metadata": {},
   "outputs": [],
   "source": [
    "# em_plots_mpl(butte_em_hrrr_modis, butte_lw_hrrr_modis, butte_sw_hrrr_modis, 'Butte', None, True)"
   ]
  },
  {
   "cell_type": "markdown",
   "id": "97f1f46f-228a-4720-bb8d-ea77adcc2045",
   "metadata": {},
   "source": [
    "### Schofield "
   ]
  },
  {
   "cell_type": "code",
   "execution_count": null,
   "id": "95359dc4-1b19-456a-bc1e-94e805ffe684",
   "metadata": {},
   "outputs": [],
   "source": [
    "em_plots(schofield_em_hrrr_modis, schofield_lw_hrrr_modis, schofield_sw_hrrr_modis, 'Schofield Pass')"
   ]
  },
  {
   "cell_type": "code",
   "execution_count": null,
   "id": "6ad358c5-ff6e-47b4-924a-890e94114971",
   "metadata": {},
   "outputs": [],
   "source": [
    "# em_plots_mpl(schofield_em_hrrr_modis, schofield_lw_hrrr_modis, schofield_sw_hrrr_modis, 'Schofield Pass', None, True)"
   ]
  },
  {
   "cell_type": "markdown",
   "id": "8574a57d-26aa-4a10-a275-7990bb2404fc",
   "metadata": {},
   "source": [
    "# Difference in EM "
   ]
  },
  {
   "cell_type": "code",
   "execution_count": null,
   "id": "0a4dde88-588a-423f-929c-d897b3a3971d",
   "metadata": {},
   "outputs": [],
   "source": [
    "def em_diff_plots(em_base, lw_base, sw_base, em, lw, sw, label):\n",
    "    lw_base_net = net_lw(sw_base, lw_base, em_base)\n",
    "    lw_net = net_lw(sw, lw, em)\n",
    "    \n",
    "    sw_net_diff = (sw.net_solar - sw_base.net_solar).rename('Net Solar diff')\n",
    "    lw_net_diff = (lw_net - lw_base_net).rename('Net LW diff')\n",
    "    net_rad_diff = (em.net_rad - em_base.net_rad).rename('Net Rad diff')\n",
    "\n",
    "    return sw_net_diff.hvplot(label='Net Solar Diff', color='steelblue').opts(**HV_PLOT_OPTS, title=label) * \\\n",
    "            hv.Area(net_rad_diff, label='Net Rad Diff').opts(color='coral', alpha=0.9) * \\\n",
    "            lw_net_diff.hvplot(label='Net LW Diff', color='olive', alpha=0.9)"
   ]
  },
  {
   "cell_type": "markdown",
   "id": "8b6c121e-c0cc-4a09-b993-9c85128821df",
   "metadata": {},
   "source": [
    "## HRRR\n",
    "### Butte"
   ]
  },
  {
   "cell_type": "code",
   "execution_count": null,
   "id": "b2a0ac74-92ae-462f-b20e-ac7200b89a8f",
   "metadata": {},
   "outputs": [],
   "source": [
    "em_diff_plots(\n",
    "    butte_em_smrf, butte_lw_smrf, butte_sw_smrf, \n",
    "    butte_em_hrrr, butte_lw_hrrr, butte_sw_hrrr, \n",
    "    'Butte'\n",
    ")"
   ]
  },
  {
   "cell_type": "markdown",
   "id": "60852f18-7d27-49aa-8052-769d6f89ce2e",
   "metadata": {},
   "source": [
    "### Schofield Pass"
   ]
  },
  {
   "cell_type": "code",
   "execution_count": null,
   "id": "0ede7bb3-09cb-4580-bbdd-c9f46d474fd4",
   "metadata": {},
   "outputs": [],
   "source": [
    "em_diff_plots(\n",
    "    schofield_em_smrf, schofield_lw_smrf, schofield_sw_smrf, \n",
    "    schofield_em_hrrr, schofield_lw_hrrr, schofield_sw_hrrr, \n",
    "    'Schofield Pass'\n",
    ")"
   ]
  },
  {
   "cell_type": "markdown",
   "id": "8d91472f-4140-4ba8-983e-06ab97b12c7b",
   "metadata": {},
   "source": [
    "## HRRR MODIS\n",
    "### Butte"
   ]
  },
  {
   "cell_type": "code",
   "execution_count": null,
   "id": "49c7b1ff-3781-478c-b9ab-985b9117ab99",
   "metadata": {},
   "outputs": [],
   "source": [
    "em_diff_plots(\n",
    "    butte_em_smrf, butte_lw_smrf, butte_sw_smrf, \n",
    "    butte_em_hrrr_modis, butte_lw_hrrr_modis, butte_sw_hrrr_modis, \n",
    "    'Butte'\n",
    ")"
   ]
  },
  {
   "cell_type": "markdown",
   "id": "9dd3d24b-ac9d-48c9-8446-539bfbe9f76b",
   "metadata": {},
   "source": [
    "### Schofield Pass "
   ]
  },
  {
   "cell_type": "code",
   "execution_count": null,
   "id": "38f45e34-de86-45b7-a67b-3326664ab5f3",
   "metadata": {},
   "outputs": [],
   "source": [
    "em_diff_plots(\n",
    "    schofield_em_smrf, schofield_lw_smrf, schofield_sw_smrf, \n",
    "    schofield_em_hrrr_modis, schofield_lw_hrrr_modis, schofield_sw_hrrr_modis, \n",
    "    'Schofield Pass'\n",
    ")"
   ]
  },
  {
   "cell_type": "markdown",
   "id": "352dce9e-4608-438b-ae6b-ce062e10d78a",
   "metadata": {},
   "source": [
    "# EM Differences"
   ]
  },
  {
   "cell_type": "markdown",
   "id": "8e5fe142-0412-4afb-a0df-bd4dd181fab9",
   "metadata": {},
   "source": [
    "## NOTE\n",
    "\n",
    "Difference always subtract SMRF as the baseline run\n",
    "* Net Radiation (**NR**)\n",
    "* Sensible Heat (**SH**)\n",
    "* Latent Heat (**LH**)"
   ]
  },
  {
   "cell_type": "code",
   "execution_count": null,
   "id": "328b7c49-c138-446d-af8b-7b0382da016e",
   "metadata": {},
   "outputs": [],
   "source": [
    "from matplotlib.lines import Line2D"
   ]
  },
  {
   "cell_type": "code",
   "execution_count": null,
   "id": "3286c1e6-162f-463d-84d4-8368ba51096b",
   "metadata": {},
   "outputs": [],
   "source": [
    "def box_plot_data(em_base, lw_base, sw_base, em, lw, sw):\n",
    "    lw_base_net = net_lw(sw_base, lw_base, em_base)\n",
    "    lw_net = net_lw(sw, lw, em)\n",
    "    \n",
    "    lw_net_diff = (lw_net - lw_base_net).dropna(dim='time')\n",
    "    sw_net_diff = (sw.net_solar - sw_base.net_solar).dropna(dim='time')\n",
    "    sum_EB_diff = (em.sum_EB - em_base.sum_EB).dropna(dim='time')\n",
    "        \n",
    "    print(\"** Sum EB\")\n",
    "    print(f\"  mean: {sum_EB_diff.mean():.2f}\")\n",
    "    print(f\"  std: {sum_EB_diff.std():.2f}\")\n",
    "    print(f\"  median: {sum_EB_diff.median():.2f}\")\n",
    "    print(\"** Net SW\")\n",
    "    print(f\"  mean: {sw_net_diff.where(sw_net_diff > 0).mean():.2f}\")\n",
    "    print(f\"  std: {sw_net_diff.where(sw_net_diff > 0).std():.2f}\")\n",
    "    print(f\"  median: {sw_net_diff.where(sw_net_diff > 0).median():.2f}\")\n",
    "    print(\"** Net LW\")\n",
    "    print(f\"  mean: {lw_net_diff.mean():.2f}\")\n",
    "    print(f\"  std: {lw_net_diff.std():.2f}\")\n",
    "    print(f\"  median: {lw_net_diff.median():.2f}\")\n",
    "    \n",
    "    return [\n",
    "        (em.sensible_heat - em_base.sensible_heat).dropna(dim='time').values,\n",
    "        (em.latent_heat - em_base.latent_heat).dropna(dim='time').values,\n",
    "        lw_net_diff.values,\n",
    "        sw_net_diff.values,\n",
    "        sum_EB_diff.values,\n",
    "    ]\n",
    "\n",
    "def style_vp(vp):\n",
    "    idx = 0\n",
    "    for pc in vp['bodies']:\n",
    "        if idx == 4:\n",
    "            pc.set_facecolor('orange')\n",
    "        else:\n",
    "            pc.set_facecolor('lightsteelblue')\n",
    "        pc.set_edgecolor('Black')\n",
    "        pc.set_lw(0.75)\n",
    "        idx += 1\n",
    "\n",
    "    for line in ['cquantiles']: #, 'cmeans', 'cmedians']:\n",
    "        vp[line].set_color('black')\n",
    "        vp[line].set_lw(1.5)\n",
    "\n",
    "    # vp['cmedians'].set_ls(':')\n",
    "    # vp['cmedians'].set_lw(2)\n",
    "    # vp['cmeans'].set_lw(2)\n",
    "\n",
    "\n",
    "def box_figure(left_data, right_data):\n",
    "    figure = plt.figure(layout='constrained', figsize=(12, 5), dpi=300)\n",
    "    (left, right) = figure.subfigures(nrows=1, ncols=2, wspace=-1)\n",
    "    # plt.subplots_adjust(wspace=0.05)\n",
    "    \n",
    "    left_axes = left.subplots(1, 2, sharey=True,)\n",
    "    right_axes = right.subplots(1, 2, sharey=True,)\n",
    "\n",
    "    left.suptitle('HRRR-SC', style='italic', weight='bold')\n",
    "    print('HRRR SC')\n",
    "    boxplot(left_data[0], left_data[1], left_axes, True)\n",
    "    \n",
    "    right.suptitle('HRRR-MODIS', style='italic', weight='bold')\n",
    "    print('\\n\\nHRRR MODIS')\n",
    "    boxplot(right_data[0], right_data[1], right_axes)\n",
    "    \n",
    "    figure.suptitle(f'Water Year {year}')\n",
    "            \n",
    "    figure.legend(\n",
    "        handles=[\n",
    "            # Line2D([0], [0], color='black', linewidth=2, linestyle=':', label='Means'),\n",
    "            # Line2D([0], [0], color='black', linewidth=3, label='Median'),\n",
    "            Line2D([0], [0], color='black', linewidth=1.5, label='Quantiles (95%, 5%)')\n",
    "        ],\n",
    "        loc='lower right',\n",
    "        fontsize=8,\n",
    "        frameon=False,\n",
    "        bbox_to_anchor=(0.45, 0.9),\n",
    "        ncol=1\n",
    "    )\n",
    "    \n",
    "\n",
    "def boxplot(butte, schofield, axes, y_label=False):\n",
    "    (ax1, ax2) = axes\n",
    "    \n",
    "    labels = ['Sensible\\nHeat', 'Latent\\nHeat', 'Net\\nLongwave', 'Net\\nShortwave', 'Sum of\\nEnergy']\n",
    "    labels = ['SH', 'LH', 'NL', 'NS', 'Q']\n",
    "\n",
    "    violin_style = dict(\n",
    "        widths=0.5,\n",
    "        showmeans=False,\n",
    "        showmedians=False,\n",
    "        showextrema=False,\n",
    "        positions=np.arange(1, 6, step=1),\n",
    "        quantiles=[\n",
    "           [0.05, 0.95],\n",
    "           [0.05, 0.95],\n",
    "           [0.05, 0.95],\n",
    "           [0.05, 0.95],\n",
    "           [0.05, 0.95]\n",
    "        ]        \n",
    "    )\n",
    "    \n",
    "    print(\"* Butte\")\n",
    "    vp = ax1.violinplot(\n",
    "        box_plot_data(\n",
    "            butte['em_base'], butte['lw_base'], butte['sw_base'], \n",
    "            butte['em'], butte['lw'], butte['sw']\n",
    "        ),\n",
    "        **violin_style,\n",
    "    )\n",
    "    style_vp(vp)\n",
    "    ax1.set_xticks(violin_style['positions'], labels)   \n",
    "    \n",
    "    if y_label:\n",
    "        ax1.set_ylabel(r'$\\Delta$ $W/m^2$')\n",
    "        ax1.legend(\n",
    "        handles=[\n",
    "            # Line2D([0], [0], color='black', linewidth=2, linestyle=':', label='Means'),\n",
    "            # Line2D([0], [0], color='black', linewidth=3, label='Median'),\n",
    "            Line2D([0], [0], color='black', linewidth=1.5, label='Quantiles (95%, 5%)')\n",
    "        ],\n",
    "        loc='lower right',\n",
    "        fontsize=8,\n",
    "        frameon=False,\n",
    "        bbox_to_anchor=(0.65, 0.9),\n",
    "        ncol=1\n",
    "    )\n",
    "    \n",
    "    print(\"\\n* Schofield Pass\")\n",
    "    vp = ax2.violinplot(\n",
    "        box_plot_data(\n",
    "            schofield['em_base'], schofield['lw_base'], schofield['sw_base'], \n",
    "            schofield['em'], schofield['lw'], schofield['sw']\n",
    "        ),\n",
    "        **violin_style\n",
    "    )\n",
    "    style_vp(vp)\n",
    "    ax2.set_xticks(violin_style['positions'], labels)\n",
    "    \n",
    "    ax1.yaxis.grid(True)\n",
    "    ax1.set_title('Butte', size='medium')\n",
    "    ax2.yaxis.grid(True)\n",
    "    ax2.set_title('Schofield Pass', size='medium')\n",
    "\n",
    "    ax1.set_ylim(-75, 125)"
   ]
  },
  {
   "cell_type": "markdown",
   "id": "21309e61-5921-4a53-a29e-30a311812982",
   "metadata": {},
   "source": [
    "Includes ground heat flux and precip advection"
   ]
  },
  {
   "cell_type": "code",
   "execution_count": null,
   "id": "ba975154-916a-435b-826a-5e8cb942bf97",
   "metadata": {},
   "outputs": [],
   "source": [
    "box_figure(\n",
    "    [\n",
    "        {\n",
    "            'em_base': butte_em_smrf, 'lw_base': butte_lw_smrf, 'sw_base': butte_sw_smrf,\n",
    "            'em': butte_em_hrrr, 'lw': butte_lw_hrrr, 'sw': butte_sw_hrrr,     \n",
    "        },\n",
    "        {\n",
    "            'em_base': schofield_em_smrf, 'lw_base': schofield_lw_smrf, 'sw_base': schofield_sw_smrf,\n",
    "            'em': schofield_em_hrrr, 'lw': schofield_lw_hrrr, 'sw': schofield_sw_hrrr,         \n",
    "        }\n",
    "    ],\n",
    "    [\n",
    "        {\n",
    "            'em_base': butte_em_smrf, 'lw_base': butte_lw_smrf, 'sw_base': butte_sw_smrf,\n",
    "            'em': butte_em_hrrr_modis, 'lw': butte_lw_hrrr_modis, 'sw': butte_sw_hrrr_modis,     \n",
    "        },\n",
    "        {\n",
    "            'em_base': schofield_em_smrf, 'lw_base': schofield_lw_smrf, 'sw_base': schofield_sw_smrf,\n",
    "            'em': schofield_em_hrrr_modis, 'lw': schofield_lw_hrrr_modis, 'sw': schofield_sw_hrrr_modis,         \n",
    "        }\n",
    "    ]\n",
    ")"
   ]
  },
  {
   "cell_type": "code",
   "execution_count": null,
   "id": "7a8c2821-7b9b-48cc-ac74-1dcd1dab0326",
   "metadata": {},
   "outputs": [],
   "source": [
    "def stack_plot(data, base, label):\n",
    "    overlay = hv.Overlay([\n",
    "        hv.Area((data.net_rad - base.net_rad), label='Net Rad'), \n",
    "        hv.Area(-(data.sensible_heat - base.sensible_heat), label='Sensible Heat'),\n",
    "        hv.Area(-(data.latent_heat - base.latent_heat), label='Latent Heat'),\n",
    "    ])\n",
    "    return hv.Area.stack(overlay).opts(**HV_PLOT_OPTS, title=label)"
   ]
  },
  {
   "cell_type": "markdown",
   "id": "c3df082f-2d30-4590-b183-a21bb89c84c3",
   "metadata": {},
   "source": [
    "## Butte "
   ]
  },
  {
   "cell_type": "code",
   "execution_count": null,
   "id": "36dd4c96-7f92-4914-96d9-18749c7dd252",
   "metadata": {},
   "outputs": [],
   "source": [
    "stack_plot(butte_em_hrrr, butte_em_smrf, 'HRRR')"
   ]
  },
  {
   "cell_type": "code",
   "execution_count": null,
   "id": "bcbd5117-6208-4743-99c0-3f6db98374bf",
   "metadata": {},
   "outputs": [],
   "source": [
    "stack_plot(butte_em_hrrr_modis, butte_em_smrf, 'HRRR-MOIDS')"
   ]
  },
  {
   "cell_type": "markdown",
   "id": "845e632a-24df-416e-a04b-254d0a2291a0",
   "metadata": {},
   "source": [
    "## Schofield Pass "
   ]
  },
  {
   "cell_type": "code",
   "execution_count": null,
   "id": "fa932bd4-ad92-4f96-a20e-49623f063f8e",
   "metadata": {},
   "outputs": [],
   "source": [
    "stack_plot(schofield_em_hrrr, schofield_em_smrf, 'HRRR')"
   ]
  },
  {
   "cell_type": "code",
   "execution_count": null,
   "id": "00765fe1-b7ec-491f-82de-df2bac3255cf",
   "metadata": {},
   "outputs": [],
   "source": [
    "stack_plot(schofield_em_hrrr_modis, schofield_em_smrf, 'HRRR-MODIS')"
   ]
  },
  {
   "cell_type": "code",
   "execution_count": null,
   "id": "7673b2e6-8a9f-45f0-bac6-23d5a0dae316",
   "metadata": {},
   "outputs": [],
   "source": [
    "client.shutdown()"
   ]
  },
  {
   "cell_type": "code",
   "execution_count": null,
   "id": "738c8ddc-916a-4f95-a669-dd4b1200a1e9",
   "metadata": {},
   "outputs": [],
   "source": []
  }
 ],
 "metadata": {
  "language_info": {
   "name": "python"
  }
 },
 "nbformat": 4,
 "nbformat_minor": 5
}
