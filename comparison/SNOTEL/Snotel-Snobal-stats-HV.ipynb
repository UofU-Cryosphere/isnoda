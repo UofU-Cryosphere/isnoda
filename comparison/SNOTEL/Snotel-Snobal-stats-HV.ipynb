{
 "cells": [
  {
   "cell_type": "code",
   "execution_count": null,
   "metadata": {},
   "outputs": [],
   "source": [
    "from common import *\n",
    "from snobedo.snotel import CsvParser\n",
    "use_hvplot()"
   ]
  },
  {
   "cell_type": "code",
   "execution_count": null,
   "metadata": {},
   "outputs": [],
   "source": [
    "client = start_cluster(5, 12)\n",
    "client_ip_and_port(client)"
   ]
  },
  {
   "cell_type": "markdown",
   "metadata": {},
   "source": [
    "# Comparison between SNOTEL and iSNOBAL variables"
   ]
  },
  {
   "cell_type": "code",
   "execution_count": null,
   "metadata": {},
   "outputs": [],
   "source": [
    "year = 2018\n",
    "water_year = f\"wy{year}\"\n",
    "time=slice(f\"{year -1}-10-01\", f\"{year}-07-31\")"
   ]
  },
  {
   "cell_type": "code",
   "execution_count": null,
   "metadata": {},
   "outputs": [],
   "source": [
    "snotel_sites = SnotelLocations()\n",
    "snotel_sites.load_from_json(SNOTEL_DIR / 'site-locations/snotel_sites_2x2.json')"
   ]
  },
  {
   "cell_type": "markdown",
   "metadata": {},
   "source": [
    "## SNOTEL"
   ]
  },
  {
   "cell_type": "code",
   "execution_count": null,
   "metadata": {},
   "outputs": [],
   "source": [
    "schofield_snotel_csv = CsvParser.file(\n",
    "    SNOTEL_DIR / water_year / f'Schofield/usda-csv/{year}-Schofield-Pass.csv',\n",
    ")\n",
    "\n",
    "butte_snotel_csv = CsvParser.file(\n",
    "    SNOTEL_DIR / water_year / f'Butte/usda-csv/{year}-Butte.csv',\n",
    ")\n",
    "\n",
    "taylor_snotel_csv = CsvParser.file(\n",
    "    SNOTEL_DIR / water_year / f'Taylor/usda-csv/{year}-Upper-Taylor.csv',\n",
    ")"
   ]
  },
  {
   "cell_type": "markdown",
   "metadata": {},
   "source": [
    "## iSnobal "
   ]
  },
  {
   "cell_type": "code",
   "execution_count": null,
   "metadata": {},
   "outputs": [],
   "source": [
    "wy_snow = xr.open_mfdataset(\n",
    "    (SNOBAL_DIR / 'storm_day_fix' / f'{water_year}' / 'erw/*/snow.nc').as_posix(),\n",
    "    parallel=True,\n",
    ")\n",
    "\n",
    "butte_snobal = wy_snow.sel(x=snotel_sites.Butte.lon, y=snotel_sites.Butte.lat).compute()\n",
    "schofield_snobal = wy_snow.sel(x=snotel_sites.Schofield.lon, y=snotel_sites.Schofield.lat).compute()\n",
    "taylor_snobal = wy_snow.sel(x=snotel_sites.Taylor.lon, y=snotel_sites.Taylor.lat).compute()"
   ]
  },
  {
   "cell_type": "code",
   "execution_count": null,
   "metadata": {},
   "outputs": [],
   "source": [
    "client.shutdown()"
   ]
  },
  {
   "cell_type": "code",
   "execution_count": null,
   "metadata": {},
   "outputs": [],
   "source": [
    "def max_swe_date(snotel_data):\n",
    "    return snotel_data.loc[snotel_data['SWE(mm)'].idxmax()].name"
   ]
  },
  {
   "cell_type": "code",
   "execution_count": null,
   "metadata": {},
   "outputs": [],
   "source": [
    "plot_data = {\n",
    "    'Butte': {\n",
    "        'snobal': butte_snobal,\n",
    "        'snotel': butte_snotel_csv,\n",
    "        'color_snobal': 'sandybrown',\n",
    "        'color_snotel': 'skyblue',\n",
    "        'marker_aso': 'd',\n",
    "        'max_swe_snotel': max_swe_date(butte_snotel_csv)\n",
    "    },\n",
    "    'Schofield Pass': {\n",
    "        'snobal': schofield_snobal,\n",
    "        'snotel': schofield_snotel_csv,\n",
    "        'color_snobal': 'goldenrod',\n",
    "        'color_snotel': 'steelblue',\n",
    "        'marker_aso': 'o',\n",
    "        'max_swe_snotel': max_swe_date(schofield_snotel_csv)\n",
    "    },\n",
    "    'Upper Taylor': {\n",
    "        'snobal': taylor_snobal,\n",
    "        'snotel': taylor_snotel_csv,\n",
    "        'color_snobal': 'bisque',\n",
    "        'color_snotel': 'royalblue',\n",
    "        'marker_aso': 's',\n",
    "        'max_swe_snotel': max_swe_date(taylor_snotel_csv)\n",
    "    },\n",
    "}"
   ]
  },
  {
   "cell_type": "markdown",
   "metadata": {},
   "source": [
    "### ASO Snow Depth "
   ]
  },
  {
   "cell_type": "code",
   "execution_count": null,
   "metadata": {},
   "outputs": [],
   "source": [
    "for site in plot_data.keys():\n",
    "    plot_data[site]['ASO'] = pd.read_csv(DATA_DIR / f'ASO-data/SNOTEL-sites/{site}.csv', delimiter=',', header=None, parse_dates=[0], index_col=0)"
   ]
  },
  {
   "cell_type": "markdown",
   "metadata": {},
   "source": [
    "## Compare SNOTEL to iSnobal"
   ]
  },
  {
   "cell_type": "code",
   "execution_count": null,
   "metadata": {},
   "outputs": [],
   "source": [
    "from bokeh.plotting import figure, output_file, show"
   ]
  },
  {
   "cell_type": "code",
   "execution_count": null,
   "metadata": {},
   "outputs": [],
   "source": [
    "def aso_scatter(site, plot):\n",
    "    df = plot_data[site]['ASO']\n",
    "    dates = df[df.index.year == year].index.unique().values\n",
    "    \n",
    "    for day in dates:\n",
    "        max_depth = df[df.index == day].max().values[0]\n",
    "        min_depth = df[df.index == day].min().values[0]\n",
    "        \n",
    "        if max_depth >= 0 and min_depth >= 0:\n",
    "            plot.segment(\n",
    "                day, max_depth, \n",
    "                day, min_depth, \n",
    "                color=\"black\",\n",
    "                alpha=0.9,\n",
    "                line_width=2,\n",
    "                legend_label=site\n",
    "            )\n",
    "            plot.circle(\n",
    "                day, \n",
    "                max_depth, \n",
    "                color='black',\n",
    "                size=8,\n",
    "                legend_label=site\n",
    "            )\n",
    "            plot.circle(\n",
    "                day, \n",
    "                min_depth, \n",
    "                color='black',\n",
    "                size=8,\n",
    "                legend_label=site\n",
    "            )"
   ]
  },
  {
   "cell_type": "code",
   "execution_count": null,
   "metadata": {},
   "outputs": [],
   "source": [
    "p = figure(\n",
    "    x_axis_type='datetime',\n",
    "    width=1280, \n",
    "    height=500\n",
    ")\n",
    "p.xaxis.axis_label = f'Water Year {year}'\n",
    "p.yaxis.axis_label = 'Snow Depth (m)'\n",
    "p.xaxis.axis_label_text_font_size = \"14pt\"\n",
    "p.yaxis.axis_label_text_font_size = \"14pt\"\n",
    "p.xaxis.major_label_text_font_size = \"12pt\"\n",
    "p.yaxis.major_label_text_font_size = \"12pt\"\n",
    "\n",
    "\n",
    "x_axis = np.arange(0,365)\n",
    "\n",
    "for site in plot_data.keys():\n",
    "    max_snobal = plot_data[site]['snobal'].coarsen(**COARSEN_OPTS).max().squeeze(['x', 'y'])\n",
    "    x_time = max_snobal.time.values\n",
    "    \n",
    "    max_snobal = max_snobal['thickness'].values\n",
    "    min_snobal = plot_data[site]['snobal'].coarsen(**COARSEN_OPTS).min().squeeze(['x', 'y'])['thickness'].values\n",
    "    \n",
    "    # Max Depth\n",
    "    p.segment(\n",
    "        x0=plot_data[site]['snotel'].loc[plot_data[site]['snotel']['Depth(m)'].idxmax()].name,\n",
    "        x1=plot_data[site]['snotel'].loc[plot_data[site]['snotel']['Depth(m)'].idxmax()].name,\n",
    "        y0=0, \n",
    "        y1=2.2,\n",
    "        line_width=2, \n",
    "        color='indigo', \n",
    "        legend_label=site\n",
    "    )\n",
    "\n",
    "    p.varea(\n",
    "        x=x_time,\n",
    "        y1=max_snobal,\n",
    "        y2=min_snobal,\n",
    "        color=plot_data[site]['color_snobal'],\n",
    "        alpha=0.8,\n",
    "        legend_label=site,\n",
    "    )\n",
    "    \n",
    "    aso_scatter(site, p)\n",
    "    \n",
    "    p.line(x_time, max_snobal, color='black', line_dash='dashed', legend_label=site)\n",
    "    p.line(x_time, min_snobal, color='black', line_dash='dashed', legend_label=site)\n",
    "\n",
    "    \n",
    "    p.line(\n",
    "        x_time,\n",
    "        plot_data[site]['snotel']['Depth(m)'],\n",
    "        legend_label=site, \n",
    "        color=plot_data[site]['color_snotel'], \n",
    "        alpha=0.8, line_width=1.5,\n",
    "    )\n",
    "     \n",
    "p.legend.click_policy=\"hide\"\n",
    "p.legend.glyph_width = 0\n",
    "\n",
    "output_file('Snotel-Depth.html', 'Snow Depth Comparison', 'inline')\n",
    "show(p)"
   ]
  },
  {
   "cell_type": "code",
   "execution_count": null,
   "metadata": {},
   "outputs": [],
   "source": [
    "!mv Snotel-Depth.html ~/public_html"
   ]
  }
 ],
 "metadata": {
  "language_info": {
   "name": "python"
  }
 },
 "nbformat": 4,
 "nbformat_minor": 4
}
