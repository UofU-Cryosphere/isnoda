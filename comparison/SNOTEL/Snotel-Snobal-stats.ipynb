{
 "cells": [
  {
   "cell_type": "code",
   "execution_count": null,
   "metadata": {},
   "outputs": [],
   "source": [
    "from common import *\n",
    "from snobedo.snotel import CsvParser"
   ]
  },
  {
   "cell_type": "code",
   "execution_count": null,
   "metadata": {},
   "outputs": [],
   "source": [
    "client = start_cluster(5, 12)\n",
    "client_ip_and_port(client)"
   ]
  },
  {
   "cell_type": "markdown",
   "metadata": {},
   "source": [
    "# Comparison between SNOTEL and iSnobal variables"
   ]
  },
  {
   "cell_type": "code",
   "execution_count": null,
   "metadata": {},
   "outputs": [],
   "source": [
    "year = 2021\n",
    "water_year = f\"wy{year}\"\n",
    "time=slice(f\"{year -1}-10-01\", f\"{year}-07-31\")"
   ]
  },
  {
   "cell_type": "code",
   "execution_count": null,
   "metadata": {},
   "outputs": [],
   "source": [
    "snotel_sites = SnotelLocations()\n",
    "snotel_sites.load_from_json(SNOTEL_DIR / 'site-locations/snotel_sites_2x2.json')"
   ]
  },
  {
   "cell_type": "markdown",
   "metadata": {},
   "source": [
    "## SNOTEL"
   ]
  },
  {
   "cell_type": "code",
   "execution_count": null,
   "metadata": {},
   "outputs": [],
   "source": [
    "schofield_snotel_csv = CsvParser.file(\n",
    "    SNOTEL_DIR / water_year / f'Schofield/usda-csv/{year}-Schofield-Pass.csv',\n",
    ")\n",
    "\n",
    "butte_snotel_csv = CsvParser.file(\n",
    "    SNOTEL_DIR / water_year / f'Butte/usda-csv/{year}-Butte.csv',\n",
    ")\n",
    "\n",
    "taylor_snotel_csv = CsvParser.file(\n",
    "    SNOTEL_DIR / water_year / f'Taylor/usda-csv/{year}-Upper-Taylor.csv',\n",
    ")"
   ]
  },
  {
   "cell_type": "markdown",
   "metadata": {},
   "source": [
    "## iSnobal "
   ]
  },
  {
   "cell_type": "code",
   "execution_count": null,
   "metadata": {},
   "outputs": [],
   "source": [
    "wy_snow = xr.open_mfdataset(\n",
    "    (SNOBAL_DIR / f'{water_year}' / 'erw/*/snow.nc').as_posix(),\n",
    "    parallel=True,\n",
    ")\n",
    "\n",
    "butte_snobal = wy_snow.sel(x=snotel_sites.Butte.lon, y=snotel_sites.Butte.lat).compute()\n",
    "schofield_snobal = wy_snow.sel(x=snotel_sites.Schofield.lon, y=snotel_sites.Schofield.lat).compute()\n",
    "taylor_snobal = wy_snow.sel(x=snotel_sites.Taylor.lon, y=snotel_sites.Taylor.lat).compute()"
   ]
  },
  {
   "cell_type": "code",
   "execution_count": null,
   "metadata": {},
   "outputs": [],
   "source": [
    "def max_swe_date(snotel_data):\n",
    "    return snotel_data.loc[snotel_data['SWE(mm)'].idxmax()].name"
   ]
  },
  {
   "cell_type": "code",
   "execution_count": null,
   "metadata": {},
   "outputs": [],
   "source": [
    "plot_data = {\n",
    "    'Butte': {\n",
    "        'snobal': butte_snobal,\n",
    "        'snotel': butte_snotel_csv,\n",
    "        'color_snobal': 'sandybrown',\n",
    "        'color_snotel': 'skyblue',\n",
    "        'marker_aso': '^',\n",
    "        'max_swe_snotel': max_swe_date(butte_snotel_csv)\n",
    "    },\n",
    "    'Schofield Pass': {\n",
    "        'snobal': schofield_snobal,\n",
    "        'snotel': schofield_snotel_csv,\n",
    "        'color_snobal': 'goldenrod',\n",
    "        'color_snotel': 'steelblue',\n",
    "        'marker_aso': '^',\n",
    "        'max_swe_snotel': max_swe_date(schofield_snotel_csv)\n",
    "    },\n",
    "    'Upper Taylor': {\n",
    "        'snobal': taylor_snobal,\n",
    "        'snotel': taylor_snotel_csv,\n",
    "        'color_snobal': 'bisque',\n",
    "        'color_snotel': 'royalblue',\n",
    "        'marker_aso': '^',\n",
    "        'max_swe_snotel': max_swe_date(taylor_snotel_csv)\n",
    "    },\n",
    "}"
   ]
  },
  {
   "cell_type": "markdown",
   "metadata": {},
   "source": [
    "### ASO Snow Depth "
   ]
  },
  {
   "cell_type": "code",
   "execution_count": null,
   "metadata": {},
   "outputs": [],
   "source": [
    "for site in plot_data.keys():\n",
    "    plot_data[site]['ASO'] = pd.read_csv(DATA_DIR / f'ASO-data/SNOTEL-sites/{site}.csv', delimiter=',', header=None, parse_dates=[0], index_col=0)"
   ]
  },
  {
   "cell_type": "markdown",
   "metadata": {},
   "source": [
    "## Compare SNOTEL to iSnobal"
   ]
  },
  {
   "cell_type": "code",
   "execution_count": null,
   "metadata": {},
   "outputs": [],
   "source": [
    "from matplotlib.offsetbox import AnchoredText\n",
    "import matplotlib.lines as lines\n",
    "import math"
   ]
  },
  {
   "cell_type": "code",
   "execution_count": null,
   "metadata": {},
   "outputs": [],
   "source": [
    "figure_opts = dict(figsize=(8,4.5), dpi=300,)\n",
    "plot_range = pd.date_range(start=f'{year - 1}-10-01', periods=11, freq='MS')\n",
    "text_props = dict(facecolor='whitesmoke', alpha=0.5, pad=.5, boxstyle='round')\n",
    "\n",
    "xTicks = mdates.DateFormatter('%d-%b')"
   ]
  },
  {
   "cell_type": "code",
   "execution_count": null,
   "metadata": {},
   "outputs": [],
   "source": [
    "def snobal_max_swe(site):\n",
    "    return site.where(site.specific_mass == site.specific_mass.max(), drop=True).time[0].values\n",
    "\n",
    "\n",
    "def swe_numbers(site, max_snobal, min_snobal):\n",
    "    snobal_min = int(min_snobal['specific_mass'].sum())\n",
    "    snobal_max = int(max_snobal['specific_mass'].sum())\n",
    "    \n",
    "    max_swe_date_snotel = plot_data[site]['max_swe_snotel'].date()\n",
    "    max_swe_date_snobal = snobal_max_swe(plot_data[site]['snobal'])\n",
    "    swe_date_diff = (max_swe_date_snobal - np.datetime64(max_swe_date_snotel)).astype('timedelta64[D]')\n",
    "    \n",
    "    snotel_sum = int(plot_data[site]['snotel']['SWE(mm)'].sum())\n",
    "    \n",
    "    legend = {}\n",
    "    legend['Snotel'] = {}\n",
    "    legend['Snotel']['total  '] = f'{snotel_sum} mm'\n",
    "    legend['Snotel']['max SWE'] = str(max_swe_date_snotel)\n",
    "    legend['Snobal'] = {}\n",
    "    legend['Snobal']['max SWE'] = np.datetime_as_string(max_swe_date_snobal, unit='D')\n",
    "    legend['Snobal']['  diff '] = str(swe_date_diff)\n",
    "    legend['Snobal'][''] = ''\n",
    "    legend['Snobal']['max total   '] = f'{snobal_max} mm'\n",
    "    legend['Snobal']['min total   '] = f'{snobal_min} mm'\n",
    "    legend['Snobal']['% Snotel max'] = f'{snobal_max/snotel_sum:.2%}'\n",
    "    legend['Snobal']['% Snotel min'] = f'{snobal_min/snotel_sum:.2%}'\n",
    "\n",
    "    return legend\n",
    "\n",
    "\n",
    "def snotel_snobal_depth_diff(site):\n",
    "    mean_snobal = plot_data[site]['snobal']['thickness'].coarsen(**COARSEN_OPTS).mean()\n",
    "\n",
    "         \n",
    "def depth_numbers(site, max_snobal, min_snobal):\n",
    "    melt_start = plot_data[site]['max_swe_snotel']\n",
    "    snobal_depths = min_snobal['thickness'].squeeze('x').squeeze('y').to_pandas()\n",
    "    min_date = snobal_depths[(snobal_depths == 0) & (snobal_depths.index > melt_start)].index[0]\n",
    "    \n",
    "    snobal_depths = max_snobal['thickness'].squeeze('x').squeeze('y').to_pandas()\n",
    "    max_date = snobal_depths[(snobal_depths == 0) & (snobal_depths.index > melt_start)].index[0]\n",
    "\n",
    "    snotel_depth = plot_data[site]['snotel']['Depth(m)']\n",
    "    snotel_date = snotel_depth[(snotel_depth == 0) & (snotel_depth.index > melt_start)].index[0]\n",
    "\n",
    "    legend = {}\n",
    "    legend['Snotel melt-out'] = snotel_date.strftime(LEGEND_DATE)\n",
    "    legend['Snobal Min     '] = min_date.strftime('%Y-%m-%d')\n",
    "    legend['Snobal Max     '] = max_date.strftime(LEGEND_DATE)\n",
    "    legend['Snobal Min diff'] = f'{(min_date - snotel_date).days} days'\n",
    "    legend['Snobal Max diff'] = f'{(max_date - snotel_date).days} days'\n",
    "    \n",
    "    return legend\n",
    "\n",
    "\n",
    "def print_hash(hash):\n",
    "    import json\n",
    "    import re\n",
    "    print(re.sub(r'[{,},\"]*', '', json.dumps(hash, indent=4)))"
   ]
  },
  {
   "cell_type": "code",
   "execution_count": null,
   "metadata": {},
   "outputs": [],
   "source": [
    "def aso_scatter(ax, site_name, max_snobal, min_snobal, mean_snobal):\n",
    "    df = plot_data[site_name]['ASO']\n",
    "    dates = df[df.index.year == year].index.unique().values\n",
    "    legend_entry = 0\n",
    "    stats = {}\n",
    "    \n",
    "    for day in dates:\n",
    "        if legend_entry == 0:\n",
    "            label_entry=dict(label='ASO')\n",
    "        else:\n",
    "            label_entry=dict()\n",
    "\n",
    "        max_depth = df[df.index == day].max().values[0]\n",
    "        min_depth = df[df.index == day].min().values[0]\n",
    "        mean_depth = df[df.index == day].mean().values[0]\n",
    "        \n",
    "        day_key = np.datetime_as_string(day, unit='D')\n",
    "        stats[day_key] = {}\n",
    "        stats[day_key]['ASO max    '] = f'{max_depth:.2f} m'\n",
    "        stats[day_key]['ASO min    '] = f'{min_depth:.2f} m'\n",
    "        snotel_value = plot_data[site_name]['snotel'][plot_data[site]['snotel'].index == day]['Depth(m)'].values[0]\n",
    "        stats[day_key]['SNOTEL     '] = f'{snotel_value:.2f} m'\n",
    "        snobal_value = max_snobal.where(max_snobal.time.dt.floor('D') == day, drop=True).squeeze(['x', 'y'])['thickness'].values[0]\n",
    "        stats[day_key]['iSnobal max'] = f'{snobal_value:.2f} m'\n",
    "        snobal_value = min_snobal.where(min_snobal.time.dt.floor('D') == day, drop=True).squeeze(['x', 'y'])['thickness'].values[0]\n",
    "        stats[day_key]['iSnobal min'] = f'{snobal_value:.2f} m'\n",
    "        snobal_value = mean_snobal.where(mean_snobal.time.dt.floor('D') == day, drop=True).squeeze(['x', 'y'])['thickness'].values[0]\n",
    "        stats[day_key]['iSnobal mean diff'] = f'{snobal_value - mean_depth:.2f} m'\n",
    "        \n",
    "        if max_depth >= 0 and min_depth >= 0:\n",
    "            ax.scatter(\n",
    "                day, \n",
    "                max_depth, \n",
    "                marker='_', \n",
    "                color='black',\n",
    "                **label_entry\n",
    "            )\n",
    "            ax.scatter(\n",
    "                day, \n",
    "                min_depth, \n",
    "                marker='_', \n",
    "                color='black',\n",
    "            )\n",
    "            ax.plot([day, day], [min_depth, max_depth], lw=1, color='black')\n",
    "\n",
    "            legend_entry += 1\n",
    "\n",
    "    print(\"  ASO comparison\")\n",
    "    print_hash(stats)\n",
    "\n",
    "\n",
    "def legend_italic(ax, offset):\n",
    "    legend = ax.legend(bbox_to_anchor=(offset, 0.5), loc='center right')\n",
    "\n",
    "    for text in legend.get_texts():\n",
    "        if text.get_text() in plot_data.keys():\n",
    "            text.set_fontstyle('italic')\n",
    "    \n",
    "\n",
    "def new_max(current, new_value):\n",
    "    if current < new_value:\n",
    "        max_depth = math.ceil(new_value)\n",
    "        if (max_depth - new_value) > 0.5:\n",
    "            max_depth -= 0.5\n",
    "        \n",
    "        return max_depth\n",
    "    return current\n",
    "\n",
    "def plot_variable(snobal_var, snotel, title, label, save_figure=False):\n",
    "    figure, axes = plt.subplots(3, 1, sharex=True, **figure_opts)\n",
    "    plt.subplots_adjust(hspace=0)\n",
    "    ax_index = 0\n",
    "    max_depth = 0\n",
    "    \n",
    "    for site_name in plot_data.keys():\n",
    "        ax = axes[ax_index]\n",
    "        max_snobal = plot_data[site_name]['snobal'].coarsen(**COARSEN_OPTS).max()\n",
    "        min_snobal = plot_data[site_name]['snobal'].coarsen(**COARSEN_OPTS).min()\n",
    "        mean_snobal = plot_data[site_name]['snobal'].coarsen(**COARSEN_OPTS).mean()\n",
    "        \n",
    "        min_snobal[snobal_var].plot(ax=ax, c='slategrey', alpha=0.8, lw=1, ls='--')\n",
    "        max_snobal[snobal_var].plot(ax=ax, c='slategrey', alpha=0.8, lw=1, ls='--')\n",
    "        ax.fill_between(\n",
    "            max_snobal.time, \n",
    "            min_snobal[snobal_var].data.flatten(), \n",
    "            max_snobal[snobal_var].data.flatten(),\n",
    "            label='iSnobal',\n",
    "            color=plot_data[site_name]['color_snobal'], \n",
    "            alpha=0.7,\n",
    "            zorder=0,\n",
    "        )\n",
    "        ax.plot(\n",
    "            max_snobal.time,\n",
    "            plot_data[site_name]['snotel'][snotel],\n",
    "            label='SNOTEL', \n",
    "            color=plot_data[site_name]['color_snotel'], \n",
    "            alpha=0.8, lw=1.5\n",
    "        )\n",
    "        \n",
    "        print(site_name)    \n",
    "\n",
    "        if title == 'Snow Depth':\n",
    "            print_hash(depth_numbers(site_name, max_snobal, min_snobal))\n",
    "            aso_scatter(ax, site_name, max_snobal, min_snobal, mean_snobal)\n",
    "        elif title == 'SWE':\n",
    "            print_hash(swe_numbers(site_name, max_snobal))\n",
    "\n",
    "        ax.set_title(None)\n",
    "        ax.set_ylabel(None)\n",
    "\n",
    "        ax.xaxis.set_major_formatter(xTicks)\n",
    "        ax.set_xlim([plot_range[0], plot_range[-1]])\n",
    "        ax.set_xlabel(f'Water Year {plot_range[-1].year}')\n",
    "        \n",
    "        ax.legend(loc='upper left', borderaxespad=0.15, fontsize=8)\n",
    "        at = AnchoredText(\n",
    "            site_name, \n",
    "            prop=dict(size=10), \n",
    "            frameon=True, \n",
    "            loc='upper right', \n",
    "            pad=0.3, \n",
    "            borderpad=0.25,\n",
    "        )\n",
    "        at.patch.set_boxstyle(\"round\", pad=0., rounding_size=0.2)\n",
    "        at.patch.set(edgecolor='lightgrey')\n",
    "        ax.add_artist(at)\n",
    "        \n",
    "        max_depth = new_max(max_depth, max_snobal[snobal_var].max())\n",
    "        max_depth = new_max(max_depth, plot_data[site_name]['snotel'][snotel].max())\n",
    "        \n",
    "        if ax_index == 1:\n",
    "            ax.set_ylabel(label)\n",
    "        \n",
    "        ax_index += 1\n",
    "    \n",
    "    for ax in axes:\n",
    "        ax.set_ylim(top=max_depth)\n",
    "        \n",
    "        if title == 'Snow Depth':\n",
    "            ax.set_yticks(np.arange(0, max_depth))\n",
    "            ax.set_ylim(bottom=-0.2)\n",
    "        elif title == 'SWE':\n",
    "            ax.set_yticks(np.arange(0, max_depth, 300))\n",
    "            ax.set_ylim(bottom=-50)\n",
    "\n",
    "    if save_figure:\n",
    "        filename = f'{year}_{title}_{site_name}'.replace(' ', '-')\n",
    "        plt.savefig(f\"{FIGURES_DIR}/{filename}.png\")"
   ]
  },
  {
   "cell_type": "code",
   "execution_count": null,
   "metadata": {},
   "outputs": [],
   "source": [
    "def melt_date_snobal(mean_snobal, site):\n",
    "    after_max_swe = mean_snobal.sel(time=slice(f\"{year}-03-01\", f\"{year}-07-30\")).where(mean_snobal.time > plot_data[site]['max_swe_snotel'], drop=True)\n",
    "    return after_max_swe.where(after_max_swe != 0, drop=True).time.max().values\n",
    "\n",
    "\n",
    "def plot_depth_diff(site, ax1):\n",
    "    mean_snobal = plot_data[site]['snobal']['thickness'].coarsen(**COARSEN_OPTS).mean().squeeze(['x', 'y'], drop=True)\n",
    "    melt_date = melt_date_snobal(mean_snobal, site)\n",
    "    \n",
    "    depth_diff = plot_data[site]['snotel']['Depth(m)'] - mean_snobal.values\n",
    "    \n",
    "    pre_melt = depth_diff[depth_diff.index < plot_data[site]['max_swe_snotel']]\n",
    "    post_melt = depth_diff[(depth_diff.index > plot_data[site]['max_swe_snotel']) & (depth_diff.index <= melt_date)]\n",
    "\n",
    "    ax1.plot([], [], ' ', label=site)\n",
    "    depth_diff.plot(ax=ax1, \n",
    "                    color=plot_data[site_name]['color_snotel'], \n",
    "                    label='Difference')\n",
    "    ax1.axvline(\n",
    "        x=post_melt.index[0], \n",
    "        ls='--', lw=1, \n",
    "        color=plot_data[site_name]['color_snobal'], \n",
    "        label=f'Start melt season'\n",
    "    )\n",
    "    \n",
    "    print(f\"{site}\")\n",
    "    print(\"  Pre-melt mean: {:.2f}\".format(pre_melt.mean()))\n",
    "    print(\"  Post     mean: {:.2f}\".format(post_melt.mean()))"
   ]
  },
  {
   "cell_type": "markdown",
   "metadata": {},
   "source": [
    "## Depth "
   ]
  },
  {
   "cell_type": "code",
   "execution_count": null,
   "metadata": {},
   "outputs": [],
   "source": [
    "plot_variable('thickness', 'Depth(m)', 'Snow Depth', 'Snow Depth (m)')"
   ]
  },
  {
   "cell_type": "markdown",
   "metadata": {},
   "source": [
    "### SNOTEL - iSnobal "
   ]
  },
  {
   "cell_type": "code",
   "execution_count": null,
   "metadata": {},
   "outputs": [],
   "source": [
    "fig, (ax1) = plt.subplots(1, 1, **figure_opts)\n",
    "\n",
    "for site_name in plot_data.keys():\n",
    "    plot_depth_diff(site_name, ax1)\n",
    "\n",
    "ax1.set_ylabel(r'$\\Delta$ Snow Depth (m)')\n",
    "ax1.xaxis.set_major_formatter(xTicks)\n",
    "ax1.set_xlim([plot_range[0], plot_range[-1]])\n",
    "ax1.set_ylim(-1.2, 1.0)\n",
    "ax1.set_yticks(np.arange(-1.2, 1.2, 0.2))\n",
    "ax1.set_xlabel(f'Water Year {plot_range[-1].year}')\n",
    "legend_italic(ax1, 1.3)"
   ]
  },
  {
   "cell_type": "markdown",
   "metadata": {},
   "source": [
    "## SWE"
   ]
  },
  {
   "cell_type": "code",
   "execution_count": null,
   "metadata": {},
   "outputs": [],
   "source": [
    "plot_variable('specific_mass', 'SWE(mm)', 'SWE', 'SWE (mm)')"
   ]
  },
  {
   "cell_type": "markdown",
   "metadata": {},
   "source": [
    "## Snow Density"
   ]
  },
  {
   "cell_type": "code",
   "execution_count": null,
   "metadata": {},
   "outputs": [],
   "source": [
    "# plot_variable('snow_density', 'Density(kg/m3)', 'Snow Density', r'Snow Density ($kg/m^3$)')"
   ]
  },
  {
   "cell_type": "markdown",
   "metadata": {},
   "source": [
    "## Temperature "
   ]
  },
  {
   "cell_type": "code",
   "execution_count": null,
   "metadata": {},
   "outputs": [],
   "source": [
    "# plot_variable('temp_surf', 'Air-T(C)', 'temp_lower', 'Temperature (C)')"
   ]
  },
  {
   "cell_type": "code",
   "execution_count": null,
   "metadata": {},
   "outputs": [],
   "source": [
    "client.shutdown()"
   ]
  }
 ],
 "metadata": {
  "language_info": {
   "name": "python"
  }
 },
 "nbformat": 4,
 "nbformat_minor": 4
}
