{
 "cells": [
  {
   "cell_type": "code",
   "execution_count": null,
   "metadata": {},
   "outputs": [],
   "source": [
    "from common import *\n",
    "from snobedo.snotel import CsvParser"
   ]
  },
  {
   "cell_type": "code",
   "execution_count": null,
   "metadata": {},
   "outputs": [],
   "source": [
    "client = start_cluster(5, 12)\n",
    "client_ip_and_port(client)"
   ]
  },
  {
   "cell_type": "markdown",
   "metadata": {},
   "source": [
    "# Comparison between SNOTEL and iSNOBAL (HRRR F06) variables"
   ]
  },
  {
   "cell_type": "code",
   "execution_count": null,
   "metadata": {},
   "outputs": [],
   "source": [
    "year = 2021\n",
    "water_year = f\"wy{year}\"\n",
    "time=slice(f\"{year -1}-10-01\", f\"{year}-07-31\")"
   ]
  },
  {
   "cell_type": "code",
   "execution_count": null,
   "metadata": {},
   "outputs": [],
   "source": [
    "snotel_sites = SnotelLocations()\n",
    "snotel_sites.load_from_json(SNOTEL_DIR / 'site-locations/snotel_sites_2x2.json')"
   ]
  },
  {
   "cell_type": "markdown",
   "metadata": {},
   "source": [
    "## SNOTEL"
   ]
  },
  {
   "cell_type": "code",
   "execution_count": null,
   "metadata": {},
   "outputs": [],
   "source": [
    "schofield_snotel_csv = CsvParser.file(\n",
    "    SNOTEL_DIR / water_year / f'Schofield/usda-csv/{year}-Schofield-Pass.csv',\n",
    ")\n",
    "\n",
    "butte_snotel_csv = CsvParser.file(\n",
    "    SNOTEL_DIR / water_year / f'Butte/usda-csv/{year}-Butte.csv',\n",
    ")\n",
    "\n",
    "taylor_snotel_csv = CsvParser.file(\n",
    "    SNOTEL_DIR / water_year / f'Taylor/usda-csv/{year}-Upper-Taylor.csv',\n",
    ")"
   ]
  },
  {
   "cell_type": "markdown",
   "metadata": {},
   "source": [
    "## iSnobal "
   ]
  },
  {
   "cell_type": "code",
   "execution_count": null,
   "metadata": {},
   "outputs": [],
   "source": [
    "wy_snow = xr.open_mfdataset(\n",
    "    (SNOBAL_DIR / f'{water_year}' / 'erw/*/snow.nc').as_posix(),\n",
    "    parallel=True,\n",
    ")\n",
    "\n",
    "butte_snobal = wy_snow.sel(x=snotel_sites.Butte.lon, y=snotel_sites.Butte.lat).compute()\n",
    "schofield_snobal = wy_snow.sel(x=snotel_sites.Schofield.lon, y=snotel_sites.Schofield.lat).compute()\n",
    "taylor_snobal = wy_snow.sel(x=snotel_sites.Taylor.lon, y=snotel_sites.Taylor.lat).compute()"
   ]
  },
  {
   "cell_type": "code",
   "execution_count": null,
   "metadata": {},
   "outputs": [],
   "source": [
    "client.shutdown()"
   ]
  },
  {
   "cell_type": "code",
   "execution_count": null,
   "metadata": {},
   "outputs": [],
   "source": [
    "plot_data = {\n",
    "    'Butte': {\n",
    "        'snobal': butte_snobal,\n",
    "        'snotel': butte_snotel_csv,\n",
    "        'color_snobal': 'sandybrown',\n",
    "        'color_snotel': 'skyblue',\n",
    "    },\n",
    "    'Schofield Pass': {\n",
    "        'snobal': schofield_snobal,\n",
    "        'snotel': schofield_snotel_csv,\n",
    "        'color_snobal': 'goldenrod',\n",
    "        'color_snotel': 'steelblue',\n",
    "    },\n",
    "    'Upper Taylor': {\n",
    "        'snobal': taylor_snobal,\n",
    "        'snotel': taylor_snotel_csv,\n",
    "        'color_snobal': 'khaki',\n",
    "        'color_snotel': 'dodgerblue',\n",
    "    },\n",
    "}"
   ]
  },
  {
   "cell_type": "markdown",
   "metadata": {},
   "source": [
    "## Compare SNOTEL to iSnobal"
   ]
  },
  {
   "cell_type": "code",
   "execution_count": null,
   "metadata": {},
   "outputs": [],
   "source": [
    "figure_opts = dict(figsize=(9,5), dpi=300, tight_layout=True)\n",
    "plot_range = pd.date_range(start=f'{year - 1}-10-01', periods=11, freq='MS')\n",
    "text_props = dict(facecolor='whitesmoke', alpha=0.5, pad=.5, boxstyle='round')\n",
    "\n",
    "xTicks = mdates.DateFormatter('%d-%b')"
   ]
  },
  {
   "cell_type": "code",
   "execution_count": null,
   "metadata": {},
   "outputs": [],
   "source": [
    "def snobal_max_swe(site):\n",
    "    return site.where(site.specific_mass == site.specific_mass.max(), drop=True).time[0].values\n",
    "\n",
    "         \n",
    "def swe_numbers(site, max_snobal, min_snobal):\n",
    "    snobal_min = int(min_snobal['specific_mass'].sum())\n",
    "    snobal_max = int(max_snobal['specific_mass'].sum())\n",
    "    \n",
    "    max_swe_date_snotel = plot_data[site]['snotel'].loc[plot_data[site]['snotel']['SWE(mm)'].idxmax()].name.date()\n",
    "    max_swe_date_snobal = snobal_max_swe(plot_data[site]['snobal'])\n",
    "    swe_date_diff = (max_swe_date_snobal - np.datetime64(max_swe_date_snotel)).astype('timedelta64[D]')\n",
    "    \n",
    "    snotel_sum = int(plot_data[site]['snotel']['SWE(mm)'].sum())\n",
    "    \n",
    "    legend = {}\n",
    "    legend['Snotel'] = {}\n",
    "    legend['Snotel']['total  '] = f'{snotel_sum} mm'\n",
    "    legend['Snotel']['max SWE'] = str(max_swe_date_snotel)\n",
    "    legend['Snobal'] = {}\n",
    "    legend['Snobal']['max SWE'] = np.datetime_as_string(max_swe_date_snobal, unit='D')\n",
    "    legend['Snobal']['  diff '] = str(swe_date_diff)\n",
    "    legend['Snobal'][''] = ''\n",
    "    legend['Snobal']['max total   '] = f'{snobal_max} mm'\n",
    "    legend['Snobal']['min total   '] = f'{snobal_min} mm'\n",
    "    legend['Snobal']['% Snotel max'] = f'{snobal_max/snotel_sum:.2%}'\n",
    "    legend['Snobal']['% Snotel min'] = f'{snobal_min/snotel_sum:.2%}'\n",
    "\n",
    "    return legend\n",
    "\n",
    "\n",
    "def depth_numbers(site, max_snobal, min_snobal):\n",
    "    melt_start = plot_data[site]['snotel'].loc[plot_data[site]['snotel']['SWE(mm)'].idxmax()].name\n",
    "    snobal_depths = min_snobal['thickness'].squeeze('x').squeeze('y').to_pandas()\n",
    "    min_date = snobal_depths[(snobal_depths == 0) & (snobal_depths.index > melt_start)].index[0]\n",
    "    \n",
    "    snobal_depths = max_snobal['thickness'].squeeze('x').squeeze('y').to_pandas()\n",
    "    max_date = snobal_depths[(snobal_depths == 0) & (snobal_depths.index > melt_start)].index[0]\n",
    "\n",
    "    snotel_depth = plot_data[site]['snotel']['Depth(m)']\n",
    "    snotel_date = snotel_depth[(snotel_depth == 0) & (snotel_depth.index > melt_start)].index[0]\n",
    "\n",
    "    legend = {}\n",
    "    legend['Snotel melt-out'] = snotel_date.strftime(LEGEND_DATE)\n",
    "    legend['Snobal Min     '] = min_date.strftime('%Y-%m-%d')\n",
    "    legend['Snobal Max     '] = max_date.strftime(LEGEND_DATE)\n",
    "    legend['Snobal Min diff'] = f'{(min_date - snotel_date).days} days'\n",
    "    legend['Snobal Max diff'] = f'{(max_date - snotel_date).days} days'\n",
    "    \n",
    "    return legend\n",
    "\n",
    "def print_hash(hash):\n",
    "    import json\n",
    "    import re\n",
    "    print(re.sub(r'[{,},\"]*', '', json.dumps(hash, indent=4)))"
   ]
  },
  {
   "cell_type": "code",
   "execution_count": null,
   "metadata": {},
   "outputs": [],
   "source": [
    "def plot_variable(snobal_var, snotel, title, label, save_figure=False):\n",
    "    figure, ax = plt.subplots(1, 1, **figure_opts)\n",
    "    figure.set_facecolor('lightgrey')\n",
    "    \n",
    "    for site_name in plot_data.keys():\n",
    "        max_snobal = plot_data[site_name]['snobal'].coarsen(**COARSEN_OPTS).max()\n",
    "        min_snobal = plot_data[site_name]['snobal'].coarsen(**COARSEN_OPTS).min()\n",
    "        \n",
    "        min_snobal[snobal_var].plot(ax=ax, c='slategrey', alpha=0.8, lw=1, ls='--')\n",
    "        max_snobal[snobal_var].plot(ax=ax, c='slategrey', alpha=0.8, lw=1, ls='--')\n",
    "        ax.fill_between(\n",
    "            max_snobal.time, \n",
    "            min_snobal[snobal_var].data.flatten(), \n",
    "            max_snobal[snobal_var].data.flatten(),\n",
    "            label=site_name,\n",
    "            color=plot_data[site_name]['color_snobal'], alpha=0.7\n",
    "        )\n",
    "        plot_data[site_name]['snotel'][snotel].plot(\n",
    "            ax=ax, \n",
    "            label=f'{site_name} Snotel ', \n",
    "            color=plot_data[site_name]['color_snotel'], alpha=0.8, lw=1.5\n",
    "        )\n",
    "        \n",
    "        print(site_name)    \n",
    "        if title == 'Snow Depth':\n",
    "            print_hash(depth_numbers(site_name, max_snobal, min_snobal))\n",
    "        elif title == 'SWE':\n",
    "            print_hash(swe_numbers(site_name, max_snobal, min_snobal))\n",
    "\n",
    "    ax.xaxis.set_major_formatter(xTicks)\n",
    "    ax.set_xlim([plot_range[0], plot_range[-1]])\n",
    "    ax.set_xlabel(f'Water Year {plot_range[-1].year}')\n",
    "    ax.set_ylim(bottom=0)\n",
    "    ax.set_ylabel(label)\n",
    "    \n",
    "    ax.legend(loc='upper left', borderaxespad=0.15)\n",
    "    ax.set_title(None);\n",
    "\n",
    "    if save_figure:\n",
    "        filename = f'{year}_{title}_{site_name}'.replace(' ', '-')\n",
    "        plt.savefig(f\"{FIGURES_DIR}/{filename}.png\")"
   ]
  },
  {
   "cell_type": "markdown",
   "metadata": {},
   "source": [
    "## Depth "
   ]
  },
  {
   "cell_type": "code",
   "execution_count": null,
   "metadata": {},
   "outputs": [],
   "source": [
    "plot_variable('thickness', 'Depth(m)', 'Snow Depth', 'Snow Depth (m)')"
   ]
  },
  {
   "cell_type": "markdown",
   "metadata": {},
   "source": [
    "## SWE"
   ]
  },
  {
   "cell_type": "code",
   "execution_count": null,
   "metadata": {},
   "outputs": [],
   "source": [
    "plot_variable('specific_mass', 'SWE(mm)', 'SWE', 'SWE (mm)')"
   ]
  },
  {
   "cell_type": "markdown",
   "metadata": {},
   "source": [
    "## Snow Density"
   ]
  },
  {
   "cell_type": "code",
   "execution_count": null,
   "metadata": {},
   "outputs": [],
   "source": [
    "# plot_variable('snow_density', 'Density(kg/m3)', 'Snow Density', r'Snow Density ($kg/m^3$)')"
   ]
  },
  {
   "cell_type": "markdown",
   "metadata": {},
   "source": [
    "## Temperature "
   ]
  },
  {
   "cell_type": "code",
   "execution_count": null,
   "metadata": {},
   "outputs": [],
   "source": [
    "# plot_variable('temp_surf', 'Air-T(C)', 'temp_lower', 'Temperature (C)')"
   ]
  }
 ],
 "metadata": {
  "language_info": {
   "name": "python"
  }
 },
 "nbformat": 4,
 "nbformat_minor": 4
}
