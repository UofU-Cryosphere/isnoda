{
 "cells": [
  {
   "cell_type": "code",
   "execution_count": null,
   "metadata": {},
   "outputs": [],
   "source": [
    "from common import *\n",
    "from snobedo.snotel import CsvParser"
   ]
  },
  {
   "cell_type": "code",
   "execution_count": null,
   "metadata": {},
   "outputs": [],
   "source": [
    "client = start_cluster(5, 12)\n",
    "client"
   ]
  },
  {
   "cell_type": "markdown",
   "metadata": {},
   "source": [
    "# Comparison between SNOTEL and iSNOBAL (HRRR F06) variables"
   ]
  },
  {
   "cell_type": "code",
   "execution_count": null,
   "metadata": {},
   "outputs": [],
   "source": [
    "year = 2018\n",
    "water_year = f\"wy{year}\"\n",
    "time=slice(f\"{year -1}-10-01\", f\"{year}-07-31\")\n",
    "\n",
    "before_albedo = slice(f\"{year -1}-10-01\", f\"{year}-03-14\")\n",
    "albedo_start = pd.to_datetime(f\"{year}-03-15\")\n",
    "after_albedo = slice(f\"{year}-03-15\", f\"{year}-08-01\")\n",
    "\n",
    "melt_start = pd.to_datetime(f'{year}-04-01')"
   ]
  },
  {
   "cell_type": "code",
   "execution_count": null,
   "metadata": {},
   "outputs": [],
   "source": [
    "snotel_sites = SnotelLocations()\n",
    "snotel_sites.load_from_json(SNOTEL_DIR / 'site-locations/snotel_sites_2x2.json')"
   ]
  },
  {
   "cell_type": "markdown",
   "metadata": {},
   "source": [
    "## SNOTEL"
   ]
  },
  {
   "cell_type": "code",
   "execution_count": null,
   "metadata": {},
   "outputs": [],
   "source": [
    "schofield_snotel_csv = CsvParser.file(\n",
    "    SNOTEL_DIR / water_year / f'Schofield/usda-csv/{year}-Schofield-Pass.csv',\n",
    ")\n",
    "\n",
    "butte_snotel_csv = CsvParser.file(\n",
    "    SNOTEL_DIR / water_year / f'Butte/usda-csv/{year}-Butte.csv',\n",
    ")\n",
    "\n",
    "taylor_snotel_csv = CsvParser.file(\n",
    "    SNOTEL_DIR / water_year / f'Taylor/usda-csv/{year}-Upper-Taylor.csv',\n",
    ")"
   ]
  },
  {
   "cell_type": "markdown",
   "metadata": {},
   "source": [
    "## iSnobal "
   ]
  },
  {
   "cell_type": "code",
   "execution_count": null,
   "metadata": {},
   "outputs": [],
   "source": [
    "wy_snow = xr.open_mfdataset(\n",
    "    (SNOBAL_DIR / f'{water_year}' / 'erw/*/snow.nc').as_posix(),\n",
    "    parallel=True,\n",
    ")\n",
    "\n",
    "butte_snobal = wy_snow.sel(x=snotel_sites.Butte.lon, y=snotel_sites.Butte.lat).compute()\n",
    "schofield_snobal = wy_snow.sel(x=snotel_sites.Schofield.lon, y=snotel_sites.Schofield.lat).compute()\n",
    "taylor_snobal = wy_snow.sel(x=snotel_sites.Taylor.lon, y=snotel_sites.Taylor.lat).compute()"
   ]
  },
  {
   "cell_type": "code",
   "execution_count": null,
   "metadata": {},
   "outputs": [],
   "source": [
    "client.shutdown()"
   ]
  },
  {
   "cell_type": "code",
   "execution_count": null,
   "metadata": {},
   "outputs": [],
   "source": [
    "plot_data = {\n",
    "    'Butte': {\n",
    "        'min': butte_snobal.coarsen(**COARSEN_OPTS).min(),\n",
    "        'max': butte_snobal.coarsen(**COARSEN_OPTS).max(),\n",
    "        'snotel': butte_snotel_csv,\n",
    "    },\n",
    "    'Schofield Pass': {\n",
    "        'min': schofield_snobal.coarsen(**COARSEN_OPTS).min(),\n",
    "        'max': schofield_snobal.coarsen(**COARSEN_OPTS).max(),\n",
    "        'snotel': schofield_snotel_csv,\n",
    "    },\n",
    "    'Upper Taylor': {\n",
    "        'min': taylor_snobal.coarsen(**COARSEN_OPTS).min(),\n",
    "        'max': taylor_snobal.coarsen(**COARSEN_OPTS).max(),\n",
    "        'snotel': taylor_snotel_csv,\n",
    "    },\n",
    "}"
   ]
  },
  {
   "cell_type": "markdown",
   "metadata": {},
   "source": [
    "## Compare SNOTEL to iSnobal"
   ]
  },
  {
   "cell_type": "code",
   "execution_count": null,
   "metadata": {},
   "outputs": [],
   "source": [
    "figure_opts = dict(figsize=(8,4), dpi=200, tight_layout=True)\n",
    "plot_range = pd.date_range(start=f'{year - 1}-10-01', periods=11, freq='MS')\n",
    "text_props = dict(facecolor='whitesmoke', alpha=0.5, pad=.5, boxstyle='round')\n",
    "\n",
    "xTicks = mdates.DateFormatter('%d-%b')\n",
    "\n",
    "def plot_variable(snobal, snotel, title, label, save_figure=False):\n",
    "    for site in plot_data.keys():\n",
    "        figure, ax = plt.subplots(1, 1, **figure_opts)\n",
    "        figure.set_facecolor('lightgrey')\n",
    "        \n",
    "        plot_data[site]['min'][snobal].plot(ax=ax, c='slategrey', alpha=0.8)\n",
    "        plot_data[site]['max'][snobal].plot(ax=ax, c='slategrey', alpha=0.8)\n",
    "        ax.fill_between(\n",
    "            plot_data[site]['min'].time, \n",
    "            plot_data[site]['min'][snobal].data.flatten(), \n",
    "            plot_data[site]['max'][snobal].data.flatten(),\n",
    "            label='Snobal',\n",
    "            color='navajowhite', alpha=0.8\n",
    "        )\n",
    "        plot_data[site]['snotel'][snotel].plot(\n",
    "            ax=ax, c='steelblue', label='Snotel'\n",
    "        )\n",
    "        \n",
    "        # Returns LIFO order\n",
    "        handles, legend = ax.get_legend_handles_labels()\n",
    "                \n",
    "        ax.text(\n",
    "            0.98, 0.95, \n",
    "            site,\n",
    "            style='italic',\n",
    "            transform=ax.transAxes, \n",
    "            horizontalalignment='right',\n",
    "            verticalalignment='top',\n",
    "            bbox=text_props\n",
    "        )\n",
    "        \n",
    "        if title == 'Snow Depth':\n",
    "            entries = depth_numbers(site, handles[1], handles[0])\n",
    "            add_legend_box(ax, entries)\n",
    "        elif title == 'SWE':\n",
    "            entries = swe_numbers(site, handles[1], handles[0])\n",
    "            add_legend_box(ax, entries)\n",
    "        else:\n",
    "            ax.legend(loc='upper left');\n",
    "        \n",
    "        ax.xaxis.set_major_formatter(xTicks)\n",
    "        ax.set_xlim([plot_range[0], plot_range[-1]])\n",
    "        ax.set_xlabel(f'Water Year {plot_range[-1].year}')\n",
    "        ax.set_ylim(bottom=0)\n",
    "        ax.set_ylabel(label)\n",
    "        ax.set_title(None);\n",
    "                \n",
    "        if save_figure:\n",
    "            filename = f'{year}_{title}_{site}'.replace(' ', '-')\n",
    "            plt.savefig(f\"{FIGURES_DIR}/{filename}.png\")\n",
    "                \n",
    "            \n",
    "def swe_numbers(site, snobal, snotel):\n",
    "    snobal_min = int(plot_data[site]['min']['specific_mass'].sum())\n",
    "    snobal_max = int(plot_data[site]['max']['specific_mass'].sum())\n",
    "    snotel_sum = int(plot_data[site]['snotel']['SWE(mm)'].sum())\n",
    "    \n",
    "    legend = []\n",
    "    legend.append(snobal)\n",
    "    legend.append(legend_text(' max', f'{snobal_max} mm'))\n",
    "    legend.append(legend_text(' % Snotel', f'{snobal_max/snotel_sum:.2%}'))\n",
    "    legend.append(legend_text(' min', f'{snobal_min} mm'))\n",
    "    legend.append(legend_text(' % Snotel', f'{snobal_min/snotel_sum:.2%}'))\n",
    "    legend.append(snotel)\n",
    "    legend.append(legend_text(' total', f'{snotel_sum} mm'))\n",
    "    \n",
    "    return legend\n",
    "\n",
    "\n",
    "def depth_numbers(site, snobal, snotel):\n",
    "    snobal_depths = plot_data[site]['min']['thickness'].squeeze('x').squeeze('y').to_pandas()\n",
    "    min_date = snobal_depths[(snobal_depths == 0) & (snobal_depths.index > melt_start)].index[0]\n",
    "    \n",
    "    snobal_depths = plot_data[site]['max']['thickness'].squeeze('x').squeeze('y').to_pandas()\n",
    "    max_date = snobal_depths[(snobal_depths == 0) & (snobal_depths.index > melt_start)].index[0]\n",
    "\n",
    "    snotel_depth = plot_data[site]['snotel']['Depth(m)']\n",
    "    snotel_date = snotel_depth[(snotel_depth == 0) & (snotel_depth.index > melt_start)].index[0]\n",
    "\n",
    "    legend = []\n",
    "    legend.append(snobal)\n",
    "    legend.append(legend_text(' Min', min_date.strftime('%Y-%m-%d')))\n",
    "    legend.append(legend_text(' Max', max_date.strftime(LEGEND_DATE)))\n",
    "\n",
    "    legend.append(snotel)\n",
    "    legend.append(legend_text('', snotel_date.strftime(LEGEND_DATE)))\n",
    "    legend.append(legend_text('Difference:', ''))\n",
    "    legend.append(legend_text(' Min', f' {(min_date - snotel_date).days} days'))\n",
    "    legend.append(legend_text(' Max', f' {(max_date - snotel_date).days} days'))\n",
    "    \n",
    "    return legend\n"
   ]
  },
  {
   "cell_type": "markdown",
   "metadata": {},
   "source": [
    "## Depth "
   ]
  },
  {
   "cell_type": "code",
   "execution_count": null,
   "metadata": {},
   "outputs": [],
   "source": [
    "plot_variable('thickness', 'Depth(m)', 'Snow Depth', 'Snow Depth (m)')"
   ]
  },
  {
   "cell_type": "markdown",
   "metadata": {},
   "source": [
    "## SWE"
   ]
  },
  {
   "cell_type": "code",
   "execution_count": null,
   "metadata": {},
   "outputs": [],
   "source": [
    "plot_variable('specific_mass', 'SWE(mm)', 'SWE', 'SWE (mm)')"
   ]
  },
  {
   "cell_type": "markdown",
   "metadata": {},
   "source": [
    "## Snow Density"
   ]
  },
  {
   "cell_type": "code",
   "execution_count": null,
   "metadata": {},
   "outputs": [],
   "source": [
    "plot_variable('snow_density', 'Density(kg/m3)', 'Snow Density', r'Snow Density ($kg/m^3$)')"
   ]
  },
  {
   "cell_type": "markdown",
   "metadata": {},
   "source": [
    "## Temperature "
   ]
  },
  {
   "cell_type": "code",
   "execution_count": null,
   "metadata": {},
   "outputs": [],
   "source": [
    "# plot_variable('temp_surf', 'Air-T(C)', 'Temperature', 'Temperature (C)')"
   ]
  }
 ],
 "metadata": {
  "language_info": {
   "name": "python"
  }
 },
 "nbformat": 4,
 "nbformat_minor": 4
}
