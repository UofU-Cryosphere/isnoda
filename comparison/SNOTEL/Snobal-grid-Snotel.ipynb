{
 "cells": [
  {
   "cell_type": "code",
   "execution_count": null,
   "metadata": {},
   "outputs": [],
   "source": [
    "from common import *"
   ]
  },
  {
   "cell_type": "code",
   "execution_count": null,
   "metadata": {},
   "outputs": [],
   "source": [
    "water_year = 2018"
   ]
  },
  {
   "cell_type": "markdown",
   "metadata": {},
   "source": [
    "## Show SNOTEL site location in matching SNOBAL grid cell "
   ]
  },
  {
   "cell_type": "code",
   "execution_count": null,
   "metadata": {},
   "outputs": [],
   "source": [
    "def plot_snobal_snotel(site):\n",
    "    snow = xr.open_dataset(\n",
    "         (SNOBAL_DIR / f'wy{water_year}' / f'erw/run{water_year}0101/snow.nc').as_posix(),\n",
    "        ).sel(x=[site.lon], y=[site.lat], method='nearest')\n",
    "\n",
    "    x, y = np.meshgrid(snow.x, snow.y)\n",
    "    half_grid = 25\n",
    "\n",
    "    figure, ax = plt.subplots(1, 1, figsize=(11, 10), dpi=100)\n",
    "    ax.scatter(site.lon, site.lat, s=150, label='Site location')\n",
    "    ax.scatter(x.flatten(), y.flatten(), s=150, label='Cell center')\n",
    "    plt.grid(True)\n",
    "    ax.ticklabel_format(useOffset=False)\n",
    "    ax.set_xticks(np.arange(snow.x[0] - half_grid, snow.x[-1] + half_grid + 1, 50))\n",
    "    ax.set_yticks(np.arange(snow.y[0] - half_grid, snow.y[-1] + half_grid + 1, 50))\n",
    "    ax.set_xlim(left=snow.x[0] - half_grid, right=snow.x[-1] + half_grid)\n",
    "    ax.set_ylim(bottom=snow.y[0] - half_grid, top=snow.y[-1] + half_grid)\n",
    "    ax.set_ylabel('Latitude')\n",
    "    ax.set_xlabel('Longitude')\n",
    "    ax.set_title(f'SNOTEL - {site.name}')\n",
    "    ax.legend()\n",
    "    plt.show()"
   ]
  },
  {
   "cell_type": "code",
   "execution_count": null,
   "metadata": {},
   "outputs": [],
   "source": [
    "for site in SnotelLocations.parse_json(SNOTEL_DIR / 'site-locations/snotel_sites.json'):\n",
    "    plot_snobal_snotel(site)"
   ]
  }
 ],
 "metadata": {
  "language_info": {
   "name": "python"
  }
 },
 "nbformat": 4,
 "nbformat_minor": 4
}
