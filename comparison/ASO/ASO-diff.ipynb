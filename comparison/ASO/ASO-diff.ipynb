{
 "cells": [
  {
   "cell_type": "code",
   "execution_count": null,
   "id": "82321913-60bd-4b67-a0da-8e613b8e76ba",
   "metadata": {},
   "outputs": [],
   "source": [
    "from common import *\n",
    "\n",
    "from matplotlib.ticker import FixedLocator\n",
    "from matplotlib.lines import Line2D\n",
    "from datetime import datetime\n",
    "\n",
    "import geopandas as gp"
   ]
  },
  {
   "cell_type": "code",
   "execution_count": null,
   "id": "55826af2-1c00-41d0-a5e1-b47fe2efaa2b",
   "metadata": {},
   "outputs": [],
   "source": [
    "ASO_DIR = ASO_DIR / 'Depth-Difference/'\n",
    "DATES = ['20220421', '20220518']\n",
    "TIME_DECAY = 'SMRF-2022'\n",
    "HRRR_MODIS = 'HRRR-MODIS'"
   ]
  },
  {
   "cell_type": "code",
   "execution_count": null,
   "id": "0ac04001-1c11-45c0-b530-7dbcff510b9d",
   "metadata": {},
   "outputs": [],
   "source": [
    "ERW = gp.read_file(str(DATA_DIR / 'Boundaries/Upper_Gunnison.geojson'))\n",
    "ERW_extent=(ERW.bounds.values.flatten()[0],ERW.bounds.values.flatten()[2], ERW.bounds.values.flatten()[1], ERW.bounds.values.flatten()[3])"
   ]
  },
  {
   "cell_type": "code",
   "execution_count": null,
   "id": "59f4b517-17b5-4ee3-b494-295c4a67f40f",
   "metadata": {},
   "outputs": [],
   "source": [
    "def read_data(path, compressed):\n",
    "    data = RasterFile(path.as_posix()).band_values()\n",
    "    \n",
    "    # Filter difference above 12m and below -12m\n",
    "    data[data > 12] = np.ma.masked\n",
    "    data[data < -12] = np.ma.masked\n",
    "    \n",
    "    return data[~np.isnan(data)].compressed() if compressed else data\n",
    "\n",
    "def read_days(compressed=False):\n",
    "    data = {}\n",
    "    \n",
    "    for folder in [TIME_DECAY, HRRR_MODIS]:\n",
    "        data[folder] = {}\n",
    "        data[folder][DATES[0]] = read_data(\n",
    "            ASO_DIR / folder / f'Depth_difference_{DATES[0]}_50m.tif',\n",
    "            compressed\n",
    "        )\n",
    "\n",
    "        data[folder][DATES[1]] = read_data(\n",
    "            ASO_DIR / folder / f'Depth_difference_{DATES[1]}_50m.tif',\n",
    "            compressed\n",
    "        )\n",
    "\n",
    "    \n",
    "    return data"
   ]
  },
  {
   "cell_type": "markdown",
   "id": "cf42c683-8ce0-4919-b6aa-e467ed8d517c",
   "metadata": {
    "tags": []
   },
   "source": [
    "## Violin Plot "
   ]
  },
  {
   "cell_type": "code",
   "execution_count": null,
   "id": "92ccaa05-c136-4f68-af60-185a4e6066c1",
   "metadata": {},
   "outputs": [],
   "source": [
    "LABELS = ['Time-Decay', 'HRRR-MODIS']\n",
    "\n",
    "def single_stat(data):\n",
    "    print(f\"     Mean: {np.nanmean(data):.2} m\")\n",
    "    print(f\"      Std: {np.nanstd(data):.2} m\")\n",
    "    print(f\"   Median: {np.nanmedian(data):.2} m\")\n",
    "    print(f\"      Min: {np.nanmin(data):.2} m\")\n",
    "    print(f\"      Max: {np.nanmax(data):.2} m\")\n",
    "    print(f\" Diff 0.0: {np.where(data == 0.0)[0].size}\")\n",
    "    print(f\" Diff %  : {(np.where(data == 0.0)[0].size / data.size):.2%}\")\n",
    "    # print(f\"   Diff +/- 0.8: {np.where(np.logical_and(data >= -0.08, data <= 0.08))[0].size}\")\n",
    "    # print(f\"       % : {(np.where(np.logical_and(data >= -0.08, data <= 0.08))[0].size / data.size):.2%}\")\n",
    "    print(f\"   Pixels: {data.size}\")\n",
    "\n",
    "def print_stats(data):\n",
    "    for folder in data:\n",
    "        print(folder)\n",
    "        for entry in data[folder]:\n",
    "            print(f\"* {entry}\")\n",
    "            single_stat(data[folder][entry])\n",
    "        print(\"\")\n",
    "\n",
    "def model_axes(axes, x_pos=1.05):    \n",
    "    model_cax = axes.twinx()\n",
    "    model_cax.set_ylabel(r'Model simulation', rotation=270, labelpad=4)\n",
    "    model_cax.set_yticks([0,1])\n",
    "    model_cax.set_yticklabels([])\n",
    "    \n",
    "    model_cax.annotate(\"Over\",\n",
    "        xy=(x_pos, 1),\n",
    "        xytext=(x_pos, .84),\n",
    "        xycoords='axes fraction',\n",
    "        va=\"center\", ha=\"center\",\n",
    "        rotation=270,\n",
    "        arrowprops=dict(arrowstyle=\"simple\", fc='blue')\n",
    "    )\n",
    "    model_cax.annotate(\"Under\",\n",
    "        xy=(x_pos, 0.00),\n",
    "        xytext=(x_pos, .16),\n",
    "        xycoords='axes fraction',\n",
    "        va=\"center\", ha=\"center\",\n",
    "        rotation=270,\n",
    "        arrowprops=dict(arrowstyle=\"simple\", fc='red')\n",
    "    )\n",
    "\n",
    "\n",
    "def zero_line(ax):\n",
    "    for y in [-1, 0, 1]:\n",
    "        ax.axhline(y, lw=0.8, ls=(1, (1, 3)), color='black', zorder=0, alpha=0.25)\n",
    "\n",
    "def plot_violin(ax, data, color):\n",
    "    zero_line(ax)\n",
    "    \n",
    "    violin_positions = [0.4, 0.725]\n",
    "    vp = ax.violinplot(\n",
    "        data,\n",
    "        positions=violin_positions,\n",
    "        widths=0.3,\n",
    "        showmeans=False,\n",
    "        showmedians=True,\n",
    "        showextrema=False,\n",
    "        quantiles=[\n",
    "           [0.05, 0.95],\n",
    "           [0.05, 0.95],\n",
    "        ],\n",
    "    )\n",
    "\n",
    "    color = [color, color]\n",
    "    ci = 0\n",
    "    for pc in vp['bodies']:\n",
    "        pc.set_facecolor(color[ci])\n",
    "        pc.set_edgecolor('Black')\n",
    "        pc.set_lw(0.75)\n",
    "        ci += 1\n",
    "\n",
    "    for line in ['cquantiles', 'cmedians']:\n",
    "        vp[line].set_color('black')\n",
    "        vp[line].set_lw(0.75)\n",
    "\n",
    "    vp['cmedians'].set_ls(':')\n",
    "    vp['cmedians'].set_lw(3)\n",
    "    \n",
    "        \n",
    "def plot_differences(ax1, ax2):\n",
    "    data = read_days(True)\n",
    "    \n",
    "    plot_violin(ax1, [data[TIME_DECAY][DATES[0]], data[HRRR_MODIS][DATES[0]]], 'indigo')\n",
    "    plot_violin(ax2, [data[TIME_DECAY][DATES[1]], data[HRRR_MODIS][DATES[1]]], 'teal')\n",
    "    \n",
    "    ax1.set_xticks(\n",
    "        [0.4, 0.725],\n",
    "        labels=LABELS\n",
    "    )\n",
    "    ax1.tick_params(top=True, labeltop=True, bottom=False, labelbottom=False)\n",
    "    ax2.tick_params(top=False, labeltop=False, bottom=False, labelbottom=False)\n",
    "    ax1.set_xlabel('')\n",
    "            \n",
    "    ax2.legend(\n",
    "        handles=[\n",
    "            mpatches.Patch(\n",
    "                facecolor='indigo', ec='grey', alpha=0.5,\n",
    "                label=datetime.strptime(DATES[0], '%Y%m%d').strftime('%d %b')\n",
    "            ),\n",
    "            mpatches.Patch(\n",
    "                facecolor='teal', ec='grey', alpha=0.5,\n",
    "                label=datetime.strptime(DATES[1], '%Y%m%d').strftime('%d %b')\n",
    "            ),\n",
    "            Line2D([0], [0], color='black', linestyle=':', label='Median'),\n",
    "            Line2D([0], [0], color='black', label='Quantiles (95%, 5%)')\n",
    "        ],\n",
    "        loc='lower right',\n",
    "        fontsize=8,\n",
    "        frameon=False,\n",
    "        bbox_to_anchor=(1.1, -0.18),\n",
    "        ncol=2\n",
    "    )\n",
    "    \n",
    "    ax1.set_yscale('symlog', linthresh=1)\n",
    "    ax1.set_ylabel(r'$\\Delta$ Snow Depth (m)')\n",
    "    ax2.set_ylabel(r'$\\Delta$ Snow Depth (m)')\n",
    "    ax1.set_ylim(top=3, bottom=-7)\n",
    "    ax1.set_yticks([2, 1, 0.5, 0, -0.5, -1, -2, -6])\n",
    "    ax1.set_yticks(np.arange(-1, 1, 0.1), minor=True)\n",
    "    ax1.yaxis.set_major_formatter(\"{x:.1f}\")\n",
    "    ax1.tick_params(axis='y', direction='inout', length=6)\n",
    "\n",
    "    model_axes(ax1, 1.03)\n",
    "    model_axes(ax2, 1.03)"
   ]
  },
  {
   "cell_type": "code",
   "execution_count": null,
   "id": "244de9c6-c766-463e-aaab-ef2d9c28632b",
   "metadata": {},
   "outputs": [],
   "source": [
    "print_stats(read_days(True))"
   ]
  },
  {
   "cell_type": "code",
   "execution_count": null,
   "id": "c386e65e-2658-41cd-bef2-753d60065f37",
   "metadata": {},
   "outputs": [],
   "source": [
    "fig, (ax1, ax2) = plt.subplots(\n",
    "    nrows=2, sharex=True, sharey=True,\n",
    "    figsize=(2.75, 8), dpi=300\n",
    ")\n",
    "fig.subplots_adjust(hspace=0.025)\n",
    "\n",
    "plot_differences(ax1, ax2)"
   ]
  },
  {
   "cell_type": "markdown",
   "id": "12c84783-0e81-45f6-8d2e-b25dd912e4a9",
   "metadata": {},
   "source": [
    "## Area Plot"
   ]
  },
  {
   "cell_type": "code",
   "execution_count": null,
   "id": "36db01b6-be70-4c78-8ba1-750a5537d70c",
   "metadata": {},
   "outputs": [],
   "source": [
    "from mpl_toolkits.axes_grid1 import make_axes_locatable\n",
    "from mpl_toolkits.axes_grid1 import ImageGrid\n",
    "from palettable.colorbrewer.diverging import RdBu_5 as RedBlueCmap\n",
    "\n",
    "RED_BLUE_CMAP = RedBlueCmap.mpl_colormap"
   ]
  },
  {
   "cell_type": "code",
   "execution_count": null,
   "id": "ac0ab9b2-3eee-4f3f-95f9-48cce72068a3",
   "metadata": {},
   "outputs": [],
   "source": [
    "data = read_days()"
   ]
  },
  {
   "cell_type": "code",
   "execution_count": null,
   "id": "78703af4-50cb-4499-b33d-5771fc36bc91",
   "metadata": {},
   "outputs": [],
   "source": [
    "def plot_area(data, axes, title='', ylabel=''):\n",
    "    plt_data = axes.imshow(\n",
    "        data,\n",
    "        vmin=-1,\n",
    "        vmax=1,\n",
    "        cmap=RED_BLUE_CMAP,\n",
    "    )\n",
    "    plt.setp(axes, xticks=[], yticks=[])\n",
    "    axes.set_facecolor('lightgrey')\n",
    "    \n",
    "    axes.set_title(title)\n",
    "    axes.set_ylabel(ylabel)\n",
    "\n",
    "    return plt_data"
   ]
  },
  {
   "cell_type": "code",
   "execution_count": null,
   "id": "d67322d4-a4ca-4d77-bc71-f41e40444737",
   "metadata": {},
   "outputs": [],
   "source": [
    "fig = plt.figure(dpi=300, figsize=(8, 8))\n",
    "\n",
    "grid = ImageGrid(\n",
    "    fig, 111,\n",
    "    nrows_ncols=(2, 2),\n",
    "    axes_pad=(0.1, 0.1),\n",
    "    cbar_location=\"bottom\",\n",
    "    cbar_mode=\"single\",\n",
    "    cbar_pad=\"0%\",\n",
    "    cbar_size='3%'\n",
    ")\n",
    "\n",
    "plot_area(data[TIME_DECAY][DATES[0]], grid[0], title=LABELS[0], ylabel='21 Apr')\n",
    "plot_area(data[HRRR_MODIS][DATES[0]], grid[1], title=LABELS[1])\n",
    "plot_area(data[TIME_DECAY][DATES[1]], grid[2], ylabel='18 May')\n",
    "\n",
    "cax = grid.cbar_axes[0]\n",
    "cbar = cax.colorbar(\n",
    "    plot_area(data[HRRR_MODIS][DATES[1]], grid[3]),\n",
    "    ticks=np.arange(-1, 1.5, 0.5),\n",
    "    extend='both'\n",
    ")\n",
    "cbar.set_label(\n",
    "    label=r'$\\Delta$ Snow Depth (m)',\n",
    ")\n",
    "\n",
    "y_pos = 0.45\n",
    "cax.annotate(\"Over\",\n",
    "    xy=(0.88, y_pos),\n",
    "    xycoords='axes fraction',\n",
    "    va=\"center\", ha=\"center\",\n",
    ")\n",
    "cax.annotate(\"Under\",\n",
    "    xy=(0.12, y_pos),\n",
    "    xycoords='axes fraction',\n",
    "    va=\"center\", ha=\"center\",\n",
    ")\n",
    "cax.annotate(\"Model simulation\",\n",
    "    xy=(0.5, y_pos),\n",
    "    xycoords='axes fraction',\n",
    "    va=\"center\", ha=\"center\",\n",
    ");"
   ]
  },
  {
   "cell_type": "markdown",
   "id": "c548b8d3-7029-4ef9-9f7c-803d72851500",
   "metadata": {},
   "source": [
    "## Areas with no snow"
   ]
  },
  {
   "cell_type": "code",
   "execution_count": null,
   "id": "b93076d4-11dc-4212-8db2-476667f48cd5",
   "metadata": {},
   "outputs": [],
   "source": [
    "ASO_ACCURACY = 0.00"
   ]
  },
  {
   "cell_type": "code",
   "execution_count": null,
   "id": "89601223-d675-4b09-ac49-f2fc13cc7173",
   "metadata": {},
   "outputs": [],
   "source": [
    "def read_data(path, compressed):\n",
    "    data = RasterFile(path.as_posix()).band_values()\n",
    "    \n",
    "    # Filter difference above 12m and below -12m\n",
    "    data[data > 12] = np.ma.masked\n",
    "    data[data < -12] = np.ma.masked\n",
    "    \n",
    "    return data[~np.isnan(data)].compressed() if compressed else data\n",
    "\n",
    "def read_days(compressed=False):\n",
    "    data = {}\n",
    "    \n",
    "    for folder in [TIME_DECAY, HRRR_MODIS]:\n",
    "        data[folder] = {}\n",
    "        data[folder][DATES[0]] = read_data(\n",
    "            ASO_DIR / folder / f'ASO_50M_SD_USCOGE_{DATES[0]}_iSnobal_grid.tif',\n",
    "            compressed\n",
    "        )\n",
    "\n",
    "        data[folder][DATES[1]] = read_data(\n",
    "            ASO_DIR / folder / f'ASO_50M_SD_USCOGE_{DATES[1]}_iSnobal_grid.tif',\n",
    "            compressed\n",
    "        )\n",
    "\n",
    "    \n",
    "    return data"
   ]
  },
  {
   "cell_type": "code",
   "execution_count": null,
   "id": "d363f314-0d46-44ed-82a9-291304d255ce",
   "metadata": {},
   "outputs": [],
   "source": [
    "aso_data = read_days()"
   ]
  },
  {
   "cell_type": "markdown",
   "id": "41480bbb-f4ce-424c-b50e-69f2904272fa",
   "metadata": {},
   "source": [
    "### Mask NaN and areas with snow "
   ]
  },
  {
   "cell_type": "code",
   "execution_count": null,
   "id": "8cdf28d8-bab7-40d6-a0be-94f4d5aac210",
   "metadata": {},
   "outputs": [],
   "source": [
    "no_snow_mask = ~(np.isnan(aso_data['HRRR-MODIS']['20220421']).mask | (aso_data['HRRR-MODIS']['20220421'] <= ASO_ACCURACY).data)"
   ]
  },
  {
   "cell_type": "markdown",
   "id": "da51dc93-b69b-4cd2-8261-0c29e39ce782",
   "metadata": {},
   "source": [
    "### April"
   ]
  },
  {
   "cell_type": "code",
   "execution_count": null,
   "id": "58076175-1c11-4267-a422-ebc0991cc36c",
   "metadata": {},
   "outputs": [],
   "source": [
    "no_snow_aso = np.ma.masked_where(no_snow_mask, aso_data['HRRR-MODIS']['20220421'])\n",
    "no_snow_SMRF_apr = np.ma.masked_where(no_snow_mask, data['SMRF-2022']['20220421'])\n",
    "no_snow_HRRR_apr = np.ma.masked_where(no_snow_mask, data['HRRR-MODIS']['20220421'])"
   ]
  },
  {
   "cell_type": "markdown",
   "id": "f5ab8713-c2a1-4fd2-8c91-7b3ba1c3fb89",
   "metadata": {},
   "source": [
    "### May"
   ]
  },
  {
   "cell_type": "code",
   "execution_count": null,
   "id": "6264a515-bfe9-4dfe-adca-13ec0ab064ce",
   "metadata": {},
   "outputs": [],
   "source": [
    "no_snow_mask = ~(np.isnan(aso_data['HRRR-MODIS']['20220518']).mask | (aso_data['HRRR-MODIS']['20220518'] <= ASO_ACCURACY).data)"
   ]
  },
  {
   "cell_type": "code",
   "execution_count": null,
   "id": "edee0481-e365-4589-8e1f-4cde7b2eeed8",
   "metadata": {},
   "outputs": [],
   "source": [
    "no_snow_aso = np.ma.masked_where(no_snow_mask, aso_data['HRRR-MODIS']['20220518'])\n",
    "no_snow_SMRF_may = np.ma.masked_where(no_snow_mask, data['SMRF-2022']['20220518'])\n",
    "no_snow_HRRR_may = np.ma.masked_where(no_snow_mask, data['HRRR-MODIS']['20220518'])"
   ]
  },
  {
   "cell_type": "code",
   "execution_count": null,
   "id": "5623f517-98bf-4262-990d-ce2f49d77a01",
   "metadata": {},
   "outputs": [],
   "source": [
    "from palettable.colorbrewer.sequential import Blues_9 as BlueCmap\n",
    "\n",
    "BLUE_CMAP = BlueCmap.mpl_colormap"
   ]
  },
  {
   "cell_type": "code",
   "execution_count": null,
   "id": "54832634-cef7-479e-8eb9-db2f890697ab",
   "metadata": {},
   "outputs": [],
   "source": [
    "def plot_area(data, axes, title='', ylabel=''):\n",
    "    plt_data = axes.imshow(\n",
    "        data,\n",
    "        vmin=0,\n",
    "        vmax=0.5,\n",
    "        cmap=BLUE_CMAP,\n",
    "        extent=ERW_extent,\n",
    "    )\n",
    "    plt.setp(axes, xticks=[], yticks=[])\n",
    "    axes.set_facecolor('lightgrey')\n",
    "    \n",
    "    axes.set_title(title)\n",
    "    axes.set_ylabel(ylabel)\n",
    "\n",
    "    return plt_data"
   ]
  },
  {
   "cell_type": "code",
   "execution_count": null,
   "id": "ca57207e-dcf4-4e68-9988-dccb75a79b44",
   "metadata": {},
   "outputs": [],
   "source": [
    "fig = plt.figure(dpi=300, figsize=(8, 8))\n",
    "\n",
    "grid = ImageGrid(\n",
    "    fig, 111,\n",
    "    nrows_ncols=(2, 2),\n",
    "    axes_pad=(0.1, 0.1),\n",
    "    cbar_location=\"bottom\",\n",
    "    cbar_mode=\"single\",\n",
    "    cbar_pad=\"0%\",\n",
    "    cbar_size='3%'\n",
    ")\n",
    "\n",
    "plot_area(no_snow_SMRF_apr, grid[0], title=LABELS[0], ylabel='21 Apr')\n",
    "plot_area(no_snow_HRRR_apr, grid[1], title=LABELS[1])\n",
    "plot_area(no_snow_SMRF_may, grid[2], ylabel='18 May')\n",
    "\n",
    "[ERW.boundary.plot(color='grey', ax=el, lw=0.5) for el in grid]\n",
    "\n",
    "cax = grid.cbar_axes[0]\n",
    "cbar = cax.colorbar(\n",
    "    plot_area(no_snow_HRRR_may, grid[3]),\n",
    "    ticks=np.arange(0, 1, 0.1),\n",
    "    extend='max'\n",
    ")\n",
    "cbar.set_label(\n",
    "    label=r'Snow Depth (m)',\n",
    ")"
   ]
  },
  {
   "cell_type": "code",
   "execution_count": null,
   "id": "3558d682-3dad-49af-917f-4c3e88b244ab",
   "metadata": {},
   "outputs": [],
   "source": [
    "def percent_below_threshold(data, threshold):\n",
    "    data = data.compressed()\n",
    "    print(f\"Percent: {data[np.where(data <= threshold)].size / data.size:.2%}\")\n",
    "    print(f\"Mean: {np.nanmean(data):.3} m\")"
   ]
  },
  {
   "cell_type": "code",
   "execution_count": null,
   "id": "d6fa9475-dcdd-48e2-b3e3-896e655067ed",
   "metadata": {},
   "outputs": [],
   "source": [
    "percent_below_threshold(no_snow_SMRF_apr, ASO_ACCURACY)"
   ]
  },
  {
   "cell_type": "code",
   "execution_count": null,
   "id": "afbe2ff1-727f-43f0-85b9-e1dfa14b2ee1",
   "metadata": {},
   "outputs": [],
   "source": [
    "percent_below_threshold(no_snow_HRRR_apr, ASO_ACCURACY)"
   ]
  },
  {
   "cell_type": "code",
   "execution_count": null,
   "id": "4a43734f-eaa1-4b73-848f-0ba7e5712a1b",
   "metadata": {},
   "outputs": [],
   "source": [
    "percent_below_threshold(no_snow_SMRF_may, ASO_ACCURACY)"
   ]
  },
  {
   "cell_type": "code",
   "execution_count": null,
   "id": "46496a93-a164-4af3-ac04-8b4f7369894c",
   "metadata": {},
   "outputs": [],
   "source": [
    "percent_below_threshold(no_snow_HRRR_may, ASO_ACCURACY)"
   ]
  },
  {
   "cell_type": "code",
   "execution_count": null,
   "id": "5297a24d-c648-442d-9f3a-2d97c02ca93e",
   "metadata": {},
   "outputs": [],
   "source": [
    "def count_y(data):\n",
    "    return np.flip(np.ma.masked_where(data <= ASO_ACCURACY, data).count(axis=1))"
   ]
  },
  {
   "cell_type": "code",
   "execution_count": null,
   "id": "710675b3-8479-4668-afd4-5e12fef5f5f4",
   "metadata": {},
   "outputs": [],
   "source": [
    "fig, (ax1, ax2) = plt.subplots(\n",
    "    nrows=2, sharex=True, sharey=True,\n",
    "    dpi=300, figsize=(2.5,7.65)\n",
    ")\n",
    "fig.subplots_adjust(hspace=0.034)\n",
    "\n",
    "# ax1.plot(count_y(no_snow_SMRF_apr), np.arange(no_snow_SMRF_apr.shape[0]), color='indigo', lw=.5, alpha=0.5)\n",
    "ax1.fill_betweenx(np.arange(no_snow_SMRF_apr.shape[0]), 0, count_y(no_snow_SMRF_apr), color='indigo', alpha=0.2, label='Time-Decay')\n",
    "ax1.plot(count_y(no_snow_HRRR_apr), np.arange(no_snow_HRRR_apr.shape[0]), label='HRRR-MODIS', color='black', lw=0.75)\n",
    "\n",
    "# ax2.plot(count_y(no_snow_SMRF_may), np.arange(no_snow_SMRF_may.shape[0]), color='teal', lw=.5, alpha=0.5)\n",
    "ax2.fill_betweenx(np.arange(no_snow_SMRF_may.shape[0]), 0, count_y(no_snow_SMRF_may), label='Time-Decay', color='teal', alpha=0.2)\n",
    "ax2.plot(count_y(no_snow_HRRR_may), np.arange(no_snow_HRRR_may.shape[0]), label='HRRR-MODIS', color='black', lw=0.75)\n",
    "\n",
    "ax1.set_title('Latitude Difference')\n",
    "\n",
    "ax2.set_xticks(np.arange(0, 130, 25))\n",
    "ax2.tick_params(axis='x', which='major', labelsize=10)\n",
    "ax2.set_xlabel('Grid Cell Count')\n",
    "ax2.set_xlim(left=-0.5)\n",
    "\n",
    "ax2.set_ylim(0, no_snow_SMRF_apr.shape[0])\n",
    "ax2.set_yticks([])\n",
    "ax2.set_yticklabels([])\n",
    "\n",
    "ax1.legend(\n",
    "    loc='upper right',\n",
    "    fontsize=8,\n",
    "    frameon=False,\n",
    ")\n",
    "ax2.legend(\n",
    "    loc='upper right',\n",
    "    fontsize=8,\n",
    "    frameon=False,\n",
    ");"
   ]
  },
  {
   "cell_type": "code",
   "execution_count": null,
   "id": "bce33a43-55dd-4bd0-9161-319633d072ee",
   "metadata": {},
   "outputs": [],
   "source": []
  }
 ],
 "metadata": {
  "language_info": {
   "name": "python"
  }
 },
 "nbformat": 4,
 "nbformat_minor": 5
}
