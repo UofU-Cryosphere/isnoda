{
 "cells": [
  {
   "cell_type": "code",
   "execution_count": null,
   "id": "d0dcb061-b6b7-4e29-ad60-f4458187655c",
   "metadata": {},
   "outputs": [],
   "source": [
    "import pandas as pd\n",
    "from common import *"
   ]
  },
  {
   "cell_type": "code",
   "execution_count": null,
   "id": "2fdeb03f-e8c0-4262-a6c6-928385ebd1e2",
   "metadata": {},
   "outputs": [],
   "source": [
    "# Convert SNOBAL grid cell from meter to square feet\n",
    "CELL_AREA = (50.0 * 3.28084)**2\n",
    "# MM in one foot\n",
    "MM_IN_FT = 304.8\n",
    "# Convert to cubic feet\n",
    "CELL_AREA_IN_MM = CELL_AREA / MM_IN_FT"
   ]
  },
  {
   "cell_type": "code",
   "execution_count": null,
   "id": "79bf1112-48e2-445f-84eb-c527cbdfbada",
   "metadata": {},
   "outputs": [],
   "source": [
    "# Cubic feet to cubic meter\n",
    "FT3_to_M3 = (MM_IN_FT/1000)**3"
   ]
  },
  {
   "cell_type": "code",
   "execution_count": null,
   "id": "b2f86265-8c13-4b5f-8bb8-6e4bb26728f6",
   "metadata": {},
   "outputs": [],
   "source": [
    "wy2018 = dict(time=slice(\"2017-10-01\", \"2018-09-30\"))\n",
    "wy2019 = dict(time=slice(\"2018-10-01\", \"2019-09-30\"))\n",
    "wy2020 = dict(time=slice(\"2019-10-01\", \"2020-09-30\"))\n",
    "wy2021 = dict(time=slice(\"2020-10-01\", \"2021-09-30\"))"
   ]
  },
  {
   "cell_type": "code",
   "execution_count": null,
   "id": "657177d4-54d8-499e-b7c6-1f9213629f4c",
   "metadata": {},
   "outputs": [],
   "source": [
    "zones = cbrfc_zones()"
   ]
  },
  {
   "cell_type": "markdown",
   "id": "bbbf5165-787c-4078-a97d-e83b1cbe368a",
   "metadata": {},
   "source": [
    "# Compare iSnobal SWI to USGS discharge gauge at Almont "
   ]
  },
  {
   "cell_type": "markdown",
   "id": "a5e5f588-2d98-42c6-9de9-0f340032f74f",
   "metadata": {},
   "source": [
    "## USGS "
   ]
  },
  {
   "cell_type": "markdown",
   "id": "d5a19669-4b4f-4df0-b7da-78faed424d30",
   "metadata": {},
   "source": [
    "Source: https://nwis.waterdata.usgs.gov/co/nwis/dv/?site_no=09112500&agency_cd=USGS&amp;referred_module=sw"
   ]
  },
  {
   "cell_type": "code",
   "execution_count": null,
   "id": "69101631-83b0-426c-9a39-839566358aac",
   "metadata": {},
   "outputs": [],
   "source": [
    "PD_OPTIONS = dict(\n",
    "    comment='#',\n",
    "    parse_dates=True,\n",
    "    index_col=0,\n",
    "    names=['Date', 'Discharge'],\n",
    "    header=0,\n",
    "    sep='\\t',\n",
    "    dtype={'Discharge': np.float64},\n",
    "    usecols=[2,3],\n",
    ")\n",
    "data = pd.read_csv(\n",
    "    DATA_DIR / 'USGS-SWI-Almont.csv', \n",
    "    **PD_OPTIONS\n",
    ")\n",
    "\n",
    "data.Discharge = data.Discharge * 60 * 60 * 24 * FT3_to_M3"
   ]
  },
  {
   "cell_type": "markdown",
   "id": "903647ff-2b1a-476b-886f-b47fd3340a9e",
   "metadata": {},
   "source": [
    "Area average from iSnobal vs CSV"
   ]
  },
  {
   "cell_type": "markdown",
   "id": "64426da2-be7a-44be-afc0-10f8a862be47",
   "metadata": {},
   "source": [
    "## CBRFC"
   ]
  },
  {
   "cell_type": "code",
   "execution_count": null,
   "id": "6db00201-bdf5-4308-9e1f-16516e74c7dd",
   "metadata": {},
   "outputs": [],
   "source": [
    "PD_OPTIONS = dict(\n",
    "    comment='#',\n",
    "    parse_dates=True,\n",
    "    index_col=0,\n",
    "    names=['Date', 'SWE'],\n",
    "    header=0,\n",
    "    sep=',',\n",
    "    dtype={'Discharge': np.float64},\n",
    ")\n",
    "cbrfc_HLF = pd.read_csv(\n",
    "    CBRFC_DIR / 'SWI/ALEC2HLF.RAIM.MA.csv', \n",
    "    **PD_OPTIONS\n",
    ")\n",
    "cbrfc_HMF = pd.read_csv(\n",
    "    CBRFC_DIR / 'SWI/ALEC2HMF.RAIM.MA.csv', \n",
    "    **PD_OPTIONS\n",
    ")\n",
    "cbrfc_HUF = pd.read_csv(\n",
    "    CBRFC_DIR / 'SWI/ALEC2HUF.RAIM.MA.csv', \n",
    "    **PD_OPTIONS\n",
    ")\n",
    "cbrfc = cbrfc_HLF + cbrfc_HMF + cbrfc_HUF\n",
    "cbrfc = cbrfc[\"2017-10-01\":\"2021-09-30\"]\n",
    "cbrfc = (cbrfc.SWE * (INCH_TO_MM / 1000)) * (zones[zones != 0].size * 50**2)"
   ]
  },
  {
   "cell_type": "markdown",
   "id": "bb52d74d-463a-4813-be1d-5ead2cfb66f4",
   "metadata": {
    "tags": []
   },
   "source": [
    "## SNOBAL"
   ]
  },
  {
   "cell_type": "code",
   "execution_count": null,
   "id": "a9039ec9-e757-42fa-a4db-98482fe6d46c",
   "metadata": {},
   "outputs": [],
   "source": [
    "client = start_cluster(8, 24)\n",
    "client_ip_and_port(client)"
   ]
  },
  {
   "cell_type": "code",
   "execution_count": null,
   "id": "9f749756-00b5-430b-801f-f756741f6e31",
   "metadata": {},
   "outputs": [],
   "source": [
    "snobal_em = xr.open_mfdataset(\n",
    "    (SNOBAL_DIR / 'GMD/wy*/erw/*/em.nc').as_posix(),\n",
    "    data_vars=['SWI'],\n",
    "    parallel=True,\n",
    ")\n",
    "snobal_em.coords['mask'] = (('y', 'x'), zones)\n",
    "snobal_em['time'] = snobal_em.time + np.timedelta64(2,'h')"
   ]
  },
  {
   "cell_type": "code",
   "execution_count": null,
   "id": "c2385971-f5d1-4b44-8fad-10025ad6f1ec",
   "metadata": {},
   "outputs": [],
   "source": [
    "swi = (\n",
    "    (snobal_em.where(snobal_em.mask != 0).SWI / 1000) * 50**2\n",
    ").sum(['x', 'y']).compute()"
   ]
  },
  {
   "cell_type": "code",
   "execution_count": null,
   "id": "7673b2e6-8a9f-45f0-bac6-23d5a0dae316",
   "metadata": {},
   "outputs": [],
   "source": [
    "client.shutdown()"
   ]
  },
  {
   "cell_type": "markdown",
   "id": "2be3f669-3a91-4929-bfda-df2429596a65",
   "metadata": {},
   "source": [
    "### Moving 7-day average SNOBAL vs. USGS"
   ]
  },
  {
   "cell_type": "code",
   "execution_count": null,
   "id": "911be6cc-0b01-463c-a63e-fb863f365174",
   "metadata": {},
   "outputs": [],
   "source": [
    "figure = plt.figure(dpi=300, figsize=(10,3))\n",
    "ax = plt.gca()\n",
    "\n",
    "swi.rolling(time=7, center=True).mean().plot(ax=ax, label='HRRR-iSnobal SWI', color='peru', alpha=0.8, lw=1)\n",
    "cbrfc.rolling(28, center=True).mean().plot(ax=ax, label='SNOW-17 SWI', color='olivedrab', alpha=0.8, lw=1.2, ls=(0, (5, 1)))\n",
    "data.rolling(7, center=True).mean().Discharge.plot(ax=ax, label='Stream Discharge', color='cadetblue', alpha=0.8, lw=1)\n",
    "\n",
    "locator = mdates.AutoDateLocator(maxticks=20)\n",
    "\n",
    "ax.xaxis.set_major_locator(locator)\n",
    "ax.xaxis.set_minor_locator(mdates.MonthLocator())\n",
    "\n",
    "formatter = mdates.ConciseDateFormatter(locator)\n",
    "ax.xaxis.set_major_formatter(formatter)\n",
    "\n",
    "index = 0\n",
    "for label in ax.get_xticklabels(which='major'):\n",
    "    label.set(rotation=0, horizontalalignment='center')\n",
    "    if index in [1, 5, 9, 13]:\n",
    "        label.set(fontstyle='italic', fontweight=600)\n",
    "    index += 1\n",
    "\n",
    "ax.set_xlim(left=data.index.min(), right=swi.time.max().values)\n",
    "ax.set_ylim(bottom=-1000)\n",
    "ax.ticklabel_format(axis='y', useMathText=True)\n",
    "\n",
    "plt.xlabel('')\n",
    "plt.ylabel(r'Mean Volume ($\\frac{m^3}{7 \\ days}$)')\n",
    "plt.legend(loc='upper center', ncol=3, bbox_to_anchor=(0.55, 1.14), frameon=False);"
   ]
  },
  {
   "cell_type": "code",
   "execution_count": null,
   "id": "b673175f-6cd7-4eee-8853-e2c9f2455ac1",
   "metadata": {},
   "outputs": [],
   "source": []
  }
 ],
 "metadata": {
  "language_info": {
   "name": "python"
  }
 },
 "nbformat": 4,
 "nbformat_minor": 5
}
