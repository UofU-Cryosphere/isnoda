{
 "cells": [
  {
   "cell_type": "code",
   "execution_count": null,
   "id": "7ae455d0-dee2-47df-b9f8-8aa61d21ea2e",
   "metadata": {},
   "outputs": [],
   "source": [
    "from common import *\n",
    "import geopandas"
   ]
  },
  {
   "cell_type": "markdown",
   "id": "8924cae7-e3dc-440c-ab67-4e579a018eb1",
   "metadata": {},
   "source": [
    "### Description\n",
    "\n",
    "Show the difference of different sample perio"
   ]
  },
  {
   "cell_type": "code",
   "execution_count": null,
   "id": "447730b4-7e93-409e-a191-8b590986406a",
   "metadata": {},
   "outputs": [],
   "source": [
    "# use_hvplot()"
   ]
  },
  {
   "cell_type": "code",
   "execution_count": null,
   "id": "c03a136b-e031-4964-945e-63c55a234f46",
   "metadata": {},
   "outputs": [],
   "source": [
    "client = start_cluster(5, 12)\n",
    "client_ip_and_port(client)"
   ]
  },
  {
   "cell_type": "code",
   "execution_count": null,
   "id": "a9f0e03d-be83-4244-bf8c-589ffa165d7d",
   "metadata": {},
   "outputs": [],
   "source": [
    "year = 2021\n",
    "water_year = f\"wy{year}\"\n",
    "\n",
    "wy_snow = xr.open_mfdataset(\n",
    "    (SNOBAL_DIR / f'GMD/{water_year}' / 'erw/*/snow.nc').as_posix(),\n",
    "    parallel=True,\n",
    ")"
   ]
  },
  {
   "cell_type": "code",
   "execution_count": null,
   "id": "ca4feb37-c13d-433d-87e1-19977c0ff7e4",
   "metadata": {},
   "outputs": [],
   "source": [
    "days_6 = xr.date_range(wy_snow.time.values[0], periods=55, freq='6D')\n",
    "days_12 = xr.date_range(wy_snow.time.values[0], periods=25, freq='12D')\n",
    "\n",
    "diff_daily = wy_snow.specific_mass.diff('time').compute()\n",
    "diff_6_days = wy_snow.specific_mass.sel(time=days_6).diff('time').compute()\n",
    "diff_12_days = wy_snow.specific_mass.sel(time=days_12).diff('time').compute()"
   ]
  },
  {
   "cell_type": "code",
   "execution_count": null,
   "id": "f44205cc-d9d8-4e64-82d5-d96af926d280",
   "metadata": {},
   "outputs": [],
   "source": [
    "melt_daily = abs(diff_daily.where(diff_daily < 0)).fillna(0)\n",
    "melt_6_days = abs(diff_6_days.where(diff_6_days < 0)).fillna(0)\n",
    "melt_12_days = abs(diff_12_days.where(diff_12_days < 0)).fillna(0)"
   ]
  },
  {
   "cell_type": "markdown",
   "id": "4ae243f2-3d8e-425d-83ea-cdbeaa9b0c91",
   "metadata": {},
   "source": [
    "client.shutdown()"
   ]
  },
  {
   "cell_type": "markdown",
   "id": "ec0396f7-0f07-4d36-9f1d-ac0df5f3d711",
   "metadata": {},
   "source": [
    "metl_days_na = melt_days\n",
    "melt_days = melt_days.fillna(0).where(melt_days > 0)"
   ]
  },
  {
   "cell_type": "code",
   "execution_count": null,
   "id": "41c5e15b-ec9f-4fb5-bfa5-75920abdcfb5",
   "metadata": {},
   "outputs": [],
   "source": [
    "sum_daily = melt_daily.sum('time')\n",
    "sum_6_days = melt_6_days.sum('time')\n",
    "sum_12_days = melt_12_days.sum('time')"
   ]
  },
  {
   "cell_type": "code",
   "execution_count": null,
   "id": "c55e1303-6ab1-4ae1-89f4-b01bbe076d11",
   "metadata": {},
   "outputs": [],
   "source": [
    "PLOT_OPTS_HV = dict(\n",
    "    height=800, width=1080, cmap='bgy_r', cbar_kwargs={\"label\": \"SWE (mm)\"}\n",
    ")"
   ]
  },
  {
   "cell_type": "code",
   "execution_count": null,
   "id": "8116e43c-27ba-4061-9669-48e8d0a9c135",
   "metadata": {},
   "outputs": [],
   "source": [
    "PLOT_OPTS_MPL = dict(\n",
    "    cmap='YlGnBu',\n",
    "    cbar_kwargs={\n",
    "        \"label\": \"SWE (mm)\",\n",
    "    }\n",
    ")\n",
    "plt.rcParams.update(\n",
    "    {\n",
    "        'axes.titlesize': 9,\n",
    "        'axes.labelsize': 6,\n",
    "        'xtick.labelsize': 6,\n",
    "        'ytick.labelsize': 6,\n",
    "    }\n",
    ")"
   ]
  },
  {
   "cell_type": "code",
   "execution_count": null,
   "id": "3fc994dc-3d14-4b6c-8624-9f6a94abc942",
   "metadata": {},
   "outputs": [],
   "source": [
    "ERW = geopandas.read_file(DATA_DIR.joinpath('Boundaries/Gunnison_basin_boundaries.geojson').as_posix())"
   ]
  },
  {
   "cell_type": "code",
   "execution_count": null,
   "id": "a949a5d7-9a0a-47f1-8f48-9931282ef31b",
   "metadata": {},
   "outputs": [],
   "source": [
    "def style_mpl(melt_data):\n",
    "    ERW.loc[ERW['label'] == 'Upper Gunnison'].boundary.plot(ax=ax, color='black')\n",
    "\n",
    "    ax.set_title('Upper Gunnison - East River Watershed')\n",
    "    ax.set_xlabel('')\n",
    "    ax.set_ylabel('')\n",
    "    ax.tick_params(axis='y', labelrotation=45)\n",
    "    ax.ticklabel_format(axis='both', style='plain')\n",
    "    ax.xaxis.set_ticks_position('both')\n",
    "    ax.yaxis.set_ticks_position('both')"
   ]
  },
  {
   "cell_type": "code",
   "execution_count": null,
   "id": "396ec204-9ddc-49a9-adc3-00eaf99d81ca",
   "metadata": {},
   "outputs": [],
   "source": [
    "fig = plt.figure(dpi=300)\n",
    "ax = fig.gca()\n",
    "\n",
    "sum_daily.plot(ax=ax, **PLOT_OPTS_MPL)\n",
    "style_mpl(ax)"
   ]
  },
  {
   "cell_type": "code",
   "execution_count": null,
   "id": "41ba1437-b7c9-4aee-a2a3-9b2d1e774d7b",
   "metadata": {},
   "outputs": [],
   "source": [
    "fig = plt.figure(dpi=300)\n",
    "ax=fig.gca()\n",
    "\n",
    "sum_6_days.plot(**PLOT_OPTS_MPL)\n",
    "\n",
    "style_mpl(ax)\n",
    "ax.set_title('Upper Gunnison - East River Watershed (6 days)')"
   ]
  },
  {
   "cell_type": "code",
   "execution_count": null,
   "id": "54e71bce-3ed4-4073-9c7c-6237e2c32846",
   "metadata": {},
   "outputs": [],
   "source": [
    "fig = plt.figure(dpi=300)\n",
    "ax=fig.gca()\n",
    "\n",
    "sum_12_days.plot(**PLOT_OPTS_MPL)\n",
    "\n",
    "style_mpl(ax)\n",
    "ax.set_title('Upper Gunnison - East River Watershed (12 days)')"
   ]
  },
  {
   "cell_type": "code",
   "execution_count": null,
   "id": "e24c3c7a-b9ab-40e1-9cf4-15d0c498220b",
   "metadata": {},
   "outputs": [],
   "source": [
    "PLOT_OPTS_MPL['cbar_kwargs']['label'] = ''"
   ]
  },
  {
   "cell_type": "code",
   "execution_count": null,
   "id": "e7543f0f-e8e1-497c-868b-368aaf47d928",
   "metadata": {},
   "outputs": [],
   "source": [
    "fig = plt.figure(dpi=300)\n",
    "ax=fig.gca()\n",
    "\n",
    "(1 - sum_6_days / sum_daily).plot(**PLOT_OPTS_MPL, vmax=0.4, vmin=0.0)\n",
    "\n",
    "style_mpl(ax)\n",
    "ax.set_title('')"
   ]
  },
  {
   "cell_type": "code",
   "execution_count": null,
   "id": "f2a8afc7-3373-409b-92c4-6bca9db20787",
   "metadata": {},
   "outputs": [],
   "source": [
    "fig = plt.figure(dpi=300)\n",
    "ax=fig.gca()\n",
    "\n",
    "(1 - sum_12_days / sum_daily).plot(**PLOT_OPTS_MPL, vmax=0.4, vmin=0.0)\n",
    "\n",
    "style_mpl(ax)\n",
    "ax.set_title('')"
   ]
  },
  {
   "cell_type": "markdown",
   "id": "8292ac22-85a0-4737-9009-addfe77019c8",
   "metadata": {},
   "source": [
    "## Basin total"
   ]
  },
  {
   "cell_type": "markdown",
   "id": "c2478611-e6a9-497e-9971-2258939d6535",
   "metadata": {
    "tags": []
   },
   "source": [
    "daily_swe.hvplot(label='Daily Total').opts(height=960, width=1280) * \\\n",
    "melt_days.cumsum().hvplot(label='Total SWE diff') *\\\n",
    "abs(melt_days.diff('time')).cumsum().hvplot(label='Daily SWE diff')"
   ]
  },
  {
   "cell_type": "code",
   "execution_count": null,
   "id": "e64e85fd-28ff-4216-8190-574db17da6ca",
   "metadata": {},
   "outputs": [],
   "source": [
    "fig = plt.figure(dpi=300)\n",
    "ax=fig.gca()\n",
    "\n",
    "(1 - sum_6_days / sum_daily).plot.hist(ax=ax, bins=np.arange(0.0, 1, 0.01), label='6 days', histtype='step',)\n",
    "(1 - sum_12_days / sum_daily).plot.hist(ax=ax, bins=np.arange(0.0, 1, 0.01), label='12 days', histtype='step',)\n",
    "\n",
    "plt.xlabel('Percent Error')\n",
    "plt.ylabel('')\n",
    "plt.yticks([])\n",
    "plt.xlim(0,1)\n",
    "\n",
    "plt.legend()"
   ]
  },
  {
   "cell_type": "code",
   "execution_count": null,
   "id": "ceec46d8-41f2-4efb-b0da-d2dcf3cf221e",
   "metadata": {},
   "outputs": [],
   "source": [
    "(1 - sum_6_days / sum_daily).mean()"
   ]
  },
  {
   "cell_type": "code",
   "execution_count": null,
   "id": "6725b686-3655-40ed-828e-35abd94cf889",
   "metadata": {},
   "outputs": [],
   "source": [
    "(1 - sum_12_days / sum_daily).mean()"
   ]
  },
  {
   "cell_type": "code",
   "execution_count": null,
   "id": "4600d108-1ed5-4b4c-8c64-dca81c122ee8",
   "metadata": {},
   "outputs": [],
   "source": []
  }
 ],
 "metadata": {
  "language_info": {
   "name": "python"
  }
 },
 "nbformat": 4,
 "nbformat_minor": 5
}
