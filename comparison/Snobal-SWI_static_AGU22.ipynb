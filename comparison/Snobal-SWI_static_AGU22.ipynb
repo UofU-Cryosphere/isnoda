{
 "cells": [
  {
   "cell_type": "code",
   "execution_count": null,
   "id": "d0dcb061-b6b7-4e29-ad60-f4458187655c",
   "metadata": {},
   "outputs": [],
   "source": [
    "import pandas as pd\n",
    "from common import *"
   ]
  },
  {
   "cell_type": "markdown",
   "id": "bbbf5165-787c-4078-a97d-e83b1cbe368a",
   "metadata": {},
   "source": [
    "# Compare iSnobal SWI to USGS discharge gauge at Almont "
   ]
  },
  {
   "cell_type": "markdown",
   "id": "a5e5f588-2d98-42c6-9de9-0f340032f74f",
   "metadata": {},
   "source": [
    "## USGS "
   ]
  },
  {
   "cell_type": "markdown",
   "id": "d5a19669-4b4f-4df0-b7da-78faed424d30",
   "metadata": {},
   "source": [
    "Source: https://nwis.waterdata.usgs.gov/co/nwis/dv/?site_no=09112500&agency_cd=USGS&amp;referred_module=sw"
   ]
  },
  {
   "cell_type": "code",
   "execution_count": null,
   "id": "cef98708-11c7-4bff-a71c-c8e680fc85a2",
   "metadata": {},
   "outputs": [],
   "source": [
    "PD_OPTIONS = dict(\n",
    "    comment='#',\n",
    "    parse_dates=True,\n",
    "    index_col=0,\n",
    "    names=['Date', 'Discharge'],\n",
    "    header=0,\n",
    "    sep='\\t',\n",
    "    dtype={'Discharge': np.float64},\n",
    "    usecols=[2,3],\n",
    ")\n",
    "data = pd.read_csv(\n",
    "    DATA_DIR / 'USGS-SWI-Almont_2022.csv', \n",
    "    **PD_OPTIONS\n",
    ")\n",
    "\n",
    "data.Discharge = data.Discharge * 60 * 60 * 24"
   ]
  },
  {
   "cell_type": "markdown",
   "id": "bb52d74d-463a-4813-be1d-5ead2cfb66f4",
   "metadata": {},
   "source": [
    "## SNOBAL"
   ]
  },
  {
   "cell_type": "code",
   "execution_count": null,
   "id": "a9039ec9-e757-42fa-a4db-98482fe6d46c",
   "metadata": {},
   "outputs": [],
   "source": [
    "client = start_cluster(8, 24)\n",
    "client_ip_and_port(client)"
   ]
  },
  {
   "cell_type": "code",
   "execution_count": null,
   "id": "2fdeb03f-e8c0-4262-a6c6-928385ebd1e2",
   "metadata": {},
   "outputs": [],
   "source": [
    "# Convert SNOBAL grid cell from meter to square feet\n",
    "CELL_AREA = (50.0 * 3.28084)**2\n",
    "# MM in one foot\n",
    "FT_IN_MM = 304.8\n",
    "# Convert to area\n",
    "CELL_AREA_IN_MM = CELL_AREA / FT_IN_MM"
   ]
  },
  {
   "cell_type": "code",
   "execution_count": null,
   "id": "9f749756-00b5-430b-801f-f756741f6e31",
   "metadata": {},
   "outputs": [],
   "source": [
    "snobal_em = xr.open_mfdataset(\n",
    "    (SNOBAL_DIR / 'wy*/erw/*/em.nc').as_posix(),\n",
    "    data_vars=['SWI'],\n",
    "    parallel=True,\n",
    ")\n",
    "snobal_em.coords['mask'] = (('y', 'x'), cbrfc_zones())\n",
    "snobal_em['time'] = snobal_em.time + np.timedelta64(2,'h')"
   ]
  },
  {
   "cell_type": "code",
   "execution_count": null,
   "id": "c2385971-f5d1-4b44-8fad-10025ad6f1ec",
   "metadata": {},
   "outputs": [],
   "source": [
    "swi = (\n",
    "    snobal_em.where(snobal_em.mask != 0).SWI * CELL_AREA_IN_MM\n",
    ").sum(['x', 'y']).compute()"
   ]
  },
  {
   "cell_type": "markdown",
   "id": "4ca8022f-e392-4a4a-8bff-3cb078a265b5",
   "metadata": {},
   "source": [
    "### HRRR MODIS "
   ]
  },
  {
   "cell_type": "code",
   "execution_count": null,
   "id": "a63d29a5-b182-4938-a0f8-d9e1c8ce46de",
   "metadata": {},
   "outputs": [],
   "source": [
    "snobal_em_HM = xr.open_mfdataset(\n",
    "    (SNOBAL_DIR / 'wy*/erw_hrrr_solar_modis/*/em.nc').as_posix(),\n",
    "    data_vars=['SWI'],\n",
    "    parallel=True,\n",
    ")\n",
    "snobal_em_HM.coords['mask'] = (('y', 'x'), cbrfc_zones())\n",
    "snobal_em_HM['time'] = snobal_em_HM.time + np.timedelta64(2,'h')"
   ]
  },
  {
   "cell_type": "code",
   "execution_count": null,
   "id": "cd8d6964-b7df-4d03-a8a0-3f611f6b7922",
   "metadata": {},
   "outputs": [],
   "source": [
    "swi_HM = (\n",
    "    snobal_em_HM.where(snobal_em_HM.mask != 0).SWI * CELL_AREA_IN_MM\n",
    ").sum(['x', 'y']).compute()"
   ]
  },
  {
   "cell_type": "code",
   "execution_count": null,
   "id": "7673b2e6-8a9f-45f0-bac6-23d5a0dae316",
   "metadata": {},
   "outputs": [],
   "source": [
    "client.shutdown()"
   ]
  },
  {
   "cell_type": "markdown",
   "id": "e474c2ec-0647-4bac-aea6-1f8a7271841c",
   "metadata": {},
   "source": [
    "### Calculate added/removed daily SWE "
   ]
  },
  {
   "cell_type": "markdown",
   "id": "c18a16bc-2735-48bb-becf-a1aba0fc2c08",
   "metadata": {},
   "source": [
    "### SNOBAL "
   ]
  },
  {
   "cell_type": "markdown",
   "id": "2be3f669-3a91-4929-bfda-df2429596a65",
   "metadata": {},
   "source": [
    "### Moving 7-day average SNOBAL vs. USGS"
   ]
  },
  {
   "cell_type": "code",
   "execution_count": null,
   "id": "de3cc2ee-b6e4-4adf-8c56-240476c73e3e",
   "metadata": {},
   "outputs": [],
   "source": [
    "x_axis_fmt = mdates.DateFormatter('%d-%b-%y')"
   ]
  },
  {
   "cell_type": "code",
   "execution_count": null,
   "id": "911be6cc-0b01-463c-a63e-fb863f365174",
   "metadata": {},
   "outputs": [],
   "source": [
    "fig = plt.figure(dpi=300, figsize=(9, 3))\n",
    "fig.set_facecolor('whitesmoke')\n",
    "ax = plt.gca()\n",
    "\n",
    "swi_HM.rolling(time=7, center=True).mean().plot(ax=ax, label='HRRR-MODIS SWI', color='olive', alpha=0.7, lw=1)\n",
    "swi.rolling(time=7, center=True).mean().plot(ax=ax, label='Time-Decay SWI', color='peru', alpha=0.7, lw=1, ls='-.')\n",
    "data.rolling(7, center=True).mean().Discharge.plot(ax=ax, label='USGS Discharge', color='cadetblue', alpha=0.7, lw=1)\n",
    "\n",
    "ax.xaxis.set_major_formatter(x_axis_fmt)\n",
    "ax.set_xlim(left=swi_HM.time.min().values, right=np.datetime64('2022-07-01'))\n",
    "ax.ticklabel_format(axis='y', useMathText=True)\n",
    "ax.set_xlabel('')\n",
    "\n",
    "plt.ylabel('7-Day Mean Output (mm)')\n",
    "plt.legend(\n",
    "    loc='upper left',\n",
    "    bbox_to_anchor=(0.2, 1.125),\n",
    "    ncol=5,\n",
    "    borderaxespad=0.15, \n",
    "    fontsize=8\n",
    ");"
   ]
  },
  {
   "cell_type": "code",
   "execution_count": null,
   "id": "b2f86265-8c13-4b5f-8bb8-6e4bb26728f6",
   "metadata": {},
   "outputs": [],
   "source": [
    "wy2018 = dict(time=slice(\"2017-10-01\", \"2018-09-30\"))\n",
    "wy2019 = dict(time=slice(\"2018-10-01\", \"2019-09-30\"))\n",
    "wy2020 = dict(time=slice(\"2019-10-01\", \"2020-09-30\"))\n",
    "wy2021 = dict(time=slice(\"2020-10-01\", \"2021-09-30\"))"
   ]
  },
  {
   "cell_type": "code",
   "execution_count": null,
   "id": "a25a860b-cde2-42bd-b673-6cbacdb07636",
   "metadata": {},
   "outputs": [],
   "source": [
    "use_hvplot()"
   ]
  },
  {
   "cell_type": "code",
   "execution_count": null,
   "id": "18c9a31d-4139-42e1-8fa2-b3bfd8f93818",
   "metadata": {},
   "outputs": [],
   "source": [
    "(\n",
    "    swi.rolling(time=7, center=True).mean().hvplot(label='SMRF SWI', color='goldenrod', alpha=0.7)* \\\n",
    "    swi_HM.rolling(time=7, center=True).mean().hvplot(label='HRRR MODIS SWI', color='crimson', alpha=0.7)* \\\n",
    "    data.rolling(7, center=True).mean().hvplot.line(label='USGS Discharge', color='cadetblue')\n",
    ").opts(\n",
    "    title='iSnobal SWI vs USGS Discharge; 7-day moving average', \n",
    "    xlabel='Date', \n",
    "    ylabel='7-Day Mean Output (mm)', yformatter='%e',\n",
    "    width=1440, height=800,\n",
    "    fontsize={'title': 16, 'labels': 14, 'xticks': 14, 'yticks': 14, 'legend': 14}\n",
    ")"
   ]
  },
  {
   "cell_type": "code",
   "execution_count": null,
   "id": "b511105d-aecd-4095-a5aa-1de8bec5226e",
   "metadata": {},
   "outputs": [],
   "source": []
  }
 ],
 "metadata": {
  "language_info": {
   "name": "python"
  }
 },
 "nbformat": 4,
 "nbformat_minor": 5
}
