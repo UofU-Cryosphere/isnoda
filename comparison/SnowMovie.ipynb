{
 "cells": [
  {
   "cell_type": "code",
   "execution_count": null,
   "metadata": {},
   "outputs": [],
   "source": [
    "import dask\n",
    "import datetime\n",
    "import matplotlib.pyplot as plt\n",
    "import xarray as xr\n",
    "\n",
    "from pathlib import PurePath, Path\n",
    "from snobedo.lib.dask_utils import start_cluster, client_ip_and_port\n",
    "\n",
    "from common import SNOBAL_DIR, DATA_DIR, SHARED_STORE\n",
    "\n",
    "from palettable.cartocolors.sequential import Teal_7_r as TealCMP"
   ]
  },
  {
   "cell_type": "code",
   "execution_count": null,
   "metadata": {},
   "outputs": [],
   "source": [
    "water_year = 'wy2021'"
   ]
  },
  {
   "cell_type": "code",
   "execution_count": null,
   "metadata": {},
   "outputs": [],
   "source": [
    "def plot_day(snow_day, plot_opts, title):\n",
    "    plt.figure(figsize=(10, 10), dpi=300, tight_layout=True)\n",
    "    snow_day.plot(**plot_opts)\n",
    "    plt.xlabel('')\n",
    "    plt.ylabel('')\n",
    "    plt.gca().ticklabel_format(style='plain')\n",
    "    plt.title(snow_day.time.dt.strftime('%Y-%m-%d').values)\n",
    "    plt.savefig(\n",
    "        f'{DATA_DIR}/snow_movie/{title}_{str(snow_day.time.dt.strftime(\"%y%m%d\").values)}.png'\n",
    "    )\n",
    "    plt.close()"
   ]
  },
  {
   "cell_type": "code",
   "execution_count": null,
   "metadata": {},
   "outputs": [],
   "source": [
    "def plot_thickness():\n",
    "    snow = xr.open_mfdataset(\n",
    "        f'{SNOBAL_DIR}/{water_year}/erw_hrrr_solar_modis/run*/snow.nc',\n",
    "        parallel=True, chunks={'time': -1},\n",
    "        preprocess=lambda ds: ds['thickness']\n",
    "    )\n",
    "\n",
    "    plot_opts = dict(\n",
    "        cmap=plt.cm.Blues,\n",
    "        vmin=0, vmax=3, \n",
    "        cbar_kwargs={'label': 'Snow Height'}\n",
    "    )\n",
    "    \n",
    "    return [ \n",
    "        dask.delayed(plot_day)(day, plot_opts, 'snow_depth/snow_depth')\n",
    "        for day in snow.thickness\n",
    "    ]\n",
    "        \n",
    "def plot_albedo():\n",
    "    snow = xr.open_mfdataset(\n",
    "        f'{SHARED_STORE}/SMESHR/net_HRRR_MODIS/{water_year}/net_HRRR.*.nc',\n",
    "        parallel=True, chunks={'time': 1},\n",
    "        preprocess=lambda ds: ds['albedo']\n",
    "    ).sel(time=datetime.time(11))\n",
    "\n",
    "    plot_opts = dict(\n",
    "        cmap=TealCMP.mpl_colormap,\n",
    "        vmin=0, vmax=10000, \n",
    "        cbar_kwargs={'label': 'Albedo'}\n",
    "    )\n",
    "    \n",
    "    return [ \n",
    "        dask.delayed(plot_day)(day, plot_opts, 'albedo/albedo')\n",
    "        for day in snow.albedo\n",
    "    ]\n"
   ]
  },
  {
   "cell_type": "code",
   "execution_count": null,
   "metadata": {},
   "outputs": [],
   "source": [
    "client = start_cluster(8, 24)\n",
    "client_ip_and_port(client)"
   ]
  },
  {
   "cell_type": "code",
   "execution_count": null,
   "metadata": {},
   "outputs": [],
   "source": [
    "dask.compute(plot_albedo());"
   ]
  },
  {
   "cell_type": "code",
   "execution_count": null,
   "metadata": {},
   "outputs": [],
   "source": [
    "client.shutdown()"
   ]
  },
  {
   "cell_type": "markdown",
   "metadata": {},
   "source": [
    "### Convert to video using ffmpeg\n",
    "\n",
    "```shell\n",
    "ffmpeg -pattern_type glob -i '*.jpg' -crf 18 -filter:v \"setpts=2.5*PTS\" snow_depth.mp4\n",
    "\n",
    "ffmpeg -framerate 12 -pattern_type glob -i '*.png' -c:v libx264 -vf \"format=yuv420p\" wy2021_snow_depth.mp4\n",
    "```"
   ]
  },
  {
   "cell_type": "code",
   "execution_count": null,
   "metadata": {},
   "outputs": [],
   "source": []
  }
 ],
 "metadata": {
  "language_info": {
   "name": "python"
  }
 },
 "nbformat": 4,
 "nbformat_minor": 4
}
