{
 "cells": [
  {
   "cell_type": "code",
   "execution_count": null,
   "id": "d0dcb061-b6b7-4e29-ad60-f4458187655c",
   "metadata": {},
   "outputs": [],
   "source": [
    "import pandas as pd\n",
    "import rasterio\n",
    "from common import *\n",
    "\n",
    "use_hvplot()"
   ]
  },
  {
   "cell_type": "markdown",
   "id": "bbbf5165-787c-4078-a97d-e83b1cbe368a",
   "metadata": {},
   "source": [
    "# Compare SNOBAL SWI to USGS discharge gauge at Almont "
   ]
  },
  {
   "cell_type": "markdown",
   "id": "a5e5f588-2d98-42c6-9de9-0f340032f74f",
   "metadata": {},
   "source": [
    "## USGS "
   ]
  },
  {
   "cell_type": "markdown",
   "id": "d5a19669-4b4f-4df0-b7da-78faed424d30",
   "metadata": {},
   "source": [
    "Source: https://nwis.waterdata.usgs.gov/co/nwis/dv/?site_no=09112500&agency_cd=USGS&amp;referred_module=sw"
   ]
  },
  {
   "cell_type": "code",
   "execution_count": null,
   "id": "f9139f25-2ae3-475f-be43-43ea60685c10",
   "metadata": {},
   "outputs": [],
   "source": [
    "PD_OPTIONS = dict(\n",
    "    comment='#',\n",
    "    parse_dates=True,\n",
    "    index_col=0,\n",
    "    names=['Date', 'Discharge'],\n",
    "    header=0,\n",
    "    sep='\\t',\n",
    "    dtype={'Discharge': np.float64},\n",
    "    usecols=[2,3],\n",
    ")\n",
    "data = pd.read_csv(\n",
    "    DATA_DIR / 'USGS-SWI-Almont.csv', \n",
    "    **PD_OPTIONS\n",
    ")"
   ]
  },
  {
   "cell_type": "markdown",
   "id": "3a8c7c1c-1ccb-465a-aa67-da246217add7",
   "metadata": {},
   "source": [
    "### Convert to daily output"
   ]
  },
  {
   "cell_type": "code",
   "execution_count": null,
   "id": "bd4a467c-6293-49a5-8b4d-351243e0deb5",
   "metadata": {},
   "outputs": [],
   "source": [
    "data.Discharge = data.Discharge * 60 * 60 * 24"
   ]
  },
  {
   "cell_type": "markdown",
   "id": "69941e6e-7489-4a61-b51c-1e1acd38a2e6",
   "metadata": {},
   "source": [
    "data.hvplot.line(x='Date', y='Discharge')"
   ]
  },
  {
   "cell_type": "markdown",
   "id": "bb52d74d-463a-4813-be1d-5ead2cfb66f4",
   "metadata": {},
   "source": [
    "## SNOBAL"
   ]
  },
  {
   "cell_type": "code",
   "execution_count": null,
   "id": "a9039ec9-e757-42fa-a4db-98482fe6d46c",
   "metadata": {},
   "outputs": [],
   "source": [
    "client = start_cluster(5, 16)\n",
    "client_ip_and_port(client)"
   ]
  },
  {
   "cell_type": "code",
   "execution_count": null,
   "id": "2fdeb03f-e8c0-4262-a6c6-928385ebd1e2",
   "metadata": {},
   "outputs": [],
   "source": [
    "# Convert SNOBAL grid cell from meter to square feet\n",
    "CELL_AREA = (50.0 * 3.28084)**2\n",
    "# MM in one foot\n",
    "FT_IN_MM = 304.8\n",
    "# Convert to area\n",
    "CELL_AREA_IN_MM = CELL_AREA / FT_IN_MM"
   ]
  },
  {
   "cell_type": "code",
   "execution_count": null,
   "id": "9f749756-00b5-430b-801f-f756741f6e31",
   "metadata": {},
   "outputs": [],
   "source": [
    "snobal_em = xr.open_mfdataset(\n",
    "    (SNOBAL_DIR / 'wy*/erw/*/em.nc').as_posix(),\n",
    "    data_vars=['SWI', 'evaporation'],\n",
    "    parallel=True,\n",
    ")\n",
    "snobal_em.coords['mask'] = (('y', 'x'), cbrfc_zones())\n",
    "snobal_em['time'] = snobal_em.time + np.timedelta64(2,'h')"
   ]
  },
  {
   "cell_type": "code",
   "execution_count": null,
   "id": "71853bc0-8d77-48f5-b61d-c2b5ef33b261",
   "metadata": {},
   "outputs": [],
   "source": [
    "smrf_precip = xr.open_mfdataset(\n",
    "    (SNOBAL_DIR / 'wy*/erw/*/precip.nc').as_posix(),\n",
    "    data_vars=['precip'],\n",
    "    parallel=True,\n",
    ")\n",
    "smrf_precip.coords['mask'] = (('y', 'x'), cbrfc_zones())"
   ]
  },
  {
   "cell_type": "code",
   "execution_count": null,
   "id": "471b8c8e-7bb8-4f5d-ad51-5258ea31ad28",
   "metadata": {},
   "outputs": [],
   "source": [
    "snobal_swe = xr.open_mfdataset(\n",
    "    (SNOBAL_DIR / 'wy*/erw/*/snow.nc').as_posix(),\n",
    "    data_vars=['specific_mass'],\n",
    "    parallel=True,\n",
    ")\n",
    "snobal_swe.coords['mask'] = (('y', 'x'), cbrfc_zones())\n",
    "snobal_swe['time'] = snobal_swe.time + np.timedelta64(2,'h')"
   ]
  },
  {
   "cell_type": "markdown",
   "id": "21510d29-ec58-478e-b01b-2951a210b23a",
   "metadata": {},
   "source": [
    "### Daily totals for the area"
   ]
  },
  {
   "cell_type": "code",
   "execution_count": null,
   "id": "c2385971-f5d1-4b44-8fad-10025ad6f1ec",
   "metadata": {},
   "outputs": [],
   "source": [
    "evaporation = (\n",
    "    snobal_em.where(snobal_em.mask != 0).evaporation * CELL_AREA_IN_MM\n",
    ").sum(['x', 'y']).compute()\n",
    "swi = (\n",
    "    snobal_em.where(snobal_em.mask != 0).SWI * CELL_AREA_IN_MM\n",
    ").sum(['x', 'y']).compute()\n",
    "# Precip input is per hour, add aggregation by day\n",
    "precip = (\n",
    "    smrf_precip.where(smrf_precip.mask != 0).precip * CELL_AREA_IN_MM\n",
    ").resample(time='24H', label='right').sum().sum(['x', 'y']).compute()\n",
    "swe = (\n",
    "    snobal_swe.where(snobal_swe.mask != 0).specific_mass * CELL_AREA_IN_MM\n",
    ").sum(['x', 'y']).compute()"
   ]
  },
  {
   "cell_type": "code",
   "execution_count": null,
   "id": "7673b2e6-8a9f-45f0-bac6-23d5a0dae316",
   "metadata": {},
   "outputs": [],
   "source": [
    "client.shutdown()"
   ]
  },
  {
   "cell_type": "markdown",
   "id": "e474c2ec-0647-4bac-aea6-1f8a7271841c",
   "metadata": {},
   "source": [
    "### Calculate added/removed daily SWE "
   ]
  },
  {
   "cell_type": "code",
   "execution_count": null,
   "id": "c7fee1c1-44d9-42ad-b052-7aac8dbdc422",
   "metadata": {},
   "outputs": [],
   "source": [
    "swe_diff = swe.diff('time')"
   ]
  },
  {
   "cell_type": "markdown",
   "id": "c18a16bc-2735-48bb-becf-a1aba0fc2c08",
   "metadata": {},
   "source": [
    "### SNOBAL "
   ]
  },
  {
   "cell_type": "code",
   "execution_count": null,
   "id": "eea436c0-76b3-4841-b587-1d514712c088",
   "metadata": {},
   "outputs": [],
   "source": [
    "precip.hvplot(label='HRRR Precip', color='limegreen').opts(height=960, width=1280, xlabel='Date', ylabel='Daily Output (mm)') * \\\n",
    "swe_diff.hvplot(label='SNOBAL SWE daily change', color='darkorchid', alpha=0.7) * \\\n",
    "evaporation.hvplot(label='SNOBAL Evaporation', color='chocolate') * \\\n",
    "swi.hvplot(label='SNOBAL SWI', color='tomato', alpha=0.7)*\\\n",
    "hv.HLine(0).opts(color='grey', line_dash='dotted', width=1)"
   ]
  },
  {
   "cell_type": "markdown",
   "id": "2be3f669-3a91-4929-bfda-df2429596a65",
   "metadata": {},
   "source": [
    "### Moving 7-day average SNOBAL vs. USGS"
   ]
  },
  {
   "cell_type": "code",
   "execution_count": null,
   "id": "911be6cc-0b01-463c-a63e-fb863f365174",
   "metadata": {},
   "outputs": [],
   "source": [
    "swi.rolling(time=7, center=True).mean().hvplot(label='SNOBAL SWI', color='tomato', alpha=0.7).opts(\n",
    "    title='7-day moving average', xlabel='Date', ylabel='7-Day Mean Output (mm)', height=960, width=1280\n",
    ") * \\\n",
    "data.rolling(7, center=True).mean().hvplot.line(label='USGS Discharge', color='cadetblue')"
   ]
  },
  {
   "cell_type": "markdown",
   "id": "896c1114-324d-47fc-9f0e-d8cd7613ebea",
   "metadata": {},
   "source": [
    "## Water year mass balance"
   ]
  },
  {
   "cell_type": "code",
   "execution_count": null,
   "id": "b2f86265-8c13-4b5f-8bb8-6e4bb26728f6",
   "metadata": {},
   "outputs": [],
   "source": [
    "wy2018 = dict(time=slice(\"2017-10-01\", \"2018-09-30\"))\n",
    "wy2019 = dict(time=slice(\"2018-10-01\", \"2019-09-30\"))\n",
    "wy2020 = dict(time=slice(\"2019-10-01\", \"2020-09-30\"))\n",
    "wy2021 = dict(time=slice(\"2020-10-01\", \"2021-09-30\"))"
   ]
  },
  {
   "cell_type": "code",
   "execution_count": null,
   "id": "abc36454-2175-4595-8cb1-978c155918a6",
   "metadata": {},
   "outputs": [],
   "source": [
    "def wy_stats(snobal_sel, usgs):\n",
    "    wy_swe = swe_diff.sel(snobal_sel)\n",
    "    wy_swi = swi.sel(snobal_sel).sum('time')\n",
    "    wy_precip = precip.sel(snobal_sel).sum('time')\n",
    "    \n",
    "    print(f'Water Year: {usgs.iloc[-1].name.year}')\n",
    "    print('  HRRR Precip    {:>16,}'.format(float(wy_precip)))\n",
    "    print('================')\n",
    "    print('  SWE (in)       {:>16,}'.format(float(wy_swe.where(wy_swe > 0, 0).sum())))\n",
    "    print('    Ratio Pricip {:>16.2%}'.format(float(wy_swe.where(wy_swe > 0, 0).sum() / wy_precip)))\n",
    "    print('  SWE (out)      {:>16,}'.format(float(abs(wy_swe.where(wy_swe < 0, 0)).sum())))\n",
    "    print('================')\n",
    "    print('  Evaporation    {:>16,}'.format(float(abs(evaporation.sel(snobal_sel).sum('time')))))\n",
    "    print('================')\n",
    "    print('  SWI            {:>16,}'.format(float(wy_swi)))\n",
    "    print('    Ratio SWE in {:>16.2%}'.format(float(wy_swe.where(wy_swe > 0, 0).sum() / wy_swi)))\n",
    "    print('================')\n",
    "    print('  USGS Discharge {:>16,}'.format(float(usgs.sum())))\n",
    "    print('  iSnobal - USGS {:>16,}'.format(float(wy_swi.values - usgs.sum())))\n",
    "    print('    Ratio:       {:>16.2%}'.format(float(usgs.sum() / wy_swi.values)))"
   ]
  },
  {
   "cell_type": "markdown",
   "id": "5396eea0-08cd-4cbd-9790-0bb1e9094a5d",
   "metadata": {},
   "source": [
    "### Results "
   ]
  },
  {
   "cell_type": "markdown",
   "id": "406b13c4-7deb-4f84-beb8-3f850fe6039a",
   "metadata": {},
   "source": [
    "### SNOBAL variable definitions\n",
    "__SWE__: Specific mass per unit area of the snowcover or snow water equivalent\n",
    "\n",
    "__SWI__: Surface water input is liquid water output from bottom of snowpack or rain on bare ground per unit area\n",
    "\n",
    "__Evaporation__: Total evaporation and sublimation per unit area from surface of snowpack"
   ]
  },
  {
   "cell_type": "code",
   "execution_count": null,
   "id": "4c4a69ad-c3a2-4e9a-980f-22130607f780",
   "metadata": {},
   "outputs": [],
   "source": [
    "wy_stats(wy2018, data[\"2017-10-01\":\"2018-09-30\"])"
   ]
  },
  {
   "cell_type": "code",
   "execution_count": null,
   "id": "9d8ce7c9-97bd-4251-8dc6-8193a51e72dc",
   "metadata": {},
   "outputs": [],
   "source": [
    "wy_stats(wy2019, data[\"2018-10-01\":\"2019-09-30\"])"
   ]
  },
  {
   "cell_type": "code",
   "execution_count": null,
   "id": "c3d3f741-7050-4ce2-a4de-c39f1b549ab7",
   "metadata": {},
   "outputs": [],
   "source": [
    "wy_stats(wy2020, data[\"2019-10-01\":\"2020-09-30\"])"
   ]
  },
  {
   "cell_type": "code",
   "execution_count": null,
   "id": "f0cc547f-5145-4df6-98f4-299cd595ace9",
   "metadata": {},
   "outputs": [],
   "source": [
    "wy_stats(wy2021, data[\"2020-10-01\":\"2021-09-30\"])"
   ]
  }
 ],
 "metadata": {
  "language_info": {
   "name": "python"
  }
 },
 "nbformat": 4,
 "nbformat_minor": 5
}
