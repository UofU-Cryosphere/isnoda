{
 "cells": [
  {
   "cell_type": "code",
   "execution_count": null,
   "metadata": {},
   "outputs": [],
   "source": [
    "from common import *\n",
    "\n",
    "use_hvplot()"
   ]
  },
  {
   "cell_type": "code",
   "execution_count": null,
   "metadata": {},
   "outputs": [],
   "source": [
    "client = start_cluster(4, 20)\n",
    "client_ip_and_port(client)"
   ]
  },
  {
   "cell_type": "markdown",
   "metadata": {
    "tags": []
   },
   "source": [
    "# Precipitation input comparison between iSnobal and CBRFC Snow-17 (HRRR F06)"
   ]
  },
  {
   "cell_type": "markdown",
   "metadata": {
    "tags": []
   },
   "source": [
    "## CBRFC"
   ]
  },
  {
   "cell_type": "markdown",
   "metadata": {},
   "source": [
    "Precip is average for each zone"
   ]
  },
  {
   "cell_type": "code",
   "execution_count": null,
   "metadata": {},
   "outputs": [],
   "source": [
    "CBRFC_CSV = pd.read_csv(\n",
    "    CBRFC_DIR / 'precip_Alec2.csv',\n",
    "    parse_dates=True,\n",
    "    index_col=0,\n",
    "    header=0,\n",
    "    names=['Lower', 'Middle', 'Upper', 'Average'],\n",
    "    dtype={'Lower': np.float64, 'Middle': np.float64, 'Upper': np.float64},\n",
    ")\n",
    "CBRFC_CSV.Lower *= INCH_TO_MM\n",
    "CBRFC_CSV.Middle *= INCH_TO_MM\n",
    "CBRFC_CSV.Upper *= INCH_TO_MM"
   ]
  },
  {
   "cell_type": "markdown",
   "metadata": {
    "tags": []
   },
   "source": [
    "## iSnobal "
   ]
  },
  {
   "cell_type": "code",
   "execution_count": null,
   "metadata": {},
   "outputs": [],
   "source": [
    "wy_precip = xr.open_mfdataset(\n",
    "    (SNOBAL_DIR / 'wy20*' / 'erw/*/smrf_20*.nc').as_posix(),\n",
    "    parallel=True,\n",
    ").resample(**RESAMPLE_1_DAY_OPTS).sum()\n",
    "\n",
    "wy_precip.coords['hru'] = (('y', 'x'), cbrfc_zones())\n",
    "wy_precip.coords['aspect'] = (('y', 'x'), aspect_classes())"
   ]
  },
  {
   "cell_type": "code",
   "execution_count": null,
   "metadata": {},
   "outputs": [],
   "source": [
    "precip_time = {}\n",
    "start_year = 2017\n",
    "\n",
    "for y_index in range(0, 4):\n",
    "    year = start_year + y_index\n",
    "    time=slice(f\"{year}-10-01\", f\"{year + 1}-09-30\")\n",
    "    precip_time[str(year + 1)] = wy_precip.sel(time=time).precip.sum('time').compute()"
   ]
  },
  {
   "cell_type": "code",
   "execution_count": null,
   "metadata": {},
   "outputs": [],
   "source": [
    "hlf = wy_precip.where(wy_precip.hru == ALEC2HLF).precip.mean((\"x\", \"y\")).compute()\n",
    "hmf = wy_precip.where(wy_precip.hru == ALEC2HMF).precip.mean((\"x\", \"y\")).compute()\n",
    "huf = wy_precip.where(wy_precip.hru == ALEC2HUF).precip.mean((\"x\", \"y\")).compute()"
   ]
  },
  {
   "cell_type": "markdown",
   "metadata": {},
   "source": [
    "### Treating all iSnobal values of less than 1 mm as no precipitation "
   ]
  },
  {
   "cell_type": "code",
   "execution_count": null,
   "metadata": {},
   "outputs": [],
   "source": [
    "hlf[hlf < 1] = 0\n",
    "hmf[hmf < 1] = 0\n",
    "huf[huf < 1] = 0"
   ]
  },
  {
   "cell_type": "markdown",
   "metadata": {},
   "source": [
    "## Precipitation "
   ]
  },
  {
   "cell_type": "code",
   "execution_count": null,
   "metadata": {},
   "outputs": [],
   "source": [
    "huf.rolling(time=7, center=True).mean().hvplot(label='Upper (iSnobal)', color='indigo', alpha=0.6). \\\n",
    "    opts(\n",
    "        title='iSnobal vs Snow-17 Precipitation - 7-day moving average', ylabel='Precipitation (mm)',\n",
    "        yformatter='%d',\n",
    "        width=1280, height=720\n",
    "    ) * \\\n",
    "CBRFC_CSV.Upper.rolling(7, center=True).mean().plot(color='indigo', line_dash='dashed', alpha=0.6) * \\\n",
    "hmf.rolling(time=7, center=True).mean().hvplot(label='Middle (iSnobal)', color='teal', alpha=0.6) * \\\n",
    "CBRFC_CSV.Middle.rolling(7, center=True).mean().plot(color='teal', line_dash='dashed', alpha=0.6) * \\\n",
    "hlf.rolling(time=7, center=True).mean().hvplot(label='Lower (iSnobal)', color='gold', alpha=0.6) * \\\n",
    "CBRFC_CSV.Lower.rolling(7, center=True).mean().plot(color='gold', line_dash='dashed', alpha=0.6)"
   ]
  },
  {
   "cell_type": "code",
   "execution_count": null,
   "metadata": {},
   "outputs": [],
   "source": [
    "huf.hvplot(label='Upper (iSnobal)', color='indigo', alpha=0.6). \\\n",
    "    opts(\n",
    "        title='iSnobal vs Snow-17 Precipitation', ylabel='Precipitation (mm)',\n",
    "        yformatter='%d',\n",
    "        width=1280, height=720\n",
    "    ) * \\\n",
    "CBRFC_CSV.Upper.plot(color='indigo', line_dash='dashed', alpha=0.6) * \\\n",
    "hmf.hvplot(label='Middle (iSnobal)', color='teal', alpha=0.6) * \\\n",
    "CBRFC_CSV.Middle.plot(color='teal', line_dash='dashed', alpha=0.6) * \\\n",
    "hlf.hvplot(label='Lower (iSnobal)', color='gold', alpha=0.6) * \\\n",
    "CBRFC_CSV.Lower.plot(color='gold', line_dash='dashed', alpha=0.6)"
   ]
  },
  {
   "cell_type": "code",
   "execution_count": null,
   "metadata": {},
   "outputs": [],
   "source": [
    "(CBRFC_CSV.Upper / huf).replace([np.nan, np.inf], 0).hvplot(label='Upper', color='indigo', alpha=0.6). \\\n",
    "    opts(\n",
    "        title='Snow-17/iSnobal Precipitation Ratios',\n",
    "        yformatter='%d',\n",
    "        width=1280, height=720\n",
    "    ) * \\\n",
    "(CBRFC_CSV.Middle / hmf).replace([np.nan, np.inf], 0).hvplot(label='Middle', color='teal', alpha=0.6) * \\\n",
    "(CBRFC_CSV.Lower / hlf).replace([np.nan, np.inf], 0).hvplot(label='Lower', color='gold', alpha=0.6)"
   ]
  },
  {
   "cell_type": "markdown",
   "metadata": {},
   "source": [
    "### iSnobal "
   ]
  },
  {
   "cell_type": "code",
   "execution_count": null,
   "metadata": {},
   "outputs": [],
   "source": [
    "huf.hvplot(label='Upper(iSnobal)', color='indigo', alpha=0.6). \\\n",
    "    opts(\n",
    "        title='iSnobal Precipitation', ylabel='Precipitation (mm)',\n",
    "        yformatter='%d',\n",
    "        width=1280, height=640\n",
    "    ) * \\\n",
    "hmf.hvplot(label='Middle (iSnobal)', color='teal', alpha=0.6) * \\\n",
    "hlf.hvplot(label='Lower (iSnobal)', color='gold', alpha=0.6)"
   ]
  },
  {
   "cell_type": "markdown",
   "metadata": {},
   "source": [
    "### CBRFC "
   ]
  },
  {
   "cell_type": "code",
   "execution_count": null,
   "metadata": {},
   "outputs": [],
   "source": [
    "CBRFC_CSV.Upper.plot(color='indigo', line_dash='dashed', alpha=0.6). \\\n",
    "    opts(title='Snow-17 CBRFC Precipitation', ylabel='Precipitation (mm)', width=1280, height=640) * \\\n",
    "CBRFC_CSV.Middle.plot(color='teal', line_dash='dashed', alpha=0.6) * \\\n",
    "CBRFC_CSV.Lower.plot(color='gold', line_dash='dashed', alpha=0.6)"
   ]
  },
  {
   "cell_type": "markdown",
   "metadata": {},
   "source": [
    "## By Aspect "
   ]
  },
  {
   "cell_type": "code",
   "execution_count": null,
   "metadata": {},
   "outputs": [],
   "source": [
    "def drop_nan(array):\n",
    "    aspect_data = []\n",
    "\n",
    "    for aspect in range(1, 9):\n",
    "        aspect_array = array.where(array.aspect == aspect).where(array.hru != 0).values.flatten()\n",
    "        mask = np.isnan(aspect_array)\n",
    "        aspect_data.append(aspect_array[~mask])\n",
    "    \n",
    "    return aspect_data\n",
    "\n",
    "def plot_aspect_mpl(precip, year):\n",
    "    fig, (ax) = plt.subplots(ncols=1, sharey=True, dpi=300, gridspec_kw={'wspace': 0})\n",
    "\n",
    "    ax.boxplot(\n",
    "        drop_nan(precip),\n",
    "        whis=(5, 95),\n",
    "        showmeans=True,\n",
    "        # positions=box_position,\n",
    "        notch=True,\n",
    "        patch_artist=True,\n",
    "        labels=['N', 'NE', 'E', 'SE', 'S', 'SW', 'W', 'NW'],\n",
    "        medianprops=dict(\n",
    "            color='black',\n",
    "            linestyle=':',\n",
    "            linewidth=0.75\n",
    "        ),\n",
    "        meanprops=dict(\n",
    "            marker='D', \n",
    "            markeredgecolor='black',\n",
    "            markerfacecolor='firebrick'\n",
    "        ),\n",
    "        boxprops=dict(\n",
    "            linewidth=0.75,\n",
    "            # facecolor=color,\n",
    "            alpha=0.5,\n",
    "            edgecolor='black',\n",
    "        ),\n",
    "        showfliers=False,\n",
    "    )\n",
    "    ax.set_ylabel('Precipitation (mm)')\n",
    "    ax.set_xlabel('Aspect')\n",
    "    plt.grid(axis='y', color='0.95')\n",
    "    plt.title(year)"
   ]
  },
  {
   "cell_type": "code",
   "execution_count": null,
   "metadata": {},
   "outputs": [],
   "source": [
    "start_year = 2018\n",
    "\n",
    "for y_index in range(0, 3):\n",
    "    year = start_year + y_index\n",
    "                     \n",
    "    plot_aspect_mpl(precip_time[str(year)], year)"
   ]
  },
  {
   "cell_type": "markdown",
   "metadata": {},
   "source": [
    "## Yearly statistics "
   ]
  },
  {
   "cell_type": "markdown",
   "metadata": {},
   "source": [
    "### Total precipitation "
   ]
  },
  {
   "cell_type": "code",
   "execution_count": null,
   "metadata": {},
   "outputs": [],
   "source": [
    "stats = np.zeros([9,4])\n",
    "start_year = 2017\n",
    "\n",
    "for y_index in range(0, stats.shape[1]):\n",
    "    year = start_year + y_index\n",
    "    time=slice(f\"{year}-10-01\", f\"{year + 1}-09-30\")\n",
    "    \n",
    "    stats[0, y_index] = huf.sel(time=time).sum()\n",
    "    stats[1, y_index] = CBRFC_CSV.Upper[time].sum()\n",
    "    stats[2, y_index] = stats[0, y_index] / stats[1, y_index]\n",
    "\n",
    "    stats[3, y_index] = hmf.sel(time=time).sum()\n",
    "    stats[4, y_index] = CBRFC_CSV.Middle[time].sum()\n",
    "    stats[5, y_index] = stats[3, y_index] / stats[4, y_index]\n",
    "    \n",
    "    stats[6, y_index] = hlf.sel(time=time).sum()\n",
    "    stats[7, y_index] = CBRFC_CSV.Lower[time].sum()\n",
    "    stats[8, y_index] = stats[6, y_index] / stats[7, y_index]"
   ]
  },
  {
   "cell_type": "code",
   "execution_count": null,
   "metadata": {},
   "outputs": [],
   "source": [
    "results = pd.DataFrame(\n",
    "    stats, \n",
    "    columns=range(2018, 2022), \n",
    "    index=pd.MultiIndex.from_product([\n",
    "        ['Upper', 'Middle', 'Lower'], \n",
    "        ['iSNOBAL', 'Snow-17', 'iSNOBAL/Snow-17']\n",
    "    ])\n",
    ")\n",
    "\n",
    "headers = {\n",
    "    'selector': 'th:not(.index_name)',\n",
    "    'props': 'font-size: 16pt;'\n",
    "}\n",
    "\n",
    "ratios = pd.IndexSlice[:, 'iSNOBAL/Snow-17', :]\n",
    "\n",
    "results.style.set_table_styles(\n",
    "    [headers]\n",
    ").set_properties(\n",
    "    **{'font-size': '12pt'}\n",
    ").format('{:.2f} mm').format('{:.2%}', subset=ratios)"
   ]
  },
  {
   "cell_type": "code",
   "execution_count": null,
   "metadata": {},
   "outputs": [],
   "source": [
    "box_style = dict(\n",
    "    ylabel='Percent (%)',\n",
    "    xlabel='Year',\n",
    "    width=640, \n",
    "    **BOKEH_FONT,\n",
    ")\n",
    "\n",
    "def plot_year(year):\n",
    "    time=slice(f\"{year-1}-10-01\", f\"{year}-09-30\")\n",
    "    box_opts=dict(ylim=(-2, 12), violin_fill_alpha=0.4)\n",
    "\n",
    "    box_stats = hv.Violin(\n",
    "        (CBRFC_CSV.Upper / huf).replace([np.inf], np.nan)[time].values, \n",
    "        group=str(year), label=\"Upper\"\n",
    "    ).opts(violin_fill_color='indigo', **box_opts, **box_style) * \\\n",
    "    hv.Violin(\n",
    "        (CBRFC_CSV.Middle / hmf).replace([np.inf], np.nan)[time].values, \n",
    "        group=str(year), label=\"Middle\"\n",
    "    ).opts(violin_fill_color='teal', **box_opts, **box_style) * \\\n",
    "    hv.Violin(\n",
    "        (CBRFC_CSV.Lower / hlf).replace([np.inf], np.nan)[time].values, \n",
    "        group=str(year), label=\"Lower\"\n",
    "    ).opts(violin_fill_color='gold', **box_opts, **box_style)\n",
    "\n",
    "    return box_stats\n",
    "\n",
    "(\n",
    "    hv.Layout(plot_year(2018)) + \\\n",
    "    hv.Layout(plot_year(2019)) + \\\n",
    "    hv.Layout(plot_year(2020)) + \\\n",
    "    hv.Layout(plot_year(2021))\n",
    ").cols(2).opts(title=\"Ratio Snow-17/iSnobal\", shared_axes=False, fontsize=14)"
   ]
  },
  {
   "cell_type": "code",
   "execution_count": null,
   "metadata": {},
   "outputs": [],
   "source": [
    "def plot_year(isnobal, zone, color):\n",
    "    box_stats = []\n",
    "    for year in range(2018, 2022):\n",
    "        time=slice(f\"{year-1}-10-01\", f\"{year}-09-30\")\n",
    "        box_opts = dict(ylim=(-0.5, 8), box_fill_alpha=0.4)\n",
    "\n",
    "        box_stats.append(\n",
    "            hv.BoxWhisker(\n",
    "                (CBRFC_CSV[zone] / isnobal).replace([np.inf], np.nan)[time].values, \n",
    "                group=zone, label=str(year)\n",
    "            ).opts(box_fill_color=color, **box_opts, **box_style)\n",
    "        )\n",
    "\n",
    "    return box_stats[0] * box_stats[1] * box_stats[2] * box_stats[3]\n",
    "\n",
    "(\n",
    "    hv.Layout(plot_year(huf, \"Upper\", 'indigo')) + \\\n",
    "    hv.Layout(plot_year(hmf, \"Middle\", 'teal')) + \\\n",
    "    hv.Layout(plot_year(hlf, \"Lower\", 'gold'))\n",
    ").cols(1).opts(title=\"Ratio Snow-17/iSnobal\", shared_axes=False,  fontsize=14)"
   ]
  },
  {
   "cell_type": "code",
   "execution_count": null,
   "metadata": {},
   "outputs": [],
   "source": [
    "client.shutdown()"
   ]
  },
  {
   "cell_type": "code",
   "execution_count": null,
   "metadata": {},
   "outputs": [],
   "source": [
    "def stats_by_group(isnobal, zone):\n",
    "    box_stats = []\n",
    "    for year in range(2018, 2022):\n",
    "        time=slice(f\"{year-1}-10-01\", f\"{year}-09-30\")\n",
    "        box_opts = dict(ylim=(-0.5, 8), box_fill_alpha=0.4)\n",
    "\n",
    "        box_stats.append(\n",
    "            (CBRFC_CSV[zone] / isnobal).replace([np.inf], np.nan).dropna()[time].values\n",
    "        )\n",
    "    \n",
    "    return box_stats"
   ]
  },
  {
   "cell_type": "code",
   "execution_count": null,
   "metadata": {},
   "outputs": [],
   "source": [
    "def plot_mpl(data):\n",
    "    fig, (ax1, ax2, ax3) = plt.subplots(ncols=3, figsize=(9, 3.2), dpi=300, sharey=True)\n",
    "    fig.set_facecolor('white')\n",
    "    \n",
    "    plot_zone(ax1, data[0], 'Lower', 'gold')\n",
    "    plot_zone(ax2, data[1], 'Middle', 'teal')\n",
    "    plot_zone(ax3, data[2], 'Upper', 'indigo')\n",
    "    \n",
    "    ax1.set_ylim(-0.5, 8.5)\n",
    "    ax1.set_ylabel('Daily Precipitation Difference (%)')\n",
    "\n",
    "\n",
    "def plot_zone(ax, stats, title, color):\n",
    "    box_position = [0.2, 0.5, 0.8, 1.1]\n",
    "    x_labels = ['2018', '2019', '2020', '2021']\n",
    "    bdata = ax.boxplot(\n",
    "        stats,\n",
    "        whis=(5, 95),\n",
    "        positions=box_position,\n",
    "        notch=True,\n",
    "        patch_artist=True,\n",
    "        labels=x_labels,\n",
    "        medianprops=dict(\n",
    "            color='black',\n",
    "            linestyle=':',\n",
    "            linewidth=0.75\n",
    "        ),\n",
    "        boxprops=dict(\n",
    "            linewidth=0.75,\n",
    "            facecolor=color,\n",
    "            alpha=0.3,\n",
    "            edgecolor='black',\n",
    "        ),\n",
    "        flierprops=dict(\n",
    "            marker='o', \n",
    "            markerfacecolor='black', \n",
    "            markersize=3,\n",
    "            markeredgecolor='none'\n",
    "        )\n",
    "    )\n",
    "\n",
    "    ax.set_xlim(0, 1.3)\n",
    "\n",
    "    ax.set_title(title, fontstyle='italic');"
   ]
  },
  {
   "cell_type": "code",
   "execution_count": null,
   "metadata": {},
   "outputs": [],
   "source": [
    "plot_mpl([stats_by_group(hlf, 'Lower'), stats_by_group(hmf, 'Middle'), stats_by_group(huf, 'Upper')])"
   ]
  }
 ],
 "metadata": {
  "language_info": {
   "name": "python"
  }
 },
 "nbformat": 4,
 "nbformat_minor": 4
}
