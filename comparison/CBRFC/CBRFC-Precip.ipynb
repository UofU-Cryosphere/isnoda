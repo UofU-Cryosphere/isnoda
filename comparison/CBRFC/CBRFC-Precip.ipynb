{
 "cells": [
  {
   "cell_type": "code",
   "execution_count": null,
   "metadata": {},
   "outputs": [],
   "source": [
    "from common import *\n",
    "\n",
    "use_hvplot()"
   ]
  },
  {
   "cell_type": "code",
   "execution_count": null,
   "metadata": {},
   "outputs": [],
   "source": [
    "client = start_cluster(4, 20)\n",
    "client.dashboard_link.split('/')[2]"
   ]
  },
  {
   "cell_type": "markdown",
   "metadata": {
    "tags": []
   },
   "source": [
    "# Precipitation input comparison between iSnobal and CBRFC Snow-17 (HRRR F06)"
   ]
  },
  {
   "cell_type": "markdown",
   "metadata": {
    "tags": []
   },
   "source": [
    "## CBRFC"
   ]
  },
  {
   "cell_type": "code",
   "execution_count": null,
   "metadata": {},
   "outputs": [],
   "source": [
    "CBRFC_precip = pd.read_csv(\n",
    "    CBRFC_DIR / 'precip_Alec2.csv',\n",
    "    parse_dates=True,\n",
    "    index_col=0,\n",
    "    header=0,\n",
    "    names=['ALEC2HLF', 'ALEC2HMF', 'ALEC2HUF', 'Average'],\n",
    "    dtype={'ALEC2HLF': np.float64, 'ALEC2HMF': np.float64, 'ALEC2HUF': np.float64},\n",
    ")\n",
    "CBRFC_precip.ALEC2HLF *= INCH_TO_MM\n",
    "CBRFC_precip.ALEC2HMF *= INCH_TO_MM\n",
    "CBRFC_precip.ALEC2HUF *= INCH_TO_MM"
   ]
  },
  {
   "cell_type": "markdown",
   "metadata": {
    "tags": []
   },
   "source": [
    "## iSnobal "
   ]
  },
  {
   "cell_type": "code",
   "execution_count": null,
   "metadata": {},
   "outputs": [],
   "source": [
    "wy_precip = xr.open_mfdataset(\n",
    "    (SNOBAL_DIR / 'wy20*' / 'erw/*/precip.nc').as_posix(),\n",
    "    parallel=True,\n",
    ").resample(**RESAMPLE_1_DAY_OPTS).sum()\n",
    "\n",
    "wy_precip.coords['mask'] = (('y', 'x'), cbrfc_zones())"
   ]
  },
  {
   "cell_type": "code",
   "execution_count": null,
   "metadata": {},
   "outputs": [],
   "source": [
    "hlf = wy_precip.where(wy_precip.mask == ALEC2HLF).precip.mean((\"x\", \"y\")).compute()\n",
    "hmf = wy_precip.where(wy_precip.mask == ALEC2HMF).precip.mean((\"x\", \"y\")).compute()\n",
    "huf = wy_precip.where(wy_precip.mask == ALEC2HUF).precip.mean((\"x\", \"y\")).compute()"
   ]
  },
  {
   "cell_type": "markdown",
   "metadata": {},
   "source": [
    "### Treating all iSnobal values of less than 1 mm as no precipitation "
   ]
  },
  {
   "cell_type": "code",
   "execution_count": null,
   "metadata": {},
   "outputs": [],
   "source": [
    "hlf[hlf < 1] = 0\n",
    "hmf[hmf < 1] = 0\n",
    "huf[huf < 1] = 0"
   ]
  },
  {
   "cell_type": "markdown",
   "metadata": {},
   "source": [
    "## Precipitation "
   ]
  },
  {
   "cell_type": "code",
   "execution_count": null,
   "metadata": {},
   "outputs": [],
   "source": [
    "huf.hvplot(label='ALEC HUF (iSnobal)', color='indigo', alpha=0.6). \\\n",
    "    opts(\n",
    "        title='iSnobal versus Snow-17 CBRFC Precipitation', ylabel='Precipitation (mm)',\n",
    "        yformatter='%d',\n",
    "        width=1280, height=720\n",
    "    ) * \\\n",
    "hmf.hvplot(label='ALEC HMF (iSnobal)', color='teal', alpha=0.6) * \\\n",
    "hlf.hvplot(label='ALEC HLF (iSnobal)', color='gold', alpha=0.6) * \\\n",
    "CBRFC_precip.ALEC2HUF.plot(color='indigo', line_dash='dashed', alpha=0.6) * \\\n",
    "CBRFC_precip.ALEC2HMF.plot(color='teal', line_dash='dashed', alpha=0.6) * \\\n",
    "CBRFC_precip.ALEC2HLF.plot(color='gold', line_dash='dashed', alpha=0.6)"
   ]
  },
  {
   "cell_type": "code",
   "execution_count": null,
   "metadata": {},
   "outputs": [],
   "source": [
    "(CBRFC_precip.ALEC2HUF / huf).replace([np.nan, np.inf], 0).hvplot(label='ALEC HUF', color='indigo', alpha=0.6). \\\n",
    "    opts(\n",
    "        title='Snow-17/iSnobal Precipitation Ratios',\n",
    "        yformatter='%d',\n",
    "        width=1280, height=720\n",
    "    ) * \\\n",
    "(CBRFC_precip.ALEC2HMF / hmf).replace([np.nan, np.inf], 0).hvplot(label='ALEC HMF', color='teal', alpha=0.6) * \\\n",
    "(CBRFC_precip.ALEC2HLF / hlf).replace([np.nan, np.inf], 0).hvplot(label='ALEC HLF', color='gold', alpha=0.6)"
   ]
  },
  {
   "cell_type": "markdown",
   "metadata": {},
   "source": [
    "### iSnobal "
   ]
  },
  {
   "cell_type": "code",
   "execution_count": null,
   "metadata": {},
   "outputs": [],
   "source": [
    "huf.hvplot(label='ALEC HUF (iSnobal)', color='indigo', alpha=0.6). \\\n",
    "    opts(\n",
    "        title='iSnobal Precipitation', ylabel='Precipitation (mm)',\n",
    "        yformatter='%d',\n",
    "        width=1280, height=640\n",
    "    ) * \\\n",
    "hmf.hvplot(label='ALEC HMF (iSnobal)', color='teal', alpha=0.6) * \\\n",
    "hlf.hvplot(label='ALEC HLF (iSnobal)', color='gold', alpha=0.6)"
   ]
  },
  {
   "cell_type": "markdown",
   "metadata": {},
   "source": [
    "### CBRFC "
   ]
  },
  {
   "cell_type": "code",
   "execution_count": null,
   "metadata": {},
   "outputs": [],
   "source": [
    "CBRFC_precip.ALEC2HUF.plot(color='indigo', line_dash='dashed', alpha=0.6). \\\n",
    "    opts(title='Snow-17 CBRFC Precipitation', ylabel='Precipitation (mm)', width=1280, height=640) * \\\n",
    "CBRFC_precip.ALEC2HMF.plot(color='teal', line_dash='dashed', alpha=0.6) * \\\n",
    "CBRFC_precip.ALEC2HLF.plot(color='gold', line_dash='dashed', alpha=0.6)"
   ]
  },
  {
   "cell_type": "markdown",
   "metadata": {},
   "source": [
    "## Yearly statistics "
   ]
  },
  {
   "cell_type": "markdown",
   "metadata": {},
   "source": [
    "### Total precipitation "
   ]
  },
  {
   "cell_type": "code",
   "execution_count": null,
   "metadata": {},
   "outputs": [],
   "source": [
    "stats = np.zeros([9,4])\n",
    "start_year = 2017\n",
    "\n",
    "for y_index in range(0, stats.shape[1]):\n",
    "    year = start_year + y_index\n",
    "    time=slice(f\"{year}-10-01\", f\"{year + 1}-09-30\")\n",
    "    \n",
    "    stats[0, y_index] = huf.sel(time=time).sum()\n",
    "    stats[1, y_index] = CBRFC_precip.ALEC2HUF[time].sum()\n",
    "    stats[2, y_index] = stats[0, y_index] / stats[1, y_index]\n",
    "\n",
    "    stats[3, y_index] = hmf.sel(time=time).sum()\n",
    "    stats[4, y_index] = CBRFC_precip.ALEC2HMF[time].sum()\n",
    "    stats[5, y_index] = stats[3, y_index] / stats[4, y_index]\n",
    "    \n",
    "    stats[6, y_index] = hlf.sel(time=time).sum()\n",
    "    stats[7, y_index] = CBRFC_precip.ALEC2HLF[time].sum()\n",
    "    stats[8, y_index] = stats[6, y_index] / stats[7, y_index]"
   ]
  },
  {
   "cell_type": "code",
   "execution_count": null,
   "metadata": {},
   "outputs": [],
   "source": [
    "results = pd.DataFrame(\n",
    "    stats, \n",
    "    columns=range(2018, 2022), \n",
    "    index=pd.MultiIndex.from_product([\n",
    "        ['Upper', 'Middle', 'Lower'], \n",
    "        ['iSnobal', 'Snow-17', 'iSnobal/Snow-17']\n",
    "    ])\n",
    ")\n",
    "\n",
    "ratios = pd.IndexSlice[:, 'iSnobal/Snow-17', :]\n",
    "results.style.format('{:.2f} mm').format('{:.2%}', subset=ratios)"
   ]
  },
  {
   "cell_type": "code",
   "execution_count": null,
   "metadata": {},
   "outputs": [],
   "source": [
    "def plot_year(year):\n",
    "    time=slice(f\"{year-1}-10-01\", f\"{year}-09-30\")\n",
    "    box_opts = dict(ylim=(-2, 12), ylabel='Percent (%)', box_fill_alpha=0.4, violin_fill_alpha=0.4,width=600)\n",
    "\n",
    "    box_stats = hv.Violin(\n",
    "        (CBRFC_precip.ALEC2HUF / huf).replace([np.inf], np.nan)[time].values, \n",
    "        group=str(year), label=\"HUF\"\n",
    "    ).opts(violin_fill_color='indigo', **box_opts) * \\\n",
    "    hv.Violin(\n",
    "        (CBRFC_precip.ALEC2HMF / hmf).replace([np.inf], np.nan)[time].values, \n",
    "        group=str(year), label=\"HMF\"\n",
    "    ).opts(violin_fill_color='teal', **box_opts) * \\\n",
    "    hv.Violin(\n",
    "        (CBRFC_precip.ALEC2HLF / hlf).replace([np.inf], np.nan)[time].values, \n",
    "        group=str(year), label=\"HLF\"\n",
    "    ).opts(violin_fill_color='gold', **box_opts)\n",
    "\n",
    "    return box_stats\n",
    "\n",
    "(\n",
    "    hv.Layout(plot_year(2018)) + \\\n",
    "    hv.Layout(plot_year(2019)) + \\\n",
    "    hv.Layout(plot_year(2020)) + \\\n",
    "    hv.Layout(plot_year(2021))\n",
    ").cols(2).opts(title=\"Ratio Snow-17/iSnobal\", shared_axes=False)"
   ]
  },
  {
   "cell_type": "code",
   "execution_count": null,
   "metadata": {},
   "outputs": [],
   "source": [
    "def plot_year(isnobal, zone, color):\n",
    "    box_stats = []\n",
    "    for year in range(2018, 2022):\n",
    "        time=slice(f\"{year-1}-10-01\", f\"{year}-09-30\")\n",
    "        box_opts = dict(ylim=(-0.5, 8), ylabel='Percent (%)', box_fill_alpha=0.5, whisker_color='gray', width=600)\n",
    "\n",
    "        box_stats.append(\n",
    "            hv.BoxWhisker(\n",
    "                (CBRFC_precip[f\"ALEC2{zone}\"] / isnobal).replace([np.inf], np.nan)[time].values, \n",
    "                group=zone, label=str(year)\n",
    "            ).opts(box_fill_color=color, **box_opts)\n",
    "        )\n",
    "\n",
    "    return box_stats[0] * box_stats[1] * box_stats[2] * box_stats[3]\n",
    "\n",
    "(\n",
    "    hv.Layout(plot_year(huf, \"HUF\", 'indigo')) + \\\n",
    "    hv.Layout(plot_year(hmf, \"HMF\", 'teal')) + \\\n",
    "    hv.Layout(plot_year(hlf, \"HLF\", 'gold'))\n",
    ").cols(1).opts(title=\"Ratio Snow-17/iSnobal\", shared_axes=False)"
   ]
  },
  {
   "cell_type": "code",
   "execution_count": null,
   "metadata": {},
   "outputs": [],
   "source": [
    "client.shutdown()"
   ]
  }
 ],
 "metadata": {
  "language_info": {
   "name": "python"
  }
 },
 "nbformat": 4,
 "nbformat_minor": 4
}
