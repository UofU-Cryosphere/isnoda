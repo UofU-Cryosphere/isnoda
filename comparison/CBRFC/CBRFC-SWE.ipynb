{
 "cells": [
  {
   "cell_type": "code",
   "execution_count": null,
   "metadata": {},
   "outputs": [],
   "source": [
    "from common import *\n",
    "\n",
    "use_hvplot()"
   ]
  },
  {
   "cell_type": "code",
   "execution_count": null,
   "metadata": {},
   "outputs": [],
   "source": [
    "client = start_cluster(5, 12)\n",
    "client_ip_and_port(client)"
   ]
  },
  {
   "cell_type": "markdown",
   "metadata": {},
   "source": [
    "# SWE output comparison between iSnobal and Snow-17"
   ]
  },
  {
   "cell_type": "markdown",
   "metadata": {},
   "source": [
    "## CBRFC"
   ]
  },
  {
   "cell_type": "code",
   "execution_count": null,
   "metadata": {},
   "outputs": [],
   "source": [
    "CBRFC_CSV = pd.read_csv(\n",
    "    CBRFC_DIR / 'SNOW17ALEC2_2018to2021.csv',\n",
    "    parse_dates=True,\n",
    "    index_col=0,\n",
    "    header=0,\n",
    "    names=['Lower', 'Middle', 'Upper', 'Average'],\n",
    "    dtype={'Lower': np.float64, 'Middle': np.float64, 'Upper': np.float64},\n",
    ")\n",
    "CBRFC_CSV.Lower *= INCH_TO_MM\n",
    "CBRFC_CSV.Middle *= INCH_TO_MM\n",
    "CBRFC_CSV.Upper *= INCH_TO_MM"
   ]
  },
  {
   "cell_type": "markdown",
   "metadata": {},
   "source": [
    "## iSnobal "
   ]
  },
  {
   "cell_type": "code",
   "execution_count": null,
   "metadata": {},
   "outputs": [],
   "source": [
    "wy_swe = xr.open_mfdataset(\n",
    "    (SNOBAL_DIR / 'wy20*' / 'erw/*/snow.nc').as_posix(),\n",
    "    parallel=True,\n",
    ")\n",
    "\n",
    "wy_swe.coords['mask'] = (('y', 'x'), cbrfc_zones())"
   ]
  },
  {
   "cell_type": "code",
   "execution_count": null,
   "metadata": {},
   "outputs": [],
   "source": [
    "hlf = wy_swe.where(wy_swe.mask == ALEC2HLF).specific_mass.mean((\"x\", \"y\")).compute()\n",
    "hmf = wy_swe.where(wy_swe.mask == ALEC2HMF).specific_mass.mean((\"x\", \"y\")).compute()\n",
    "huf = wy_swe.where(wy_swe.mask == ALEC2HUF).specific_mass.mean((\"x\", \"y\")).compute()"
   ]
  },
  {
   "cell_type": "markdown",
   "metadata": {},
   "source": [
    "## Compare CBRFC to iSnobal"
   ]
  },
  {
   "cell_type": "code",
   "execution_count": null,
   "metadata": {},
   "outputs": [],
   "source": [
    "(\n",
    "    huf.hvplot(label='Upper (iSnobal)', color='indigo') * \\\n",
    "    CBRFC_CSV.Upper.plot(color='mediumorchid', label='Upper (Snow-17)', line_dash='dashed') * \\\n",
    "    hmf.hvplot(label='Middle (iSnobal)', color='teal') * \\\n",
    "    CBRFC_CSV.Middle.plot(color='cadetblue', label='Middle (Snow-17)', line_dash='dashed') * \\\n",
    "    hlf.hvplot(label='Lower (iSnobal)', color='gold') * \\\n",
    "    CBRFC_CSV.Lower.plot(color='orange', label='Lower (Snow-17)', line_dash='dashed')\n",
    ").opts(\n",
    "    title='iSnobal vs Snow-17 SWE', xlabel='Date',\n",
    "    ylabel='SWE (mm)', yformatter='%d',\n",
    "    width=1080, height=580,\n",
    "    fontsize={'title': 16, 'labels': 14, 'xticks': 14, 'yticks': 14, 'legend': 14}\n",
    ")"
   ]
  },
  {
   "cell_type": "code",
   "execution_count": null,
   "metadata": {},
   "outputs": [],
   "source": [
    "huf.hvplot(label='Upper', color='indigo').opts(\n",
    "    title='iSnobal SWE', xlabel='Date',\n",
    "    ylabel='SWE (mm)', yformatter='%d',\n",
    "    width=1280, height=640,\n",
    "    **BOKEH_FONT,\n",
    ") * \\\n",
    "hmf.hvplot(label='Middle', color='teal') * \\\n",
    "hlf.hvplot(label='Lower', color='gold') "
   ]
  },
  {
   "cell_type": "code",
   "execution_count": null,
   "metadata": {},
   "outputs": [],
   "source": [
    "CBRFC_CSV.Upper.plot(color='indigo', line_dash='dashed').opts(\n",
    "    title='Snow-17 SWE', xlabel='Date', ylabel='SWE (mm)', \n",
    "    width=1280, height=640, **BOKEH_FONT,\n",
    ") * \\\n",
    "CBRFC_CSV.Middle.plot(color='teal', line_dash='dashed') * \\\n",
    "CBRFC_CSV.Lower.plot(color='gold', line_dash='dashed')"
   ]
  },
  {
   "cell_type": "code",
   "execution_count": null,
   "metadata": {},
   "outputs": [],
   "source": [
    "client.shutdown()"
   ]
  }
 ],
 "metadata": {
  "language_info": {
   "name": "python"
  }
 },
 "nbformat": 4,
 "nbformat_minor": 4
}
