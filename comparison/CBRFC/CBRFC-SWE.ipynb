{
 "cells": [
  {
   "cell_type": "code",
   "execution_count": null,
   "metadata": {},
   "outputs": [],
   "source": [
    "from common import *\n",
    "import rasterio\n",
    "\n",
    "use_hvplot()"
   ]
  },
  {
   "cell_type": "code",
   "execution_count": null,
   "metadata": {},
   "outputs": [],
   "source": [
    "client = start_cluster(5, 12)\n",
    "client"
   ]
  },
  {
   "cell_type": "markdown",
   "metadata": {},
   "source": [
    "# Snow Depth comparison between Snotel and CBRFC Snow-17 (HRRR F06)"
   ]
  },
  {
   "cell_type": "code",
   "execution_count": null,
   "metadata": {},
   "outputs": [],
   "source": [
    "start_year = 2017\n",
    "end_year = 2021\n",
    "\n",
    "time=slice(f\"{start_year -1}-10-01\", f\"{end_year}-07-31\")"
   ]
  },
  {
   "cell_type": "markdown",
   "metadata": {},
   "source": [
    "## CBRFC"
   ]
  },
  {
   "cell_type": "code",
   "execution_count": null,
   "metadata": {},
   "outputs": [],
   "source": [
    "ALEC2HLF = 1\n",
    "ALEC2HMF = 2\n",
    "ALEC2HUF = 3\n",
    "\n",
    "INCH_TO_MM = 25.4"
   ]
  },
  {
   "cell_type": "code",
   "execution_count": null,
   "metadata": {},
   "outputs": [],
   "source": [
    "with rasterio.open(CBRFC_DIR / 'ERW_CBRFC_zones.tif') as zones:\n",
    "    zone_data = zones.read(1)"
   ]
  },
  {
   "cell_type": "code",
   "execution_count": null,
   "metadata": {},
   "outputs": [],
   "source": [
    "zone_data[zone_data==241] = 0"
   ]
  },
  {
   "cell_type": "code",
   "execution_count": null,
   "metadata": {},
   "outputs": [],
   "source": [
    "CBRFC_CSV = pd.read_csv(\n",
    "    CBRFC_DIR / 'SNOW17ALEC2_2018to2021.csv',\n",
    "    parse_dates=True,\n",
    "    index_col=0,\n",
    "    header=0,\n",
    "    names=['ALEC2HLF', 'ALEC2HMF', 'ALEC2HUF', 'Average'],\n",
    "    dtype={'ALEC2HLF': np.float64, 'ALEC2HMF': np.float64, 'ALEC2HUF': np.float64},\n",
    ")\n",
    "CBRFC_CSV.ALEC2HLF *= INCH_TO_MM\n",
    "CBRFC_CSV.ALEC2HMF *= INCH_TO_MM\n",
    "CBRFC_CSV.ALEC2HUF *= INCH_TO_MM"
   ]
  },
  {
   "cell_type": "markdown",
   "metadata": {},
   "source": [
    "## iSnobal "
   ]
  },
  {
   "cell_type": "code",
   "execution_count": null,
   "metadata": {},
   "outputs": [],
   "source": [
    "wy_swe = xr.open_mfdataset(\n",
    "    (SNOBAL_DIR / 'wy20*' / 'erw/*/snow.nc').as_posix(),\n",
    "    parallel=True,\n",
    ")"
   ]
  },
  {
   "cell_type": "code",
   "execution_count": null,
   "metadata": {},
   "outputs": [],
   "source": [
    "wy_swe.coords['mask'] = (('y', 'x'), zone_data)"
   ]
  },
  {
   "cell_type": "markdown",
   "metadata": {},
   "source": [
    "## Compare CBRFC to iSnobal"
   ]
  },
  {
   "cell_type": "code",
   "execution_count": null,
   "metadata": {},
   "outputs": [],
   "source": [
    "wy_swe.specific_mass.where(wy_swe.mask == ALEC2HUF).mean((\"x\", \"y\")). \\\n",
    "    hvplot(label='ALEC HUF (iSnobal)', color='indigo'). \\\n",
    "    opts(\n",
    "        title='iSnobal versus Snow-17 CBRFC SWE', ylabel='SWE (mm)',\n",
    "        yformatter='%d',\n",
    "        width=1280, height=640\n",
    "    ) * \\\n",
    "wy_swe.specific_mass.where(wy_swe.mask == ALEC2HMF).mean((\"x\", \"y\")).hvplot(label='ALEC HMF (iSnobal)', color='teal') * \\\n",
    "wy_swe.specific_mass.where(wy_swe.mask == ALEC2HLF).mean((\"x\", \"y\")).hvplot(label='ALEC HLF (iSnobal)', color='gold') * \\\n",
    "CBRFC_CSV.ALEC2HUF.plot(color='mediumorchid', label='ALEC HUF (CBRFC)', line_dash='dashed') * \\\n",
    "CBRFC_CSV.ALEC2HMF.plot(color='cadetblue', label='ALEC HMF (CBRFC)', line_dash='dashed') * \\\n",
    "CBRFC_CSV.ALEC2HLF.plot(color='orange', label='ALEC HLF (CBRFC)', line_dash='dashed')"
   ]
  },
  {
   "cell_type": "code",
   "execution_count": null,
   "metadata": {},
   "outputs": [],
   "source": [
    "wy_swe.specific_mass.where(wy_swe.mask == ALEC2HUF).mean((\"x\", \"y\")). \\\n",
    "    hvplot(label='ALEC HUF', color='indigo'). \\\n",
    "    opts(\n",
    "        title='iSnobal SWE', ylabel='SWE (mm)',\n",
    "        yformatter='%d',\n",
    "        width=1280, height=640\n",
    "    ) * \\\n",
    "wy_swe.specific_mass.where(wy_swe.mask == ALEC2HMF).mean((\"x\", \"y\")).hvplot(label='ALEC HMF', color='teal') * \\\n",
    "wy_swe.specific_mass.where(wy_swe.mask == ALEC2HLF).mean((\"x\", \"y\")).hvplot(label='ALEC HLF', color='gold') "
   ]
  },
  {
   "cell_type": "code",
   "execution_count": null,
   "metadata": {},
   "outputs": [],
   "source": [
    "CBRFC_CSV.ALEC2HUF.plot(color='indigo', line_dash='dashed'). \\\n",
    "    opts(title='Snow-17 CBRFC SWE', ylabel='SWE (mm)', width=1280, height=640) * \\\n",
    "CBRFC_CSV.ALEC2HMF.plot(color='teal', line_dash='dashed') * \\\n",
    "CBRFC_CSV.ALEC2HLF.plot(color='gold', line_dash='dashed')"
   ]
  },
  {
   "cell_type": "code",
   "execution_count": null,
   "metadata": {},
   "outputs": [],
   "source": [
    "wy_swe.specific_mass.where(wy_swe.mask == ALEC2HUF).mean((\"time\")).plot(size=10)"
   ]
  },
  {
   "cell_type": "code",
   "execution_count": null,
   "metadata": {},
   "outputs": [],
   "source": [
    "wy_swe.specific_mass.where(wy_swe.mask == ALEC2HMF).mean((\"time\")).plot(size=10)"
   ]
  },
  {
   "cell_type": "code",
   "execution_count": null,
   "metadata": {},
   "outputs": [],
   "source": [
    "wy_swe.specific_mass.where(wy_swe.mask == ALEC2HLF).mean((\"time\")).plot(size=10)"
   ]
  },
  {
   "cell_type": "code",
   "execution_count": null,
   "metadata": {},
   "outputs": [],
   "source": []
  }
 ],
 "metadata": {
  "language_info": {
   "name": "python"
  }
 },
 "nbformat": 4,
 "nbformat_minor": 4
}
