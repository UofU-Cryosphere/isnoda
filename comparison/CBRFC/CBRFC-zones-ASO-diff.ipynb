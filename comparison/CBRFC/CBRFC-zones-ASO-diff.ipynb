{
 "cells": [
  {
   "cell_type": "code",
   "execution_count": null,
   "id": "759ff98c-fe18-421e-b0cc-611ef234100b",
   "metadata": {},
   "outputs": [],
   "source": [
    "from common import *\n",
    "from raster_file import RasterFile\n",
    "use_hvplot()"
   ]
  },
  {
   "cell_type": "code",
   "execution_count": null,
   "id": "55826af2-1c00-41d0-a5e1-b47fe2efaa2b",
   "metadata": {},
   "outputs": [],
   "source": [
    "zone_data = cbrfc_zones()"
   ]
  },
  {
   "cell_type": "code",
   "execution_count": null,
   "id": "ff9448ae-c4f9-49de-b99a-993dc143f664",
   "metadata": {},
   "outputs": [],
   "source": [
    "def plot_hv(first, second=None):\n",
    "    diff = RasterFile(\n",
    "        (ASO_DIR / f'Depth-Difference/AGU-2021/Depth_difference_{first}_50m.tif').as_posix()\n",
    "    ).band_values()\n",
    "\n",
    "    first =  hv.Violin(diff[zone_data == ALEC2HLF].compressed(), label='ALEC2HLF').opts(\n",
    "        width=500, height=400,\n",
    "        violin_fill_color='gold', title=f'ASO {first}'\n",
    "    ) * \\\n",
    "    hv.Violin(diff[zone_data == ALEC2HMF].compressed(), label='ALEC2HMF'). \\\n",
    "        opts(violin_fill_color='teal') * \\\n",
    "    hv.Violin(diff[zone_data == ALEC2HUF].compressed(), label='ALEC2HUF'). \\\n",
    "        opts(violin_fill_color='indigo')\n",
    "    \n",
    "    if second is not None:\n",
    "        diff = RasterFile(\n",
    "            (ASO_DIR / f'Depth-Difference/AGU-2021/Depth_difference_{second}_50m.tif').as_posix()\n",
    "        ).band_values()\n",
    "\n",
    "        first = first + \\\n",
    "            hv.Violin(diff[zone_data == ALEC2HLF].compressed(), label='ALEC2HLF').opts(\n",
    "                width=500, height=400,\n",
    "                violin_fill_color='gold', title=f'ASO {second}'\n",
    "            ) * \\\n",
    "            hv.Violin(diff[zone_data == ALEC2HMF].compressed(), label='ALEC2HMF'). \\\n",
    "                opts(violin_fill_color='teal') * \\\n",
    "            hv.Violin(diff[zone_data == ALEC2HUF].compressed(), label='ALEC2HUF'). \\\n",
    "                opts(violin_fill_color='indigo')\n",
    "   \n",
    "    return first"
   ]
  },
  {
   "cell_type": "code",
   "execution_count": null,
   "id": "fc038ff8-07b9-40c0-b170-a13fdc2d4a30",
   "metadata": {},
   "outputs": [],
   "source": [
    "plot_hv('20180331', '20180524')"
   ]
  },
  {
   "cell_type": "code",
   "execution_count": null,
   "id": "9ea160c0-7ed6-4c05-909d-dacd25696e7c",
   "metadata": {},
   "outputs": [],
   "source": [
    "plot_hv('20190407', '20190610')"
   ]
  },
  {
   "cell_type": "code",
   "execution_count": null,
   "id": "09430415-ad43-4a06-be44-c6b154f8b726",
   "metadata": {},
   "outputs": [],
   "source": [
    "plot_hv('20200214')"
   ]
  },
  {
   "cell_type": "markdown",
   "id": "3947a672-94a5-49b0-9290-6b256c41cef5",
   "metadata": {},
   "source": [
    "## Static plots "
   ]
  },
  {
   "cell_type": "code",
   "execution_count": null,
   "id": "31bbbda3-5a86-4c7e-8151-3288413fd232",
   "metadata": {},
   "outputs": [],
   "source": [
    "from matplotlib.ticker import AutoMinorLocator\n",
    "from matplotlib.lines import Line2D\n",
    "from datetime import datetime"
   ]
  },
  {
   "cell_type": "code",
   "execution_count": null,
   "id": "75027405-bc45-480a-8352-2a49a701845b",
   "metadata": {},
   "outputs": [],
   "source": [
    "def plot_mpl(first, second):\n",
    "    fig, axes = plt.subplots(ncols=2, sharey=True, dpi=300)\n",
    "    ax_index = 0\n",
    "    \n",
    "    for day in [first, second]:\n",
    "        diff = RasterFile(\n",
    "            (ASO_DIR / f'Depth-Difference/AGU-2021/Depth_difference_{day}_50m.tif').as_posix()\n",
    "        ).band_values()\n",
    "\n",
    "        violin_position = [0.5, 1.0, 1.5]\n",
    "        \n",
    "        vp = axes[ax_index].violinplot([\n",
    "                diff[zone_data == ALEC2HLF].compressed(),\n",
    "                diff[zone_data == ALEC2HMF].compressed(),\n",
    "                diff[zone_data == ALEC2HUF].compressed(),\n",
    "            ],\n",
    "            positions=violin_position,\n",
    "            widths=0.4,\n",
    "            showmeans=False,\n",
    "            showmedians=True,\n",
    "            showextrema=False,\n",
    "            quantiles=[[0.05, 0.95], [0.05, 0.95], [0.05, 0.95]]\n",
    "        )\n",
    "\n",
    "        color = ['gold', 'teal', 'indigo']\n",
    "        ci = 0\n",
    "        for pc in vp['bodies']:\n",
    "            pc.set_facecolor(color[ci])\n",
    "            pc.set_edgecolor('Black')\n",
    "            pc.set_lw(0.75)\n",
    "            ci += 1\n",
    "\n",
    "        for line in ['cquantiles', 'cmedians']:\n",
    "            vp[line].set_color('black')\n",
    "            vp[line].set_lw(0.75)\n",
    "\n",
    "        vp['cmedians'].set_ls(':')\n",
    "        vp['cmedians'].set_lw(1)\n",
    "\n",
    "        axes[ax_index].set_xticks(violin_position, labels=['Lower', 'Middle', 'Upper'])\n",
    "        \n",
    "        date = datetime.strptime(day, '%Y%m%d')\n",
    "        axes[ax_index].set_title(date.strftime('%d %B'), size=12, fontstyle='italic')\n",
    "        \n",
    "        ax_index += 1\n",
    "    \n",
    "    if first == '20180331':\n",
    "        axes[0].set_yticks(np.arange(-2, 10, 2))\n",
    "    elif first == '20190407':\n",
    "        axes[0].set_yticks(np.arange(-4, 18, 2))\n",
    "    axes[0].set_ylabel(r'$\\Delta$ Snow Depth (m)')\n",
    "    axes[0].yaxis.set_minor_locator(AutoMinorLocator())\n",
    "    \n",
    "    # fig.suptitle(r'$\\Delta$ Snow Depth (ASO - iSnobal)')\n",
    "    fig.suptitle(datetime.strptime(day, '%Y%m%d').strftime('%Y'), size=14)"
   ]
  },
  {
   "cell_type": "code",
   "execution_count": null,
   "id": "acdabcf6-500d-4aef-9dea-d5b39231116b",
   "metadata": {},
   "outputs": [],
   "source": [
    "plot_mpl('20180331', '20180524')"
   ]
  },
  {
   "cell_type": "code",
   "execution_count": null,
   "id": "81434d42-0f5e-4b99-aca8-49ef5d10b60c",
   "metadata": {},
   "outputs": [],
   "source": [
    "plot_mpl('20190407', '20190610')"
   ]
  },
  {
   "cell_type": "code",
   "execution_count": null,
   "id": "1ccf15c3-9ec1-4dae-9be6-7d84fe6bf1e1",
   "metadata": {},
   "outputs": [],
   "source": [
    "plt.figure(dpi=300)\n",
    "plt.gca().legend(\n",
    "    handles=[\n",
    "        Line2D([0], [0], color='black', linestyle=':', label='Medians'),\n",
    "        Line2D([0], [0], color='black', label='Quantiles (95%, 5%)')\n",
    "    ],\n",
    "    loc='center'\n",
    ");"
   ]
  },
  {
   "cell_type": "code",
   "execution_count": null,
   "id": "36db01b6-be70-4c78-8ba1-750a5537d70c",
   "metadata": {},
   "outputs": [],
   "source": [
    "from mpl_toolkits.axes_grid1 import make_axes_locatable\n",
    "from palettable.colorbrewer.diverging import RdBu_5 as RedBlueCmap\n",
    "\n",
    "RED_BLUE_CMAP = RedBlueCmap.mpl_colormap"
   ]
  },
  {
   "cell_type": "code",
   "execution_count": null,
   "id": "c0baa233-9c69-47c7-9cb3-838578273e50",
   "metadata": {},
   "outputs": [],
   "source": [
    "def plot_area(day):\n",
    "    differences = RasterFile(\n",
    "        (ASO_DIR / f'Depth-Difference/AGU-2021/Depth_difference_{day}_50m.tif').as_posix()\n",
    "    )\n",
    "    \n",
    "    data = differences.band_values()\n",
    "    # data[data > OUTLIER] = np.ma.masked\n",
    "    data[np.isnan(data)] = np.ma.masked\n",
    "\n",
    "    fig, (ax1) = plt.subplots(1, 1, figsize=(8.7, 6.5), dpi=300)\n",
    "    fig.set_facecolor('lightgrey')\n",
    "    ax1.set_facecolor('slategrey')\n",
    "\n",
    "    plt_data = ax1.imshow(\n",
    "        data,\n",
    "        vmin=-2,\n",
    "        vmax=2,\n",
    "        cmap=RED_BLUE_CMAP,\n",
    "        extent=differences.extent\n",
    "    )\n",
    "\n",
    "    ax1.tick_params(\n",
    "        axis='both', direction='inout', length=4, labelsize=8, pad=0\n",
    "    )\n",
    "    ax1.tick_params(axis='y', labelrotation=45)\n",
    "    ax1.ticklabel_format(axis='both', style='plain')\n",
    "    ax1.xaxis.set_ticks_position('both')\n",
    "    ax1.yaxis.set_ticks_position('both')\n",
    "\n",
    "    cax = make_axes_locatable(ax1).append_axes('right', size='5%', pad=0.15)\n",
    "    cbar = fig.colorbar(\n",
    "        plt_data,\n",
    "        cax=cax,\n",
    "        shrink=0.9,\n",
    "        extend='both'\n",
    "    )\n",
    "    cbar.set_label(\n",
    "        label=r'$\\Delta$ Snow Depth (m)',\n",
    "        labelpad=12,\n",
    "        rotation=270,\n",
    "    )\n",
    "    ax1.set_title(datetime.strptime(day, '%Y%m%d').strftime('%d %B %Y'))\n"
   ]
  },
  {
   "cell_type": "code",
   "execution_count": null,
   "id": "0680afab-f425-486d-a6aa-7a8889ed556d",
   "metadata": {},
   "outputs": [],
   "source": [
    "plot_area('20180331')"
   ]
  },
  {
   "cell_type": "code",
   "execution_count": null,
   "id": "c99b2ed6-a345-4b49-8672-e7f0a283c781",
   "metadata": {},
   "outputs": [],
   "source": [
    "plot_area('20180524')"
   ]
  },
  {
   "cell_type": "code",
   "execution_count": null,
   "id": "63a9ff26-2695-490f-a092-184667da6062",
   "metadata": {},
   "outputs": [],
   "source": [
    "plot_area('20190407')"
   ]
  },
  {
   "cell_type": "code",
   "execution_count": null,
   "id": "0fd61847-59bb-41d4-a9c9-4a2844ff3794",
   "metadata": {},
   "outputs": [],
   "source": [
    "plot_area('20190610')"
   ]
  },
  {
   "cell_type": "code",
   "execution_count": null,
   "id": "56a65f0f-17f2-4172-949d-a0d2662236f4",
   "metadata": {},
   "outputs": [],
   "source": []
  }
 ],
 "metadata": {
  "language_info": {
   "name": "python"
  }
 },
 "nbformat": 4,
 "nbformat_minor": 5
}
