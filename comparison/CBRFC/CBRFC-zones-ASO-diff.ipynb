{
 "cells": [
  {
   "cell_type": "code",
   "execution_count": null,
   "id": "759ff98c-fe18-421e-b0cc-611ef234100b",
   "metadata": {},
   "outputs": [],
   "source": [
    "from common import *\n",
    "from raster_file import RasterFile\n",
    "use_hvplot()"
   ]
  },
  {
   "cell_type": "code",
   "execution_count": null,
   "id": "55826af2-1c00-41d0-a5e1-b47fe2efaa2b",
   "metadata": {},
   "outputs": [],
   "source": [
    "ALEC2HLF = 1\n",
    "ALEC2HMF = 2\n",
    "ALEC2HUF = 3\n",
    "\n",
    "zones = RasterFile(CBRFC_DIR / 'ERW_CBRFC_zones.tif')\n",
    "zone_data = zones.band_values()\n",
    "zone_data[zone_data==241] = 0"
   ]
  },
  {
   "cell_type": "code",
   "execution_count": null,
   "id": "ff9448ae-c4f9-49de-b99a-993dc143f664",
   "metadata": {},
   "outputs": [],
   "source": [
    "def plot(date):\n",
    "    diff = RasterFile(\n",
    "        f'/data/iSnobal/ASO-data/Depth-Difference/AGu-2021/iSnobal-HRRR-F06/Depth_difference_{date}_50m.tif'\n",
    "    ).band_values()\n",
    "\n",
    "    return hv.Violin(diff[zone_data == ALEC2HLF].compressed(), label='ALEC2HLF').opts(\n",
    "        width=800, height=500,\n",
    "        violin_fill_color='gold', title=f'ASO {date}'\n",
    "    ) * \\\n",
    "    hv.Violin(diff[zone_data == ALEC2HMF].compressed(), label='ALEC2HMF'). \\\n",
    "        opts(violin_fill_color='purple') * \\\n",
    "    hv.Violin(diff[zone_data == ALEC2HUF].compressed(), label='ALEC2HUF'). \\\n",
    "        opts(violin_fill_color='green')"
   ]
  },
  {
   "cell_type": "markdown",
   "id": "25f135f3-52c4-4520-83a8-5e7d2fc34bb0",
   "metadata": {},
   "source": [
    "## First flight of season"
   ]
  },
  {
   "cell_type": "code",
   "execution_count": null,
   "id": "718efe3d-2664-4630-98e8-61ef550f326f",
   "metadata": {},
   "outputs": [],
   "source": [
    "plot('20180331')"
   ]
  },
  {
   "cell_type": "code",
   "execution_count": null,
   "id": "9ea160c0-7ed6-4c05-909d-dacd25696e7c",
   "metadata": {},
   "outputs": [],
   "source": [
    "plot('20190407')"
   ]
  },
  {
   "cell_type": "code",
   "execution_count": null,
   "id": "09430415-ad43-4a06-be44-c6b154f8b726",
   "metadata": {},
   "outputs": [],
   "source": [
    "plot('20200214')"
   ]
  },
  {
   "cell_type": "markdown",
   "id": "be590b27-caf4-47f4-a047-d3d2226beb53",
   "metadata": {},
   "source": [
    "## Second flight of season "
   ]
  },
  {
   "cell_type": "code",
   "execution_count": null,
   "id": "2550fc24-d3f0-48f2-aa47-50780f91b54d",
   "metadata": {},
   "outputs": [],
   "source": [
    "plot('20180524')"
   ]
  },
  {
   "cell_type": "code",
   "execution_count": null,
   "id": "44abd955-69d9-4c5d-bedc-389bd8d699d1",
   "metadata": {},
   "outputs": [],
   "source": [
    "plot('20190610')"
   ]
  },
  {
   "cell_type": "code",
   "execution_count": null,
   "id": "2f0afe1b-75ad-4c03-bd3c-e7df9b473d94",
   "metadata": {},
   "outputs": [],
   "source": []
  }
 ],
 "metadata": {
  "language_info": {
   "name": "python"
  }
 },
 "nbformat": 4,
 "nbformat_minor": 5
}
