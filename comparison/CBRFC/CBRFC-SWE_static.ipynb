{
 "cells": [
  {
   "cell_type": "code",
   "execution_count": null,
   "metadata": {},
   "outputs": [],
   "source": [
    "from common import *"
   ]
  },
  {
   "cell_type": "code",
   "execution_count": null,
   "metadata": {},
   "outputs": [],
   "source": [
    "client = start_cluster(5, 12)\n",
    "client_ip_and_port(client)"
   ]
  },
  {
   "cell_type": "markdown",
   "metadata": {},
   "source": [
    "# SWE output comparison between iSnobal and Snow-17"
   ]
  },
  {
   "cell_type": "markdown",
   "metadata": {},
   "source": [
    "## CBRFC"
   ]
  },
  {
   "cell_type": "code",
   "execution_count": null,
   "metadata": {},
   "outputs": [],
   "source": [
    "CBRFC_CSV = pd.read_csv(\n",
    "    CBRFC_DIR / 'SNOW17ALEC2_2018to2021.csv',\n",
    "    parse_dates=True,\n",
    "    index_col=0,\n",
    "    header=0,\n",
    "    names=['Lower', 'Middle', 'Upper', 'Average'],\n",
    "    dtype={'Lower': np.float64, 'Middle': np.float64, 'Upper': np.float64},\n",
    ")\n",
    "CBRFC_CSV.Lower *= INCH_TO_MM\n",
    "CBRFC_CSV.Middle *= INCH_TO_MM\n",
    "CBRFC_CSV.Upper *= INCH_TO_MM"
   ]
  },
  {
   "cell_type": "markdown",
   "metadata": {},
   "source": [
    "## iSnobal "
   ]
  },
  {
   "cell_type": "code",
   "execution_count": null,
   "metadata": {},
   "outputs": [],
   "source": [
    "wy_swe = xr.open_mfdataset(\n",
    "    (SNOBAL_DIR / 'GMD/wy20*' / 'erw/*/snow.nc').as_posix(),\n",
    "    parallel=True,\n",
    ")\n",
    "\n",
    "wy_swe.coords['mask'] = (('y', 'x'), cbrfc_zones())"
   ]
  },
  {
   "cell_type": "code",
   "execution_count": null,
   "metadata": {},
   "outputs": [],
   "source": [
    "hlf = wy_swe.where(wy_swe.mask == ALEC2HLF).specific_mass.mean((\"x\", \"y\")).compute()\n",
    "hmf = wy_swe.where(wy_swe.mask == ALEC2HMF).specific_mass.mean((\"x\", \"y\")).compute()\n",
    "huf = wy_swe.where(wy_swe.mask == ALEC2HUF).specific_mass.mean((\"x\", \"y\")).compute()"
   ]
  },
  {
   "cell_type": "code",
   "execution_count": null,
   "metadata": {},
   "outputs": [],
   "source": [
    "client.shutdown()"
   ]
  },
  {
   "cell_type": "markdown",
   "metadata": {},
   "source": [
    "## Compare CBRFC to iSnobal"
   ]
  },
  {
   "cell_type": "code",
   "execution_count": null,
   "metadata": {},
   "outputs": [],
   "source": [
    "plt.figure(dpi=300, figsize=(9,3))\n",
    "ax = plt.gca()\n",
    "\n",
    "linestyle=dict(alpha=0.7, lw=1)\n",
    "\n",
    "ax.plot([], [], ' ', label=r'Lower', lw=0)\n",
    "ax.plot([], [], ' ', label=r'$\\ $', lw=0)\n",
    "hlf.plot(ax=ax, label='HRRR-iSnobal', color='gold', **linestyle)\n",
    "CBRFC_CSV.Lower.plot(ax=ax, color='orange', label='SNOW-17', ls='--', **linestyle)\n",
    "ax.plot([], [], ' ', label=r'Middle')\n",
    "ax.plot([], [], ' ', label=r'$\\ $', lw=0)\n",
    "hmf.plot(ax=ax, label='HRRR-iSnobal', color='teal', **linestyle)\n",
    "CBRFC_CSV.Middle.plot(ax=ax, color='cadetblue', label='SNOW-17', ls='--', **linestyle)\n",
    "ax.plot([], [], ' ', label=r'Upper')\n",
    "ax.plot([], [], ' ', label=r'$\\ $', lw=0)\n",
    "huf.plot(ax=ax, label='HRRR-iSnobal', color='indigo', **linestyle)\n",
    "CBRFC_CSV.Upper.plot(ax=ax, color='mediumorchid', label='SNOW-17', ls='--', **linestyle)\n",
    "\n",
    "locator = mdates.AutoDateLocator(maxticks=17)\n",
    "\n",
    "ax.xaxis.set_major_locator(locator)\n",
    "ax.xaxis.set_minor_locator(mdates.MonthLocator())\n",
    "\n",
    "formatter = mdates.ConciseDateFormatter(locator)\n",
    "ax.xaxis.set_major_formatter(formatter)\n",
    "\n",
    "ax.set_xlim(left=CBRFC_CSV.Upper.index.min(), right=huf.time.max().values)\n",
    "\n",
    "index = 0\n",
    "for label in ax.get_xticklabels(which='major'):\n",
    "    label.set(rotation=0, horizontalalignment='center')\n",
    "    if index in [1, 5, 9, 13]:\n",
    "        label.set(fontstyle='italic', fontweight=600)\n",
    "    index += 1\n",
    "\n",
    "         \n",
    "plt.ylabel('SWE (mm)')\n",
    "plt.xlabel('')\n",
    "         \n",
    "legend = plt.legend(\n",
    "    bbox_to_anchor=(0.475, 1.22), loc='upper center', \n",
    "    frameon=False, ncol=6, columnspacing=1.1, borderaxespad=0\n",
    ")\n",
    "         \n",
    "for text in legend.get_texts():\n",
    "    if text.get_text() in ['Upper', 'Middle', 'Lower']:\n",
    "        text.set_fontstyle('italic')"
   ]
  },
  {
   "cell_type": "code",
   "execution_count": null,
   "metadata": {},
   "outputs": [],
   "source": [
    "stats = np.zeros([9,4])\n",
    "start_year = 2017\n",
    "\n",
    "for y_index in range(0, stats.shape[1]):\n",
    "    year = start_year + y_index\n",
    "    time=slice(f\"{year}-10-01\", f\"{year + 1}-09-30\")\n",
    "    \n",
    "    stats[0, y_index] = huf.sel(time=time).sum()\n",
    "    stats[1, y_index] = CBRFC_CSV.Upper[time].sum()\n",
    "    stats[2, y_index] = stats[0, y_index] / stats[1, y_index]\n",
    "\n",
    "    stats[3, y_index] = hmf.sel(time=time).sum()\n",
    "    stats[4, y_index] = CBRFC_CSV.Middle[time].sum()\n",
    "    stats[5, y_index] = stats[3, y_index] / stats[4, y_index]\n",
    "    \n",
    "    stats[6, y_index] = hlf.sel(time=time).sum()\n",
    "    stats[7, y_index] = CBRFC_CSV.Lower[time].sum()\n",
    "    stats[8, y_index] = stats[6, y_index] / stats[7, y_index]"
   ]
  },
  {
   "cell_type": "code",
   "execution_count": null,
   "metadata": {},
   "outputs": [],
   "source": [
    "results = pd.DataFrame(\n",
    "    stats, \n",
    "    columns=range(2018, 2022), \n",
    "    index=pd.MultiIndex.from_product([\n",
    "        ['Upper', 'Middle', 'Lower'], \n",
    "        ['iSnobal', 'Snow-17', 'iSnobal/Snow-17']\n",
    "    ])\n",
    ")\n",
    "\n",
    "headers = {\n",
    "    'selector': 'th:not(.index_name)',\n",
    "    'props': 'font-size: 16pt;'\n",
    "}\n",
    "\n",
    "ratios = pd.IndexSlice[:, 'iSnobal/Snow-17', :]\n",
    "\n",
    "results.style.set_table_styles(\n",
    "    [headers]\n",
    ").set_properties(\n",
    "    **{'font-size': '12pt'}\n",
    ").format('{:.0f} mm').format('{:.0%}', subset=ratios)"
   ]
  },
  {
   "cell_type": "code",
   "execution_count": null,
   "metadata": {},
   "outputs": [],
   "source": []
  }
 ],
 "metadata": {
  "language_info": {
   "name": "python"
  }
 },
 "nbformat": 4,
 "nbformat_minor": 4
}
