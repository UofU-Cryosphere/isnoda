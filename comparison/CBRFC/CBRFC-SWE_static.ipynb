{
 "cells": [
  {
   "cell_type": "code",
   "execution_count": null,
   "metadata": {},
   "outputs": [],
   "source": [
    "from common import *"
   ]
  },
  {
   "cell_type": "code",
   "execution_count": null,
   "metadata": {},
   "outputs": [],
   "source": [
    "client = start_cluster(5, 12)\n",
    "client_ip_and_port(client)"
   ]
  },
  {
   "cell_type": "markdown",
   "metadata": {},
   "source": [
    "# SWE output comparison between iSNOBAL and Snow-17"
   ]
  },
  {
   "cell_type": "markdown",
   "metadata": {},
   "source": [
    "## CBRFC"
   ]
  },
  {
   "cell_type": "code",
   "execution_count": null,
   "metadata": {},
   "outputs": [],
   "source": [
    "CBRFC_CSV = pd.read_csv(\n",
    "    CBRFC_DIR / 'SNOW17ALEC2_2018to2021.csv',\n",
    "    parse_dates=True,\n",
    "    index_col=0,\n",
    "    header=0,\n",
    "    names=['Lower', 'Middle', 'Upper', 'Average'],\n",
    "    dtype={'Lower': np.float64, 'Middle': np.float64, 'Upper': np.float64},\n",
    ")\n",
    "CBRFC_CSV.Lower *= INCH_TO_MM\n",
    "CBRFC_CSV.Middle *= INCH_TO_MM\n",
    "CBRFC_CSV.Upper *= INCH_TO_MM"
   ]
  },
  {
   "cell_type": "markdown",
   "metadata": {},
   "source": [
    "## iSNOBAL "
   ]
  },
  {
   "cell_type": "code",
   "execution_count": null,
   "metadata": {},
   "outputs": [],
   "source": [
    "wy_swe = xr.open_mfdataset(\n",
    "    (SNOBAL_DIR / 'wy20*' / 'erw/*/snow.nc').as_posix(),\n",
    "    parallel=True,\n",
    ")\n",
    "\n",
    "wy_swe.coords['mask'] = (('y', 'x'), cbrfc_zones())"
   ]
  },
  {
   "cell_type": "code",
   "execution_count": null,
   "metadata": {},
   "outputs": [],
   "source": [
    "hlf = wy_swe.where(wy_swe.mask == ALEC2HLF).specific_mass.mean((\"x\", \"y\")).compute()\n",
    "hmf = wy_swe.where(wy_swe.mask == ALEC2HMF).specific_mass.mean((\"x\", \"y\")).compute()\n",
    "huf = wy_swe.where(wy_swe.mask == ALEC2HUF).specific_mass.mean((\"x\", \"y\")).compute()"
   ]
  },
  {
   "cell_type": "code",
   "execution_count": null,
   "metadata": {},
   "outputs": [],
   "source": [
    "client.shutdown()"
   ]
  },
  {
   "cell_type": "markdown",
   "metadata": {},
   "source": [
    "## Compare CBRFC to iSNOBAL"
   ]
  },
  {
   "cell_type": "code",
   "execution_count": null,
   "metadata": {},
   "outputs": [],
   "source": [
    "x_axis_fmt = mdates.DateFormatter('%d-%b-%y')"
   ]
  },
  {
   "cell_type": "code",
   "execution_count": null,
   "metadata": {},
   "outputs": [],
   "source": [
    "plt.figure(dpi=300, figsize=(9,3))\n",
    "ax = plt.gca()\n",
    "\n",
    "linestyle=dict(alpha=0.7, lw=1)\n",
    "\n",
    "ax.plot([], [], ' ', label='Lower', lw=0)\n",
    "hlf.plot(ax=ax, label='ISNOBAL', color='gold', **linestyle)\n",
    "CBRFC_CSV.Lower.plot(ax=ax, color='orange', label='Snow-17', ls='--', **linestyle)\n",
    "ax.plot([], [], ' ', label='Middle')\n",
    "hmf.plot(ax=ax, label='ISNOBAL', color='teal', **linestyle)\n",
    "CBRFC_CSV.Middle.plot(ax=ax, color='cadetblue', label='Snow-17', ls='--', **linestyle)\n",
    "ax.plot([], [], ' ', label='Upper')\n",
    "huf.plot(ax=ax, label='ISNOBAL', color='indigo', **linestyle)\n",
    "CBRFC_CSV.Upper.plot(ax=ax, color='mediumorchid', label='Snow-17', ls='--', **linestyle)\n",
    "\n",
    "ax.xaxis.set_major_formatter(x_axis_fmt)\n",
    "ax.set_xlim(left=CBRFC_CSV.Upper.index.min(), right=CBRFC_CSV.Upper.index.max())\n",
    "         \n",
    "plt.ylabel('SWE (mm)')\n",
    "plt.xlabel('Date')\n",
    "         \n",
    "legend = plt.legend(bbox_to_anchor=(1.18, .5), loc='center right')\n",
    "         \n",
    "for text in legend.get_texts():\n",
    "    if text.get_text() in ['Upper', 'Middle', 'Lower']:\n",
    "        text.set_fontstyle('italic')"
   ]
  }
 ],
 "metadata": {
  "language_info": {
   "name": "python"
  }
 },
 "nbformat": 4,
 "nbformat_minor": 4
}
