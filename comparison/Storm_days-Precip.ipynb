{
 "cells": [
  {
   "cell_type": "code",
   "execution_count": null,
   "id": "f8b2abfb-a03c-425e-88e5-1e7ab081e682",
   "metadata": {},
   "outputs": [],
   "source": [
    "from common import *"
   ]
  },
  {
   "cell_type": "code",
   "execution_count": null,
   "id": "61ed406d-353a-4a25-8855-379d5303e58e",
   "metadata": {},
   "outputs": [],
   "source": [
    "%matplotlib widget"
   ]
  },
  {
   "cell_type": "code",
   "execution_count": null,
   "id": "8143fba1-2d09-4a0a-b421-691486d39a92",
   "metadata": {},
   "outputs": [],
   "source": [
    "year = 2018\n",
    "water_year = f\"wy{year}\"\n",
    "time=slice(f\"{year -1}-10-01\", f\"{year}-07-31\")"
   ]
  },
  {
   "cell_type": "code",
   "execution_count": null,
   "id": "6dd45b14-f138-4f6e-8af0-c3b68cd16436",
   "metadata": {},
   "outputs": [],
   "source": [
    "client = start_cluster(5, 16)\n",
    "client_ip_and_port(client)"
   ]
  },
  {
   "cell_type": "code",
   "execution_count": null,
   "id": "cc0cedbe-d4f6-4f0d-a343-13cbb185ffa8",
   "metadata": {},
   "outputs": [],
   "source": [
    "smrf_sd = xr.open_mfdataset(\n",
    "    (SNOBAL_DIR / water_year / 'erw/*/smrf_20*.nc').as_posix(),\n",
    "    parallel=True,\n",
    ")"
   ]
  },
  {
   "cell_type": "code",
   "execution_count": null,
   "id": "1212b474-5958-43a2-88ed-3067591976a6",
   "metadata": {},
   "outputs": [],
   "source": [
    "butte = smrf_sd[['storm_days', 'precip']].sel(\n",
    "    x=330605,\n",
    "    y=4306866,\n",
    "    method='nearest'\n",
    ").compute()"
   ]
  },
  {
   "cell_type": "code",
   "execution_count": null,
   "id": "390e7b74-3ef1-4c4d-baa7-b96351084835",
   "metadata": {},
   "outputs": [],
   "source": [
    "fig = plt.figure(dpi=200)\n",
    "ax = plt.gca()\n",
    "\n",
    "butte.storm_days.plot(\n",
    "    ax=ax,\n",
    "    c='darkorange',\n",
    "    label='storm days'\n",
    ")\n",
    "\n",
    "ax2=ax.twinx()\n",
    "butte.precip.plot(\n",
    "    ax=ax2,\n",
    "    c='gold',\n",
    "    label='Precip'\n",
    ")\n",
    "ax2.hlines(1, butte.time.min(), butte.time.max(), ls='--', lw=1, label='precip minimum')\n",
    "\n",
    "plt.legend();"
   ]
  },
  {
   "cell_type": "code",
   "execution_count": null,
   "id": "bb4c60cc-2329-4a6a-a175-657ef3e53fa4",
   "metadata": {},
   "outputs": [],
   "source": [
    "smrf_sd = xr.open_mfdataset(\n",
    "    (SNOBAL_DIR / water_year / 'erw/run20*/smrf_energy_balance*.nc').as_posix(),\n",
    "    parallel=True,\n",
    ")"
   ]
  },
  {
   "cell_type": "code",
   "execution_count": null,
   "id": "6f2a24ff-ebf0-42a8-a015-1fc3ef01bf17",
   "metadata": {},
   "outputs": [],
   "source": [
    "butte_eb = smrf_sd.sel(\n",
    "    x=330605,\n",
    "    y=4306866,\n",
    "    method='nearest'\n",
    ").compute()"
   ]
  },
  {
   "cell_type": "code",
   "execution_count": null,
   "id": "fb4ddd66-9c15-4954-8e35-566ad3fe2450",
   "metadata": {},
   "outputs": [],
   "source": [
    "butte_eb.albedo_vis"
   ]
  },
  {
   "cell_type": "code",
   "execution_count": null,
   "id": "6549e0bc-bf73-4d61-a4ce-429b7c4dce94",
   "metadata": {},
   "outputs": [],
   "source": [
    "fig = plt.figure(dpi=200)\n",
    "\n",
    "ax = plt.gca()\n",
    "ax.plot(\n",
    "    butte_eb.albedo_ir,\n",
    "    c='steelblue', \n",
    "    label='ir'\n",
    ")\n",
    "\n",
    "# butte_eb.albedo_vis.plot.line(\n",
    "#     ax=ax, \n",
    "#     c='indigo', \n",
    "#     label='vis'\n",
    "# )"
   ]
  },
  {
   "cell_type": "code",
   "execution_count": null,
   "id": "29a05f48-b8ac-4098-bbd6-ed9c56a11284",
   "metadata": {},
   "outputs": [],
   "source": [
    "client.shutdown()"
   ]
  }
 ],
 "metadata": {
  "kernelspec": {
   "display_name": "snow_viz",
   "language": "python",
   "name": "snow_viz"
  },
  "language_info": {
   "codemirror_mode": {
    "name": "ipython",
    "version": 3
   },
   "file_extension": ".py",
   "mimetype": "text/x-python",
   "name": "python",
   "nbconvert_exporter": "python",
   "pygments_lexer": "ipython3",
   "version": "3.9.7"
  }
 },
 "nbformat": 4,
 "nbformat_minor": 5
}
