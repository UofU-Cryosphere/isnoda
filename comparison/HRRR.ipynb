{
 "cells": [
  {
   "cell_type": "code",
   "execution_count": null,
   "id": "cardiovascular-intermediate",
   "metadata": {},
   "outputs": [],
   "source": [
    "from common import *\n",
    "use_hvplot()"
   ]
  },
  {
   "cell_type": "code",
   "execution_count": null,
   "id": "massive-parliament",
   "metadata": {},
   "outputs": [],
   "source": [
    "year = 2018\n",
    "water_year = f'wy{year}'\n",
    "\n",
    "snotel_sites_lola = SnotelLocations()\n",
    "snotel_sites_lola.load_from_json(SNOTEL_DIR / 'site-locations/snotel_sites-lola.json')\n",
    "\n",
    "SAVE_DEST = \"wy{year}/{site.name}/{site.name}-HRRR-wy{year}_sfc06.zarr\""
   ]
  },
  {
   "cell_type": "markdown",
   "id": "63c8af6d-fb87-4353-9c7c-9dd39ee78a69",
   "metadata": {},
   "source": [
    "### Extract data from HRRR grib files"
   ]
  },
  {
   "cell_type": "code",
   "execution_count": null,
   "id": "champion-tomato",
   "metadata": {},
   "outputs": [],
   "source": [
    "HRRR_FC = 'wrfsfcf01.apcp06.grib2'\n",
    "\n",
    "def snotel_hrrr_data(site, hrrr_ref, year):\n",
    "    hrrr_y, hrrr_x = hrrr_pixel_index(hrrr_ref, site)\n",
    "    hrrr_parts = []\n",
    "    print(f'Processing site: {site}')\n",
    "\n",
    "    for chunk in [f'{year - 1}1*', f'{year}0[1-2]*', f'{year}0[3-4]*', f'{year}0[5-6]*', f'{year}0[7-8]*', f'{year}09*']:\n",
    "        hrrr_files = sorted((HRRR_DIR).rglob(f'{year}/hrrr.{chunk}/hrrr.t*z.{HRRR_FC}'))\n",
    "        if not hrrr_files:\n",
    "            continue\n",
    "        print(f'  Getting chunk: {chunk}')\n",
    "        hours = [\n",
    "            hrrr_snotel_pixel(file, hrrr_x, hrrr_y)\n",
    "            for file in hrrr_files\n",
    "        ]\n",
    "        part = dask.compute(hours)\n",
    "        hrrr_parts.append(xr.concat(part[0], dim='time'))\n",
    "\n",
    "    return xr.concat(hrrr_parts, dim='time').resample(**RESAMPLE_1_DAY_OPTS).sum()"
   ]
  },
  {
   "cell_type": "code",
   "execution_count": null,
   "id": "accepting-estate",
   "metadata": {},
   "outputs": [],
   "source": [
    "# Use the first file of the water year to determine the HRRR pixel location for a site\n",
    "hrrr_ref = xr.open_dataset(\n",
    "    (HRRR_DIR / str(year) / f'hrrr.{year-1}1001/hrrr.t00z.{HRRR_FC}').as_posix(),\n",
    "    engine='cfgrib',\n",
    "    backend_kwargs={\n",
    "        'errors': 'ignore',\n",
    "        'indexpath': '',\n",
    "        'filter_by_keys': {\n",
    "            'level': 0,\n",
    "            'typeOfLevel': 'surface',\n",
    "        }\n",
    "    },\n",
    ")"
   ]
  },
  {
   "cell_type": "code",
   "execution_count": null,
   "id": "ambient-penny",
   "metadata": {},
   "outputs": [],
   "source": [
    "client = start_cluster(5, 12)\n",
    "client"
   ]
  },
  {
   "cell_type": "code",
   "execution_count": null,
   "id": "beb00965-7774-4591-a15b-50c17fa2c4a4",
   "metadata": {},
   "outputs": [],
   "source": [
    "schofield_hrrr = snotel_hrrr_data(snotel_sites_lola.Schofield, hrrr_ref, year)\n",
    "schofield_hrrr.to_zarr(\n",
    "    SNOTEL_DIR / SAVE_DEST.format(year=year, site=snotel_sites_lola.Schofield)\n",
    ")"
   ]
  },
  {
   "cell_type": "code",
   "execution_count": null,
   "id": "fdc0f5fa-5519-4e42-834d-9c520d19b7fa",
   "metadata": {},
   "outputs": [],
   "source": [
    "butte_hrrr = snotel_hrrr_data(snotel_sites_lola.Butte, hrrr_ref, year)\n",
    "butte_hrrr.to_zarr(\n",
    "    SNOTEL_DIR / SAVE_DEST.format(year=year, site=snotel_sites_lola.Butte)\n",
    ")"
   ]
  },
  {
   "cell_type": "code",
   "execution_count": null,
   "id": "responsible-watson",
   "metadata": {},
   "outputs": [],
   "source": [
    "taylor_hrrr = snotel_hrrr_data(snotel_sites_lola.Taylor, hrrr_ref, year)\n",
    "taylor_hrrr.to_zarr(\n",
    "    SNOTEL_DIR / SNOTEL_DIR / SAVE_DEST.format(year=year, site=snotel_sites_lola.Taylor)\n",
    ")"
   ]
  },
  {
   "cell_type": "code",
   "execution_count": null,
   "id": "falling-basket",
   "metadata": {},
   "outputs": [],
   "source": [
    "irwin_hrrr = snotel_hrrr_data(snotel_sites_lola.Irwin, hrrr_ref, year)\n",
    "irwin_hrrr.to_zarr(\n",
    "    SNOTEL_DIR / SNOTEL_DIR / SAVE_DEST.format(year=year, site=snotel_sites_lola.Irwin)\n",
    ")"
   ]
  },
  {
   "cell_type": "markdown",
   "id": "e81ad389-3510-4fa9-8567-f4d0bce5bf56",
   "metadata": {},
   "source": [
    "### Verify output"
   ]
  },
  {
   "cell_type": "code",
   "execution_count": null,
   "id": "1f45e3bf-08a0-482d-8a07-fb5eab038953",
   "metadata": {},
   "outputs": [],
   "source": [
    "schofield_hrrr = xr.open_zarr(\n",
    "    SNOTEL_DIR / SAVE_DEST.format(year=year, site=snotel_sites_lola.Schofield)\n",
    ")\n",
    "\n",
    "butte_hrrr = xr.open_zarr(\n",
    "    SNOTEL_DIR / SAVE_DEST.format(year=year, site=snotel_sites_lola.Butte)\n",
    ")\n",
    "\n",
    "taylor_hrrr = xr.open_zarr(\n",
    "    SNOTEL_DIR / SAVE_DEST.format(year=year, site=snotel_sites_lola.Taylor)\n",
    ")\n",
    "\n",
    "irwin_hrrr = xr.open_zarr(\n",
    "    SNOTEL_DIR / SAVE_DEST.format(year=year, site=snotel_sites_lola.Irwin)\n",
    ")"
   ]
  },
  {
   "cell_type": "code",
   "execution_count": null,
   "id": "80bbd2d7-ad17-407e-857d-737e5f67dc87",
   "metadata": {},
   "outputs": [],
   "source": [
    "schofield_hrrr.tp.mean(['x', 'y']).hvplot(\n",
    "    line_dash='dashed', label=snotel_sites_lola.Schofield.name,\n",
    "    height=640, width=1280, title='HRRR FC06 precipitation'\n",
    ") * \\\n",
    "butte_hrrr.tp.mean(['x', 'y']).hvplot(\n",
    "    line_dash='dashed', label=snotel_sites_lola.Butte.name\n",
    ") * \\\n",
    "taylor_hrrr.tp.mean(['x', 'y']).hvplot(\n",
    "    line_dash='dashed', label=snotel_sites_lola.Taylor.name\n",
    ") * \\\n",
    "irwin_hrrr.tp.mean(['x', 'y']).hvplot(\n",
    "    line_dash='dashed', label=snotel_sites_lola.Irwin.name\n",
    ")"
   ]
  }
 ],
 "metadata": {
  "language_info": {
   "name": "python"
  }
 },
 "nbformat": 4,
 "nbformat_minor": 5
}
