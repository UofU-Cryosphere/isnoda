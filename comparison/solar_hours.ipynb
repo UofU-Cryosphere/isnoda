{
 "cells": [
  {
   "cell_type": "code",
   "execution_count": null,
   "id": "dbbe2d76-bc0d-4118-aba7-dc6650691c56",
   "metadata": {},
   "outputs": [],
   "source": [
    "from common import *\n",
    "import holoviews as hv\n",
    "\n",
    "use_hvplot()"
   ]
  },
  {
   "cell_type": "code",
   "execution_count": null,
   "id": "326b2183-18cf-47f4-8c01-f33ad3ce7094",
   "metadata": {},
   "outputs": [],
   "source": [
    "client = start_cluster(8, 24)\n",
    "client_ip_and_port(client)"
   ]
  },
  {
   "cell_type": "code",
   "execution_count": null,
   "id": "3096437b-fa37-461c-aa88-19d472c622c4",
   "metadata": {},
   "outputs": [],
   "source": [
    "PLOT_OPTS = dict(\n",
    "    width=1200, \n",
    "    height=600\n",
    ")\n",
    "year = 2021\n",
    "water_year = f'wy{year}'"
   ]
  },
  {
   "cell_type": "code",
   "execution_count": null,
   "id": "68176ca3-68f9-461a-94c5-ccfbb4adb0a1",
   "metadata": {},
   "outputs": [],
   "source": [
    "smeshr_path = f'/uufs/chpc.utah.edu/common/home/u1135435/skiles-group1/SMESHR/Shade/{water_year}/'\n",
    "smrf_path = f'/uufs/chpc.utah.edu/common/home/u1135435/skiles-group1/SMESHR/Shade_SMRF/{water_year}/'"
   ]
  },
  {
   "cell_type": "code",
   "execution_count": null,
   "id": "b0fa943b-e361-440e-b9b7-92803e97c49a",
   "metadata": {},
   "outputs": [],
   "source": [
    "smeshr_solar = xr.open_mfdataset(\n",
    "    smeshr_path + '*.nc',\n",
    "    parallel=True\n",
    ")\n",
    "# Get rid of sunrise and sunset time entries by rounding them down\n",
    "# Enables comparison to full hour SMRF values\n",
    "smeshr_solar['time'] = smeshr_solar.time.dt.floor('1H')"
   ]
  },
  {
   "cell_type": "code",
   "execution_count": null,
   "id": "1b75d06e-646b-49c9-aba2-d3a09870008e",
   "metadata": {},
   "outputs": [],
   "source": [
    "# Create index that excludes the daylight savings time change\n",
    "_data, index = np.unique(smeshr_solar.azimuth.time, return_index=True)"
   ]
  },
  {
   "cell_type": "code",
   "execution_count": null,
   "id": "6e82fa1d-0b8e-4540-b0bf-41a3ca749f56",
   "metadata": {},
   "outputs": [],
   "source": [
    "smrf_solar = xr.open_mfdataset(\n",
    "    smrf_path + '*.nc',\n",
    "    parallel=True,\n",
    ")"
   ]
  },
  {
   "cell_type": "markdown",
   "id": "f6a5ddf2-0f25-4d99-8b78-47864f3a840d",
   "metadata": {},
   "source": [
    "## Solar elevation "
   ]
  },
  {
   "cell_type": "code",
   "execution_count": null,
   "id": "270c0974-a288-4363-b765-872ed2f59643",
   "metadata": {},
   "outputs": [],
   "source": [
    "a = (90 - smeshr_solar.zenith)\n",
    "b = (90 - smrf_solar.zenith)\n",
    "a.where(a < 90).hvplot(color='coral', label='Skyfield').opts(**PLOT_OPTS) * b.where(b < 90).hvplot(color='lightskyblue', label='SMRF')"
   ]
  },
  {
   "cell_type": "markdown",
   "id": "7a4ec0de-9fd0-4f16-9d70-a5b93eaeb87e",
   "metadata": {},
   "source": [
    "### Difference"
   ]
  },
  {
   "cell_type": "code",
   "execution_count": null,
   "id": "1d7d5f37-fae1-4e4b-bdab-d659e018cd92",
   "metadata": {},
   "outputs": [],
   "source": [
    "(smeshr_solar.isel(time=index).zenith - smrf_solar.zenith).hvplot(**PLOT_OPTS)"
   ]
  },
  {
   "cell_type": "markdown",
   "id": "cd38b984-cc92-48f2-a910-c1513c42e5ca",
   "metadata": {},
   "source": [
    "## Solar azimuth"
   ]
  },
  {
   "cell_type": "code",
   "execution_count": null,
   "id": "9d2b2527-463c-4c72-b0a7-ad82054f0182",
   "metadata": {},
   "outputs": [],
   "source": [
    "smeshr_solar.where(smeshr_solar.azimuth > -181).azimuth.hvplot(color='coral', label='Skyfield').opts(**PLOT_OPTS) * \\\n",
    "smrf_solar.where(smrf_solar.azimuth > -181).azimuth.hvplot(color='lightskyblue', label='SMRF')"
   ]
  },
  {
   "cell_type": "markdown",
   "id": "e0da43ba-5d72-42f5-a4f9-2e59cc976df7",
   "metadata": {},
   "source": [
    "### Difference "
   ]
  },
  {
   "cell_type": "code",
   "execution_count": null,
   "id": "e6a6b19f-cc36-4d13-94a5-d3a5a4616f9e",
   "metadata": {},
   "outputs": [],
   "source": [
    "(smeshr_solar.isel(time=index).azimuth - smrf_solar.azimuth).hvplot(**PLOT_OPTS)"
   ]
  },
  {
   "cell_type": "code",
   "execution_count": null,
   "id": "00d07cfe-428d-466a-b8d3-8e9a3d8a815f",
   "metadata": {},
   "outputs": [],
   "source": []
  }
 ],
 "metadata": {
  "language_info": {
   "name": "python"
  }
 },
 "nbformat": 4,
 "nbformat_minor": 5
}
