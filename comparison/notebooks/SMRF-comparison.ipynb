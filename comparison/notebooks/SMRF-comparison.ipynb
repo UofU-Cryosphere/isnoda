{
 "cells": [
  {
   "cell_type": "code",
   "execution_count": null,
   "metadata": {},
   "outputs": [],
   "source": [
    "from common import *\n",
    "use_hvplot()"
   ]
  },
  {
   "cell_type": "code",
   "execution_count": null,
   "metadata": {},
   "outputs": [],
   "source": [
    "client = start_cluster(6, 8)\n",
    "client"
   ]
  },
  {
   "cell_type": "code",
   "execution_count": null,
   "metadata": {},
   "outputs": [],
   "source": [
    "year = 2021\n",
    "water_year = f\"wy{year}\"\n",
    "time=slice(f\"{year -1}-10-01\", f\"{year}-07-31\")\n",
    "\n",
    "before_albedo = slice(f\"{year -1}-10-01\", f\"{year}-03-14\")\n",
    "albedo_start = pd.to_datetime(f\"{year}-03-15\")\n",
    "after_albedo = slice(f\"{year}-03-15\", f\"{year}-08-01\")"
   ]
  },
  {
   "cell_type": "code",
   "execution_count": null,
   "metadata": {},
   "outputs": [],
   "source": [
    "snotel_sites = SnotelLocations()\n",
    "snotel_sites.load_from_json(\n",
    "    SNOTEL_DIR / 'site-locations/snotel_sites_2x2.json'\n",
    ")"
   ]
  },
  {
   "cell_type": "markdown",
   "metadata": {},
   "source": [
    "### SMRF run 1"
   ]
  },
  {
   "cell_type": "markdown",
   "metadata": {},
   "source": [
    "### Label for the run"
   ]
  },
  {
   "cell_type": "code",
   "execution_count": null,
   "metadata": {},
   "outputs": [],
   "source": [
    "RUN_1 = 'SMRF - F06'"
   ]
  },
  {
   "cell_type": "code",
   "execution_count": null,
   "metadata": {},
   "outputs": [],
   "source": [
    "smrf_run_1 = xr.open_mfdataset(\n",
    "    (SNOBAL_DIR / water_year / 'erw/*/snow.nc').as_posix(),\n",
    "    data_vars=['thickness'],\n",
    "    parallel=True,\n",
    ").sel(time=time)\n",
    "\n",
    "butte_snobal_run_1 = smrf_run_1.sel(\n",
    "    x=snotel_sites.Butte.lon, y=snotel_sites.Butte.lat\n",
    ")\n",
    "schofield_snobal_run_1 = smrf_run_1.sel(\n",
    "    x=snotel_sites.Schofield.lon, y=snotel_sites.Schofield.lat\n",
    ")\n",
    "taylor_snobal_run_1 = smrf_run_1.sel(\n",
    "    x=snotel_sites.Taylor.lon, y=snotel_sites.Taylor.lat\n",
    ")"
   ]
  },
  {
   "cell_type": "markdown",
   "metadata": {},
   "source": [
    "### SMRF run 2"
   ]
  },
  {
   "cell_type": "markdown",
   "metadata": {},
   "source": [
    "### Label for the run"
   ]
  },
  {
   "cell_type": "code",
   "execution_count": null,
   "metadata": {},
   "outputs": [],
   "source": [
    "RUN_2 = 'SMRF - F01'"
   ]
  },
  {
   "cell_type": "code",
   "execution_count": null,
   "metadata": {},
   "outputs": [],
   "source": [
    "smrf_run_2 = xr.open_mfdataset(\n",
    "    (SNOBAL_DIR / f\"{water_year}_f01\" / 'erw/*/snow.nc').as_posix(),\n",
    "    data_vars=['thickness'],\n",
    "    parallel=True,\n",
    ").sel(time=time)\n",
    "\n",
    "butte_snobal_run_2 = smrf_run_2.sel(\n",
    "    x=snotel_sites.Butte.lon, y=snotel_sites.Butte.lat\n",
    ")\n",
    "schofield_snobal_run_2 = smrf_run_2.sel(\n",
    "    x=snotel_sites.Schofield.lon, y=snotel_sites.Schofield.lat\n",
    ")\n",
    "taylor_snobal_run_2 = smrf_run_2.sel(\n",
    "    x=snotel_sites.Taylor.lon, y=snotel_sites.Taylor.lat\n",
    ")"
   ]
  },
  {
   "cell_type": "markdown",
   "metadata": {},
   "source": [
    "## Compare across SMRF runs\n",
    "### Snow Depth"
   ]
  },
  {
   "cell_type": "code",
   "execution_count": null,
   "metadata": {},
   "outputs": [],
   "source": [
    "def compare_run(data, label):\n",
    "    return data.thickness.coarsen(**COARSEN_OPTS).mean(). \\\n",
    "        mean(['x', 'y']).hvplot(label=label)"
   ]
  },
  {
   "cell_type": "code",
   "execution_count": null,
   "metadata": {},
   "outputs": [],
   "source": [
    "compare_run(butte_snobal_run_1, RUN_1) \\\n",
    "    .opts(height=640, width=960, title='Butte Snow Depth') * \\\n",
    "compare_run(butte_snobal_run_2, RUN_2)"
   ]
  },
  {
   "cell_type": "code",
   "execution_count": null,
   "metadata": {},
   "outputs": [],
   "source": [
    "compare_run(schofield_snobal_run_1, RUN_1) \\\n",
    "    .opts(height=640, width=960, title='Schofield Snow Depth') * \\\n",
    "compare_run(schofield_snobal_run_2, RUN_2)"
   ]
  },
  {
   "cell_type": "code",
   "execution_count": null,
   "metadata": {},
   "outputs": [],
   "source": [
    "compare_run(taylor_snobal_run_1, RUN_1) \\\n",
    "    .opts(height=640, width=960, title='Taylor Snow Depth') * \\\n",
    "compare_run(taylor_snobal_run_2, RUN_2)"
   ]
  },
  {
   "cell_type": "markdown",
   "metadata": {},
   "source": [
    "### Depth Difference "
   ]
  },
  {
   "cell_type": "code",
   "execution_count": null,
   "metadata": {},
   "outputs": [],
   "source": [
    "def mean_difference(a, b, time):\n",
    "    return (\n",
    "        a.thickness.sel(time=time) - \n",
    "        b.thickness.sel(time=time).reset_index('time', drop=True)\n",
    "    ).coarsen(**COARSEN_OPTS).mean()\n",
    "\n",
    "def run_difference(a, b, site):\n",
    "    \"\"\"\n",
    "       Difference is: site data a - site data b \n",
    "    \"\"\"\n",
    "    fig, (ax1, ax2) = plt.subplots(1, 2, figsize=(12, 4), dpi=150)\n",
    "    \n",
    "    mean_difference(a, b , before_albedo).plot(ax=ax1)\n",
    "    ax1.set_title('Before albedo decay')\n",
    "    \n",
    "    mean_difference(a, b , after_albedo).plot(ax=ax2)\n",
    "    ax2.set_title('With albedo decay')\n",
    "    \n",
    "    for ax in [ax1, ax2]:\n",
    "        ax.set_ylabel('Snow Depth (m)')\n",
    "    \n",
    "    fig.suptitle(site.name + ' - Snow Depth Difference')"
   ]
  },
  {
   "cell_type": "code",
   "execution_count": null,
   "metadata": {},
   "outputs": [],
   "source": [
    "run_difference(butte_snobal_run_1, butte_snobal_run_2, snotel_sites.Butte)\n",
    "run_difference(schofield_snobal_run_1, schofield_snobal_run_2, snotel_sites.Schofield)\n",
    "run_difference(taylor_snobal_run_1, taylor_snobal_run_2, snotel_sites.Taylor)"
   ]
  },
  {
   "cell_type": "markdown",
   "metadata": {},
   "source": [
    "## ERW basin \n",
    "### Before Albedo decay"
   ]
  },
  {
   "cell_type": "code",
   "execution_count": null,
   "metadata": {},
   "outputs": [],
   "source": [
    "time = before_albedo\n",
    "title = \"ERW Basin - Difference {0} to {1}: {time.start} - {time.stop}\".format('{0}', '{1}', time=time)"
   ]
  },
  {
   "cell_type": "code",
   "execution_count": null,
   "metadata": {},
   "outputs": [],
   "source": [
    "snotel_sites_plot = SnotelLocations()\n",
    "snotel_sites_plot.load_from_json(\n",
    "    SNOTEL_DIR / 'site-locations/snotel_sites.json'\n",
    ")"
   ]
  },
  {
   "cell_type": "code",
   "execution_count": null,
   "metadata": {},
   "outputs": [],
   "source": [
    "(\n",
    "    smrf_run_1.thickness.sel(time=time).mean(dim=['time']) - \n",
    "    smrf_run_2.thickness.sel(time=time).mean(dim=['time'])\n",
    ").hvplot(\n",
    "    width=smrf_run_1.x.values.size, \n",
    "    height=smrf_run_1.y.values.size, \n",
    "    title=title.format(RUN_1, RUN_2)\n",
    ") * \\\n",
    "hv.Points([\n",
    "    [snotel_sites_plot.Butte.lon, snotel_sites_plot.Butte.lat],\n",
    "    [snotel_sites_plot.Schofield.lon, snotel_sites_plot.Schofield.lat],\n",
    "    [snotel_sites_plot.Taylor.lon, snotel_sites_plot.Taylor.lat]\n",
    "]).opts(marker='o', size=10, color='orange')"
   ]
  },
  {
   "cell_type": "markdown",
   "metadata": {},
   "source": [
    "### With Albedo Decay "
   ]
  },
  {
   "cell_type": "code",
   "execution_count": null,
   "metadata": {},
   "outputs": [],
   "source": [
    "time = after_albedo\n",
    "title = \"ERW Basin - Difference {0} to {1}: {time.start} - {time.stop}\".format('{0}', '{1}', time=time)"
   ]
  },
  {
   "cell_type": "code",
   "execution_count": null,
   "metadata": {},
   "outputs": [],
   "source": [
    "(\n",
    "    smrf_run_1.thickness.sel(time=time).mean(dim=['time']) - \n",
    "    smrf_run_2.thickness.sel(time=time).mean(dim=['time'])\n",
    ").hvplot(width=smrf_run_1.x.values.size, height=smrf_run_1.y.values.size, title=title.format(RUN_1, RUN_2)) * \\\n",
    "hv.Points([\n",
    "    [snotel_sites_plot.Butte.lon, snotel_sites_plot.Butte.lat],\n",
    "    [snotel_sites_plot.Schofield.lon, snotel_sites_plot.Schofield.lat],\n",
    "    [snotel_sites_plot.Taylor.lon, snotel_sites_plot.Taylor.lat]\n",
    "]).opts(marker='o', size=10, color='orange')"
   ]
  }
 ],
 "metadata": {
  "language_info": {
   "name": "python"
  }
 },
 "nbformat": 4,
 "nbformat_minor": 4
}
