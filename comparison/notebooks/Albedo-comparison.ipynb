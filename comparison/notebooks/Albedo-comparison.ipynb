{
 "cells": [
  {
   "cell_type": "code",
   "execution_count": null,
   "metadata": {},
   "outputs": [],
   "source": [
    "from common import *\n",
    "from snotel_sites import SNOTEL"
   ]
  },
  {
   "cell_type": "code",
   "execution_count": null,
   "metadata": {},
   "outputs": [],
   "source": [
    "client = start_cluster(4, 8)\n",
    "client"
   ]
  },
  {
   "cell_type": "code",
   "execution_count": null,
   "metadata": {},
   "outputs": [],
   "source": [
    "home = PurePath(f'{Path.home()}/shared-cyrosphere/')\n",
    "year = 'wy2019'\n",
    "\n",
    "modis = home / 'Rittger_albedo' / year\n",
    "files_modis = 'WesternUS_20190[3-7]*.nc'\n",
    "\n",
    "snobal = home / 'iSnobal/output' / year / 'initial_run/data'\n",
    "files_snobal = 'data20190[3-7]*/smrfOutputs/albedo_*.nc'"
   ]
  },
  {
   "cell_type": "code",
   "execution_count": null,
   "metadata": {},
   "outputs": [],
   "source": [
    "albedo_modis = xr.open_mfdataset(\n",
    "    modis.joinpath(files_modis).as_posix(),\n",
    "    mask_and_scale=True,\n",
    "    parallel=True,\n",
    ")\n",
    "\n",
    "# Select MST 11 AM; time of MODIS overpass\n",
    "albedo_snobal = xr.open_mfdataset(\n",
    "    snobal.joinpath(files_snobal).as_posix(),\n",
    "    parallel=True,\n",
    ").sel(time=datetime.time(18))\n",
    "\n",
    "albedo_irwin = pd.read_csv(\n",
    "    home.joinpath('Snotel', '2019-Irwin-BBAlbedo.csv').as_posix(),\n",
    "    parse_dates=True,\n",
    "    index_col=0,\n",
    "    date_parser=lambda x: pd.to_datetime(x, format='%Y-%j'),\n",
    ")"
   ]
  },
  {
   "cell_type": "code",
   "execution_count": null,
   "metadata": {},
   "outputs": [],
   "source": [
    "irwin_query = dict(\n",
    "    x=[SNOTEL['Irwin']['lon']], \n",
    "    y=[SNOTEL['Irwin']['lat']],\n",
    "    method='nearest',\n",
    ")\n",
    "\n",
    "albedo_modis = albedo_modis.sel(**irwin_query)\n",
    "\n",
    "albedo_snobal = albedo_snobal.sel(**irwin_query)\n",
    "albedo_snobal = (albedo_snobal.albedo_vis + albedo_snobal.albedo_ir)/2\n",
    "\n",
    "albedo_irwin = albedo_irwin[albedo_irwin.index < '2019-08-01']"
   ]
  },
  {
   "cell_type": "code",
   "execution_count": null,
   "metadata": {},
   "outputs": [],
   "source": [
    "figure_opts = dict(figsize=(6,4), dpi=300, tight_layout=True)\n",
    "water_year = pd.date_range(start='2019-03-01', periods=5, freq='MS')\n",
    "\n",
    "xTicks = mdates.DateFormatter('%d-%b')\n",
    "\n",
    "figure, ax = plt.subplots(1, 1, **figure_opts)\n",
    "figure.set_facecolor('lightgrey')\n",
    "\n",
    "albedo_modis.albedo_muz.plot(\n",
    "    ax=ax, \n",
    "    c='indigo', \n",
    ")\n",
    "albedo_snobal.plot(\n",
    "    ax=ax, \n",
    "    c='darkorange',\n",
    ")\n",
    "albedo_irwin.plot(\n",
    "    ax=ax, \n",
    "    c='steelblue', \n",
    ")\n",
    "\n",
    "ax.legend(['MODIS', 'Modeled', 'In Situ'], loc='lower right');\n",
    "ax.xaxis.set_major_formatter(xTicks)\n",
    "ax.set_xlim([water_year[0], water_year[-1]])\n",
    "ax.set_xlabel('Water Year 2019')\n",
    "ax.set_ylabel('Albedo')\n",
    "ax.set_title(None);"
   ]
  }
 ],
 "metadata": {
  "language_info": {
   "name": "python"
  }
 },
 "nbformat": 4,
 "nbformat_minor": 4
}