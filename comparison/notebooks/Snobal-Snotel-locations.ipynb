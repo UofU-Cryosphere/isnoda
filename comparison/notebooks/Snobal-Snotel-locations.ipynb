{
 "cells": [
  {
   "cell_type": "markdown",
   "metadata": {},
   "source": [
    "Plots extracted snobal data of Snotel locations"
   ]
  },
  {
   "cell_type": "code",
   "execution_count": null,
   "metadata": {},
   "outputs": [],
   "source": [
    "from common import *\n",
    "from snotel_sites import SNOTEL"
   ]
  },
  {
   "cell_type": "code",
   "execution_count": null,
   "metadata": {},
   "outputs": [],
   "source": [
    "schofield_snobal = xr.open_dataset(f'{Path.home()}/scratch/iSnobal/Snotel/2018-Schofield-snobal.zarr')\n",
    "butte_snobal = xr.open_dataset(f'{Path.home()}/scratch/iSnobal/Snotel/2018-Butte-snobal.zarr')\n",
    "taylor_snobal = xr.open_dataset(f'{Path.home()}/scratch/iSnobal/Snotel/2018-Taylor-snobal.zarr')"
   ]
  },
  {
   "cell_type": "code",
   "execution_count": null,
   "metadata": {},
   "outputs": [],
   "source": [
    "def plot_snobal_snotel(site, name):\n",
    "    x, y = np.meshgrid(site.x, site.y)\n",
    "    half_grid = 25\n",
    "\n",
    "    figure, ax = plt.subplots(1, 1, figsize=(12, 10), dpi=100)\n",
    "    plt.grid(True)\n",
    "\n",
    "    site.thickness.plot(ax=ax)\n",
    "    ax.scatter(SNOTEL[name]['lon'], SNOTEL[name]['lat'], s=150, label='Site location')\n",
    "\n",
    "    ax.ticklabel_format(useOffset=False)\n",
    "    ax.set_xticks(np.arange(site.x[0] - half_grid, site.x[-1] + half_grid + 1, 50))\n",
    "    ax.set_yticks(np.arange(site.y[0] - half_grid, site.y[-1] + half_grid + 1, 50))\n",
    "    ax.set_xlim(left=site.x[0] - half_grid, right=site.x[-1] + half_grid)\n",
    "    ax.set_ylim(bottom=site.y[0] - half_grid, top=site.y[-1] + half_grid)\n",
    "    ax.set_ylabel('Latitude')\n",
    "    ax.set_xlabel('Longitude')\n",
    "    ax.legend()\n",
    "    plt.show()"
   ]
  },
  {
   "cell_type": "code",
   "execution_count": null,
   "metadata": {},
   "outputs": [],
   "source": [
    "plot_snobal_snotel(schofield_snobal.sel(time='2018-06-01 23:00'), 'Schofield')"
   ]
  },
  {
   "cell_type": "code",
   "execution_count": null,
   "metadata": {},
   "outputs": [],
   "source": []
  }
 ],
 "metadata": {
  "language_info": {
   "name": "python"
  }
 },
 "nbformat": 4,
 "nbformat_minor": 4
}
